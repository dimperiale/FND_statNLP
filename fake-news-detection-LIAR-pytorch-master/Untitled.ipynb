{
 "cells": [
  {
   "cell_type": "code",
   "execution_count": 1,
   "metadata": {},
   "outputs": [],
   "source": [
    "import torch\n",
    "import time\n",
    "from data import train_data_prepare\n",
    "from train import train\n",
    "from test import test, test_data_prepare\n",
    "from model import Net\n",
    "from model_baseline import BaselineNet\n",
    "import os\n",
    "os.environ[\"CUDA_VISIBLE_DEVICES\"]=\"2\"\n",
    "import pandas as pd\n",
    "import itertools\n",
    "import liwc\n",
    "import numpy as np"
   ]
  },
  {
   "cell_type": "code",
   "execution_count": 2,
   "metadata": {},
   "outputs": [],
   "source": [
    "from tika import parser\n",
    "\n",
    "raw = parser.from_file('LIWC2007 dictionary poster.pdf')\n",
    "#print(raw['content'])\n",
    "\n",
    "content = raw['content']\n",
    "rows = content.split(\"\\n\")\n"
   ]
  },
  {
   "cell_type": "code",
   "execution_count": 3,
   "metadata": {},
   "outputs": [
    {
     "data": {
      "text/plain": [
       "['Funct',\n",
       " 'Pronoun',\n",
       " 'Ppron',\n",
       " 'I',\n",
       " 'We',\n",
       " 'You',\n",
       " 'SheHe',\n",
       " 'They',\n",
       " 'Ipron',\n",
       " 'Article',\n",
       " 'Verbs',\n",
       " 'AuxVb',\n",
       " 'Past',\n",
       " 'Present',\n",
       " 'Future',\n",
       " 'Adverbs',\n",
       " 'Prep',\n",
       " 'Conj',\n",
       " 'Negate',\n",
       " 'Quant',\n",
       " 'Numbers',\n",
       " 'Swear',\n",
       " 'Social',\n",
       " 'Family',\n",
       " 'Friends',\n",
       " 'Humans',\n",
       " 'Affect',\n",
       " 'Posemo',\n",
       " 'Negemo',\n",
       " 'Anx',\n",
       " 'Anger',\n",
       " 'Sad',\n",
       " 'Insight',\n",
       " 'Cause',\n",
       " 'Discrep',\n",
       " 'Tentat',\n",
       " 'Certain',\n",
       " 'Inhib',\n",
       " 'Incl',\n",
       " 'Excl',\n",
       " 'Percept',\n",
       " 'See',\n",
       " 'Hear',\n",
       " 'Feel',\n",
       " 'Bio',\n",
       " 'Body',\n",
       " 'Health',\n",
       " 'Sexual',\n",
       " 'Ingest',\n",
       " 'Relativ',\n",
       " 'Motion',\n",
       " 'Space',\n",
       " 'Time',\n",
       " 'Work',\n",
       " 'Achiev',\n",
       " 'Leisure',\n",
       " 'Home',\n",
       " 'Money',\n",
       " 'Relig',\n",
       " 'Death',\n",
       " 'Assent',\n",
       " 'Nonflu',\n",
       " 'Filler']"
      ]
     },
     "execution_count": 3,
     "metadata": {},
     "output_type": "execute_result"
    }
   ],
   "source": [
    "firstrow_idx = 59\n",
    "lastrow_idx = 239\n",
    "columnrow_idx = 52\n",
    "\n",
    "liwc_categories = rows[columnrow_idx].split(\" \")\n",
    "liwc_categories"
   ]
  },
  {
   "cell_type": "code",
   "execution_count": 4,
   "metadata": {},
   "outputs": [],
   "source": [
    "\n",
    "textrows = rows[firstrow_idx:lastrow_idx+1]\n",
    "textrows_len = len(textrows)"
   ]
  },
  {
   "cell_type": "code",
   "execution_count": 5,
   "metadata": {},
   "outputs": [
    {
     "data": {
      "text/plain": [
       "['']"
      ]
     },
     "execution_count": 5,
     "metadata": {},
     "output_type": "execute_result"
    }
   ],
   "source": [
    "textrows[-1].split(\" \")"
   ]
  },
  {
   "cell_type": "code",
   "execution_count": 6,
   "metadata": {
    "scrolled": false
   },
   "outputs": [
    {
     "name": "stdout",
     "output_type": "stream",
     "text": [
      "len less than 10 at j = 14 with size 1\n",
      "\n",
      "len less than 10 at j = 26 with size 1\n",
      "\n",
      "len less than 10 at j = 41 with size 1\n",
      "\n",
      "len less than 10 at j = 67 with size 1\n",
      "\n",
      "len less than 10 at j = 82 with size 1\n",
      "\n",
      "len less than 10 at j = 108 with size 1\n",
      "\n",
      "len less than 10 at j = 123 with size 1\n",
      "\n",
      "len less than 10 at j = 162 with size 1\n",
      "\n",
      "len less than 10 at j = 165 with size 1\n",
      "\n",
      "len less than 10 at j = 176 with size 1\n",
      "\n",
      "len less than 10 at j = 178 with size 1\n",
      "\n",
      "len less than 10 at j = 179 with size 1\n",
      "\n",
      "len less than 10 at j = 180 with size 1\n",
      "\n"
     ]
    }
   ],
   "source": [
    "# find all empty lines\n",
    "\n",
    "empty_idx = []\n",
    "for j in range(textrows_len):\n",
    "    \n",
    "    size = len(textrows[j].split(\" \"))\n",
    "    if size < 2 and textrows[j].split(\" \")[0] == '':\n",
    "        print(\"len less than 10 at j = \" + str(j) + \" with size \" + str(size))\n",
    "        print(\"\")\n",
    "        empty_idx.append(j)\n",
    "        \n",
    "textrows_clean = np.delete(textrows, empty_idx).tolist()\n",
    "textrows_clean_len = len(textrows_clean)"
   ]
  },
  {
   "cell_type": "code",
   "execution_count": 7,
   "metadata": {},
   "outputs": [
    {
     "name": "stdout",
     "output_type": "stream",
     "text": [
      "len longer than max at j = 2 with size 1\n",
      "\n",
      "len longer than max at j = 5 with size 1\n",
      "\n",
      "len longer than max at j = 8 with size 1\n",
      "\n",
      "len longer than max at j = 11 with size 1\n",
      "\n",
      "len longer than max at j = 14 with size 1\n",
      "\n",
      "len longer than max at j = 16 with size 1\n",
      "\n",
      "len longer than max at j = 19 with size 1\n",
      "\n",
      "len longer than max at j = 22 with size 1\n",
      "\n",
      "len longer than max at j = 25 with size 1\n",
      "\n",
      "len longer than max at j = 30 with size 1\n",
      "\n",
      "len longer than max at j = 33 with size 1\n",
      "\n",
      "len longer than max at j = 36 with size 1\n",
      "\n",
      "len longer than max at j = 39 with size 1\n",
      "\n",
      "len longer than max at j = 41 with size 1\n",
      "\n",
      "len longer than max at j = 44 with size 1\n",
      "\n",
      "len longer than max at j = 47 with size 1\n",
      "\n",
      "len longer than max at j = 50 with size 1\n",
      "\n",
      "len longer than max at j = 55 with size 1\n",
      "\n",
      "len longer than max at j = 58 with size 1\n",
      "\n",
      "len longer than max at j = 61 with size 1\n",
      "\n",
      "len longer than max at j = 64 with size 1\n",
      "\n",
      "len longer than max at j = 69 with size 1\n",
      "\n",
      "len longer than max at j = 72 with size 1\n",
      "\n",
      "len longer than max at j = 75 with size 1\n",
      "\n",
      "len longer than max at j = 78 with size 1\n",
      "\n",
      "len longer than max at j = 80 with size 1\n",
      "\n",
      "len longer than max at j = 83 with size 1\n",
      "\n",
      "len longer than max at j = 86 with size 1\n",
      "\n",
      "len longer than max at j = 89 with size 1\n",
      "\n",
      "len longer than max at j = 94 with size 1\n",
      "\n",
      "len longer than max at j = 97 with size 1\n",
      "\n",
      "len longer than max at j = 100 with size 1\n",
      "\n",
      "len longer than max at j = 103 with size 1\n",
      "\n",
      "len longer than max at j = 105 with size 1\n",
      "\n",
      "len longer than max at j = 108 with size 1\n",
      "\n",
      "len longer than max at j = 111 with size 1\n",
      "\n",
      "len longer than max at j = 114 with size 1\n",
      "\n",
      "len longer than max at j = 117 with size 1\n",
      "\n",
      "len longer than max at j = 119 with size 1\n",
      "\n",
      "len longer than max at j = 122 with size 1\n",
      "\n",
      "len longer than max at j = 125 with size 1\n",
      "\n",
      "len longer than max at j = 128 with size 1\n",
      "\n",
      "len longer than max at j = 133 with size 1\n",
      "\n",
      "len longer than max at j = 136 with size 1\n",
      "\n",
      "len longer than max at j = 139 with size 1\n",
      "\n",
      "len longer than max at j = 142 with size 1\n",
      "\n",
      "len longer than max at j = 144 with size 1\n",
      "\n",
      "len longer than max at j = 147 with size 1\n",
      "\n",
      "len longer than max at j = 150 with size 1\n",
      "\n",
      "len longer than max at j = 153 with size 1\n",
      "\n"
     ]
    }
   ],
   "source": [
    "toolong_idx = []\n",
    "\n",
    "textrows_clean2x = textrows_clean.copy()\n",
    "\n",
    "basesize = len(textrows_clean[0].split(\" \"))\n",
    "oldsize = basesize\n",
    "\n",
    "for j in range(textrows_clean_len):\n",
    "    \n",
    "    currsize = len(textrows_clean[j].split(\" \"))\n",
    "    \n",
    "    if currsize > oldsize*1.1:\n",
    "        print(\"len longer than max at j = \" + str(j) + \" with size \" + str(size))\n",
    "        print(\"\")\n",
    "        toolong_idx.append(j)\n",
    "    oldsize = currsize"
   ]
  },
  {
   "cell_type": "code",
   "execution_count": 8,
   "metadata": {},
   "outputs": [
    {
     "data": {
      "text/plain": [
       "50"
      ]
     },
     "execution_count": 8,
     "metadata": {},
     "output_type": "execute_result"
    }
   ],
   "source": [
    "len(toolong_idx)"
   ]
  },
  {
   "cell_type": "code",
   "execution_count": 9,
   "metadata": {},
   "outputs": [],
   "source": [
    "curridx = 0\n",
    "currlist = textrows_clean[toolong_idx[curridx]].split(\" \")[:105-1]\n",
    "currlist[-1] = \"imean\"\n",
    "currlist\n",
    "textrows_clean2x[toolong_idx[curridx]] = \" \".join(currlist)"
   ]
  },
  {
   "cell_type": "code",
   "execution_count": 10,
   "metadata": {
    "scrolled": false
   },
   "outputs": [],
   "source": [
    "curridx = 1\n",
    "currlist = textrows_clean[toolong_idx[curridx]].split(\" \")\n",
    "currlist = currlist[:103]+['rr*']\n",
    "currlist\n",
    "textrows_clean2x[toolong_idx[curridx]] = \" \".join(currlist)"
   ]
  },
  {
   "cell_type": "code",
   "execution_count": 11,
   "metadata": {
    "scrolled": false
   },
   "outputs": [
    {
     "name": "stdout",
     "output_type": "stream",
     "text": [
      "208\n",
      "103\n"
     ]
    }
   ],
   "source": [
    "curridx = 2\n",
    "currlist = textrows_clean[toolong_idx[curridx]].split(\" \")\n",
    "\n",
    "print(len(currlist))\n",
    "currlist = currlist[:102]+['youknow']\n",
    "\n",
    "textrows_clean2x[toolong_idx[curridx]] = \" \".join(currlist)\n",
    "print(len(currlist))"
   ]
  },
  {
   "cell_type": "code",
   "execution_count": 12,
   "metadata": {
    "scrolled": false
   },
   "outputs": [
    {
     "name": "stdout",
     "output_type": "stream",
     "text": [
      "201\n",
      "101\n"
     ]
    }
   ],
   "source": [
    "curridx = 3\n",
    "currlist = textrows_clean[toolong_idx[curridx]].split(\" \")\n",
    "\n",
    "print(len(currlist))\n",
    "currlist = currlist[:100]+['haha*']\n",
    "\n",
    "textrows_clean2x[toolong_idx[curridx]] = \" \".join(currlist)\n",
    "\n",
    "print(len(currlist))\n"
   ]
  },
  {
   "cell_type": "code",
   "execution_count": 13,
   "metadata": {},
   "outputs": [
    {
     "name": "stdout",
     "output_type": "stream",
     "text": [
      "148\n",
      "99\n"
     ]
    }
   ],
   "source": [
    "curridx = 4\n",
    "currlist = textrows_clean[toolong_idx[curridx]].split(\" \")\n",
    "\n",
    "print(len(currlist))\n",
    "\n",
    "currlist = currlist[49:]\n",
    "\n",
    "textrows_clean2x[toolong_idx[curridx]] = \" \".join(currlist)\n",
    "\n",
    "\n",
    "print(len(currlist))\n"
   ]
  },
  {
   "cell_type": "code",
   "execution_count": 14,
   "metadata": {},
   "outputs": [
    {
     "name": "stdout",
     "output_type": "stream",
     "text": [
      "136\n",
      "98\n"
     ]
    }
   ],
   "source": [
    "curridx = 5\n",
    "currlist = textrows_clean[toolong_idx[curridx]].split(\" \")\n",
    "\n",
    "print(len(currlist))\n",
    "\n",
    "currlist = currlist[:97]+[\"mm*\"]\n",
    "\n",
    "textrows_clean2x[toolong_idx[curridx]] = \" \".join(currlist)\n",
    "\n",
    "\n",
    "print(len(currlist))\n",
    "\n"
   ]
  },
  {
   "cell_type": "code",
   "execution_count": 15,
   "metadata": {
    "scrolled": false
   },
   "outputs": [
    {
     "name": "stdout",
     "output_type": "stream",
     "text": [
      "197\n",
      "96\n"
     ]
    }
   ],
   "source": [
    "curridx = 6\n",
    "currlist = textrows_clean[toolong_idx[curridx]].split(\" \")\n",
    "\n",
    "print(len(currlist))\n",
    "\n",
    "\n",
    "currlist = currlist[:95]+['okey*']\n",
    "                          \n",
    "textrows_clean2x[toolong_idx[curridx]] = \" \".join(currlist)\n",
    "\n",
    "print(len(currlist))\n",
    "\n"
   ]
  },
  {
   "cell_type": "code",
   "execution_count": 16,
   "metadata": {
    "scrolled": false
   },
   "outputs": [
    {
     "name": "stdout",
     "output_type": "stream",
     "text": [
      "189\n",
      "95\n"
     ]
    }
   ],
   "source": [
    "curridx = 7\n",
    "currlist = textrows_clean[toolong_idx[curridx]].split(\" \")\n",
    "\n",
    "print(len(currlist))\n",
    "\n",
    "currlist = currlist[:94] + [\"uhuh\"]\n",
    "\n",
    "textrows_clean2x[toolong_idx[curridx]] = \" \".join(currlist)\n",
    "\n",
    "\n",
    "print(len(currlist))"
   ]
  },
  {
   "cell_type": "code",
   "execution_count": 17,
   "metadata": {},
   "outputs": [
    {
     "name": "stdout",
     "output_type": "stream",
     "text": [
      "268\n",
      "95\n"
     ]
    }
   ],
   "source": [
    "curridx = 8\n",
    "currlist = textrows_clean[toolong_idx[curridx]].split(\" \")\n",
    "\n",
    "print(len(currlist))\n",
    "\n",
    "\n",
    "currlist = currlist[173:]\n",
    "\n",
    "textrows_clean2x[toolong_idx[curridx]] = \" \".join(currlist)\n",
    "\n",
    "\n",
    "print(len(currlist))"
   ]
  },
  {
   "cell_type": "code",
   "execution_count": 18,
   "metadata": {},
   "outputs": [
    {
     "name": "stdout",
     "output_type": "stream",
     "text": [
      "188\n",
      "93\n"
     ]
    }
   ],
   "source": [
    "curridx = 9\n",
    "currlist = textrows_clean[toolong_idx[curridx]].split(\" \")\n",
    "\n",
    "print(len(currlist))\n",
    "\n",
    "currlist = currlist[:92] + ['genocid*']\n",
    "\n",
    "textrows_clean2x[toolong_idx[curridx]] = \" \".join(currlist)\n",
    "\n",
    "\n",
    "print(len(currlist))"
   ]
  },
  {
   "cell_type": "code",
   "execution_count": 19,
   "metadata": {},
   "outputs": [
    {
     "name": "stdout",
     "output_type": "stream",
     "text": [
      "191\n",
      "93\n"
     ]
    }
   ],
   "source": [
    "curridx = 10\n",
    "currlist = textrows_clean[toolong_idx[curridx]].split(\" \")\n",
    "\n",
    "print(len(currlist))\n",
    "\n",
    "currlist = currlist[:92]+['grief']\n",
    "\n",
    "textrows_clean2x[toolong_idx[curridx]] = \" \".join(currlist)\n",
    "\n",
    "print(len(currlist))"
   ]
  },
  {
   "cell_type": "code",
   "execution_count": 20,
   "metadata": {
    "scrolled": false
   },
   "outputs": [
    {
     "name": "stdout",
     "output_type": "stream",
     "text": [
      "181\n",
      "91\n"
     ]
    }
   ],
   "source": [
    "curridx = 11\n",
    "currlist = textrows_clean[toolong_idx[curridx]].split(\" \")\n",
    "\n",
    "print(len(currlist))\n",
    "\n",
    "currlist = currlist[:90]+['holocaust*']\n",
    "\n",
    "textrows_clean2x[toolong_idx[curridx]] = \" \".join(currlist)\n",
    "\n",
    "print(len(currlist))"
   ]
  },
  {
   "cell_type": "code",
   "execution_count": 21,
   "metadata": {},
   "outputs": [
    {
     "name": "stdout",
     "output_type": "stream",
     "text": [
      "246\n",
      "91\n"
     ]
    }
   ],
   "source": [
    "curridx = 12\n",
    "currlist = textrows_clean[toolong_idx[curridx]].split(\" \")\n",
    "\n",
    "print(len(currlist))\n",
    "\n",
    "currlist=[\"away\"]+currlist[156:]\n",
    "\n",
    "textrows_clean2x[toolong_idx[curridx]] = \" \".join(currlist)\n",
    "\n",
    "\n",
    "print(len(currlist))"
   ]
  },
  {
   "cell_type": "code",
   "execution_count": 22,
   "metadata": {
    "scrolled": false
   },
   "outputs": [
    {
     "name": "stdout",
     "output_type": "stream",
     "text": [
      "135\n",
      "91\n"
     ]
    }
   ],
   "source": [
    "curridx = 13\n",
    "currlist = textrows_clean[toolong_idx[curridx]].split(\" \")\n",
    "\n",
    "print(len(currlist))\n",
    "\n",
    "currlist = currlist[:90]+['lynch*']\n",
    "\n",
    "textrows_clean2x[toolong_idx[curridx]] = \" \".join(currlist)\n",
    "\n",
    "\n",
    "print(len(currlist))"
   ]
  },
  {
   "cell_type": "code",
   "execution_count": 23,
   "metadata": {
    "scrolled": false
   },
   "outputs": [
    {
     "name": "stdout",
     "output_type": "stream",
     "text": [
      "185\n",
      "91\n"
     ]
    }
   ],
   "source": [
    "curridx = 14\n",
    "currlist = textrows_clean[toolong_idx[curridx]].split(\" \")\n",
    "\n",
    "\n",
    "print(len(currlist))\n",
    "currlist = currlist[:90]+[\"mausoleum\"]\n",
    "\n",
    "textrows_clean2x[toolong_idx[curridx]] = \" \".join(currlist)\n",
    "\n",
    "\n",
    "print(len(currlist))"
   ]
  },
  {
   "cell_type": "code",
   "execution_count": 24,
   "metadata": {
    "scrolled": false
   },
   "outputs": [
    {
     "name": "stdout",
     "output_type": "stream",
     "text": [
      "182\n",
      "89\n"
     ]
    }
   ],
   "source": [
    "curridx = 15\n",
    "currlist = textrows_clean[toolong_idx[curridx]].split(\" \")\n",
    "\n",
    "print(len(currlist))\n",
    "\n",
    "\n",
    "currlist = currlist[:88] + [\"mortician\"]\n",
    "\n",
    "textrows_clean2x[toolong_idx[curridx]] = \" \".join(currlist)\n",
    "\n",
    "print(len(currlist))"
   ]
  },
  {
   "cell_type": "code",
   "execution_count": 25,
   "metadata": {
    "scrolled": false
   },
   "outputs": [
    {
     "name": "stdout",
     "output_type": "stream",
     "text": [
      "177\n",
      "89\n"
     ]
    }
   ],
   "source": [
    "curridx = 16\n",
    "currlist = textrows_clean[toolong_idx[curridx]].split(\" \")\n",
    "\n",
    "print(len(currlist))\n",
    "\n",
    "currlist = currlist[:88] + ['obit*']\n",
    "\n",
    "textrows_clean2x[toolong_idx[curridx]] = \" \".join(currlist)\n",
    "\n",
    "\n",
    "print(len(currlist))"
   ]
  },
  {
   "cell_type": "code",
   "execution_count": 26,
   "metadata": {
    "scrolled": false
   },
   "outputs": [
    {
     "name": "stdout",
     "output_type": "stream",
     "text": [
      "113\n",
      "87\n"
     ]
    }
   ],
   "source": [
    "curridx = 17\n",
    "currlist = textrows_clean[toolong_idx[curridx]].split(\" \")\n",
    "\n",
    "print(len(currlist))\n",
    "\n",
    "currlist = currlist[:86] + ['plague*']\n",
    "\n",
    "textrows_clean2x[toolong_idx[curridx]] = \" \".join(currlist)\n",
    "\n",
    "\n",
    "print(len(currlist))"
   ]
  },
  {
   "cell_type": "code",
   "execution_count": 27,
   "metadata": {
    "scrolled": false
   },
   "outputs": [
    {
     "name": "stdout",
     "output_type": "stream",
     "text": [
      "176\n",
      "86\n"
     ]
    }
   ],
   "source": [
    "curridx = 18\n",
    "currlist = textrows_clean[toolong_idx[curridx]].split(\" \")\n",
    "\n",
    "print(len(currlist))\n",
    "\n",
    "currlist = currlist[:85]+ [\"suicid\"]\n",
    "\n",
    "textrows_clean2x[toolong_idx[curridx]] = \" \".join(currlist)\n",
    "\n",
    "\n",
    "print(len(currlist))"
   ]
  },
  {
   "cell_type": "code",
   "execution_count": 28,
   "metadata": {
    "scrolled": false
   },
   "outputs": [
    {
     "name": "stdout",
     "output_type": "stream",
     "text": [
      "167\n",
      "84\n"
     ]
    }
   ],
   "source": [
    "curridx = 19\n",
    "currlist = textrows_clean[toolong_idx[curridx]].split(\" \")\n",
    "\n",
    "print(len(currlist))\n",
    "\n",
    "currlist = currlist[:83]+[\"war\"]\n",
    "\n",
    "textrows_clean2x[toolong_idx[curridx]] = \" \".join(currlist)\n",
    "\n",
    "\n",
    "print(len(currlist))"
   ]
  },
  {
   "cell_type": "code",
   "execution_count": 29,
   "metadata": {
    "scrolled": false
   },
   "outputs": [
    {
     "name": "stdout",
     "output_type": "stream",
     "text": [
      "228\n",
      "83\n"
     ]
    }
   ],
   "source": [
    "curridx = 20\n",
    "currlist = textrows_clean[toolong_idx[curridx]].split(\" \")\n",
    "\n",
    "print(len(currlist))\n",
    "\n",
    "currlist = [\"can\"]+currlist[146:]\n",
    "\n",
    "textrows_clean2x[toolong_idx[curridx]] = \" \".join(currlist)\n",
    "\n",
    "\n",
    "print(len(currlist))"
   ]
  },
  {
   "cell_type": "code",
   "execution_count": 30,
   "metadata": {
    "scrolled": false
   },
   "outputs": [
    {
     "name": "stdout",
     "output_type": "stream",
     "text": [
      "165\n",
      "81\n"
     ]
    }
   ],
   "source": [
    "curridx = 21\n",
    "currlist = textrows_clean[toolong_idx[curridx]].split(\" \")\n",
    "\n",
    "print(len(currlist))\n",
    "\n",
    "currlist = currlist[:80]+[\"temple\"]\n",
    "\n",
    "textrows_clean2x[toolong_idx[curridx]] = \" \".join(currlist)\n",
    "\n",
    "\n",
    "print(len(currlist))"
   ]
  },
  {
   "cell_type": "code",
   "execution_count": 31,
   "metadata": {
    "scrolled": false
   },
   "outputs": [
    {
     "name": "stdout",
     "output_type": "stream",
     "text": [
      "159\n",
      "78\n"
     ]
    }
   ],
   "source": [
    "curridx = 22\n",
    "currlist = textrows_clean[toolong_idx[curridx]].split(\" \")\n",
    "\n",
    "print(len(currlist))\n",
    "currlist  = currlist[:77]+[\"torah\"]\n",
    "\n",
    "textrows_clean2x[toolong_idx[curridx]] = \" \".join(currlist)\n",
    "\n",
    "\n",
    "print(len(currlist))"
   ]
  },
  {
   "cell_type": "code",
   "execution_count": 32,
   "metadata": {
    "scrolled": false
   },
   "outputs": [
    {
     "name": "stdout",
     "output_type": "stream",
     "text": [
      "155\n",
      "78\n"
     ]
    }
   ],
   "source": [
    "curridx = 23\n",
    "currlist = textrows_clean[toolong_idx[curridx]].split(\" \")\n",
    "\n",
    "print(len(currlist))\n",
    "\n",
    "currlist = currlist[:77] + [\"worship*\"]\n",
    "\n",
    "textrows_clean2x[toolong_idx[curridx]] = \" \".join(currlist)\n",
    "\n",
    "\n",
    "print(len(currlist))"
   ]
  },
  {
   "cell_type": "code",
   "execution_count": 33,
   "metadata": {
    "scrolled": false
   },
   "outputs": [
    {
     "name": "stdout",
     "output_type": "stream",
     "text": [
      "214\n",
      "76\n"
     ]
    }
   ],
   "source": [
    "curridx = 24\n",
    "currlist = textrows_clean[toolong_idx[curridx]].split(\" \")\n",
    "\n",
    "print(len(currlist))\n",
    "\n",
    "currlist = [\"cuz\"] + currlist[139:]\n",
    "\n",
    "textrows_clean2x[toolong_idx[curridx]] = \" \".join(currlist)\n",
    "\n",
    "\n",
    "print(len(currlist))"
   ]
  },
  {
   "cell_type": "code",
   "execution_count": 34,
   "metadata": {},
   "outputs": [
    {
     "name": "stdout",
     "output_type": "stream",
     "text": [
      "108\n",
      "74\n"
     ]
    }
   ],
   "source": [
    "curridx = 25\n",
    "currlist = textrows_clean[toolong_idx[curridx]].split(\" \")\n",
    "\n",
    "print(len(currlist))\n",
    "\n",
    "currlist = currlist[:73] + ['wager*']\n",
    "\n",
    "textrows_clean2x[toolong_idx[curridx]] = \" \".join(currlist)\n",
    "\n",
    "\n",
    "print(len(currlist))"
   ]
  },
  {
   "cell_type": "code",
   "execution_count": 35,
   "metadata": {
    "scrolled": false
   },
   "outputs": [
    {
     "name": "stdout",
     "output_type": "stream",
     "text": [
      "151\n",
      "74\n"
     ]
    }
   ],
   "source": [
    "curridx = 26\n",
    "currlist = textrows_clean[toolong_idx[curridx]].split(\" \")\n",
    "\n",
    "print(len(currlist))\n",
    "\n",
    "currlist = currlist[:73] + [\"worth\"]\n",
    "\n",
    "textrows_clean2x[toolong_idx[curridx]] = \" \".join(currlist)\n",
    "\n",
    "\n",
    "print(len(currlist))"
   ]
  },
  {
   "cell_type": "code",
   "execution_count": 36,
   "metadata": {
    "scrolled": false
   },
   "outputs": [
    {
     "name": "stdout",
     "output_type": "stream",
     "text": [
      "142\n",
      "71\n"
     ]
    }
   ],
   "source": [
    "curridx = 27\n",
    "currlist = textrows_clean[toolong_idx[curridx]].split(\" \")\n",
    "\n",
    "print(len(currlist))\n",
    "currlist = currlist[:70]+['IRS']\n",
    "\n",
    "textrows_clean2x[toolong_idx[curridx]] = \" \".join(currlist)\n",
    "\n",
    "\n",
    "print(len(currlist))"
   ]
  },
  {
   "cell_type": "code",
   "execution_count": 37,
   "metadata": {
    "scrolled": false
   },
   "outputs": [
    {
     "name": "stdout",
     "output_type": "stream",
     "text": [
      "135\n",
      "68\n"
     ]
    }
   ],
   "source": [
    "curridx = 28\n",
    "currlist = textrows_clean[toolong_idx[curridx]].split(\" \")\n",
    "\n",
    "print(len(currlist))\n",
    "\n",
    "currlist = currlist[:67] + [\"toaster*\"]\n",
    "\n",
    "textrows_clean2x[toolong_idx[curridx]] = \" \".join(currlist)\n",
    "\n",
    "\n",
    "print(len(currlist))\n",
    "\n"
   ]
  },
  {
   "cell_type": "code",
   "execution_count": 38,
   "metadata": {
    "scrolled": false
   },
   "outputs": [
    {
     "name": "stdout",
     "output_type": "stream",
     "text": [
      "76\n",
      "61\n"
     ]
    }
   ],
   "source": [
    "curridx = 29\n",
    "currlist = textrows_clean[toolong_idx[curridx]].split(\" \")\n",
    "\n",
    "print(len(currlist))\n",
    "currlist = currlist[:60]+['travel*']\n",
    "\n",
    "textrows_clean2x[toolong_idx[curridx]] = \" \".join(currlist)\n",
    "\n",
    "\n",
    "print(len(currlist))"
   ]
  },
  {
   "cell_type": "code",
   "execution_count": 39,
   "metadata": {
    "scrolled": false
   },
   "outputs": [
    {
     "name": "stdout",
     "output_type": "stream",
     "text": [
      "118\n",
      "59\n"
     ]
    }
   ],
   "source": [
    "curridx = 30\n",
    "currlist = textrows_clean[toolong_idx[curridx]].split(\" \")\n",
    "\n",
    "print(len(currlist))\n",
    "\n",
    "currlist = currlist[:58]+[\"unwind\"]\n",
    "\n",
    "textrows_clean2x[toolong_idx[curridx]] = \" \".join(currlist)\n",
    "\n",
    "\n",
    "print(len(currlist))"
   ]
  },
  {
   "cell_type": "code",
   "execution_count": 40,
   "metadata": {
    "scrolled": false
   },
   "outputs": [
    {
     "name": "stdout",
     "output_type": "stream",
     "text": [
      "115\n",
      "58\n"
     ]
    }
   ],
   "source": [
    "curridx = 31\n",
    "currlist = textrows_clean[toolong_idx[curridx]].split(\" \")\n",
    "\n",
    "print(len(currlist))\n",
    "currlist = currlist[:57]+[\"video*\"]\n",
    "\n",
    "textrows_clean2x[toolong_idx[curridx]] = \" \".join(currlist)\n",
    "\n",
    "\n",
    "print(len(currlist))"
   ]
  },
  {
   "cell_type": "code",
   "execution_count": 41,
   "metadata": {
    "scrolled": false
   },
   "outputs": [
    {
     "name": "stdout",
     "output_type": "stream",
     "text": [
      "163\n",
      "57\n"
     ]
    }
   ],
   "source": [
    "curridx = 32\n",
    "currlist = textrows_clean[toolong_idx[curridx]].split(\" \")\n",
    "\n",
    "print(len(currlist))\n",
    "currlist = [\"entire*\"] + currlist[107:]\n",
    "\n",
    "textrows_clean2x[toolong_idx[curridx]] = \" \".join(currlist)\n",
    "\n",
    "\n",
    "print(len(currlist))"
   ]
  },
  {
   "cell_type": "code",
   "execution_count": 42,
   "metadata": {
    "scrolled": false
   },
   "outputs": [
    {
     "name": "stdout",
     "output_type": "stream",
     "text": [
      "77\n",
      "57\n"
     ]
    }
   ],
   "source": [
    "curridx = 33\n",
    "currlist = textrows_clean[toolong_idx[curridx]].split(\" \")\n",
    "\n",
    "print(len(currlist))\n",
    "currlist = currlist[:56] + [\"weights\"]\n",
    "\n",
    "textrows_clean2x[toolong_idx[curridx]] = \" \".join(currlist)\n",
    "\n",
    "\n",
    "print(len(currlist))"
   ]
  },
  {
   "cell_type": "code",
   "execution_count": 43,
   "metadata": {
    "scrolled": false
   },
   "outputs": [
    {
     "name": "stdout",
     "output_type": "stream",
     "text": [
      "114\n",
      "56\n"
     ]
    }
   ],
   "source": [
    "curridx = 34\n",
    "currlist = textrows_clean[toolong_idx[curridx]].split(\" \")\n",
    "\n",
    "print(len(currlist))\n",
    "\n",
    "currlist = currlist[:55] + [\"wine\"] \n",
    "\n",
    "textrows_clean2x[toolong_idx[curridx]] = \" \".join(currlist)\n",
    "\n",
    "print(len(currlist))"
   ]
  },
  {
   "cell_type": "code",
   "execution_count": 44,
   "metadata": {},
   "outputs": [
    {
     "name": "stdout",
     "output_type": "stream",
     "text": [
      "98\n",
      "49\n"
     ]
    }
   ],
   "source": [
    "curridx = 35\n",
    "currlist = textrows_clean[toolong_idx[curridx]].split(\" \")\n",
    "\n",
    "print(len(currlist))\n",
    "\n",
    "currlist = currlist[:48]+[\"xbox\"]\n",
    "\n",
    "\n",
    "print(len(currlist))\n",
    "\n",
    "\n",
    "textrows_clean2x[toolong_idx[curridx]] = \" \".join(currlist)\n"
   ]
  },
  {
   "cell_type": "code",
   "execution_count": 45,
   "metadata": {},
   "outputs": [
    {
     "name": "stdout",
     "output_type": "stream",
     "text": [
      "95\n",
      "48\n"
     ]
    }
   ],
   "source": [
    "curridx = 36\n",
    "currlist = textrows_clean[toolong_idx[curridx]].split(\" \")\n",
    "\n",
    "print(len(currlist))\n",
    "\n",
    "currlist = currlist[:47]+[\"margarita*\"]\n",
    "\n",
    "\n",
    "print(len(currlist))\n",
    "\n",
    "\n",
    "textrows_clean2x[toolong_idx[curridx]] = \" \".join(currlist)"
   ]
  },
  {
   "cell_type": "code",
   "execution_count": 46,
   "metadata": {
    "scrolled": false
   },
   "outputs": [
    {
     "name": "stdout",
     "output_type": "stream",
     "text": [
      "127\n",
      "48\n"
     ]
    }
   ],
   "source": [
    "curridx = 37\n",
    "currlist = textrows_clean[toolong_idx[curridx]].split(\" \")\n",
    "\n",
    "print(len(currlist))\n",
    "\n",
    "currlist = [\"extra\"] + currlist[80:]\n",
    "print(len(currlist))\n",
    "\n",
    "\n",
    "textrows_clean2x[toolong_idx[curridx]] = \" \".join(currlist)"
   ]
  },
  {
   "cell_type": "code",
   "execution_count": 47,
   "metadata": {},
   "outputs": [
    {
     "name": "stdout",
     "output_type": "stream",
     "text": [
      "60\n",
      "44\n"
     ]
    }
   ],
   "source": [
    "curridx = 38\n",
    "currlist = textrows_clean[toolong_idx[curridx]].split(\" \")\n",
    "\n",
    "print(len(currlist))\n",
    "currlist = currlist[:43]+[\"youth*\"]\n",
    "\n",
    "textrows_clean2x[toolong_idx[curridx]] = \" \".join(currlist)\n",
    "\n",
    "print(len(currlist))\n"
   ]
  },
  {
   "cell_type": "code",
   "execution_count": 48,
   "metadata": {},
   "outputs": [
    {
     "name": "stdout",
     "output_type": "stream",
     "text": [
      "84\n",
      "42\n"
     ]
    }
   ],
   "source": [
    "curridx = 39\n",
    "currlist = textrows_clean[toolong_idx[curridx]].split(\" \")\n",
    "\n",
    "print(len(currlist))\n",
    "\n",
    "currlist = currlist[:41]+[\"receiv*\"]\n",
    "\n",
    "textrows_clean2x[toolong_idx[curridx]] = \" \".join(currlist)\n",
    "\n",
    "print(len(currlist))"
   ]
  },
  {
   "cell_type": "code",
   "execution_count": 49,
   "metadata": {},
   "outputs": [
    {
     "name": "stdout",
     "output_type": "stream",
     "text": [
      "76\n",
      "38\n"
     ]
    }
   ],
   "source": [
    "curridx = 40\n",
    "currlist = textrows_clean[toolong_idx[curridx]].split(\" \")\n",
    "\n",
    "print(len(currlist))\n",
    "\n",
    "currlist = currlist[:37]+[\"replacing\"]\n",
    "\n",
    "textrows_clean2x[toolong_idx[curridx]] = \" \".join(currlist)\n",
    "\n",
    "print(len(currlist))"
   ]
  },
  {
   "cell_type": "code",
   "execution_count": 50,
   "metadata": {},
   "outputs": [
    {
     "name": "stdout",
     "output_type": "stream",
     "text": [
      "57\n",
      "29\n"
     ]
    }
   ],
   "source": [
    "curridx = 41\n",
    "currlist = textrows_clean[toolong_idx[curridx]].split(\" \")\n",
    "\n",
    "print(len(currlist))\n",
    "currlist = currlist[:28]+[\"rides\"]\n",
    "\n",
    "textrows_clean2x[toolong_idx[curridx]] = \" \".join(currlist)\n",
    "\n",
    "print(len(currlist))"
   ]
  },
  {
   "cell_type": "code",
   "execution_count": 51,
   "metadata": {},
   "outputs": [
    {
     "name": "stdout",
     "output_type": "stream",
     "text": [
      "62\n",
      "30\n"
     ]
    }
   ],
   "source": [
    "curridx = 42\n",
    "currlist = textrows_clean[toolong_idx[curridx]].split(\" \")\n",
    "\n",
    "print(len(currlist))\n",
    "\n",
    "currlist = currlist[:29]+[\"run\"]\n",
    "\n",
    "textrows_clean2x[toolong_idx[curridx]] = \" \".join(currlist)\n",
    "\n",
    "print(len(currlist))"
   ]
  },
  {
   "cell_type": "code",
   "execution_count": 52,
   "metadata": {},
   "outputs": [
    {
     "name": "stdout",
     "output_type": "stream",
     "text": [
      "53\n",
      "27\n"
     ]
    }
   ],
   "source": [
    "curridx = 43\n",
    "currlist = textrows_clean[toolong_idx[curridx]].split(\" \")\n",
    "\n",
    "print(len(currlist))\n",
    "\n",
    "currlist = currlist[:26]+[\"runs\"]\n",
    "\n",
    "textrows_clean2x[toolong_idx[curridx]] = \" \".join(currlist)\n",
    "\n",
    "print(len(currlist))"
   ]
  },
  {
   "cell_type": "code",
   "execution_count": 53,
   "metadata": {},
   "outputs": [
    {
     "name": "stdout",
     "output_type": "stream",
     "text": [
      "49\n",
      "25\n"
     ]
    }
   ],
   "source": [
    "curridx = 44\n",
    "currlist = textrows_clean[toolong_idx[curridx]].split(\" \")\n",
    "\n",
    "print(len(currlist))\n",
    "\n",
    "\n",
    "currlist= currlist[:24]+[\"sent\"]\n",
    "\n",
    "textrows_clean2x[toolong_idx[curridx]] = \" \".join(currlist)\n",
    "\n",
    "print(len(currlist))"
   ]
  },
  {
   "cell_type": "code",
   "execution_count": 54,
   "metadata": {},
   "outputs": [
    {
     "name": "stdout",
     "output_type": "stream",
     "text": [
      "51\n",
      "21\n"
     ]
    }
   ],
   "source": [
    "curridx = 45\n",
    "currlist = textrows_clean[toolong_idx[curridx]].split(\" \")\n",
    "\n",
    "print(len(currlist))\n",
    "\n",
    "currlist = [\"have\"] + currlist[31:]\n",
    "\n",
    "textrows_clean2x[toolong_idx[curridx]] = \" \".join(currlist)\n",
    "\n",
    "print(len(currlist))"
   ]
  },
  {
   "cell_type": "code",
   "execution_count": 55,
   "metadata": {},
   "outputs": [
    {
     "name": "stdout",
     "output_type": "stream",
     "text": [
      "32\n",
      "20\n"
     ]
    }
   ],
   "source": [
    "curridx = 46\n",
    "currlist = textrows_clean[toolong_idx[curridx]].split(\" \")\n",
    "\n",
    "print(len(currlist))\n",
    "\n",
    "\n",
    "currlist = currlist[:20]\n",
    "\n",
    "textrows_clean2x[toolong_idx[curridx]] = \" \".join(currlist)\n",
    "\n",
    "print(len(currlist))"
   ]
  },
  {
   "cell_type": "code",
   "execution_count": 56,
   "metadata": {},
   "outputs": [
    {
     "name": "stdout",
     "output_type": "stream",
     "text": [
      "29\n",
      "14\n"
     ]
    }
   ],
   "source": [
    "curridx = 47\n",
    "currlist = textrows_clean[toolong_idx[curridx]].split(\" \")\n",
    "\n",
    "print(len(currlist))\n",
    "\n",
    "currlist = currlist[:13]+[\"stepp*\"]\n",
    "\n",
    "textrows_clean2x[toolong_idx[curridx]] = \" \".join(currlist)\n",
    "\n",
    "print(len(currlist))"
   ]
  },
  {
   "cell_type": "code",
   "execution_count": 57,
   "metadata": {},
   "outputs": [
    {
     "name": "stdout",
     "output_type": "stream",
     "text": [
      "26\n",
      "13\n"
     ]
    }
   ],
   "source": [
    "curridx = 48\n",
    "currlist = textrows_clean[toolong_idx[curridx]].split(\" \")\n",
    "\n",
    "print(len(currlist))\n",
    "\n",
    "currlist = currlist[:12]+[\"swam\"]\n",
    "\n",
    "textrows_clean2x[toolong_idx[curridx]] = \" \".join(currlist)\n",
    "\n",
    "print(len(currlist))"
   ]
  },
  {
   "cell_type": "code",
   "execution_count": 58,
   "metadata": {},
   "outputs": [
    {
     "name": "stdout",
     "output_type": "stream",
     "text": [
      "13\n",
      "7\n"
     ]
    }
   ],
   "source": [
    "curridx = 49\n",
    "currlist = textrows_clean[toolong_idx[curridx]].split(\" \")\n",
    "\n",
    "print(len(currlist))\n",
    "\n",
    "currlist = currlist[:6]+[\"throw*\"]\n",
    "\n",
    "textrows_clean2x[toolong_idx[curridx]] = \" \".join(currlist)\n",
    "\n",
    "print(len(currlist))"
   ]
  },
  {
   "cell_type": "code",
   "execution_count": 59,
   "metadata": {},
   "outputs": [],
   "source": [
    "textrows_clean2x[2] = textrows_clean2x[2][:56]+\" \"+ textrows_clean2x[2][56:]\n"
   ]
  },
  {
   "cell_type": "code",
   "execution_count": 60,
   "metadata": {},
   "outputs": [],
   "source": [
    "textrows_clean2x[13] = textrows_clean2x[13][:530] + \" \" + textrows_clean2x[13][530:]"
   ]
  },
  {
   "cell_type": "code",
   "execution_count": 61,
   "metadata": {},
   "outputs": [],
   "source": [
    "textrows_clean2x[14] = textrows_clean2x[14][1:]"
   ]
  },
  {
   "cell_type": "code",
   "execution_count": 62,
   "metadata": {},
   "outputs": [],
   "source": [
    "textrows_clean2x[16] = textrows_clean2x[16][:653] + \" \" + textrows_clean2x[16][653:]"
   ]
  },
  {
   "cell_type": "code",
   "execution_count": 63,
   "metadata": {},
   "outputs": [],
   "source": [
    "textrows_clean2x[17] = textrows_clean2x[17][:464] + \" \"+  textrows_clean2x[17][464:]"
   ]
  },
  {
   "cell_type": "code",
   "execution_count": 64,
   "metadata": {},
   "outputs": [],
   "source": [
    "textrows_clean2x[18] = textrows_clean2x[18][:330] + \" \" + textrows_clean2x[18][330:]"
   ]
  },
  {
   "cell_type": "code",
   "execution_count": 65,
   "metadata": {},
   "outputs": [],
   "source": [
    "textrows_clean2x[25]=textrows_clean2x[25][1:]"
   ]
  },
  {
   "cell_type": "code",
   "execution_count": 66,
   "metadata": {},
   "outputs": [],
   "source": [
    "textrows_clean2x[26] = textrows_clean2x[26][:529] + \" \" + textrows_clean2x[26][529:]"
   ]
  },
  {
   "cell_type": "code",
   "execution_count": 67,
   "metadata": {},
   "outputs": [],
   "source": [
    "textrows_clean2x[32] = textrows_clean2x[32][:170]+\" \"+textrows_clean2x[32][170:]"
   ]
  },
  {
   "cell_type": "code",
   "execution_count": 68,
   "metadata": {},
   "outputs": [],
   "source": [
    "textrows_clean2x[36] = textrows_clean2x[36][:596]+\" \"+textrows_clean2x[36][596:]"
   ]
  },
  {
   "cell_type": "code",
   "execution_count": 69,
   "metadata": {},
   "outputs": [],
   "source": [
    "textrows_clean2x[38] = textrows_clean2x[38][:663]+\"m \"+textrows_clean2x[38][663:]"
   ]
  },
  {
   "cell_type": "code",
   "execution_count": 70,
   "metadata": {},
   "outputs": [],
   "source": [
    "textrows_clean2x[46] = textrows_clean2x[46][:381]+\" \"+textrows_clean2x[46][381:]"
   ]
  },
  {
   "cell_type": "code",
   "execution_count": 71,
   "metadata": {},
   "outputs": [],
   "source": [
    "textrows_clean2x[47] = textrows_clean2x[47][:368]+\" \"+textrows_clean2x[47][368:]"
   ]
  },
  {
   "cell_type": "code",
   "execution_count": 72,
   "metadata": {},
   "outputs": [],
   "source": [
    "textrows_clean2x[48] = textrows_clean2x[48][:368]+\" \"+textrows_clean2x[48][368:]"
   ]
  },
  {
   "cell_type": "code",
   "execution_count": 73,
   "metadata": {},
   "outputs": [],
   "source": [
    "textrows_clean2x[68] = textrows_clean2x[68][:98]+\"ip \"+textrows_clean2x[68][98:]"
   ]
  },
  {
   "cell_type": "code",
   "execution_count": 74,
   "metadata": {},
   "outputs": [],
   "source": [
    "textrows_clean2x[72] = textrows_clean2x[72][:391] + \" \" + textrows_clean2x[72][391:]"
   ]
  },
  {
   "cell_type": "code",
   "execution_count": 75,
   "metadata": {},
   "outputs": [],
   "source": [
    "textrows_clean2x[78] = textrows_clean2x[78][:280]+\" \"+textrows_clean2x[78][280:]"
   ]
  },
  {
   "cell_type": "code",
   "execution_count": 76,
   "metadata": {},
   "outputs": [],
   "source": [
    "textrows_clean2x[80] = textrows_clean2x[80][:517]+\" \"+textrows_clean2x[80][517:]"
   ]
  },
  {
   "cell_type": "code",
   "execution_count": 77,
   "metadata": {},
   "outputs": [],
   "source": [
    "textrows_clean2x[88] = textrows_clean2x[88][:276]+\"* \"+textrows_clean2x[88][276:]"
   ]
  },
  {
   "cell_type": "code",
   "execution_count": 78,
   "metadata": {},
   "outputs": [],
   "source": [
    "textrows_clean2x[89] = textrows_clean2x[89][:277] + \" \"+textrows_clean2x[89][277:]"
   ]
  },
  {
   "cell_type": "code",
   "execution_count": 79,
   "metadata": {},
   "outputs": [],
   "source": [
    "textrows_clean2x[90] = textrows_clean2x[90][:150]+\" \"+textrows_clean2x[90][150:]"
   ]
  },
  {
   "cell_type": "code",
   "execution_count": 80,
   "metadata": {},
   "outputs": [],
   "source": [
    "textrows_clean2x[104] = textrows_clean2x[104][:354]+\"s week\"+textrows_clean2x[104][360:]"
   ]
  },
  {
   "cell_type": "code",
   "execution_count": 81,
   "metadata": {},
   "outputs": [],
   "source": [
    "textrows_clean2x[126] =textrows_clean2x[126][:172] + ' m' + textrows_clean2x[126][172:]"
   ]
  },
  {
   "cell_type": "code",
   "execution_count": 82,
   "metadata": {},
   "outputs": [],
   "source": [
    "textrows_clean2x[127]  =textrows_clean2x[127] [:161]+\" \"+textrows_clean2x[127] [161:]"
   ]
  },
  {
   "cell_type": "code",
   "execution_count": 83,
   "metadata": {},
   "outputs": [],
   "source": [
    "textrows_clean2x[128] = textrows_clean2x[128][:148]+\" \" + textrows_clean2x[128][148:]"
   ]
  },
  {
   "cell_type": "code",
   "execution_count": 84,
   "metadata": {},
   "outputs": [],
   "source": [
    "textrows_clean2x[63] = textrows_clean2x[63][:334]+\"\" +textrows_clean2x[63][339:]"
   ]
  },
  {
   "cell_type": "code",
   "execution_count": 85,
   "metadata": {},
   "outputs": [],
   "source": [
    "textrows_clean2x[76] = textrows_clean2x[76][:247]+textrows_clean2x[76][252:]"
   ]
  },
  {
   "cell_type": "code",
   "execution_count": 86,
   "metadata": {},
   "outputs": [],
   "source": [
    "117\n",
    "textrows_clean2x[117] = textrows_clean2x[117][9:]"
   ]
  },
  {
   "cell_type": "code",
   "execution_count": null,
   "metadata": {},
   "outputs": [],
   "source": []
  },
  {
   "cell_type": "code",
   "execution_count": null,
   "metadata": {},
   "outputs": [],
   "source": []
  },
  {
   "cell_type": "code",
   "execution_count": null,
   "metadata": {},
   "outputs": [],
   "source": []
  },
  {
   "cell_type": "code",
   "execution_count": 87,
   "metadata": {
    "scrolled": true
   },
   "outputs": [
    {
     "name": "stdout",
     "output_type": "stream",
     "text": [
      "['a', \"he's\", 'since', 'anybod*', 'hed', 'i', 'lets', 'thee', 'he', 'their*', 'anybod*', 'a', 'accepted', 'hasnt', 'slept', 'aint', 'accepted', 'admit', \"isn't\", 'couldve', 'about', 'about', 'also', 'aint', 'all', 'billion*', 'arse', 'acquainta*', 'gives', 'persons', 'aunt*', 'acquainta*', 'adult', 'abandon*', 'damn*', 'fume*', 'kindn*', 'privileg*', 'supporting', 'accept', 'freed*', 'partie*', 'abandon*', 'enrag*', 'maddening', 'snob*', 'afraid', 'abuse*', 'jealous*', 'abandon*', 'abandon*', 'conflict*', 'harness*', 'needed', \"should've\", 'accept', 'informs', 'activat*', 'besides', 'allot', 'absolute', 'abandon*', 'add', 'but', 'acid*', 'purpl*', 'beaut*', 'audibl*', 'brush*', 'abdomen*', 'disease*', 'intox*', 'scab*', 'abdomen*', 'knuckle*', 'abortion*', 'itch*', 'abortion*', 'alcohol*', 'above', 'constantly', 'goes', 'october', 'spring', 'act', 'above', 'meter*', 'abrupt*', 'like', 'absent*', 'feedback', 'profs', 'abilit*', 'master', 'actor*', 'martini*', 'address', 'account*', 'jackpot*', 'afterlife*', 'moral', 'autops*', 'absolutely', 'er', 'blah']\n",
      "\n",
      "['about', 'highly', 'singl*', 'anyone*', \"he'd\", 'Id', \"let's\", 'thine', 'hed', 'them', 'anyone*', 'alot', 'admit', \"hasn't\", 'sold', \"ain't\", 'admitted', 'admits', \"it's\", \"could've\", 'absolutely', 'above', 'although', \"ain't\", 'allot', 'dozen*', 'arsehole*', 'admit', 'giving', \"person's\", 'bro', 'amigo*', 'adults', 'abuse*', 'danger*', 'fuming', 'kiss*', 'prize*', 'supportive*', 'accepta*', 'freeing', 'party*', 'abuse*', 'envie*', 'madder', 'sob', 'alarm*', 'abusi*', 'jerk', 'ache*', 'absolute', 'confus*', 'hazie*', 'needing', 'sign', 'accepta*', 'inquir*', 'affect', 'could', 'almost', 'absolutely', 'abstain*', 'addit*', 'either', 'acrid*', 'quiet*', 'black', 'audio*', 'caress*', 'abortion*', 'dish', 'itch*', 'scalp', 'abs', 'leg', 'ache*', 'iv', 'aids', 'anorexi*', 'abrupt*', 'continu*', 'going', 'off', 'stage', 'action*', 'across', 'metre*', 'after', 'long', 'academ*', 'finaliz*', 'program*', 'able*', 'mastered', 'actress*', 'meditat*', 'apartment*', 'atm', 'kopek*', 'agnost*', 'morality', 'alive', 'agree', 'hm*', 'idontknow']\n",
      "\n",
      "['above', 'him', 'six*', 'anything', 'her', \"I'd\", 'our', 'thou', \"he'd\", 'themselves', 'anything', 'an', 'admits', 'hate', 'spent', 'am', 'affected', 'aint', 'ive', 'gonna', 'actually', 'across', 'and', 'arent', 'alot', 'eight*', 'arses', 'admits', 'gossip*', 'persua*', 'bros', 'bf*', 'babe*', 'abusi*', 'daring', 'fun', 'laidback', 'problem*', 'supports', 'accepted', 'freely', 'passion*', 'abusi*', 'envious', 'maddest', 'sobbed', 'anguish*', 'aggravat*', 'jerked', 'aching', 'absolutely', 'conscious*', 'hazy', 'neednt', 'since', 'accepted', 'insight*', 'affected', 'couldnt', 'alot', 'accura*', 'anal', 'along', 'except', 'aroma*', 'rancid*', 'blacke*', 'boom*', 'cold*', 'abs', 'dishes', 'iv', 'schizophren*', 'anal', 'legs*', 'aching', 'leuke*', 'arous*', 'appeti*', 'across', 'corner', 'gone', 'old', 'stair*', 'advanc*', 'air', 'mid', 'afterlife*', 'longe*', 'accomplish*', 'finals', 'project', 'accomplish*', 'masterful*', 'aerobic*', 'minesweeper', 'backyard', 'atms', 'kron*', 'alla', 'morals', 'bereave*', 'ah', 'sigh', 'imean']\n",
      "\n",
      "['absolutely', 'himself', 'so', 'everybod*', 'hers', \"I'll\", 'ours', 'thoust', 'her', 'they', 'everybod*', 'the', 'admitted', 'hated', 'spoke*', 'are', 'appeared', \"ain't\", \"I've\", 'gotta', 'again', 'after', 'as', \"aren't\", 'amount*', 'eleven', 'ass', 'admitted', 'grandchil*', 'phone*', 'brother*', 'boyf*', 'babies', 'accept', 'darlin*', 'funn*', 'lame*', 'profit*', 'suprem*', 'accepting', 'freeness', 'peace*', 'ache*', 'envy*', 'maniac*', 'sobbing', 'anxi*', 'aggress*', 'jerks', 'agoniz*', 'abstain*', 'consequen*', 'held', \"need'nt\", 'solution*', 'accepting', 'inspir*', 'affecting', \"couldn't\", 'ambigu*', 'all', 'avert*', 'and', 'exclu*', 'audibl*', 'rang', 'blackish*', 'choir*', 'cool*', 'ache*', 'dizz*', 'jaw*', 'scrape*', 'ankle*', 'lip', 'acne', 'life', 'ass', 'ate', 'act', 'corners', 'grew', 'olden', 'stand', 'appear', 'among*', 'middl*', 'aftermath*', 'march*', 'achiev*', 'financ*', 'projector*', 'ace', 'mastering', 'amus*', 'motel*', 'bake*', 'auction*', 'lease*', 'allah*', 'mormon*', 'burial*', 'alright*', 'uh', 'like']\n",
      "\n",
      "['across', 'his', 'some', 'everyone*', 'herself', 'Im', 'ourselves', 'thy', 'hers', 'theyd', 'everyone*', 'affected', 'hates', 'start', 'arent', 'arrived', 'am', 'keep', \"he'll\", 'also', 'against', 'altho', 'cannot', 'another', 'fift*', 'asses', 'admitting', 'granddad*', 'phoning', 'cousin*', 'bud', 'baby*', 'accepta*', 'daze*', 'furious*', 'laugh*', 'promis*', 'sure*', 'accepts', 'freer', 'perfect*', 'aching', 'evil*', 'masochis*', 'sobs', 'apprehens*', 'agitat*', 'kill*', 'agony', 'accept', 'conserv*', 'hence', \"needn't\", 'solve', 'accepts', 'interpret*', 'affects', 'couldve', 'any', 'altogether', 'avoid*', 'around', 'if', 'audio*', 'rectang*', 'blacks', 'concert*', 'drie*', 'aching', 'doctor*', 'jissom', 'screw*', 'anus*', 'lips*', 'addict*', 'living', 'asses', 'bake*', 'action*', 'countr*', 'ground*', 'older', 'start', 'appeared', 'anywhere', 'mile*', 'afternoon*', 'meantime', 'administrat*', 'fired', 'projects', 'achiev*', 'mastermind*', 'apartment*', 'movie*', 'baking', 'audit', 'leasing*', 'altar*', 'mosque*', 'buried', 'aok', 'um', 'ohwell']\n",
      "\n",
      "['actually', 'hopefully', 'somebod*', 'everything*', 'hes', \"I'm\", 'us', 'ya', 'herself', \"they'd\", 'everything*', 'aint', 'have', 'started', \"aren't\", 'asked', 'appear', 'keeps', \"I'll\", 'anyway*', 'ahead', 'because', 'cant', 'any', 'first', 'asshole*', 'adult', 'granddau*', 'prais*', 'dad*', 'buddies*', 'bambino*', 'accepted', 'dear*', 'fury', 'lazie*', 'protest', 'surpris*', 'active*', 'frees*', 'play', 'advers*', 'excruciat*', 'melanchol*', 'solemn*', 'asham*', 'anger*', 'liar*', 'alone', 'accepta*', 'consider', 'hesita*', 'needs', 'solved', 'acknowledg*', 'justif*', 'aggravat*', \"could've\", 'anybod*', 'always', 'ban', 'both', 'just', 'beaut*', 'red', 'blind*', 'deaf*', 'drily', 'acne', 'dosage', 'jizz', 'seduc*', 'appendix', 'liver*', 'advil', 'lozenge*', 'bi', 'baking', 'advanc*', 'coverage', 'grow', 'oldest', 'started', 'appearing', 'apart', 'narrow*', 'afterthought*', 'meanwhile', 'advertising', 'firing', 'prom', 'acquir*', 'masters', 'art', 'mtv*', 'balcon*', 'audited', 'lira', 'amen', 'muhamm*', 'bury', 'aw', 'umm*', 'rr*']\n",
      "\n",
      "['after', 'how', 'somehow', 'hed', \"he's\", 'ive', 'we', 'yall', 'hes', 'theyll', 'it', \"ain't\", 'havent', 'starts', 'be', 'ate', 'appears', 'know', 'itll', 'anywhere', 'along', 'but', \"can't\", 'anymore', 'firstly', 'bastard*', 'adults', 'grandf*', 'private', 'daughter*', 'buddy*', 'boy', 'accepting', 'decay*', 'geek*', 'lazy', 'protested', 'suspicio*', 'admir*', 'friend*', 'played', 'afraid', 'exhaust*', 'mess', 'sorrow*', 'aversi*', 'angr*', 'lied', 'broke', 'accepted', 'considered', 'hold*', 'neglect*', 'solves', 'adjust*', 'knew', 'allow*', 'desir*', 'anyhow', 'apparent', 'banned', 'came', 'not', 'bitter*', 'redde*', 'blond*', 'ear', 'dry*', 'addict*', 'dose*', 'joints', 'seizure*', 'arch', 'lung*', 'aids', 'lump', 'boner*', 'bar', 'after', 'cross*', 'growing', 'on', 'starter*', 'appears', 'area*', 'nation*', 'afterward*', 'min', 'advis*', 'franchis*', 'promot*', 'acquisition*', 'mastery', 'artist*', 'museum*', 'bath*', 'auditing', 'loan*', 'amish', 'mujahid*', 'casket*', 'awesome', 'well', 'yakno*']\n",
      "\n",
      "['again', 'however', 'someone*', \"he'd\", 'him', \"I've\", \"we'd\", \"y'all\", \"he's\", \"they'll\", 'itd', 'am', \"haven't\", 'stayed', 'became', 'became', 'are', 'knows', \"it'll\", 'apparently', 'among*', 'cuz', 'couldnt', 'besides', 'firsts', 'bitch*', 'advice', 'grandkid*', 'provide', 'ex', 'colleague*', \"boy's\", 'accepts', 'defeat*', 'genero*', 'liabilit*', 'protesting', 'sweet', 'ador*', 'fun', 'playful*', 'aggravat*', 'fail*', 'messy', 'sorry', 'avoid*', 'annoy*', 'lies', 'cried', 'accepting', 'considering', 'hope', 'never', 'solving', 'admit', 'know', 'attribut*', 'expect*', 'anyone*', 'assur*', 'banning', 'close', 'or', 'black', 'reddish*', 'blue*', 'ears', 'edge', 'advil', 'dosing', 'kidney*', 'sensation', 'arm', 'mouth*', 'alcohol*', 'lymph*', 'boob*', 'bars', 'afterlife*', 'cruis*', 'grown', 'once', 'starting', 'approach*', 'around', 'near', 'again', 'minute*', 'agent', 'frat', 'psych', 'adequa*', 'medal*', 'arts', 'musi*', 'bed', 'auditor', 'lotter*', 'angel', 'musl*', 'casualt*', 'cool', 'zz*', 'ykn*']\n",
      "\n",
      "['against', 'hundred*', 'something*', 'her', 'himself', 'me', \"we'll\", 'ye', 'him', 'theyve', \"it'd\", 'appear', 'having', 'stood', 'become', 'been', 'arent', 'lets', 'may', 'around', 'around', 'how', \"couldn't\", 'best', 'five', 'bloody', 'advis*', 'grandm*', 'public', 'exes', 'companion', 'boys*', 'ache*', 'defect*', 'gentle', 'liar*', 'proud*', 'sweetheart*', 'advantag*', 'funn*', 'playing', 'aggress*', 'fake', 'miser*', 'spite*', 'awkward*', 'antagoni*', 'lous*', 'cries', 'accepts', 'considers', 'hoped', 'news', 'some', 'admits', 'knowab*', 'based', 'hope', 'anything', 'blatant*', 'bans', 'come', 'rather', 'blacke*', 'redness', 'bright*', 'harmon*', 'edges', 'aids', 'dr', 'kiss*', 'sensations', 'armpit*', 'mucous*', 'alive', 'mammogram', 'breast*', 'beer*', 'aftermath*', 'current*', 'growth', 'onto', 'starts', 'arrival*', 'at', 'neared', 'age', 'modern*', 'agents', 'fratern*', 'psychol*', 'advanc*', 'mediocr*', 'athletic*', 'nap', 'bedding', 'auditors', 'mastercard*', 'angelic*', 'nun', 'cemet*', 'duh', 'youknow']\n",
      "\n",
      "['ahead', 'i', 'somewhat', 'hers', 'his', 'mine', \"we're\", 'you', 'himself', \"they've\", 'itll', 'appeared', 'hear', 'stopped', 'becomes', 'began', \"aren't\", \"let's\", 'might', 'back', 'as', 'however', 'didnt', 'bit', 'four*', 'boob*', 'affair*', 'grandpa*', 'question*', 'exhubby*', 'companions', 'chick', 'aching', 'defenc*', 'gentler', 'libert*', 'puk*', 'sweetie*', 'adventur*', 'genero*', 'plays', 'agitat*', 'fatal*', 'miss', 'stammer*', 'confus*', 'argh*', 'ludicrous*', 'crushed', 'accura*', 'constrain*', 'hopeful', 'normal', 'somebod*', 'admitted', 'knower*', 'bases', 'hoped', 'anytime', 'certain*', 'barrier*', 'each', 'really', 'blackish*', 'reds', 'brown*', 'hear', 'edging', 'alcohol*', 'drank', 'kitchen*', 'servings', 'arms*', 'muscle*', 'allerg*', 'manicdep*', 'butt', 'binge*', 'afternoon*', 'cycle*', 'hall', 'open', 'startup*', 'arrive', 'atop', 'nearer', 'aged', 'moment*', 'ambiti*', 'freshm*', 'publish', 'advantag*', 'motiv*', 'ball', 'naps', 'bedroom*', 'audits', 'merchant*', 'angels', 'nuns', 'coffin*', 'ha']\n",
      "\n",
      "['aint', 'Id', 'somewhere', 'herself', 'i', 'my', 'weve', 'youd', 'his', \"it'll\", 'appears', 'heard', 'stuck', 'becoming', 'believed', 'arrive', 'listen', 'must', 'basically', 'at', 'if', \"didn't\", 'bits', 'half', 'butt', 'amigo*', 'grandson*', 'reassur*', 'exhusband*', 'comrad*', \"chick'*\", 'active*', 'defens*', 'gentlest', 'lied', 'punish*', 'sweetly', 'affection*', 'gentle', 'pleasant*', 'agoniz*', 'fatigu*', 'missed', 'stank', 'craz*', 'argu*', 'lying', 'cry', 'acknowledg*', 'constrict*', 'hopefully', 'not', 'somehow', 'admitting', 'knowing', 'basis', 'hopeful', 'anywhere', 'clear', 'binding', 'inclu*', 'something*', 'blacks', 'reek*', 'candle*', 'heard', 'feel', 'alive', 'drink*', 'knee*', 'sex*', 'arous*', 'muscular', 'amput*', 'medic*', 'butts', 'binging', 'afterthought*', 'dail*', 'hang', 'opened', 'state', 'arrived', 'away', 'nearest', 'ages', 'monday*', 'applicant*', 'gmat', 'qualifi*', 'ahead', 'obtain*', 'ballet*', 'netflix', 'beds', 'bank*', 'money*', 'baptis*', 'orthodox*', 'coroner*', 'hah']\n",
      "\n",
      "[\"ain't\", \"I'd\", 'soon', 'hes', 'Id', 'myself', \"we've\", \"you'd\", 'oneself', 'its', 'are', 'hears', 'studied', 'been', 'bought', 'arrives', 'listens', 'mustnt', 'beyond', 'atop', 'nor', 'doesnt', 'both', 'hundred*', 'butts', 'anybod*', 'granny', 'receiv*', 'exwife*', 'exbf*', 'chicks', 'admir*', 'definite', 'gently', 'lies', 'radian*', 'sweetness*', 'agree', 'gentler', 'please*', 'agony', 'fault*', 'misses', 'startl*', 'desperat*', 'arrogan*', 'mad', 'crying', 'activat*', 'contain*', 'hopefulness', 'notice*', 'someone*', 'afterthought*', 'knowledg*', 'because', 'hopefully', 'apparently', 'clearly', 'block', 'inside', 'sometime', 'blind*', 'ring', 'circle', 'hearing', 'feeling*', 'allerg*', 'drool*', 'knuckle*', 'shirt*', 'arse', 'naked', 'anorexi*', 'migrain*', \"butt's\", 'boil*', 'afterward*', 'danc*', 'happening', 'opening*', 'stay*', 'arrives', 'backward*', 'nearing', 'aging', 'month*', 'applicat*', 'goal*', 'quiz*', 'ambiti*', 'opportun*', 'band', 'nintendo*', 'blender*', 'bargain*', 'monopol*', 'baptiz*', 'pagan*', 'corpse*', 'haha*']\n",
      "\n",
      "['all', 'if', 'sooo*', \"he's\", \"I'd\", 'youll', 'she', \"it's\", 'arent', 'hed', 'suck', 'being', 'brought', 'ask', 'look', \"must'nt\", 'clearly', 'away', 'or', \"doesn't\", 'bunch', 'infinit*', 'cock', 'anyone*', 'group*', 'refus*', 'exwive*', 'exboyfriend*', 'child', 'ador*', 'definitely', 'giggl*', 'like', 'rage*', 'sweets', 'agreeab*', 'gentlest', 'pleasing', 'alarm*', 'fear', 'missing', 'steal*', 'discomfort*', 'assault*', 'maddening', 'damag*', 'add', 'contemplat*', 'hopes', 'noticing', 'something*', 'analy*', 'known', 'boss*', 'hopefulness', 'appear', 'commit', 'blocked', 'into', 'unless', 'blond*', 'ringing', 'click*', 'hears', 'feels', 'amput*', 'drows*', 'leg', 'shit*', 'arses', 'nasal', 'antacid*', 'miscar*', 'chlamydia', 'booz*', 'again', 'date*', 'headed', 'order', 'step', 'arriving', 'below', 'nears', 'ago', 'morning*', 'apprentic*', 'gov', 'read', 'approv*', 'organiz*', 'bands', 'novel', 'broom*', 'beggar*', 'mortg*', 'belief*', 'paradise', 'cremat*', 'heh*']\n",
      "\n",
      "['allot', \"I'll\", 'still', 'him', \"I'll\", \"you'll\", \"she'd\", 'itself', \"aren't\", \"he'd\", 'sucked', 'can', 'called', 'asks', 'looks', \"mustn't\", 'completely', 'before', 'otherwise', 'dont', 'cetera', 'million*', 'cocks*', 'apolog*', 'grownup*', 'relationship*', 'families*', 'exgf*', 'children*', 'advantag*', 'degrad*', 'giver*', 'likeab*', 'raging', 'talent*', 'agreed', 'gently', 'pleasur*', 'alone', 'feared', 'mistak*', 'stench*', 'distract*', 'asshole*', 'madder', 'defeat*', 'addit*', 'contingen*', 'hoping', 'obedien*', 'sometime', 'answer*', 'knows', 'caus*', 'hopes', 'appeared', 'commitment*', 'blocker*', 'open', 'versus', 'blue*', 'rings', 'color*', 'hush*', 'felt', 'anal', 'drs', 'legs*', 'shoe*', 'arter*', 'neck', 'antidepressant', 'mono', 'cock', 'bread', 'age', 'day*', 'heading', 'origin', 'stepp*', 'attend', 'bend', 'north*', 'ahead', 'never', 'assign*', 'govern*', 'recruit*', 'attain*', 'originat*', 'bar', 'novels', 'carpet*', 'begging', 'nickel*', 'bible*', 'passover', 'crypt*', 'hm*']\n",
      "\n",
      "['along', 'Im', 'stuff', 'himself', 'Im', 'your', \"she'll\", 'nobod*', 'arrive', 'held', 'sucks', 'cannot', 'came', 'become', 'love', 'mustve', 'constantly', 'behind', 'plus', \"don't\", 'couple', 'nine*', 'crap', 'argu*', 'grudge*', 'relatives', 'family', 'exgirl*', \"child's\", 'adventur*', 'delectabl*', 'giving', 'liked', 'rancid*', 'tantrum*', 'agreeing', 'giggl*', 'popular*', 'anger*', 'fearful*', 'mock', 'stink*', 'distraught', 'attack*', 'maddest', 'depress*', 'adjust*', 'contradic*', 'how', 'obey*', 'sometimes', 'appreciat*', 'learn*', 'change', 'hoping', 'appearing', 'commits', 'blocking', 'out', 'vs', 'boom*', 'rotten', 'colour*', 'inaudibl*', 'finger*', 'ankle*', 'drug*', 'lesbian*', 'shoulder*', 'asleep', 'nerve*', 'appendic*', 'mri', 'cocks*', 'breakfast*', 'aged', 'decade*', 'height*', 'out', 'steps', 'attended', 'bending', 'nowhere', 'already', 'new', 'assistan*', 'gpa', 'register*', 'attempt*', 'outcome*', 'bars', 'opera*', 'chore*', 'bet', 'overpaid', 'biblic*', 'pastor*', 'dead', 'huh']\n",
      "\n",
      "['alot', \"I'm\", 'such', 'his', \"I'm\", 'youre', 'shes', 'other', 'arrived', \"he'll\", 'suffered', 'cant', 'cared', 'becomes', 'loves', \"must've\", 'definitely', 'below', 'so', 'hadnt', 'difference*', 'once', 'crappy', 'armies', 'guest*', 'replie*', 'father*', 'fellow*', 'citizen', 'advers*', 'delicate*', 'glad', 'likes', 'rape*', 'tears', 'agreement*', 'giver*', 'positiv*', 'angr*', 'fearing', 'mocked', 'strain*', 'distress*', 'bastard*', 'maniac*', 'depriv*', 'admit', 'control*', 'hows', 'obscur*', 'somewhat', 'assum*', 'lesson*', 'changed', 'ideal*', 'appears', 'committ*', 'blocks', 'plus', 'whether', 'bright*', 'rough*', 'column*', 'listen', 'fire', 'anorexi*', 'drunk*', 'leuke*', 'sick', 'ass', 'neural*', 'arthr*', 'myopi*', 'condom', 'brunch*', 'ages', 'decay*', 'high', 'outer*', 'still', 'attending', 'bends', 'off', 'always', 'newer', 'associat*', 'grad', 'registra*', 'authorit*', 'overcome', 'baseball*', 'orchestra', 'clean*', 'bets', 'overtime', 'bishop*', 'penance', 'death*', 'lol']\n",
      "\n",
      "['also', 'immediately', 'ten', 'i', 'ive', \"you're\", \"she's\", 'others', 'arrives', 'helped', 'support', \"can't\", 'carried', 'begin', 'make', 'ought', 'especially', 'beneath', 'then', \"hadn't\", 'doubl*', 'one', 'cunt*', 'army', 'guy*', 'reply*', 'folks', 'fiance*', \"citizen'*\", 'affection*', 'delicious*', 'gladly', 'liking', 'raping', 'teas*', 'agrees', 'giving', 'prais*', 'anguish*', 'fears', 'mocker*', 'strange', 'disturb*', 'battl*', 'mock', 'despair*', 'admits', 'correct*', \"how's\", 'obstac*', 'somewhere', 'attent*', 'link*', 'changes', 'if', 'approximat*', 'complete', 'bound*', 'we', 'without', 'brown*', 'round*', 'cream', 'listened', 'flexib*', 'antacid*', 'dx', 'libid*', 'sickday*', 'asses', 'neuron*', 'aspirin*', 'nause*', 'condoms', 'bulimi*', 'aging', 'december', 'highe*', 'outside', 'stop', 'attends', 'beneath', 'on', 'ancient*', 'newest', 'auditorium*', 'grade*', 'report*', 'award*', 'overconfiden*', 'basketball*', 'parks', 'closet', 'betting', 'owe', 'bless*', 'pentecost*', 'decease*', 'mm*']\n",
      "\n",
      "['although', 'in', 'tenth', 'Id', \"I've\", 'yours', 'somebod*', 'ask', 'helps', 'supported', 'could', 'caught', 'begins', 'makes', 'oughta', 'even', 'beside', 'tho', 'hasnt', 'each', 'quarter*', 'damn*', 'ask', 'he', 'request*', 'grandchil*', 'friend*', 'citizens', 'afraid', 'deligh*', 'glamor*', 'livel*', 'rapist*', 'tehe', 'alright*', 'glad', 'precious*', 'annoy*', 'feroc*', 'mocking', 'stress*', 'doubt*', 'beaten', 'mocked', 'devastat*', 'admitted', 'correlat*', 'hypothes*', 'obvious*', 'sort', 'aware*', 'logic*', 'changing', 'impossib*', 'arbitrar*', 'completed', 'brake*', 'with', 'brush*', 'rub', 'eye*', 'listener*', 'fragil*', 'antidepressand', 'yke*', 'life', 'sicker', 'bald', 'nipple*', 'asthma*', 'nearsighted', 'cuddl*', 'cafeteria*', 'ago', 'deep*', 'hik*', 'outsides', 'stopped', 'behavio*', 'bent', 'onto', 'annual*', 'newly', 'award*', 'grading', 'requir*', 'beat', 'overtak*', 'bath*', 'partie*', 'closets', 'bill', 'owed', 'buddh*', 'pew', 'demise', 'ok']\n",
      "\n",
      "['am', 'infinit*', 'than', \"I'd\", 'lets', 'youve', 'someone*', 'asked', 'heres', 'supports', 'couldnt', 'changed', 'believe', 'mean', 'oughtnt', 'eventually', 'besides', 'though', \"hasn't\", 'either', 'second', 'dang', 'asked', 'hear', 'respond*', 'granddad*', 'gf*', 'female*', 'aggravat*', 'depress*', 'glamour*', 'LMAO', 'readiness', 'temper', 'amaz*', 'gladly', 'prettie*', 'antagoni*', 'feud*', 'mocks', 'struggl*', 'dread*', 'bitch*', 'mocker*', 'disadvantage', 'admitting', 'cos', 'hypothetic*', 'occasional*', 'sorta', 'became', 'mean', 'compel*', 'inadequa*', 'assum*', 'completely', 'bridle*', 'butter*', 'rubbed', 'eying', 'listening', 'freez*', 'anus*', 'ear', 'lip', 'sickest', 'bellies', 'nose*', 'bandage*', 'neurolog*', 'dick', 'candie*', 'ahead', 'delay*', 'histor*', 'outward*', 'stopper*', 'brief*', 'beside', 'open', 'anymore', 'next', 'beaten', 'graduat*', 'research*', 'beaten', 'perfect*', 'beach*', 'party*', 'condo', 'billed', 'owes', 'catholic*', 'pews', 'die', 'okay']\n",
      "\n",
      "['among*', 'inside', 'that', \"I'll\", \"let's\", \"you've\", 'something*', 'asks', \"here's\", 'suppose', \"couldn't\", 'couldve', 'believes', 'means', \"ought'nt\", 'ever', 'between', 'til', 'havent', 'else', 'seven*', 'darn', 'asking', 'heard', 'role*', 'granddau*', 'girlfriend*', 'gentlem*', 'aggress*', 'depriv*', 'gloom*', 'LOL', 'ready', 'tempers', 'amor*', 'glamor*', 'pretty', 'anxi*', 'fiery', 'molest*', 'stubborn*', 'dwell*', 'bitter*', 'mocking', 'disappoint*', 'affect', 'could', 'idea', 'often', 'sortof', 'become', 'meaning*', 'compliance', 'lack*', 'barely', 'completes', 'careful*', 'candle*', 'rubbing', 'gaz*', 'listens', 'froze*', 'appendic*', 'ears', 'lips*', 'sickleave*', 'belly', 'nostril*', 'bandaid', 'numb*', 'dicks', 'candy', 'air', 'deliver*', 'horizontal*', 'over', 'stopper*', 'bring', 'beyond', 'opened', 'anytime', 'night', 'benefits', 'gre', 'resource', 'best', 'perform*', 'beer*', 'pitcher*', 'condominium*', 'billing*', 'owing', 'chapel*', 'piety', 'died', 'okey*']\n",
      "\n",
      "['an', 'insides', 'thatd', 'Im', 'me', 'somewhere', 'ate', 'hes', 'supposed', 'couldve', \"could've\", 'bring', 'miss', \"oughtn't\", 'frequently', 'beyond', 'till', \"haven't\", 'enough', 'six*', 'dick', 'asks', 'hearing', 'roomate*', 'grandf*', 'guest*', 'girl', 'agitat*', 'despair*', 'glori*', 'lone*', 'reassur*', 'tender*', 'amus*', 'glamour*', 'pride', 'apath*', 'fight*', 'mooch*', 'stunk', 'embarrass*', 'blam*', 'mocks', 'discourag*', 'affected', 'couldnt', 'ideal*', 'open', 'sorts', 'becomes', 'means', 'complie*', 'liabilit*', 'bet', 'confidence', 'caut*', 'caramel*', 'rubs', 'glanc*', 'loud*', 'fuzz*', 'appendix', 'eat', 'liquor*', 'sickly', 'bicep*', 'nude*', 'binge*', 'nurse*', 'dyke*', 'chew*', 'already', 'dense', 'hour*', 'overflow*', 'stopping', 'bringing', 'big', 'opening*', 'april', 'nightly', 'biolog*', 'hardwork*', 'resources', 'better', 'persever*', 'bicyc*', 'play', 'condos', 'bills', 'paid', 'chaplain*', 'pilgrim*', 'dies', 'rofl']\n",
      "\n",
      "['and', 'instead', \"that'd\", \"I'm\", 'mine', 'stuff', 'be', \"he's\", 'supposes', \"could've\", 'cried', 'brings', 'misses', 'oughtve', 'generally', 'by', 'unless', 'isnt', 'entire*', 'ten', 'dicks', 'assembl*', 'hears', 'roomed', 'grandkid*', 'honey', \"girl's\", 'agoniz*', 'desperat*', 'glory', 'longing*', 'rebel*', 'tense*', 'aok', 'glori*', 'privileg*', 'appall*', 'fired', 'moodi*', 'stunned', 'emotional', 'bother*', 'molest*', 'dishearten*', 'affecting', \"couldn't\", 'ideas', 'opinion', 'sortsa', 'becoming', 'meant', 'comply*', 'mistak*', 'bets', 'confident', 'cease*', 'caress*', 'saccharine', 'glow*', 'musi*', 'grab*', 'appeti*', 'eaten', 'liver*', 'sickness*', 'bladder*', 'nudi*', 'binging', 'nutrition*', 'erectile', 'chow*', 'always', 'densit*', 'huge*', 'overlap*', 'stops', 'brings', 'bigger', 'out', 'august', 'nights', 'biz', 'headhunter*', 'resourcing', 'bonus*', 'persist*', 'bike*', 'played', 'couch*', 'bonus*', 'pay*', 'christ', 'pious', 'DOA', 'uhhu*']\n",
      "\n",
      "['another', 'into', 'thatll', 'it', 'my', 'that', 'became', 'hit', 'take', 'did', 'depended', 'can', 'need', \"ought've\", 'here', 'despite', 'until', \"isn't\", 'equal*', 'tenth', 'dumb*', 'aunt*', 'hed', 'roomie*', 'grandm*', 'lover*', 'girls*', 'agony', 'despis*', 'goddam*', 'lose', 'reek*', 'tensing', 'appreciat*', 'glory', 'prize*', 'apprehens*', 'flunk*', 'moody', 'stuns', 'fear', 'brutal*', 'moron*', 'disillusion*', 'affects', 'couldve', 'identif*', 'oppos*', 'source*', 'belief*', 'memor*', 'conclud*', 'must', 'betting', 'confidently', 'ceasing', 'chocolate*', 'said', 'gray*', 'noise', 'grip', 'arch', 'eating', 'living', 'sinus*', 'blood', 'orgasm*', 'bipolar', 'obes*', 'erection*', 'cigar*', 'among*', 'depart', 'hurrie*', 'pass', 'straight', 'brought', 'biggest', 'outer*', 'autumn', 'noon*', 'blackboard*', 'highschool*', 'responsib*', 'burnout*', 'plan', 'birdie*', 'playful*', 'curtain*', 'borrow*', 'pence', 'christian*', 'pope*', 'drown*', 'uhuh']\n",
      "\n",
      "['any', 'is', \"that'll\", 'itd', 'myself', 'thatd', 'become', 'hope', 'taken', 'didnt', 'described', 'cannot', 'needs', 'shall', 'heres', 'down', 'when', 'mustnt', 'etc', 'third', 'dyke*', 'babe*', \"he'd\", 'rooming', 'grandpa*', 'mate', 'grownup*', 'agree', 'destroy*', 'good', 'loser*', 'regret*', 'tension*', 'assur*', 'good', 'profit*', 'argh*', 'foe*', 'moron*', 'stupid*', 'feared', 'cheat*', 'murder*', 'dissatisf*', 'afterthought*', \"could've\", 'if', 'option', 'spose', 'believe', 'misunder*', 'consequen*', 'mustnt', 'blur*', 'correct*', 'compulsiv*', 'choir*', 'saliv*', 'green*', 'noises', 'gripp*', 'arm', 'eats', 'love', 'skelet*', 'bloody', 'ovar*', 'bleed*', 'OCD', 'erotic*', 'cocktail*', 'ancient*', 'departed', 'hurry*', 'passed', 'street*', 'came', 'both', 'outside', 'awhile', 'november', 'bldg*', 'hire*', 'resume', 'capab*', 'planned', 'blackjack', 'playing', 'den', 'bought', 'pennies', 'christmas*', 'prais*', 'dying', 'yah']\n",
      "\n",
      "['anybod*', 'isnt', 'thats', \"it'd\", 'oneself', \"that'd\", 'becomes', 'hoped', 'takes', \"didn't\", 'did', 'cant', 'owe', \"she'll\", \"here's\", 'during', 'whenever', \"must'nt\", 'every', 'thirt*', 'fuck', 'babies', \"he'll\", 'roommate*', 'grandson*', 'mates', 'guy*', 'agreeab*', 'destruct*', 'goodness', 'loses', 'reject*', 'terribl*', 'attachment*', 'goodness', 'promis*', 'argu*', 'fool*', 'mourn*', 'stutter*', 'fearful*', 'confront*', 'nag*', 'doom*', 'aggravat*', 'coz', 'ignit*', 'or', 'standard', 'believed', 'motiv*', 'control*', \"must'nt\", 'borderline*', 'defined', 'confin*', 'circle', 'salt*', 'grey*', 'noisy', 'grips', 'armpit*', 'egg*', 'loved', 'skin', 'bodi*', 'palm', 'blind*', 'optometr*', 'foreplay', 'coffee*', 'annual*', 'departing', 'immediate', 'passes', 'stretch*', 'car', 'bottom*', 'outsides', 'back', 'now', 'book*', 'hiring', 'retire*', 'celebrat*', 'planner*', 'blockbuster*', 'plays', 'dishwasher*', 'broker*', 'penny', 'church*', 'pray*', 'embalm*', 'yay']\n",
      "\n",
      "['anymore', \"isn't\", \"that's\", 'itll', 'our', 'thatll', 'becoming', 'hopes', 'taking', 'do', 'didnt', \"can't\", 'owes', 'should', 'hopefully', 'except', 'whereas', \"mustn't\", 'example*', 'thousand*', 'fucked*', 'baby*', 'hello*', 'rumor*', 'granny', \"mate's\", 'human*', 'agreed', 'determina*', 'gorgeous*', 'losing', 'relax*', 'terrific*', 'attract*', 'gorgeous*', 'proud*', 'arrogan*', 'forbid*', 'murder*', 'submissive*', 'fearing', 'contempt*', 'nast*', 'dull*', 'all', 'create*', 'ignor*', 'organiz*', 'statement*', 'believes', 'notice*', 'cos', \"mustn't\", 'chance', 'definite', 'conflict*', 'citrus*', 'sampl*', 'image*', 'quiet*', 'hair*', 'arms*', 'elbow*', 'lover*', 'skinni*', 'body*', 'palms', 'bronchi*', 'orthodon*', 'fuck', 'coke*', 'anymore', 'departs', 'immediately', 'passing', 'subsequen*', 'carried', 'breadth', 'outward*', 'before', 'occasional*', 'boss*', 'homework*', 'retiring', 'challeng*', 'planning', 'blog*', 'playstation*', 'doghouse*', 'buck', 'peso', 'clergy', 'preach*', 'epidemic*', 'yea']\n",
      "\n",
      "['anyone*', 'it', 'the', \"it'll\", 'ours', \"that'll\", 'been', 'hows', 'talked', 'does', \"didn't\", 'care', 'see', 'shouldnt', 'how', 'for', 'whether', 'neednt', 'extent', 'three', 'fucker*', 'bambino*', 'help', 'rumour*', 'hubby', 'neighbor*', 'individual*', 'agreeing', 'determined', 'gossip*', 'loss*', 'relief', 'terrified', 'award*', 'grace', 'radian*', 'asham*', 'fought', 'nag*', 'suck', 'fears', 'contradic*', 'obnoxious*', 'empt*', 'allot', 'creati*', 'imagin*', 'origin', 'stiff*', 'believing', 'noticing', 'coz', 'mustve', 'confus*', 'definitely', 'conserv*', 'click*', 'sand', 'lit', 'rang', 'hand', 'arous*', 'emphysem*', 'loves', 'skinny*', 'bone', 'pee', 'bulimi*', 'orthoped*', 'fucked*', 'cook*', 'anytime', 'departure*', 'immediateness', 'past', 'sudden*', 'carrier*', 'brink', 'over', 'began', 'oclock*', 'broker*', 'inc', 'review*', 'champ*', 'plans', 'book*', 'poetry', 'domestic*', 'bucks', 'pesos', 'confess*', 'presbyterian*', 'execution*', 'yeah']\n",
      "\n",
      "['anything', 'itd', 'thee', 'its', 'ourselves', 'thats', 'began', \"how's\", 'taught', 'doesnt', 'died', 'cares', 'seem', \"should'nt\", 'however', 'from', 'while', \"need'nt\", 'extra', 'trillion*', 'fuckin*', 'band', 'helper*', 'said', 'husband*', 'neighbour*', 'infant', 'agreement*', 'devastat*', 'grace', 'lost', 'reliev*', 'terrifies', 'awesome', 'graced', 'readiness', 'assault*', 'frantic*', 'nast*', 'sucked', 'frantic*', 'crap', 'offence*', 'fail*', 'allow*', 'curb*', 'implica*', 'originat*', 'stimul*', 'categor*', 'perceiv*', 'create*', \"must've\", 'contingen*', 'definitive*', 'constrain*', 'cold*', 'sands', 'look', 'ring', 'handful*', 'arse', 'enema*', 'lozenge*', 'skull', 'bones', 'pelvi*', 'burp*', 'overweight', 'fucker*', 'dessert*', 'anywhere', 'depth*', 'immortal*', 'period*', 'summer*', 'carries', 'broad*', 'overflow*', 'begin', \"o'clock*\", 'bureau*', 'income*', 'rhetor*', 'climb*', 'potential*', 'café*', 'poker', 'door*', 'budget*', 'poor*', 'convent', 'priest*', 'exterminat*', 'yep*']\n",
      "\n",
      "['anyway*', \"it'd\", 'their*', \"it's\", 'she', \"that's\", 'begin', 'Id', 'tend', \"doesn't\", 'disliked', 'carries', 'seems', \"shouldn't\", 'immediately', 'in', \"needn't\", 'extremely', 'twel*', 'fucks', 'bands', 'helpful*', 'say*', 'kin', 'pal', \"infant's\", 'agrees', 'devil*', 'graced', 'lous*', 'reluctan*', 'terrify', 'beaut*', 'graceful*', 'ready', 'asshole*', 'freak*', 'needy', 'sucker*', 'fright*', 'crappy', 'offend*', 'fatigu*', 'almost', 'curio*', 'implicit*', 'origins', 'stop', 'choice*', 'percept*', 'creati*', 'need', 'depend', 'directly', 'constrict*', 'cologne*', 'sandy', 'looked', 'ringing', 'hands', 'arses', 'erectile', 'lump', 'sleep*', 'bony', 'penis*', 'cancer*', 'pain', 'fuckin*', 'diet*', 'apart', 'diagonal*', 'in', 'perpetual*', 'sunday*', 'carry', 'capacit*', 'overlap*', 'beginn*', 'october', 'burnout*', 'incorp*', 'salar*', 'closure', 'power*', 'camping', 'pool*', 'dorm*', 'business*', 'portfolio*', 'convents', 'prophe*', 'fatal*', 'yes']\n",
      "\n",
      "['anywhere', 'item*', 'them', 'itself', \"she'd\", 'these', 'begins', \"I'd\", 'tended', 'doing', 'done', 'carry', 'sees', 'shouldve', 'instead', 'inside', 'negat*', 'fairly', 'twent*', 'goddam*', 'bf*', 'helping', 'secret', 'ma', 'pals', 'infants*', 'alarm*', 'devot*', 'graceful*', 'love', 'remorse*', 'terrifying', 'beloved', 'graces', 'reassur*', 'attack*', 'fright*', 'neglect*', 'sucks', 'guilt*', 'critical', 'offens*', 'flunk*', 'along', 'curtail*', 'implie*', 'ought', 'stopped', 'choos*', 'ponder*', 'cuz', 'needed', 'depended', 'distinct*', 'contain*', 'color*', 'sang', 'looker*', 'rings', 'hard', 'arter*', 'erection*', 'lunch*', 'slender*', 'boob*', 'perspir*', 'cardia*', 'pained', 'fucks', 'digest*', 'appear', 'disappear*', 'inch*', 'place*', 'surfac*', 'carrying', 'ceiling*', 'place*', 'begins', 'old', 'business*', 'industr*', 'scholar', 'compet*', 'practice', 'cards', 'pretend*', 'drape*', 'buy*', 'poverty*', 'crucifi*', 'protestant*', 'funer*', 'yup']\n",
      "\n",
      "['apparently', 'itll', 'themselves', 'ive', \"she'll\", 'thing*', 'being', \"I'll\", 'tends', 'done', 'drank', 'come', 'shes', \"should've\", 'just', 'insides', 'neither', 'few*', 'twice', 'heck', 'blam*', 'helps', 'secretive*', 'marrie*', 'partner*', 'kid', 'alone', 'difficult*', 'graces', 'loved', 'repress*', 'terror*', 'benefic*', 'graci*', 'relax*', 'aversi*', 'frustrat*', 'nerd*', 'sucky', 'hesita*', 'critici*', 'outrag*', 'gloom*', 'alot', 'cuz', 'imply*', 'oughta', 'stopper*', 'clarif*', 'prefer*', 'deduc*', 'needing', 'depending', 'entire*', 'contradic*', 'colour*', 'savor*', 'looking', 'said', 'harde*', 'arthr*', 'erotic*', 'lung*', 'slept', 'bowel*', 'piss*', 'cardio*', 'painf*', 'gay', 'dine', 'appeared', 'distan*', 'inciden*', 'placing*', 'surround*', 'catch', 'center*', 'placing*', 'begun', 'olden', 'busy', 'instruct*', 'scholaring', 'conclud*', 'prais*', 'casino*', 'pub', 'dresser*', 'cash*', 'price*', 'crusade*', 'psalm*', 'genocid*']\n",
      "\n",
      "['are', \"it'll\", 'then', \"I've\", 'shes', 'this', 'believe', 'Im', 'thank', 'dont', 'driven', 'comes', \"she's\", 'thatll', 'lately', 'into', 'never', 'form', 'two', 'hell', 'boy', 'her', 'secrets', \"ma's\", 'roomate*', \"kid'*\", 'alright*', 'digni*', 'graci*', 'lovely', 'resent*', 'thank', 'benefit', 'grand', 'relief', 'avoid*', 'fuck', 'nervous*', 'suffer', 'horr*', 'crude*', 'paranoi*', 'grave*', 'altogether', 'decid*', 'impossib*', 'oughtnt', 'stopping', 'closure', 'presum*', 'depend', 'neednt', 'depends', 'essential', 'control*', 'column*', 'savour*', 'looks', 'sang', 'heavie*', 'asleep', 'espresso*', 'lust*', 'slut*', 'brain*', 'poop*', 'checkup*', 'paining', 'gays', 'dined', 'appearing', 'down', 'increas*', 'platform*', 'swam', 'caught', 'centre*', 'platform*', 'biannu*', 'older', 'cafeteria*', 'interview*', 'scholarly', 'conclus*', 'presiden*', 'casual', 'pubs', 'driveway*', 'casino*', 'prici*', 'demon*', 'purgator*', 'ghost*']\n",
      "\n",
      "['arent', 'its', 'there', 'lets', \"she's\", 'those', 'believed', \"i'm\", 'thanked', \"don't\", 'drove', 'depends', 'start', \"that'll\", 'maybe', 'near', 'no', 'full*', 'zero', 'homo', 'boyf*', 'hers', 'self', 'mom', 'roomie*', 'kids*', 'amaz*', 'disadvantage', 'grand', 'lover*', 'resign*', 'thanked', 'benefits', 'grande*', 'reliev*', 'awful', 'fucked*', 'neurotic*', 'suffered', 'humiliat*', 'cruel*', 'pettie*', 'grief', 'always', 'decis*', 'inact*', \"ought'nt\", 'stops', 'cohere*', 'prove*', 'depended', \"need'nt\", 'disorient*', 'ever', 'curb*', 'concert*', 'saw', 'orange*', 'say*', 'heavy*', 'aspirin*', 'estrogen*', 'lymph*', 'smok*', 'breast*', 'prick*', 'chills', 'painl*', 'genital*', 'diner', 'appears', 'downward*', 'infinit*', 'point', 'swim*', 'change', 'city', 'point', 'bimonth*', 'oldest', 'calculus', 'inventory', 'scholars', 'confidence', 'pride', 'cd*', 'radio*', 'duplex*', 'cent', 'profit*', 'devil*', 'puritan*', 'grave*']\n",
      "\n",
      "[\"aren't\", \"it's\", 'theres', \"let's\", 'thee', 'what', 'believes', 'is', 'thanks', 'had', 'eaten', 'describe', 'starts', 'theyll', 'mostly', 'of', 'nobod*', 'greater', 'zillion*', 'jeez', \"boy's\", 'herself', 'send*', 'momma*', 'roommate*', 'ladies', 'amor*', 'disagree*', 'grande*', 'loves', 'resolv*', 'thankf*', 'benefitt*', 'gratef*', 'resolv*', 'awkward*', 'fucker*', 'numb*', 'sufferer*', 'impatien*', 'cunt*', 'petty*', 'griev*', 'ambigu*', 'deduc*', 'inadequa*', \"oughtn't\", 'stories', 'complex*', 'proving', 'depending', \"needn't\", 'doubt*', 'every', 'curtail*', 'cool*', 'say*', 'picture', 'scream*', 'hot', 'ass', 'exercis*', 'makeout*', 'snack*', 'breath*', 'prostat*', 'chiropract*', 'pains', 'gonorrhea', 'diners', 'approach*', 'drift*', 'initial*', 'position*', 'synch*', 'changed', 'close', 'position*', 'birth*', 'once', 'campus*', 'jd', 'scholarship*', 'confident', 'prize*', 'celebrat*', 'rap', 'families*', 'cents', 'purchas*', 'divin*', 'quran*', 'grief']\n",
      "\n",
      "['around', 'itself', \"there's\", 'me', 'their*', 'whatever', 'bought', 'isnt', 'thatd', 'hadnt', 'emailed', 'describes', 'suck', \"they'll\", 'nearly', 'off', 'none', 'greatest', 'mofo', 'boys*', 'hes', 'sent', 'mommy*', 'soulmate*', 'lady', 'amus*', 'disappoint*', 'gratef*', 'loving*', 'respect', 'thanks', 'benevolen*', 'grati*', 'respect', 'bad', 'fuckin*', 'obnoxious*', 'suffering', 'inadequa*', 'cut', 'piss*', 'grim*', 'anal', 'defenc*', 'inclu*', 'oughtve', 'story', 'complica*', 'quer*', 'depends', 'needs', 'dubious*', 'everybod*', 'defenc*', 'cream', 'scan', 'pink*', 'shout*', 'hott*', 'asses', 'exhaust*', 'mammogram', 'soda*', 'butt', 'pulse', 'chlamydia', 'pap', 'hiv', 'dines', 'april', 'drive', 'initiat*', 'post', 'system*', 'changes', 'closed', 'remote*', 'biweek*', 'origin', 'career*', 'job*', 'scholastic*', 'confidently', 'produc*', 'celebrit*', 'read', 'family', 'charit*', 'rebate*', 'doom*', \"qur'an*\", 'griev*']\n",
      "\n",
      "['as', 'ive', 'these', 'mine', 'them', 'whats', 'bring', \"isn't\", \"that'd\", \"hadn't\", 'ended', 'dies', 'sucks', \"we'll\", 'now', 'on', 'nope', 'highly', 'motherf*', 'bro', \"he's\", 'share', 'moms', 'sweetheart*', \"lady's\", 'anger*', 'disaster*', 'grati*', 'low*', 'restless*', 'thief', 'benign*', 'great', 'revigor*', 'bashful*', 'fucks', 'obsess*', 'suffers', 'indecis*', 'cynic*', 'poison*', 'heartbreak*', 'analy*', 'defens*', 'incomplet*', \"ought've\", 'stubborn*', 'compreh*', 'question*', 'effect*', 'normal', 'dunno', 'everything*', 'defens*', 'deaf*', 'scann*', 'purpl*', 'silen*', 'leather*', 'asthma*', 'eye*', 'manicdep*', 'sore*', 'butts', 'pussies', 'chok*', 'paraly*', 'ho', 'dining', 'area*', 'driven', 'inner*', 'preced*', 'tall', 'changing', 'closer', 'right', 'born', 'past', 'ceo*', 'junior*', 'school*', 'conquer*', 'proficien*', 'channel*', 'reading', 'fireplace*', 'cheap*', 'recession*', 'episcopal*', 'rabbi', 'hearse*']\n",
      "\n",
      "['at', \"I've\", 'they', 'my', 'themselves', \"what's\", 'brings', 'itd', 'thatll', 'has', 'entered', 'dislike', 'support', 'wholl', 'often', 'onto', 'nor', 'increas*', 'nigger*', 'bros', 'hey', 'shared', \"mom's\", 'sweetie*', \"ma'am\", 'angr*', 'discomfort*', 'grave*', 'loyal*', 'revenge*', 'thieve*', 'best', 'grin', 'reward*', 'bastard*', 'fume*', 'offence*', 'suspicio*', 'inhib*', 'damn*', 'prejudic*', 'heartbroke*', 'and', 'define', 'indecis*', 'out', 'subdue*', 'concentrat*', 'rational*', 'elicit*', 'ought', 'fairly', 'evident*', 'delay*', 'delectabl*', 'scans', 'rectang*', 'song*', 'limp*', 'ate', 'face', 'meal*', 'spat', 'cheek*', 'pussy*', 'cholester*', 'patholog*', 'homo', 'dinner*', 'around', 'drives', 'inside', 'present', 'taller', 'climb*', 'closest', 'road*', 'busy', 'period*', 'certif*', 'keyboard*', 'scien*', 'conscientious', 'progress', 'chat*', 'recording*', 'fridge*', 'check', 'refund*', 'evangel*', 'rabbinical', 'holocaust*']\n",
      "\n",
      "['atho', 'just', 'theyd', 'myself', 'they', 'which', 'brought', \"it'd\", \"that'll\", 'hasnt', 'explained', 'dislikes', 'supports', \"who'll\", 'only', 'out', 'not', 'item*', 'piss*', 'brother*', 'hi', 'shares', 'mother', 'male', 'anguish*', 'discourag*', 'great', 'luck', 'revigor*', 'thoughtful*', 'better', 'grinn*', 'rich*', 'battl*', 'fuming', 'offend*', 'tantrum*', 'insecur*', 'danger*', 'prick*', 'helpless*', 'answer*', 'defined', 'indeed', 'outcome*', 'suppose', 'conclud*', 'realiz*', 'experiment', 'oughta', 'fuzz*', 'exact*', 'denia*', 'delicious*', 'scent*', 'red', 'sound*', 'loose*', 'bake*', 'faces', 'medic*', 'spinal', 'chest*', 'rash*', 'chronic*', 'pediatr*', 'homos', 'dish', 'arrival*', 'driving', 'insides', 'presently', 'tallest', 'closely', 'connection*', 'room', 'bye', 'perpetual*', 'chairm*', 'kinderg*', 'secretar*', 'control*', 'promot*', 'checkers', 'recreation*', 'furniture', 'checking', 'reimburs*', 'faith*', 'rabbis', 'homocid*']\n",
      "\n",
      "['atop', 'lack*', \"they'd\", 'nobod*', 'theyd', 'whichever', 'called', 'itll', 'thats', \"hasn't\", 'fed', 'do', 'suppose', 'will', 'perhaps', 'outside', 'nothing', 'lack*', 'prick*', 'bud', 'him', 'sharing', 'mothers', 'males', 'annoy*', 'disgust*', 'greed*', 'lucked', 'reward*', 'threat*', 'bless*', 'grins', 'ROFL', 'beaten', 'furious*', 'offens*', 'tears', 'irrational*', 'defenc*', 'protest', 'homesick*', 'any', 'defines', 'indefinit*', 'outstanding', 'supposed', 'conclus*', 'rearrang*', 'force*', 'oughtnt', 'generally', 'explicit*', 'denie*', 'deoder*', 'scratch*', 'redde*', 'speak', 'press', 'baking', 'facial*', 'migrain*', 'spine', 'clothes', 'retina*', 'clinic*', 'pharmac*', 'homosexual*', 'dishes', 'arrive', 'drop', 'instan*', 'prior', 'tempora*', 'closes', 'corner', 'roomate*', 'cease*', 'preced*', 'chalk', 'labor*', 'sector*', 'create*', 'proud*', 'chess', 'reggae', 'futon*', 'checks', 'rent*', 'fundamentalism', 'ramadan', 'immortal*']\n",
      "\n",
      "['away', 'lately', 'theyll', 'oneself', \"they'd\", 'who', 'came', \"it'll\", \"that's\", 'have', 'felt', 'does', 'supposes', 'wont', 'primarily', 'over', 'nowhere', 'least', 'pussy*', 'buddies*', 'himself', 'she', 'mum', \"male's\", 'antagoni*', 'dishearten*', 'grief', 'lucki*', 'rich*', 'thrill*', 'bold*', 'ha', 'romanc*', 'bitch*', 'fury', 'outrag*', 'teas*', 'irrita*', 'defens*', 'protested', 'hopeless*', 'anybod*', 'defining', 'independ*', 'overall', 'supposes', 'confess*', 'reason*', 'foundation*', \"ought'nt\", 'guess', 'extremely', 'deny*', 'drie*', 'scream*', 'reddish*', 'speaker*', 'pressed', 'bald', 'faint*', 'milk*', 'spit', 'cock', 'rib', 'codeine', 'phobi*', 'hornie*', 'drank', 'arrived', 'drove', 'interior*', 'proceed*', 'term', 'closing', 'corners', 'roomed', 'ceasing', 'present', 'challeng*', 'labour*', 'semester*', 'creati*', 'purpose*', 'chillin*', 'relax*', 'garage*', 'chequ*', 'retail*', 'gentile*', 'religio*', 'kill*']\n",
      "\n",
      "['back', 'least', \"they'll\", 'other', 'theyll', 'whod', 'can', \"it's\", 'theres', 'havent', 'fled', 'doesnt', 'take', \"won't\", 'probably', 'plus', 'oughtnt', 'less', 'queer*', 'buddy*', 'his', \"she'd\", 'mummy*', 'mam', 'anxi*', 'disillusion*', 'griev*', 'luckless*', 'ridicul*', 'ticked', 'bonus*', 'haha*', 'romantic*', 'bitter*', 'geek*', 'overwhelm*', 'temper', 'miser*', 'despis*', 'protesting', 'hurt*', 'anyhow', 'definite', 'indetermin*', 'partly', 'supposing', 'conscious*', 'recall*', 'founded', \"oughtn't\", 'guessed', 'fact', 'disciplin*', 'drily', 'screen', 'redness', 'speaking', 'presser*', 'bandage*', 'farsighted', 'miscar*', 'spits', 'cocks*', 'ribs', 'colono*', 'physical*', 'horny', 'drink*', 'arrives', 'due', 'internal*', 'pull*', 'terminat*', 'come', 'countr*', 'roomie*', 'centur*', 'presently', 'champ*', 'laidoff', 'senior*', 'crown*', 'queen', 'choir*', 'restau*', 'garden*', 'coin', 'revenue*', \"god'*\", 'rite', 'lethal*']\n",
      "\n",
      "['basically', 'less', 'theyre', 'others', \"they'll\", \"who'd\", 'cannot', 'ive', \"there's\", \"haven't\", 'flew', \"doesn't\", 'takes', 'would', 'push*', 'since', \"ought'nt\", 'loads', 'screw*', 'bye', 'honey', \"she'll\", 'mums', 'man', 'aok', 'dislike', 'grim*', 'lucks', 'rigid*', 'timid*', 'brave*', 'handsom*', 'safe*', 'blam*', 'gloom*', 'pain', 'tempers', 'nervous*', 'destroy*', 'punish*', 'inadequa*', 'anyone*', 'definitely', 'indirect*', 'perceiv*', 'supposition*', 'consider', 'reckon*', 'founder*', 'oughtve', 'guesses', 'facts', 'discourag*', 'drool*', 'scrumptious*', 'reds', 'speaks', 'presses', 'bandaid', 'fat', 'mono', 'spitting', 'colon', 'saliv*', 'coma*', 'physician*', 'hug', 'drunk*', 'arriving', 'during', 'internation*', 'push*', 'territor*', 'comes', 'coverage', 'rooming', 'childhood', 'prior', 'class', 'laptop*', 'servic*', 'defeat*', 'queenly', 'chorus', 'resting', 'gate*', 'coins', 'rich*', 'gospel*', 'rites', 'lynch*']\n",
      "\n",
      "['be', 'let', \"they're\", 'our', 'theyve', 'wholl', 'cant', \"I've\", 'theyd', 'having', 'followed', 'dont', 'taking', 'wouldnt', 'quick*', 'than', \"oughtn't\", 'lot', 'shit*', 'call', 'hubby', 'shes', \"mum's\", \"man's\", 'apath*', 'disliked', 'grin', 'lucky', 'risk*', 'toleran*', 'bright*', 'happi*', 'satisf*', 'bore*', 'goddam*', 'pained', 'tense*', 'neurotic*', 'destruct*', 'rage*', 'inferior*', 'anything', 'definitive*', 'induc*', 'percept*', 'suppress*', 'considered', 'recogni*', 'generate*', \"ought've\", 'guessing', 'factual*', 'disregard*', 'dry*', 'see', 'round*', 'speech*', 'rough*', 'bar', 'fatigu*', 'mouth*', 'starve*', 'colons', 'scalp', 'congest*', 'pill', 'hugg*', 'eat', 'at', 'earli*', 'intersect*', 'put', 'then', 'coming', 'deep*', 'roommate*', 'christmas*', 'proceed*', 'classes', 'lawyer*', 'session*', 'determina*', 'quit', 'cinema*', 'rock', 'home', 'compensat*', 'ruble*', 'heaven*', 'ritual*', 'manslaughter*']\n",
      "\n",
      "['became', 'lets', 'theyve', 'ours', \"they've\", \"who'll\", \"can't\", 'keep', \"they'd\", 'hed', 'forgot*', \"don't\", 'tend', \"wouldn't\", 'rarely', 'through*', 'shant', 'lotof', 'sob', 'called', 'human*', \"she's\", 'nephew*', 'members', 'appall*', 'dislikes', 'grinn*', 'ludicrous*', 'ROFL', 'tortur*', 'brillian*', 'happy', 'save', 'boring', 'gossip*', 'painf*', 'tensing', 'obsess*', 'disgust*', 'raging', 'isolat*', 'anytime', 'delay*', 'inevitab*', 'perfect*', 'sure*', 'considering', 'recollect*', 'generating', 'outstanding', 'halfass*', 'forever', 'duti*', 'ear', 'seeing', 'saw', 'spoke*', 'round*', 'bars', 'fats', 'mri', 'starving', 'cornea*', 'sensation', 'constipat*', 'pills', 'hugs', 'eaten', 'atop', 'early', 'interval*', 'puts', 'thick*', 'cross*', 'dense', 'rooms', 'clock*', 'quick*', 'classmate*', 'layoff*', 'sickday*', 'determined', 'quitt*', 'club*', 'rocks', 'homes', 'consumer*', 'rupee*', 'hell', 'rosaries', 'massacre*']\n",
      "\n",
      "['because', \"let's\", \"they've\", 'ourselves', 'thine', 'whom', 'care', 'keeps', 'theyll', \"he'd\", 'fought', 'explain', 'tends', 'wouldve', 'rather', 'thru', \"shan't\", 'lots', 'sonofa*', 'caller*', 'husband*', 'sir', 'niece*', 'men', 'appreciat*', 'disliking', 'grins', 'lying', 'romanc*', 'tough*', 'calm*', 'harmless*', 'scrumptious*', 'bother*', 'grave*', 'paining', 'tension*', 'overwhelm*', 'distrust*', 'rape*', 'lame*', 'anywhere', 'denia*', 'infallib*', 'perhaps', 'suspect*', 'considers', 'reconcil*', 'generator*', 'prefer*', 'hardly', 'frankly', 'duty', 'ears', 'seen', 'scan', 'thunder*', 'rub', 'beer*', 'fatt*', 'mucous*', 'std*', 'crap', 'sensations', 'contag*', 'pimple*', 'hump*', 'eating', 'attend', 'east*', 'into', 'putting', 'thin', 'cruis*', 'densit*', 'section', 'common', 'recency', 'classroom*', 'lead*', 'sickleave*', 'diligen*', 'rank', 'coach*', 'roller*', 'homesick*', 'corporat*', 'salar*', 'hellish', 'rosary', 'mausoleum']\n",
      "\n",
      "['become', 'loads', 'thine', 'she', 'thou', 'whose', 'cared', 'kept', \"they'll\", 'heres', 'found', 'explains', 'thank', \"would've\", 'really', 'til', 'shouldnt', 'lotsa', 'suck', 'calling', 'individual*', 'sis', 'pa', \"men'*\", 'apprehens*', 'dismay*', 'gross*', 'mad', 'romantic*', 'traged*', 'care', 'harmon*', 'secur*', 'broke', 'greed*', 'pains', 'terribl*', 'panic*', 'domina*', 'raping', 'lone*', 'apparent', 'denie*', 'infer', 'permit*', 'suspicio*', 'contemplat*', 'reconsider*', 'hence', 'problem*', 'hazie*', 'fundamental', 'enclos*', 'edge', 'seer', 'scann*', 'voic*', 'rubbed', 'bellies', 'fed', 'muscle*', 'stiff*', 'crotch', 'shirt*', 'coronar*', 'pms', 'incest*', 'eats', 'attended', 'edge', 'january', 'quick*', 'thinly', 'danc*', 'depth*', 'segment', 'constant', 'recent*', 'collab*', 'learn*', 'sophom*', 'domina*', 'ranked', 'cocktail*', 'rowing', 'homework*', 'cost*', 'sale', 'hells', 'roshashan*', 'morgue*']\n",
      "\n",
      "['becomes', 'lot', 'thing*', \"she'd\", 'thoust', 'cares', 'knew', 'theyre', \"here's\", 'fucked*', 'feel', 'thanks', 'youll', 'seriously', 'till', \"should'nt\", 'lotta', 'sucked', 'calls', 'infant', 'sister*', 'pappy', 'mr', 'argh*', 'dissatisf*', 'grouch*', 'maddening', 'rotten', 'tragic*', 'cared', 'heartfelt', 'sentimental*', 'brutal*', 'grief', 'panic*', 'terrified', 'petrif*', 'dumb*', 'rapist*', 'longing*', 'apparently', 'deny*', 'inferr*', 'pick', 'taboo*', 'correlat*', 'reconstruct*', 'how', 'rather', 'hazy', 'fundamentalis', 'fenc*', 'edges', 'sees', 'scans', 'whisper*', 'rubbing', 'belly', 'feed', 'muscular', 'stomach*', 'dick', 'shit*', 'cough*', 'podiatr*', 'jissom', 'egg*', 'attending', 'edges', 'jog*', 'ran', 'thinn*', 'deliver*', 'diagonal*', 'separat*', 'constantly', 'recur*', 'colleague*', 'lectur*', 'sororit*', 'domote*', 'ranking', 'coffee*', 'rugby*', 'house*', 'coupon*', 'sales', 'hindu*', 'sabbath*', 'mortal*']\n",
      "\n",
      "['becoming', 'lotof', 'third', \"she'll\", 'thy', 'carried', 'know', \"they're\", 'hes', 'gave', 'feels', 'thats', \"you'll\", 'simply', 'to', \"shouldn't\", 'main', 'sucks', 'captain', \"infant's\", 'social*', 'parent*', 'mrs', 'argu*', 'distract*', 'grr*', 'madder', 'rude*', 'tranquil*', 'carefree', 'heartwarm*', 'share', 'burden*', 'griev*', 'paranoi*', 'terrifies', 'phobi*', 'dump*', 'rebel*', 'lose', 'appear', 'depend', 'infers', 'plus', 'tempora*', 'curio*', 'reevaluat*', 'hows', 'regardless', 'hesita*', 'fundamentally', 'forbid*', 'edging', 'sharp*', 'screen', 'yell', 'rubs', 'bi', 'feeder*', 'myopi*', 'strept*', 'dicks', 'shoe*', 'cramp*', 'poison*', 'jizz', 'espresso*', 'attends', 'edging', 'journey*', 'receiv*', 'threw', 'depart', 'distan*', 'shape*', 'continu*', 'repeat*', 'colleg*', 'legal*', 'staff*', 'driven', 'ranks', 'comed*', 'rum', 'housing', 'credit*', 'saving*', 'holie*', 'sacred', 'mortician']\n",
      "\n",
      "['been', 'lots', 'thirt*', 'shes', 'us', 'carries', 'knows', 'theyve', \"he's\", 'given', 'follow', \"that's\", 'so', 'toward*', 'uhuh', 'major', 'tit', 'celebrat*', 'infants*', 'societ*', \"pa's\", 'newborn*', 'arrogan*', 'distraught', 'guilt*', 'maddest', 'ruin*', 'trauma*', 'careful*', 'heaven*', 'shared', 'careless*', 'grim*', 'pathetic*', 'terrify', 'pressur*', 'enemie*', 'resent*', 'loser*', 'appeared', 'depended', 'influenc*', 'ponder*', 'tentativ*', 'decid*', 'refer*', \"how's\", 'regret*', 'hope', 'fundamentals', 'forgot*', 'experienc*', 'shine', 'see', 'yelled', 'sand', 'bicep*', 'feeding*', 'naked', 'stroke*', 'drool*', 'shoulder*', 'cyst*', 'pregnan*', 'kiss*', 'fat', 'august', 'empt*', 'july', 'recency', 'throw*', 'departed', 'down', 'shaping*', 'current*', 'repetit*', 'com', 'librar*', 'stapl*', 'dropout*', 'recover*', 'comic*', 'runner*', 'kitchen*', 'currenc*', 'scholarship*', 'holy', 'sacrific*', 'mourn*']\n",
      "\n",
      "['before', 'lotsa', 'this', \"she's\", 'we', 'carry', 'let', \"they've\", 'Id', 'gone', 'follows', 'theres', 'somehow', 'under', 'wasnt', 'majority', 'tits', 'cell', 'inform', 'somebod*', 'relatives', 'participant*', 'asham*', 'distress*', 'ha', 'madly', 'sad', 'treasur*', 'cares', 'heh*', 'shares', 'cheat*', 'gross*', 'peculiar*', 'terrifying', 'reluctan*', 'enemy*', 'revenge*', 'loses', 'appearing', 'depending', 'info', 'positiv*', 'theor*', 'decis*', 'reflect*', 'ignit*', 'should', 'hoped', 'guarant*', 'guard*', 'eye*', 'shini*', 'seeing', 'yelling', 'sands', 'binge*', 'feeds', 'nasal', 'stud', 'ear', 'skelet*', 'deaf*', 'prescri*', 'lesbian*', 'fats', 'autumn', 'enclos*', 'jump*', 'recent*', 'thursday*', 'departing', 'downward*', 'short*', 'cycle*', 'respectively', 'commerc*', 'lsat', 'stipend*', 'earn*', 'requir*', 'concert*', 'running', 'landlord*', 'customer*', 'sell', 'hymn*', 'saint*', 'murder*']\n",
      "\n",
      "['behind', 'lotta', 'tho', 'somebod*', \"we'd\", 'caught', 'lets', 'think', \"I'd\", 'got', 'fuck', \"there's\", 'soon', 'underneath', \"wasn't\", 'many', 'titties', 'cellphon*', 'informs', 'someone*', 'sis', 'partner*', 'assault*', 'distrust*', 'haha*', 'magnific*', 'sadde*', 'treat', 'caring', 'helper*', 'sharing', 'complain*', 'grouch*', 'perver*', 'terror*', 'repress*', 'enrag*', 'ridicul*', 'losing', 'appears', 'depends', 'inform', 'possib*', 'therefor*', 'deduc*', 'relate*', 'implica*', 'shouldnt', 'hopeful', 'implicit*', 'halt*', 'eying', 'shiny', 'seen', 'yells', 'sandy', 'binging', 'feet', 'nause*', 'stuffed', 'ears', 'skin', 'decongest*', 'prognos*', 'libid*', 'fatt*', 'away', 'encompass*', 'june', 'recur*', 'til', 'departs', 'east*', 'shut', 'dail*', 'return*', 'commute*', 'ltd', 'stock', 'effect*', 'resolv*', 'cook*', 'salsa', 'lawn*', 'debit*', 'seller*', 'immoral*', 'salvation', 'obit*']\n",
      "\n",
      "['being', 'main', 'those', 'someone*', \"we'll\", 'changed', \"let's\", 'thinks', \"I'll\", 'gotten', 'fucks', 'theyre', 'sooo*', 'unless', \"weren't\", 'more', 'titty', 'cells', 'insult*', 'son', 'sister*', 'people*', 'asshole*', 'disturb*', 'handsom*', 'maniac*', 'sadly', 'trembl*', 'casual', 'helpful*', 'silli*', 'confront*', 'grr*', 'pessimis*', 'thief', 'restless*', 'envie*', 'rude*', 'loss*', 'appreciat*', 'desir*', 'information', 'practically', 'think', 'define', 'relating', 'implie*', \"should'nt\", 'hopefully', 'indeed', 'hangup*', 'feel', 'shout*', 'seer', 'scratch*', 'bipolar', 'fever*', 'nearsighted', 'sugar*', 'elbow*', 'skinni*', 'dentist*', 'prozac', 'love', 'fed', 'awhile', 'end', 'kilometer*', 'remote*', 'till', 'departure*', 'edge', 'side', 'date*', 'rhythm*', 'commuting', 'mailroom*', 'stocked', 'efficien*', 'resourceful*', 'cruis*', 'sang', 'lease*', 'debt*', 'selling', 'immortal*', 'satan*', 'od']\n",
      "\n",
      "['below', 'many', 'thou', 'something*', \"we're\", 'come', 'lied', 'thought', 'Im', 'guessed', 'get', \"they're\", 'still', 'until', 'without', 'most', 'wanker*', 'cellular*', 'interact*', 'sons', 'son', 'person', 'assur*', 'divin*', 'happi*', 'masochis*', 'sadness', 'trick*', 'casually', 'helping', 'silly', 'confus*', 'guilt*', 'petrif*', 'thieve*', 'rigid*', 'envious', 'sarcas*', 'lost', 'approximat*', 'determina*', 'informative*', 'precis*', 'thinker*', 'defines', 'relation', 'imply*', \"shouldn't\", 'hopefulness', 'inevitab*', 'harness*', 'feeling*', 'sight*', 'sees', 'sharp*', 'bladder*', 'finger*', 'neck', 'sunburn*', 'erectile', 'skull', 'derma*', 'puk*', 'loved', 'feed', 'back', 'ended', 'km*', 'remov*', 'time*', 'disappear*', 'edges', 'sides', 'day*', 'saturday*', 'companies', 'majoring', 'stocker', 'effort*', 'responsib*', 'danc*', 'scrabble', 'leasing*', 'deposit*', 'sells', 'islam*', 'scriptur*', 'oded']\n",
      "\n",
      "['beneath', 'may', 'though', 'somewhere', 'weve', 'comes', 'liked', 'threw', \"I'm\", 'had', 'gets', 'theyve', 'such', 'unto', 'wont', 'much', 'chat*', 'interrup*', \"son's\", 'sons', 'persons', 'attachment*', 'domina*', 'happy', 'melanchol*', 'safe*', 'trite', 'certain*', 'helps', 'sincer*', 'contempt*', 'harass*', 'pettie*', 'threat*', 'risk*', 'envy*', 'savage*', 'low*', 'arbitrar*', 'determine', 'informed', 'prefer*', 'thinking*', 'defining', 'rememb*', 'inact*', 'shoulds', 'hopes', 'infallib*', 'held', 'feels', 'silen*', 'shine', 'silk*', 'bleed*', 'flesh*', 'nerve*', 'supper*', 'erection*', 'sleep*', 'detox*', 'puss', 'lover*', 'feeder*', 'backward*', 'ending', 'land', 'repeat*', 'timing', 'drift*', 'edging', 'siding', 'decade*', 'schedul*', 'company', 'majors', 'stocks', 'elit*', 'reward*', 'decorat*', 'scrapbook*', 'loft', 'dime*', 'shilling*', 'jesuit*', 'sect', 'overdosed']\n",
      "\n",
      "['beside', 'maybe', 'thousand*', 'stuff', \"we've\", 'could', 'listen', 'told', 'is', 'hadnt', 'give', \"they've\", 'there', 'up', \"won't\", 'mucho', 'chick', 'interview*', 'soulmate*', \"son's\", \"person's\", 'attack*', 'doom*', 'harass*', 'merit*', 'sarcas*', 'triumph*', 'challeng*', 'hero*', 'smart*', 'contradic*', 'harm', 'petty*', 'ticked', 'scare*', 'evil*', 'sceptic*', 'melanchol*', 'around', 'determined', 'informing', 'presum*', 'thinks', 'determina*', 'reorgani*', 'independ*', 'shouldve', 'hoping', 'invariab*', 'hesita*', 'felt', 'silk*', 'shini*', 'skin', 'blind*', 'flu', 'neural*', 'surgeon*', 'eye*', 'slender*', 'diabet*', 'queas*', 'loves', 'feeding*', 'before', 'ends', 'large*', 'repetit*', 'tinier', 'drive', 'empt*', 'site', 'decay*', 'season*', 'comput*', 'manag*', 'student*', 'enabl*', 'skill', 'diaries', 'sculpt*', 'lofts', 'dinar*', 'shop', 'jesus', 'sectarian', 'pallbearer*']\n",
      "\n",
      "['besides', 'me', 'thoust', 'that', 'ya', 'couldnt', 'listened', 'took', 'isnt', \"hadn't\", 'gives', 'think', 'theres', 'upon', 'wouldnt', 'neither', \"chick'*\", 'involv*', 'speak', 'spous*', 'self', 'attract*', 'dork*', 'harm', 'merr*', 'satisf*', 'trivi*', 'champ*', 'hilarious', 'smil*', 'crap', 'harmed', 'phobi*', 'timid*', 'scaring', 'feroc*', 'screw*', 'miser*', 'assum*', 'determines', 'informs', 'pretty', 'thought', 'determine', 'resolu*', 'induc*', \"should've\", 'hypothes*', 'irrefu*', 'hold*', 'fetid*', 'skin', 'shiny', \"skin'*\", 'blood', 'food*', 'neurolog*', 'surger*', 'face', 'slept', 'diagnos*', 'rehab*', 'lust*', 'feeds', 'began', 'enorm*', 'last*', 'replace*', 'tiniest', 'driven', 'enclos*', 'sky*', 'december', 'seconds', 'conferenc*', 'manufact*', 'studied', 'endeav*', 'skilled', 'diary', 'shop', 'loveseat*', 'dinero', 'shopaholic*', 'jew', 'sects', 'plague*']\n",
      "\n",
      "['best', 'might', 'three', 'thatd', 'yall', \"couldn't\", 'listens', 'tried', \"isn't\", 'happened', 'go', 'thinks', \"there's\", 'wanna', \"wouldn't\", 'none', 'chicks', 'kid', 'speaking', 'stepchild*', 'sir', 'aversi*', 'doubt*', 'harmed', 'mess', 'savage*', 'troubl*', 'charit*', 'hoho*', 'sociab*', 'crappy', 'harmful*', 'piss*', 'tortur*', 'scary', 'feud*', 'shit*', 'miss', 'assur*', 'determining', 'inhib*', 'prevent*', 'thoughts', 'determined', 'resolv*', 'infer', 'undesire*', 'hypothetic*', 'must', 'ignor*', 'finger*', \"skin'*\", 'sight*', 'smooth*', 'bloody', 'foot', 'neuron*', 'swallow*', 'faces', 'spat', 'diarr*', 'ritalin', 'makeout*', 'food*', 'begin', 'enter', 'late', 'replacing', 'tiny', 'drives', 'encompass*', 'small*', 'delay*', 'senior*', 'conglom*', 'market*', 'studies', 'excel*', 'skills', 'dj*', 'shopaholic*', 'maid*', 'discount*', 'shopp*', 'jewish*', 'seminar*', 'reaper*']\n",
      "\n",
      "['between', 'mightve', 'through*', \"that'd\", \"y'all\", 'couldve', 'lived', 'tries', 'itd', 'hated', 'goes', 'tries', 'tho', 'with', 'ones', 'child', \"kid'*\", 'speaks', 'stepfat*', 'societ*', 'avoid*', 'dread*', 'harmful*', 'messy', 'save', 'true', 'charm*', 'honest*', 'soulmate*', 'craz*', 'harming', 'piti*', 'tough*', 'shake*', 'fiery', 'sinister', 'missed', 'attent*', 'difference*', 'inquir*', 'probable', 'thus', 'determines', 'restructur*', 'inferr*', 'undo', 'if', 'mustnt', 'inhib*', 'fire', 'smell*', 'squar*', 'soft*', 'bodi*', 'forearm*', 'nipple*', 'sweat*', 'facial*', 'spinal', 'digest*', 'rx', 'naked', 'fries', 'beginn*', 'entered', 'lately', 'respectively', 'today*', 'driving', 'enorm*', 'somewhere', 'due', 'september*', 'consult*', 'masters', 'studious', 'fail*', 'solution*', 'drama', 'shopp*', 'mailbox', 'dividend*', 'shops', 'jews', \"shi'*\", 'slaughter*']\n",
      "\n",
      "['beyond', \"might've\", 'thru', 'thatll', 'ye', \"could've\", 'look', 'try', \"it'd\", 'heard', 'guess', 'try', 'though', 'within', 'own', 'children*', 'kidding', 'spoke*', 'stepkid*', 'woman', 'award*', 'dull*', 'harming', 'miser*', 'scare*', 'trueness', 'cheer*', 'honor*', 'special', 'cried', 'harms', 'pity*', 'traged*', 'shaki*', 'fight*', 'skeptic*', 'misses', 'attribut*', 'differentiat*', 'inside', 'probablistic*', 'tidi*', 'determining', 'rethink*', 'infers', 'unneccess*', 'incomplet*', \"must'nt\", 'interfer*', 'fizz*', 'smooth*', 'stare*', 'squeez*', 'body*', 'forehead*', 'nose*', 'swelling', 'fat', 'spine', 'disease*', 'scab*', 'nipple*', 'fruit*', 'begins', 'entering', 'later', 'return*', 'together', 'drove', 'entrance*', 'south*', 'during', 'sequen*', 'consumer*', 'math*', 'study*', 'finaliz*', 'solve', 'dream*', 'shops', 'mattress*', 'dollar*', 'sold', 'jihad*', 'shiite*', 'suicid']\n",
      "\n",
      "['billion*', 'million*', 'thy', \"that'll\", 'you', 'cried', 'looked', 'turn', 'itll', 'held', 'guesses', 'turn', 'too', 'without', 'page', \"child's\", 'kids*', 'spous*', 'stepmot*', \"woman's\", 'awesome', 'dumb*', 'harmless*', 'miss', 'scaring', 'truer', 'cherish*', 'honour*', 'splend*', 'cries', 'hate', 'poison*', 'tragic*', 'shaky', 'foe*', 'smother*', 'missing', 'avert*', 'directly', 'insight*', 'probably', 'tidy', 'differentiat*', 'reveal*', 'influenc*', 'unneed*', 'indecis*', \"mustn't\", 'keep', 'flavor*', 'sniff*', 'staring', 'stroke*', 'boil*', 'foreplay', 'nostril*', 'swollen', 'fatt*', 'spit', 'dizz*', 'schizophren*', 'nude*', 'fry*', 'begun', 'enters', 'latest', 'rhythm*', 'tomorrow*', 'enter', 'environment*', 'space', 'earli*', 'simultaneous', 'contracts', 'mcat', 'succeed*', 'first', 'solved', 'drink*', 'show', 'microwave*', 'donat*', 'spend', 'juda*', 'shrine*', 'tomb*']\n",
      "\n",
      "['both', 'mine', 'til', 'thats', 'youd', 'depended', 'looks', 'turned', \"it'll\", 'helped', 'happen', 'turns', 'totally', 'part', 'citizen', 'kin', 'stepchild*', 'uncle', 'women*', 'awful', 'dump*', 'harmon*', 'missed', 'scary', 'truest', 'chuckl*', 'hope', 'strength*', 'critical', 'hated', 'prejudic*', 'trauma*', 'shame*', 'fought', 'snob*', 'mourn*', 'avoid*', 'discern*', 'inspir*', 'problem*', 'tight*', 'discern*', 'revelat*', 'intend*', 'unwant*', 'indefinit*', 'mustve', 'keeping*', 'flavour*', 'snort*', 'sunli*', 'stroki*', 'bone', 'fries', 'nude*', 'symptom*', 'feet', 'spits', 'doctor*', 'scrape*', 'orgasm*', 'glutton*', 'behavio*', 'entrance*', 'lead*', 'ridden', 'tonight*', 'entered', 'everywhere', 'spaced', 'early', 'slow*', 'corp', 'mda', 'success*', 'firsts', 'solves', 'drum', 'shows', 'mop', 'econ*', 'spender', 'karma', 'sikh*', 'urn*']\n",
      "\n",
      "['bunch', 'more', 'till', \"that's\", \"you'd\", 'depends', 'lost', 'turns', \"it's\", 'hoped', 'happens', 'understand', 'truly', 'partly', \"citizen'*\", 'ladies', 'stepfat*', 'uncles', 'awkward*', 'dwell*', 'harms', 'misses', 'sceptic*', 'truly', 'clever*', 'hoped', 'strong*', 'critici*', 'hateful*', 'pressur*', 'trembl*', 'shook', 'frustrat*', 'spite*', 'neglect*', 'aware*', 'disciplin*', 'intend*', 'produc*', 'total', 'disclo*', 'secret', 'intent*', 'wanna', 'indetermin*', \"must've\", 'keeps', 'flexib*', 'soft*', 'sunshin*', 'thick*', 'boner*', 'fruit*', 'nudi*', 'syndrome*', 'finger*', 'spitting', 'dosage', 'seizure*', 'orgies', 'gobble*', 'below', 'environment*', 'leave', 'ride', 'took', 'entering', 'exit*', 'spaces', 'end', 'sometime', 'corporat*', 'meeting*', 'supervis*', 'founded', 'solving', 'drumm*', 'sing', 'mortg*', 'embezzl*', 'spending', 'kippur', 'sin', 'war']\n",
      "\n",
      "['but', 'most', 'to', 'thee', 'youll', 'describe', 'love', 'understand', 'ive', 'kept', 'has', 'understands', 'usually', 'percent', 'citizens', 'lady', 'stepkid*', \"uncle's\", 'bad', 'dynam*', 'hate', 'missing', 'scream*', 'trust*', 'comed*', 'hopeful', 'succeed*', 'crude*', 'hater*', 'prick*', 'trick*', 'shy*', 'fuck', 'stubborn*', 'overwhelm*', 'ban', 'disclo*', 'intent*', 'prohib*', 'totally', 'discover*', 'secrets', 'justif*', 'want', 'indirect*', 'necessar*', 'kept', 'fragil*', 'song*', 'triang*', 'thin', 'bones', 'fry*', 'numb*', 'syphili*', 'flesh*', 'stomach*', 'dose*', 'sick', 'orgy', 'gobbling', 'bend', 'era', 'leaves', 'rides', 'top', 'enters', 'exterior*', 'spaci*', 'ended', 'sometimes', 'corps', 'memo', 'syllabus*', 'founder*', 'strateg*', 'drums', 'singing', 'neighbor*', 'euro', 'spends', 'koran', 'sinn*']\n",
      "\n",
      "['by', 'mostly', 'ton', 'their*', \"you'll\", 'described', 'loved', 'understands', \"I've\", 'knew', 'hasnt', 'use', 'very', 'piec*', 'colleague*', \"lady's\", 'stepmot*', 'wife*', 'bashful*', 'eager*', 'hated', 'mistak*', 'screw*', 'truth*', 'comfort*', 'hopefully', 'success*', 'cruel*', 'hates', 'problem*', 'trite', 'sicken*', 'fucked*', 'stupid*', 'pathetic*', 'banned', 'discourag*', 'interfer*', 'proof', 'trigger*', 'distinguish*', 'seem', 'launch*', 'wanted', 'kind', 'never', 'limit*', 'fragran*', 'sound*', 'view', 'thinn*', 'bony', 'fuck', 'nurse*', 'tast*', 'foot', 'sweat*', 'dosing', 'sickday*', 'ovar*', 'grocer*', 'bending', 'etern*', 'leaving', 'riding', 'toward*', 'explor*', 'far', 'span', 'ending', 'soon', 'counc*', 'memos', 'taught', 'founding', 'strength*', 'drunk*', 'sings', 'oven*', 'euros', 'spent', 'kosher', 'sins']\n",
      "\n",
      "['can', 'much', 'tons', 'them', 'your', 'did', 'loves', 'understood', 'let', 'lied', \"hasn't\", 'uses', 'well', 'plenty', 'comment*', 'language*', 'stories', 'wive*', 'bastard*', 'ease*', 'hateful*', 'mock', 'secur*', 'turmoil', 'commitment*', 'hopefulness', 'sunnier', 'crushed', 'hating', 'protest', 'trivi*', 'startl*', 'fucker*', 'suck', 'pessimis*', 'banning', 'discover*', 'interpret*', 'prove*', 'true', 'effect*', 'seemed', 'lead*', 'wanting', 'kinda', 'obvious*', 'neglect*', 'freez*', 'sour', 'viewer*', 'tight*', 'boob*', 'fucked*', 'nutrition*', 'tea', 'forearm*', 'teeth*', 'dr', 'sicker', 'passion*', 'gulp*', 'bends', 'eve', 'led', 'right', 'town', 'fall', 'farther', 'spann*', 'ends', 'soone*', 'couns*', 'menial', 'tax', 'fulfill*', 'striv*', 'dvd*', 'skat*', 'patio*', 'exchang*', 'stipend*', 'krishna*', 'soul']\n",
      "\n",
      "['cannot', 'mucho', 'too', 'themselves', 'youre', 'didnt', 'made', 'use', 'may', 'liked', 'hate', 'using', 'when', 'portion', 'commun*', 'lets', 'story', 'battl*', 'easie*', 'hater*', 'mocked', 'selfish*', 'ugh', 'compassion*', 'hopes', 'sunniest', 'cry', 'hatred', 'protested', 'troubl*', 'strain*', 'fuckin*', 'sucked', 'piti*', 'bans', 'disorient*', 'into', 'proving', 'truest', 'enlighten*', 'seeming*', 'led', 'wants', 'kindof', 'perfect*', 'obstac*', 'froze*', 'soure*', 'viewing*', 'touch*', 'booz*', 'fucker*', 'obes*', 'teeth*', 'forehead*', 'tendon', 'drows*', 'sickest', 'penis*', 'helpings', 'beneath', 'evening*', 'ledge*', 'rise*', 'transact*', 'fallen', 'farthest', 'stair*', 'era', 'sped', 'course*', 'mentor*', 'taxa*', 'gain*', 'strong*', 'easy*', 'ski', 'pet', 'expens*', 'stocks', 'krisna*', 'souls']\n",
      "\n",
      "['cant', 'must', 'total', 'these', \"you're\", \"didn't\", 'make', 'used', 'might', 'listened', 'hates', 'wait', 'whenever', 'remaining', 'companion', \"let's\", 'suggest*', 'beaten', 'easily', 'hates', 'mocker*', 'sentimental*', 'ugl*', 'compliment*', 'hoping', 'sunny', 'crying', 'heartbreak*', 'protesting', 'turmoil', 'stress*', 'fucks', 'sucker*', 'pity*', 'barely', 'disregard*', 'invariab*', 'provoc*', 'truly', 'evaluat*', 'seems', 'made', 'wish', 'likel*', 'positiv*', 'oppos*', 'fruit*', 'souri*', 'views', 'warm*', 'bowel*', 'fuckin*', 'OCD', 'tender*', 'genital*', 'tendons', 'drs', 'sickleave*', 'perver*', 'hunger*', 'bent', 'event', 'ledging', 'rising', 'transport*', 'falling', 'fit', 'straight', 'etern*', 'speed*', 'coworker*', 'merger*', 'taxed', 'goal*', 'succeed*', 'entertain*', 'skied', 'pets', 'fee', 'store', 'lord*', 'spirit*']\n",
      "\n",
      "[\"can't\", 'mustnt', 'totally', 'they', 'yours', 'died', 'makes', 'uses', 'mightve', 'lived', 'have', 'waits', 'where', 'rest', 'companions', 'letter', 'sweetheart*', 'beaut*', 'easiness', 'hating', 'mocking', 'serious', 'unattractive', 'confidence', 'hug', 'sunshin*', 'cunt*', 'heartbroke*', 'puk*', 'ugh', 'struggl*', 'fume*', 'sucks', 'regret*', 'barrier*', 'distinct*', 'irrational*', 'provok*', 'truth*', 'examin*', 'sense', 'make', 'wished', 'lot', 'precis*', 'prevent*', 'fuzz*', 'sours', 'vivid*', 'weight', 'brain*', 'fucks', 'optometr*', 'tendon', 'goosebump*', 'thigh*', 'drug*', 'sickly', 'porn*', 'hungr*', 'beside', 'eventually', 'left', 'road*', 'travel*', 'falls', 'floor*', 'street*', 'eve', 'spring', 'credential*', 'mfg', 'taxes', 'hero*', 'success*', 'exercis*', 'skier*', 'pillow*', 'fees', 'tax', 'lutheran*', 'sunni']\n",
      "\n",
      "['cetera', \"must'nt\", 'toward*', 'theyd', 'youve', 'dies', 'may', 'using', \"might've\", 'looked', 'havent', 'want', 'yet', 'same', 'companionship', 'listen', 'sweetie*', 'beloved', 'easing', 'hatred', 'mocks', 'seriously', 'uncertain*', 'confident', 'hugg*', 'super', 'cut', 'heartless*', 'punish*', 'ugl*', 'stunned', 'fuming', 'sucky', 'reject*', 'based', 'distinguish*', 'irrefu*', 'prude', 'typically', 'explain', 'sensed', 'maker*', 'wishes', 'lotof', 'proof', 'prohib*', 'gaz*', 'soury', 'watch*', 'weighted', 'bread', 'gay', 'orgasm*', 'tendoni*', 'gums', 'thirst*', 'dx', 'sickness*', 'pregnan*', 'ingest*', 'beyond', 'ever', 'level', 'rode', 'trip', 'fell', 'forward*', 'stretch*', 'evening*', 'start', 'credit*', 'mfr', 'taxing', 'honor*', 'super', 'families*', 'skiing', 'porch', 'financ*', 'taxa*', 'mecca', 'sunnis']\n",
      "\n",
      "['clearly', \"mustn't\", 'trillion*', \"they'd\", \"you've\", 'dislike', 'mean', 'viewed', 'must', 'lost', \"haven't\", 'wants', 'section', 'compassion*', 'listened', 'talk', 'benefic*', 'easy*', 'hazy', 'molest*', 'seriousness', 'uncomfortabl*', 'confidently', 'hugs', 'superior*', 'cynic*', 'hell', 'rage*', 'unattractive', 'stuns', 'furious*', 'tantrum*', 'remorse*', 'bases', 'doubt*', 'issue', 'prudes', 'unaccept*', 'explained', 'senses', 'makes', 'wishing', 'lots', 'prove*', 'protect*', 'glanc*', 'speak', 'white*', 'weighting', 'breakfast*', 'gays', 'orgies', 'tendons', 'gut', 'throat*', 'emphysem*', 'sinus*', 'prostat*', 'kitchen*', 'biannu*', 'everyday', 'levels', 'room', 'tripped', 'fill*', 'full*', 'surfac*', 'event', 'started', 'cubicle*', 'mgmt', 'teach*', 'honour*', 'superb*', 'family', 'skis', 'remodel*', 'fortune*', 'taxed', 'meditat*', 'temple']\n",
      "\n",
      "['completely', 'mustve', 'tripl*', 'theyll', 'disliked', 'means', 'wait', 'mustnt', 'loved', 'hear', \"we're\", 'segment', 'complain*', 'listener*', 'talkative*', 'benefit', 'ecsta*', 'heartbreak*', 'mooch*', 'severe*', 'uncontrol*', 'considerate', 'humor*', 'support', 'damag*', 'hellish', 'raging', 'uncertain*', 'suspicio*', 'fury', 'teas*', 'resign*', 'basis', 'dubious*', 'just', 'prudish*', 'unambigu*', 'explaining', 'sensing', 'making', 'would', 'lotsa', 'pure*', 'prude', 'glow*', 'speaker*', 'whitish*', 'weightless*', 'breast*', 'genital*', 'orgy', 'testosterone*', 'guts', 'tit', 'enema*', 'sore*', 'prostitu*', 'liquor*', 'big', 'everywhere', 'littl*', 'roomate*', 'tripping', 'fled', 'further*', 'surround*', 'eventually', 'starter*', 'curricul*', 'mgr', 'team*', 'ideal*', 'surviv*', 'fantasi*', 'soaps', 'renovat*', 'franc', 'taxes', 'mercif*', 'testament*']\n",
      "\n",
      "['constantly', \"must've\", 'truly', \"they'll\", 'dislikes', 'meant', 'waited', \"must'nt\", 'made', 'hears', 'whats', 'selection', 'comrad*', 'listening', 'talked', 'benefits', 'efficien*', 'heartbroke*', 'mood', 'shake*', 'uneas*', 'contented*', 'humour*', 'supported', 'damn*', 'helpless*', 'rancid*', 'uncomfortabl', 'tense*', 'goddam*', 'temper', 'ruin*', 'became', 'dunno', 'justif*', 'pure*', 'unaware*', 'explains', 'solution*', 'manipul*', 'wouldnt', 'lotta', 'sure*', 'prudes', 'grab*', 'speaking', 'yellow*', 'weightlift*', 'breath*', 'gland*', 'orthodon*', 'therap*', 'hair*', 'tits', 'estrogen*', 'std*', 'prude', 'lunch*', 'bigger', 'exit*', 'local*', 'roomed', 'trips', 'flee*', 'giant*', 'tall', 'ever', 'starting', 'customer*', 'midterm*', 'tenure*', 'importan*', 'team*', 'fantasy', 'soccer*', 'rent*', 'franchis*', 'taxing', 'mercy', 'theolog*']\n",
      "\n",
      "['could', 'my', 'twel*', 'theyve', 'do', 'met', 'waits', \"mustn't\", 'meant', 'helps', \"what's\", 'series', 'confess*', 'listens', 'talker*', 'benefitt*', 'egotis*', 'heartfelt', 'moodi*', 'shaki*', 'unfortunate*', 'contentment', 'hurra*', 'supporter*', 'danger*', 'hesita*', 'rape*', 'uncontrol*', 'tensing', 'greed*', 'tempers', 'sad', 'because', 'duti*', 'keep', 'purpose*', 'uncertain*', 'explanat*', 'solve', 'misle*', \"wouldn't\", 'luck', 'total', 'prudish*', 'gray*', 'speaks', 'weights', 'bronchi*', 'glaucoma', 'orthoped*', 'thermometer*', 'hamstring*', 'titties', 'exercis*', 'stiff*', 'prudes', 'meal*', 'biggest', 'explor*', 'long', 'roomie*', 'tuesday*', 'flew', 'gigantic', 'taller', 'everyday', 'starts', 'cv*', 'motiv*', 'test', 'improve*', 'top', 'film*', 'solitaire', 'residen*', 'francs', 'thrift*', 'methodis*', 'torah']\n",
      "\n",
      "['couldnt', 'myself', 'twent*', \"they've\", 'does', 'might', 'walked', 'mustve', 'met', 'heres', 'wheres', 'several', 'confide', 'love', 'talking', 'benevolen*', 'elegan*', 'heartless*', 'moods', 'shaky', 'unfriendly', 'convinc*', 'ideal*', 'supporting', 'daze*', 'homesick*', 'raping', 'uneas*', 'tension*', 'grouch*', 'terrify', 'sadde*', 'become', 'duty', 'keeping*', 'puzzl*', 'unclear*', 'explor*', 'solved', 'motiv*', 'wouldve', 'lucked', 'totally', 'refrain*', 'greas*', 'speech*', 'wet', 'brunch*', 'glutton*', 'ovar*', 'thigh*', 'hand', 'titty', 'exhaust*', 'strept*', 'prudish*', 'milk*', 'bimonth*', 'exterior*', 'longe*', 'rooming', 'under', 'flies', 'ginormous', 'tallest', 'fade*', 'startup*', 'deadline*', 'negotiat*', 'tested', 'improving', 'tried', 'fishing', 'song*', 'room', 'free', 'trade*', 'minister*', 'vatican*']\n",
      "\n",
      "[\"couldn't\", 'near', 'twice', 'thine', 'doesnt', 'mightve', 'want', \"must've\", 'missed', \"here's\", \"where's\", 'significant', 'confided', 'loved', 'talks', 'benign*', 'embarrass*', 'heartwarm*', 'moody', 'shame*', 'ungrateful*', 'cool', 'importan*', 'supportive*', 'decay*', 'hopeless*', 'rapist*', 'unfortunate*', 'terrified', 'grr*', 'threat*', 'sadly', 'becomes', 'each', 'keeps', 'quer*', 'undecided*', 'feel', 'solves', 'obedien*', \"would've\", 'lucki*', 'true', 'refus*', 'green*', 'spice', 'wetly', 'bulimi*', 'gobble*', 'overate', 'thirst*', 'hands', 'toe', 'faint*', 'stroke*', 'pubic', 'obes*', 'birth*', 'fade*', 'longitud*', 'roommate*', 'underneath', 'flow*', 'global*', 'territor*', 'fading*', 'still', 'dean*', 'ngo', 'testing', 'inadequa*', 'tries', 'fitness', 'spa', 'roomate*', 'freeb*', 'trading', 'ministr*', 'veil*']\n",
      "\n",
      "['couldve', 'nearly', 'two', 'thing*', \"doesn't\", \"might've\", 'wanted', 'ought', 'moved', 'hes', 'whos', 'simple', 'confides', 'lover*', 'team*', 'best', 'emotion', 'heaven*', 'moron*', 'share', 'unhapp*', 'courag*', 'impress*', 'supports', 'defeat*', 'horr*', 'rebel*', 'unfriendly', 'terrifies', 'harass*', 'ticked', 'sadness', 'becoming', 'effect*', 'kept', 'question*', 'undeniab*', 'feeling*', 'solving', 'obey*', 'yearn*', 'luckless*', 'truest', 'rein*', 'grey*', 'spiced', 'burp*', 'gobbling', 'overeat*', 'throat*', 'head', 'toenail*', 'farsighted', 'sunburn*', 'pussy*', 'overate', 'biweek*', 'fading*', 'low*', 'rooms', 'undersid*', 'fly', 'ground*', 'thick*', 'fast', 'stop', 'delegat*', 'nonprofit*', 'tests', 'incapab*', 'triumph*', 'flatscreen*', 'spas', 'roomed', 'fund', 'tuition', 'missionar*', 'worship*']\n",
      "\n",
      "[\"could've\", 'neednt', 'uhuh', 'this', 'doing', 'miss', 'wants', 'oughta', 'mustve', \"he's\", \"who's\", 'singl*', 'confiding', 'loves', 'teas*', 'better', 'emotion', 'heh*', 'mourn*', 'shared', 'unimportant', 'create*', 'improve*', 'suprem*', 'defect*', 'hostil*', 'reek*', 'ungrateful*', 'terrify', 'hate', 'tortur*', 'sob', 'belief*', 'either', 'kind', 'quite', 'understand', 'feels', 'statement*', 'origin', 'lucks', 'truly', 'reluctan*', 'grip', 'spices', 'butt', 'gonorrhea', 'overweight', 'throb*', 'heads', 'toes', 'fat', 'surgeon*', 'queer*', 'overeat*', 'born', 'fall', 'map', 'run', 'universe*', 'flying', 'hall', 'thin', 'faster', 'stopped', 'demote*', 'occupa*', 'textbook*', 'incentive*', 'try', 'football*', 'sport*', 'roomie*', 'funded', 'underpaid', 'mitzvah*', 'yiddish']\n",
      "\n",
      "['couple', \"need'nt\", 'under', 'those', 'done', 'missed', 'was', 'oughtnt', \"must've\", 'hope', 'wish', 'some', 'congregat*', 'loving*', 'telephon*', 'bitch*', 'emotional', 'hell', 'murder*', 'shares', 'unimpress*', 'creati*', 'improving', 'sure*', 'defenc*', 'humiliat*', 'regret*', 'unhapp*', 'terrifying', 'hated', 'trick*', 'sobbed', 'believe', 'elicit*', 'kinda', 'random*', 'understandab*', 'felt', 'suspect*', 'originat*', 'lucky', 'truth*', 'repress*', 'gripp*', 'spicy', 'butts', 'goosebump*', 'pain', 'thyroid*', 'heart', 'tongue*', 'fatigu*', 'surger*', 'rape*', 'overweight', 'both', 'fallen', 'mapped', 'runner*', 'until', 'follow', 'height*', 'thinly', 'fastest', 'stopper*', 'department*', 'office*', 'theses', 'incompeten*', 'trying', 'frisbee*', 'standup', 'rooming', 'funding', 'value', 'mohamm*', 'zen']\n",
      "\n",
      "['cuz', \"needn't\", 'underneath', 'thou', 'dont', 'misses', 'wasnt', \"ought'nt\", 'needed', 'hopes', 'wishes', 'somewhat', 'consult*', 'ma', 'tell', 'bitter*', 'empt*', 'hellish', 'nag*', 'sharing', 'unkind', 'credit*', 'incentive*', 'surpris*', 'defens*', 'hurt*', 'reject*', 'unimportant', 'terror*', 'hateful*', 'ugl*', 'sobbing', 'believed', 'enclos*', 'kindof', 'rather', 'understanding*', 'figur*', 'suspicio*', 'origins', 'mainly', 'unambigu*', 'requir*', 'grips', 'spoke*', \"butt's\", 'grocer*', 'pained', 'tingl*', 'hearts', 'tonsils', 'fats', 'swelling', 'raping', 'pasta*', 'bottom*', 'falling', 'mapping', 'running', 'up', 'followed', 'high', 'thinn*', 'february', 'stopping', 'dept', 'org', 'thesis', 'ineffect*', 'unable', 'game*', 'stereo', 'roommate*', 'funds', 'visa*', 'monast*', 'zion*']\n",
      "\n",
      "['definitely', 'negat*', 'unique', 'thoust', \"don't\", 'moved', \"wasn't\", \"oughtn't\", 'owed', 'hows', 'wonder', 'term', 'contact*', \"ma'am\", 'telling', 'blam*', 'encourag*', 'helper*', 'nast*', 'shit*', 'unlov*', 'cute*', 'innocen*', 'sweet', 'degrad*', 'idiot', 'reluctan*', 'unimpress*', 'timid*', 'hater*', 'vicious*', 'sobs', 'believes', 'enlighten*', 'knew', 'rational*', 'understands', 'find*', 'think', 'outcome*', 'marginal*', 'undeniab*', 'reserved', 'hair*', 'squar*', 'cafeteria*', 'gulp*', 'painf*', 'tire*', 'heel*', 'tooth*', 'fatt*', 'swollen', 'rapist*', 'pizza*', 'breadth', 'falls', 'maps', 'runs', 'updat*', 'following', 'highe*', 'tinier', 'final', 'stops', 'desk*', 'organiz*', 'toefl', 'initiat*', 'unbeat*', 'gaming', 'stereos', 'rooms', 'gambl*', 'wage', 'monk*']\n",
      "\n",
      "['despite', 'neither', 'unless', 'thy', 'drank', 'must', \"we'd\", 'oughtve', 'paid', \"how's\", 'youre', 'ton', 'contradic*', 'mail', 'tells', 'bless*', 'enemie*', 'helpful*', 'neat*', 'shock*', 'unpleasant', 'cutie*', 'inspir*', 'sweetheart*', 'depress*', 'ignor*', 'remorse*', 'unkind', 'trembl*', 'hates', 'victim*', 'solemn*', 'believing', 'entire*', 'know', 'react*', 'understood', 'forgave', 'thinker*', 'permit*', 'may', 'undoubt*', 'responsib*', 'hand', 'squeez*', 'cancer*', 'gums', 'paining', 'tiring', 'hip', 'tricep*', 'fever*', 'symptom*', 'screw*', 'restau*', 'break', 'far', 'march*', 'rush*', 'upon', 'follows', 'horizontal*', 'tiniest', 'finally', 'subsequen*', 'diplom*', 'outlin*', 'trade*', 'irresponsible*', 'unproduc*', 'garage*', 'stoned', 'rug', 'greed*', 'wager*']\n",
      "\n",
      "['did', 'never', 'until', 'us', 'driven', 'mustnt', \"we'll\", \"ought've\", 'played', 'Im', \"you're\", 'tons', 'convers*', 'mailed', 'thee', 'bold*', 'enemy*', 'helping', 'needy', 'shook', 'unprotected', 'daring', 'intell*', 'sweetie*', 'depriv*', 'immoral*', 'repress*', 'unlov*', 'turmoil', 'hating', 'vile', 'sorrow*', 'besides', 'essential', 'knowab*', 'real', 'undesire*', 'forgiv*', 'thinking*', 'pick', 'maybe', 'unquestion*', 'restrain*', 'handful*', 'stank', 'candie*', 'gut', 'painl*', 'tit', 'hips', 'urin*', 'flu', 'syndrome*', 'seduc*', 'salad*', 'brief*', 'farther', 'mass', 'saturday*', 'upper', 'forward*', 'huge*', 'tiny', 'finish*', 'sudden*', 'director*', 'outsourc*', 'trading', 'king*', 'unsuccessful', 'garden*', 'sunbath*', 'rugs', 'income*', 'wages']\n",
      "\n",
      "['didnt', 'nine*', 'unto', 'we', 'drove', \"must'nt\", 'went', 'shall', 'ran', \"i'm\", 'youve', 'total', 'counc*', 'mailer*', 'their*', 'bonus*', 'energ*', 'helpless*', 'neglect*', 'shy*', 'unsavo*', 'darlin*', 'interest*', 'sweetly', 'despair*', 'impatien*', 'resent*', 'unpleasant', 'uncertain*', 'hatred', 'villain*', 'suffer', 'bet', 'evaluat*', 'knower*', 'reality', 'undetermin*', 'found', 'thinks', 'produc*', 'might', 'wholly', 'restrict*', 'hands', 'stare*', 'candy', 'guts', 'pains', 'tits', 'hornie*', 'uter*', 'gland*', 'syphili*', 'sex*', 'sandwich*', 'bring', 'farthest', 'meantime', 'schedul*', 'uppermost', 'front', 'in', 'together', 'first', 'summer*', 'dissertat*', 'overpaid', 'transcript*', 'lazie*', 'victor*', 'golf*', 'swim*', 'shower*', 'inexpens*', 'wealth*']\n",
      "\n",
      "[\"didn't\", 'no', 'up', \"we'd\", 'eaten', \"mustn't\", 'were', 'shant', 'said', 'is', \"you've\", 'tripl*', 'couns*', 'mailing', 'them', 'bore*', 'engag*', 'helps', 'nerd*', 'sicken*', 'unsuccessful*', 'dear*', 'invigor*', 'sweetness*', 'desperat*', 'impersonal', 'resign*', 'unprotected', 'uncomfortabl', 'heartless*', 'violat*', 'suffered', 'bets', 'ever', 'knowing', 'realiz*', 'undo', 'grasp*', 'thought', 'provoc*', 'mightve', 'retain*', 'hard', 'staring', 'cardia*', 'gynecolog*', 'palm', 'titties', 'horny', 'vagina*', 'glaucoma', 'tender*', 'slut*', 'servings', 'bringing', 'fast', 'meanwhile', 'season*', 'upstairs', 'go', 'inch*', 'top', 'firstly', 'sunday*', 'dividend*', 'overtime', 'transfer*', 'lazy', 'win', 'guitar*', 'symphon*', 'sofa*', 'inherit*', 'worth']\n",
      "\n",
      "['difference*', 'nobod*', 'upon', \"we'll\", 'emailed', 'mustve', \"we're\", \"shan't\", 'sat', 'isnt', 'unique', 'cousin*', 'mails', 'themselves', 'boring', 'enjoy*', 'hero*', 'nervous*', 'sigh', 'unsure*', 'definite', 'joke*', 'sweets', 'despis*', 'impolite*', 'restless*', 'unsavo*', 'uncontrol*', 'hell', 'violent*', 'sufferer*', 'betting', 'every', 'knowledg*', 'really', 'undoubt*', 'idea', 'thoughts', 'provok*', \"might've\", 'rigid*', 'harde*', 'stench*', 'cardio*', 'gyno*', 'palms', 'titty', 'intestin*', 'vein*', 'gynecolog**', 'tendoni*', 'std*', 'skinni*', 'brings', 'faster', 'meter*', 'seconds', 'usual', 'goes', 'inner*', 'toward*', 'firsts', 'synch*', 'doctor*', 'overworked', 'tutor*', 'lead*', 'winn*', 'gym*', 'tanning', 'stove*', 'insurance', 'yen']\n",
      "\n",
      "['do', 'none', 'us', \"we're\", 'ended', \"must've\", \"weren't\", \"she'd\", 'saw', 'various', 'coworker*', 'male', 'they', 'bother*', 'enrag*', 'hesita*', 'neurotic*', 'sighed', 'unwelcom*', 'definitely', 'joking', 'talent*', 'destroy*', 'inadequa*', 'revenge*', 'unsuccessful', 'uneas*', 'hellish', 'war', 'suffering', 'binding', 'everybod*', 'known', 'rearrang*', 'unknow*', 'ideas', 'unaccept*', 'purpose*', 'most', 'safe*', 'harmon*', 'stink*', 'checkup*', 'hair*', 'pap', 'toe', 'itch*', 'waist*', 'gyno*', 'testosterone*', 'stud', 'skinny*', 'brink', 'fastest', 'metre*', 'section', 'usually', 'going', 'inside', 'town', 'followup*', 'tempora*', 'dorm*', 'paper*', 'type*', 'lesson*', 'wins', 'hangin*', 'team*', 'studio', 'invest*', 'yuan']\n",
      "\n",
      "['does', 'nope', 'usually', 'weve', 'entered', 'need', 'weve', \"she'll\", 'seemed', 'version*', 'crowd*', 'males', 'theyd', 'brave*', 'entertain*', 'hilarious', 'nice*', 'sighing', 'upset*', 'delectabl*', 'joll*', 'tehe', 'destruct*', 'indecis*', 'ridicul*', 'unsure*', 'unsure*', 'hostil*', 'warfare*', 'suffers', 'blatant*', 'everything*', 'knows', 'reason*', 'unless', 'identif*', 'unaware*', 'rational*', 'mostly', 'secur*', 'hear', 'stroke*', 'cheek*', 'hallucinat*', 'paraly*', 'toenail*', 'jaw*', 'wake', 'hallucinat*', 'therap*', 'syphili*', 'smok*', 'broad*', 'february', 'mid', 'segment', 'vast*', 'gone', 'insides', 'under', 'forever', 'term', 'dotcom', 'pay*', 'typing', 'limit*', 'won', 'hangout*', 'techno', 'studios', 'IRS']\n",
      "\n",
      "['doesnt', 'nor', 'various', \"we've\", 'explain', 'needed', \"we've\", 'shes', 'seen', 'whole', 'cultur*', \"male's\", \"they'd\", 'bright*', 'enthus*', 'hoho*', 'numb*', 'sighs', 'uptight*', 'delicate*', 'joy*', 'tender*', 'devastat*', 'ineffect*', 'rigid*', 'unwelcom*', 'upset*', 'humiliat*', 'warred', 'tears', 'block', 'evident*', 'lack*', 'recall*', 'unlikel*', 'imagin*', 'understand', 'react*', 'myster*', 'stiff*', 'heard', 'stroki*', 'chest*', 'hamstring*', 'passion*', 'toes', 'joints', 'wear', 'hangover*', 'thermometer*', 'tit', 'snack*', 'brought', 'fell', 'middl*', 'send*', 'verg*', 'grew', 'interior*', 'underneath', 'former*', 'terminat*', 'downsiz*', 'pc*', 'undergrad*', 'lose', 'work', 'hik*', 'television*', 'sweep*']\n",
      "\n",
      "[\"doesn't\", 'not', 'very', 'what', 'explained', 'needs', 'whats', \"she's\", 'sensed', 'worst', 'dad*', 'mam', 'theyll', 'brillian*', 'envie*', 'homesick*', 'nurtur*', 'silli*', 'useful*', 'delicious*', 'keen*', 'terrific*', 'devil*', 'inferior*', 'risk*', 'upset*', 'uptight*', 'idiot*', 'warring', 'traged*', 'blocked', 'exact*', 'launch*', 'reckon*', 'unluck*', 'induc*', 'understandab*', 'reason*', 'nearly', 'stop', 'hearing', 'stunk', 'chew*', 'hand', 'pasta*', 'tongue*', 'kidney*', 'womb*', 'headache*', 'throb*', 'tits', 'soda*', 'building', 'fill*', 'mile*', 'senior*', 'vertical*', 'grow', 'internal*', 'undersid*', 'forward*', 'then', 'dropout*', 'pen', 'underpaid', 'loser*', 'workabl*', 'hiphop', 'tennis*', 'tenant*']\n",
      "\n",
      "['doing', 'nothing', 'wanna', 'whatever', 'explains', 'ought', \"what's\", 'should', 'sent', 'dating', 'man', \"they'll\", 'broke', 'envious', 'honest*', 'obnoxious*', 'silly', 'useless*', 'deligh*', 'kidding', 'thank', 'difficult*', 'inhib*', 'rotten', 'uptight*', 'vulnerab*', 'insult*', 'wars', 'tragic*', 'blocker*', 'examin*', 'law', 'recogni*', 'unneccess*', 'infer', 'understanding', 'response', 'obscur*', 'stopped', 'hears', 'sugar*', 'chills', 'hands', 'patholog*', 'tonsils', 'knee*', 'wrist*', 'heal', 'thyroid*', 'titties', 'starve*', 'busy', 'final', 'min', 'sent', 'visit*', 'growing', 'internation*', 'universe*', 'frequent', 'thursday*', 'duti*', 'pencil*', 'unemploy*', 'loses', 'worked', 'hobb*', 'tequila', 'toaster*']\n",
      "\n",
      "['done', 'now', 'was', 'whats', 'fed', 'oughta', 'wheres', 'shouldnt', 'shared', 'daughter*', \"man's\", 'theyre', 'brutal*', 'envy*', 'honor*', 'obsess*', 'sin', 'vain', 'determina*', 'kind', 'thanked', 'disadvantage', 'insecur*', 'rude*', 'useless*', 'worr*', 'interrup*', 'weapon*', 'unhapp*', 'blocking', 'except', 'lead*', 'recollect*', 'unneed*', 'inferr*', 'understands', 'result*', 'occasional*', 'stopper*', 'heavie*', 'sumptuous*', 'chiropract*', 'hangover*', 'pediatr*', 'tooth*', 'healed', 'tingl*', 'titty', 'starving', 'came', 'finally', 'minute*', 'separat*', 'walk', 'grown', 'intersect*', 'up', 'frequented', 'til', 'duty', 'pens', 'universit*', 'losing', 'worker*', 'hockey*', 'theat*', 'vacuum*']\n",
      "\n",
      "['dont', 'nowhere', 'wasnt', \"what's\", 'feel', 'oughtnt', \"where's\", \"should'nt\", 'shouldve', 'deal', 'marriag*', \"they're\", 'burden*', 'evil*', 'honour*', 'offence*', 'sincer*', 'valuabl*', 'determined', 'kindly', 'thankf*', 'disagree*', 'insincer*', 'ruin*', 'vain', 'intimidat*', 'wicked*', 'unimportant', 'blocks', 'exclu*', 'learn*', 'reconcil*', 'unquestion*', 'infers', 'understood', 'root*', 'often', 'stopping', 'heavy*', 'sunli*', 'chlamydia', 'head', 'pee', 'tox*', 'healer*', 'tire*', 'vagina*', 'stuffed', 'capacit*', 'finish*', 'modern*', 'september*', 'walked', 'growth', 'into', 'upon', 'frequenting', 'till', 'earn*', 'pension*', 'unproduc*', 'loss*', 'working*', 'holiday*', 'ticket*', 'window*']\n",
      "\n",
      "[\"don't\", 'of', \"wasn't\", 'which', 'feels', \"ought'nt\", 'whod', \"shouldn't\", \"should've\", 'describe', 'marrie*', 'theyve', 'calm*', 'excel*', 'hope', 'offend*', 'sinister', 'value', 'devot*', 'kindn*', 'thanks', 'disappoint*', 'insult*', 'sad', 'vanity', 'unsuccessful', 'blur*', 'expect*', 'led', 'reconsider*', 'unrelat*', 'info', 'unrelat*', 'since', 'opinion', 'stops', 'honey', 'sunshin*', 'chok*', 'headache*', 'pelvi*', 'tricep*', 'healing', 'tiring', 'vd', 'sugar*', 'car', 'first', 'moment*', 'sequen*', 'walking', 'hang', 'kilometer*', 'upper', 'frequently', 'time*', 'econ*', 'phd*', 'upperclass*', 'lost', 'works', 'horseback', 'tivo*', 'yard']\n",
      "\n",
      "['doubl*', 'off', 'we', 'whichever', 'felt', \"oughtn't\", \"who'd\", 'shouldve', 'showed', 'described', \"ma's\", \"they've\", 'care', 'excit*', 'hoped', 'offens*', 'sins', 'valued', 'digni*', 'kiss*', 'thoughtful*', 'disaster*', 'interrup*', 'sadde*', 'vicious*', 'useless*', 'borderline*', 'experiment', 'lesson*', 'reconstruct*', 'unresolv*', 'inform', 'wonder', 'solution*', 'option', 'stubborn*', 'hot', 'sweet', 'cholester*', 'heads', 'penis*', 'tumo*', 'heals', 'tox*', 'virgin*', 'supper*', 'carried', 'firstly', 'monday*', 'set', 'walks', 'headed', 'km*', 'uppermost', 'frequents', 'timing', 'edit*', 'photocop*', 'varsit*', 'hotel*', 'toy*']\n",
      "\n",
      "['down', 'often', \"we'd\", 'who', 'fled', 'oughtve', 'wholl', \"should've\", 'slept', 'describes', 'mate', 'thine', 'cared', 'excruciat*', 'hopeful', 'ok', 'skeptic*', 'values', 'divin*', 'laidback', 'thrill*', 'discomfort*', 'intimidat*', 'sadly', 'victim*', 'weep*', 'boss*', 'explain', 'liabilit*', 'reevaluat*', 'unsettl*', 'information', 'wondered', 'solve', 'or', 'subdue*', 'hott*', 'sweetness', 'chow*', 'heal', 'perspir*', 'twitch*', 'health*', 'tumo*', 'whore*', 'swallow*', 'carrier*', 'firsts', 'month*', 'shake*', 'wall', 'heading', 'land', 'upstairs', 'Friday*', 'today*', 'educat*', 'pledg*', 'vita', 'hunting', 'travel*']\n",
      "\n",
      "['dozen*', 'on', 'well', 'whod', 'flew', \"ought've\", \"who'll\", 'thatd', 'sold', 'describing', 'mates', 'thou', 'carefree', 'exhaust*', 'hopefully', 'okay', 'slut*', 'valuing', 'dynam*', 'laugh*', 'toleran*', 'discourag*', 'irrational*', 'sadness', 'vile', 'wept', 'both', 'explained', 'likel*', 'refer*', 'unsure*', 'informative*', 'wondering', 'solved', 'overall', 'suppress*', 'hush*', 'sweets', 'chronic*', 'healed', 'perver*', 'tylenol', 'heartburn*', 'twitch*', 'womb*', 'tast*', 'carries', 'fit', 'morning*', 'shape*', 'walling', 'hik*', 'large*', 'vast*', 'futur*', 'tomorrow*', 'elementary', 'police', 'vitas', 'inn', 'triathl*']\n",
      "\n",
      "['during', 'once', \"we'll\", \"who'd\", 'follow', 'owe', 'whos', \"that'd\", 'spent', 'disclo*', \"mate's\", 'thoust', 'careful*', 'fab', 'hopefulness', 'okays', 'smart*', 'vanity', 'eager*', 'libert*', 'tranquil*', 'disgust*', 'irrita*', 'sarcas*', 'villain*', 'whine*', 'bound*', 'explaining', 'limit*', 'reflect*', 'unwant*', 'informed', 'wonders', 'solves', 'partly', 'taboo*', 'image*', 'tang', 'cigar*', 'healer*', 'pharmac*', 'ulcer*', 'hemor*', 'tylenol', 'tea', 'carry', 'fled', 'motion*', 'shaping*', 'walls', 'increas*', 'ledge*', 'verg*', 'generation*', 'tonight*', 'employ*', 'policy', 'vocation*', 'inns', 'tv*']\n",
      "\n",
      "['each', 'one', 'were', 'wholl', 'followed', 'owed', \"who's\", 'thatll', 'spoke*', 'discuss*', 'mating', 'thy', 'careless*', 'fabulous*', 'hopeless*', 'oks', 'smil*', 'vicious*', 'ease*', 'like', 'treasur*', 'dishearten*', 'isolat*', 'savage*', 'violat*', 'whining', 'brake*', 'explains', 'link*', 'refrain*', 'uptight*', 'informing', 'solving', 'perhaps', 'tidi*', 'inaudibl*', 'tangy', 'clinic*', 'healing', 'phobi*', 'unhealth*', 'herpes', 'ulcer*', 'thirst*', 'carrying', 'flee*', 'move', 'shook', 'way', 'jog*', 'ledging', 'vertical*', 'happening', 'tuesday*', 'esl', 'political', 'vp*', 'intramural*', 'unwind']\n",
      "\n",
      "['eight*', 'ones', \"we're\", \"who'll\", 'follows', 'owes', 'will', \"that'll\", 'started', 'divorc*', 'meet', 'told', 'cares', 'fail*', 'hopes', 'openminded*', 'smother*', 'victim*', 'easie*', 'likeab*', 'treat', 'disillusion*', 'jaded', 'scare*', 'violent*', 'woe*', 'bridle*', 'explanat*', 'logic*', 'refus*', 'use', 'source*', 'possib*', 'tidy', 'inhal*', 'tart', 'clothes', 'heals', 'physical*', 'urin*', 'hiccup*', 'unhealth*', 'veget*', 'catch', 'flew', 'moved', 'short*', 'wednesday*', 'journey*', 'left', 'wall', 'histor*', 'until', 'exam', 'politics', 'wage', 'ipod*', 'vacation*']\n",
      "\n",
      "['either', 'oneself', \"weren't\", 'whom', 'forgot*', 'paid', 'wish', 'thats', 'stayed', 'email', 'meeting*', 'transact*', 'caring', 'faith*', 'hoping', 'openness', 'smug*', 'vigor*', 'easily', 'liked', 'triumph*', 'dislike', 'jealous*', 'scaring', 'vulnerab*', 'worthless*', 'but', 'explicit*', 'lot', 'regardless', 'used', 'stimul*', 'practically', 'tight*', 'leather*', 'tast*', 'cock', 'health*', 'physician*', 'uter*', 'hiv', 'vertigo', 'veggie*', 'caught', 'flies', 'movement*', 'shut', 'week', 'jump*', 'level', 'walling', 'hour*', 'updat*', 'exams', 'practice', 'wages', 'jazz*', 'vcr*']\n",
      "\n",
      "['eleven', 'only', 'weve', 'whose', 'fought', 'played', 'wished', \"that's\", 'stood', \"email'*\", 'meets', 'uncle', 'casual', 'fake', 'horr*', 'opportun*', 'snob*', 'vigour*', 'easiness', 'likes', 'true', 'disliked', 'jerk', 'scary', 'vulture*', 'yearn*', 'came', 'explor*', 'lotof', 'regret*', 'uses', 'therefor*', 'pretty', 'uptight*', 'lick*', 'thick*', 'cocks*', 'heart', 'pill', 'vagina*', 'hormone*', 'viagra', 'waist*', 'cease*', 'floor*', 'mover*', 'side', \"week'*\", 'lead*', 'levels', 'walls', 'hurrie*', 'usual', 'excel*', 'prereq*', 'warehous*', 'jog*', 'video*']\n",
      "\n",
      "['else', 'onto', \"we've\", 'ya', 'found', 'ran', 'wishes', 'theres', 'stopped', 'emailed', 'members', 'uncles', 'casually', 'fantastic*', 'hostil*', 'optimal*', 'sob', 'vile', 'easing', 'liking', 'trueness', 'dislikes', 'jerked', 'sceptic*', 'war', 'careful*', 'extremely', 'lots', 'rein*', 'using', 'thus', 'probable', 'veto', 'light', 'thin', 'codeine', 'heartburn*', 'pills', 'vd', 'hospital*', 'vicodin', 'water', 'ceasing', 'flow*', 'moves', 'sides', 'weekend*', 'leave', 'littl*', 'west*', 'hurry*', 'usually', 'executive*', 'presentation*', 'welfare', 'joke*', 'vodka*']\n",
      "\n",
      "['enough', 'or', 'what', 'yall', 'fuck', 'said', 'woke', \"there's\", 'stuck', 'emailer*', 'men', \"uncle's\", 'certain*', 'fatal*', 'hug', 'optimi*', 'sobbed', 'villain*', 'easy*', 'livel*', 'truer', 'disliking', 'jerks', 'scream*', 'warfare*', 'categor*', 'fact', 'lotsa', 'relate*', 'usually', 'trigger*', 'probablistic*', 'wait', 'limp*', 'thinn*', 'coffee*', 'hearts', 'pimple*', 'veget*', 'hungover', 'vitamin*', 'weigh', 'ceiling*', 'fly', 'moving', 'siding', 'weekl*', 'leaves', 'local*', 'where', 'immediate', 'wednesday*', 'expel*', 'presiden*', 'work', 'joking', 'volleyb*']\n",
      "\n",
      "['entire*', 'other', 'whatever', \"y'all\", 'fucked*', 'sat', 'woken', 'theyd', 'studied', 'emailing', \"men'*\", 'ur', 'challeng*', 'fatigu*', 'hugg*', 'original', 'sobbing', 'violat*', 'ecsta*', 'LMAO', 'truest', 'dismay*', 'kill*', 'screw*', 'warred', 'caus*', 'facts', 'lotta', 'relating', 'vague*', 'use', 'probably', 'waited', 'listen', 'thunder*', 'coke*', 'heel*', 'piss*', 'veggie*', 'hyperten*', 'vomit*', 'weighed', 'center*', 'flying', 'narrow*', 'simultaneous*', 'weeks', 'leaving', 'longitud*', 'wheres', 'immediately', 'week', 'expulsion*', 'procrastin*', 'workabl*', 'karaoke', 'weekend*']\n",
      "\n",
      "['equal*', 'others', 'whats', 'ye', 'fucks', 'saw', 'won', \"they'd\", 'sucked', 'emails', 'mention*', 'us', 'champ*', 'fault*', 'hugs', 'outgoing', 'sobs', 'violent*', 'efficien*', 'LOL', 'truly', 'dissatisf*', 'lame*', 'selfish*', 'warring', 'caut*', 'factual*', 'luck', 'relation', 'variab*', 'used', 'puzzl*', 'waiting', 'listened', 'tight*', 'colon', 'helpings', 'pizza*', 'vein*', 'hypotherm*', 'wart', 'weighing*', 'centre*', 'follow', 'nation*', 'sit', 'went', 'led', 'low*', \"where's\", 'immediateness', 'week', 'factories', 'produc*', 'worked', 'keg', 'weightlift*']\n",
      "\n",
      "['especially', 'otherwise', \"what's\", 'you', 'gave', 'see', 'wonder', 'theyll', 'suffered', 'encourag*', 'messag*', 'visit*', 'charit*', 'favor*', 'humiliat*', 'outrag*', 'sociab*', 'virtue*', 'elegan*', 'love', 'trust*', 'distract*', 'lazie*', 'serious', 'wars', 'cease*', 'fairly', 'lucked', 'reluctan*', 'varies', 'uses', 'question*', 'waits', 'listener*', 'tongue*', 'colono*', 'hemor*', 'pms', 'vertigo', 'ibuprofen', 'warts', 'weighs', 'centur*', 'followed', 'near', 'site', 'west*', 'motion*', 'map', 'wherever', 'immortal*', 'weekend*', 'factory', 'prof', 'worker*', 'kegger', 'weights']\n",
      "\n",
      "['etc', 'ought', 'when', 'youd', 'get', 'seem', 'wondered', \"they'll\", 'supported', 'enemie*', 'met', 'we', 'charm*', 'favour*', 'humor*', 'overwhelm*', 'solemn*', 'virtuo*', 'encourag*', 'loved', 'truth*', 'distraught', 'lazy', 'seriously', 'weak*', 'ceasing', 'feel', 'lucki*', 'rememb*', 'vary', 'using', 'quite', 'wariness', 'listening', 'touch*', 'colons', 'herpes', 'podiatr*', 'viagra', 'ICU', 'wash', 'weight', 'change', 'following', 'neared', 'sitting', 'when', 'move', 'mapped', 'wide*', 'inciden*', 'weekl*', 'facult*', 'profession*', 'working*', 'keggers', 'whiskey*']\n",
      "\n",
      "['even', 'oughta', 'whenever', \"you'd\", 'gets', 'seemed', 'wont', 'theyre', 'supposed', 'enemy*', 'mob', 'wed', 'cheat*', 'fear', 'humour*', 'pain', 'sorrow*', 'vital*', 'energ*', 'lovely', 'useful*', 'distress*', 'liabilit*', 'seriousness', 'weapon*', 'certain*', 'feeling*', 'luckless*', 'reorgani*', 'versus', 'why', 'random*', 'wary', 'listens', 'triang*', 'coma*', 'hiccup*', 'poison*', 'vicodin', 'ill', 'weak*', 'whiskey*', 'changed', 'follows', 'nearer', 'sky*', 'whenever', 'moved', 'mapping', 'width*', 'infinit*', 'weeks', 'fail*', 'professor*', 'works', 'kegs', 'whisky*']\n",
      "\n",
      "['eventually', 'oughtnt', 'where', 'youll', 'give', 'seems', \"won't\", \"they're\", 'taken', 'everybod*', 'mobb*', \"we'd\", 'cheer*', 'feared', 'hurra*', 'pained', 'sorry', 'vulnerab*', 'engag*', 'lover*', 'valuabl*', 'distrust*', 'liar*', 'severe*', 'weep*', 'chance', 'feels', 'lucks', 'repress*', 'veto', 'seem', 'withheld', 'lit', 'unsavo*', 'condom', 'hip', 'poop*', 'virgin*', 'illness*', 'weary', 'whisky*', 'changes', 'followup*', 'nearest', 'slid', 'where', 'movement*', 'maps', 'within', 'initial*', 'when', 'fax*', 'profit*', 'xerox*', 'laidback', 'wine']\n",
      "\n",
      "['ever', \"ought'nt\", 'whereas', \"you'll\", 'given', 'seen', 'wore', 'theyve', 'talked', 'everyone*', 'mobs', 'wedding*', 'cherish*', 'fearful*', 'hurt*', 'painf*', 'soulmate*', 'vulture*', 'enjoy*', 'loves', 'value', 'disturb*', 'lied', 'shake*', 'weird*', 'change', 'felt', 'lucky', 'requir*', 'vs', 'seemed', 'withhold*', 'look', 'view', 'condoms', 'hips', 'porn*', 'vitamin*', 'immun*', 'wheez*', 'wine', 'changing', 'forever', 'nearing', 'slide', 'wheres', 'mover*', 'mass', 'world', 'initiat*', 'whenever', 'liquor*', 'wines']\n",
      "\n",
      "['every', \"oughtn't\", 'wheres', 'your', 'gives', 'sees', 'worked', \"they've\", 'taught', 'everything*', 'mom', 'weds', 'chuckl*', 'fearing', 'ideal*', 'paining', 'special', 'war', 'entertain*', 'loving*', 'valued', 'domina*', 'lies', 'shaki*', 'wept', 'changed', 'fenc*', 'made', 'reserved', 'wait', 'seeming*', 'yield*', 'looked', 'viewer*', 'congest*', 'hiv', 'pregnan*', 'vomit*', 'indigestion', 'withdrawal', 'wines', 'childhood', 'former*', 'nears', 'slides', \"where's\", 'moves', 'instan*', 'while', 'magazine*', 'workout*']\n",
      "\n",
      "['everybod*', 'oughtve', \"where's\", 'youre', 'go', 'sensed', 'worn', 'was', 'tended', 'ex', 'momma*', 'welcom*', 'clever*', 'fearless*', 'idiot', 'painl*', 'spite*', 'warfare*', 'enthus*', 'loyal*', 'values', 'doom*', 'lone*', 'shaky', 'whine*', 'changes', 'figur*', 'mainly', 'resolu*', 'waited', 'seems', 'looker*', 'viewing*', 'constipat*', 'ho', 'prescri*', 'waist*', 'infect*', 'wound*', 'christmas*', 'forward*', 'never', 'sliding', 'wherever', 'moving', 'interval*', 'whilst', 'mall', 'xbox']\n",
      "\n",
      "['everyone*', \"ought've\", 'whether', \"you're\", 'goes', 'sent', 'would', 'wasnt', 'thanked', 'exbf*', 'mommy*', \"we'll\", 'comed*', 'fears', 'ignor*', 'pains', 'splend*', 'warm*', 'excel*', 'luck', 'valuing', 'dork*', 'longing*', 'shame*', 'whining', 'changing', 'find*', 'make', 'resolv*', 'waiting', 'shaki*', 'looking', 'views', 'contag*', 'homo', 'prick*', 'wake', 'inflam*', 'xanax', 'city', 'frequent', 'new', 'slow*', 'while', 'pass', 'january', 'winter*', 'malls', 'yard']\n",
      "\n",
      "['everything*', 'our', 'which', 'yours', 'gone', 'shall', 'wouldnt', \"wasn't\", 'thought', 'exboyfriend*', 'moms', \"we're\", 'comfort*', 'feroc*', 'immoral*', 'palatabl*', 'stammer*', 'warred', 'excit*', 'lucked', 'vigor*', 'doubt*', 'lose', 'shit*', 'whore*', 'choice*', 'forbid*', 'maker*', 'response', 'waits', 'shaky', 'looks', 'vivid*', 'cook*', 'homos', 'prognos*', 'wart', 'ingest*', 'xray*', 'climb*', 'frequented', 'newer', 'small*', 'whilst', 'passed', 'july', 'year', 'marathon*', 'yoga']\n",
      "\n",
      "['example*', 'ours', 'whichever', 'youve', 'gonna', 'shant', \"wouldn't\", \"we'd\", 'threw', 'excus*', \"mom's\", 'weve', 'commitment*', 'festiv*', 'impatien*', 'panic*', 'stank', 'warring', 'fab', 'lucki*', 'vigour*', 'dread*', 'loser*', 'shock*', 'wicked*', 'choos*', 'force*', 'makes', 'responsib*', 'wanna', 'some', 'loose*', 'voic*', 'cornea*', 'homosexual*', 'prostat*', 'warts', 'injur*', 'yawn*', 'clock*', 'frequenting', 'newest', 'sometime', 'wide*', 'passes', 'june', 'yearly', 'margarita*']\n",
      "\n",
      "['except', 'ourselves', 'while', \"you've\", 'got', \"shan't\", 'wouldve', \"we'll\", 'told', 'exes', 'mother', \"we've\", 'compassion*', 'feud*', 'impersonal', 'paradise', 'startl*', 'wars', 'fabulous*', 'lucks', 'virtue*', 'dull*', 'loses', 'shook', 'wimp*', 'clarif*', 'forever', 'making', 'restrain*', 'want', 'somebod*', 'loud*', 'waft*', 'coronar*', 'hormone*', 'prostitu*', 'wash', 'insomnia*', 'zit', 'close', 'frequently', 'newly', 'sometimes', 'width*', 'passing', 'last*', 'years']\n",
      "\n",
      "['extenet', 'out', 'who', 'gotta', 'shared', \"would've\", 'were', 'took', 'exgf*', 'motherly', 'who', 'complain*', 'fiery', 'impolite*', 'paranoi*', 'steal*', 'weak*', 'faith*', 'lucky', 'virtuo*', 'dumb*', 'losing', 'shy*', 'witch', 'clear', 'forgave', 'manipul*', 'restrict*', 'wanted', 'somehow', 'mint*', 'warm*', 'cough*', 'hornie*', 'prozac', 'water', 'insulin', 'zits', 'closed', 'frequents', 'next', 'somewhere', 'winter*', 'pull*', 'late', 'yesterday*']\n",
      "\n",
      "['extra', 'outside', 'whod', 'gotten', \"she'd\", 'written', \"weren't\", 'tried', 'exgirl*', 'mothers', 'whod', 'compliment*', 'fiesta*', 'importan*', 'partie*', 'stench', 'wealth*', 'fantastic*', 'madly', 'vital*', 'dump*', 'loss*', 'sicken*', 'woe*', 'clearly', 'forget*', 'marginal*', 'restructur*', 'wanting', 'someone*', 'musi*', 'watch*', 'cramp*', 'horny', 'prude', 'weak*', 'intox*', 'zoloft', 'closely', 'Friday*', 'night', 'soon', 'within', 'push*', 'lately', 'yet']\n",
      "\n",
      "['extremely', 'over', \"who'd\", 'guess', \"she'll\", 'wrote', 'weve', 'turned', 'exhubby*', 'mr', \"who'd\", 'concerned', 'fight*', 'impress*', 'party*', 'stink*', 'weapon*', 'favor*', 'magnific*', 'warm*', 'dwell*', 'lost', 'sin', 'worr*', 'close', 'forgiv*', 'matter*', 'result*', 'wants', 'something*', 'nasal', 'weight', 'crap', 'hospital*', 'prudes', 'wear', 'closer', 'front', 'nightly', 'soone*', 'world', 'put', 'later', 'young*']\n",
      "\n",
      "['fairly', 'own', 'whole', 'guessed', 'shes', 'youd', \"we've\", 'understood', 'exhusband*', 'mrs', 'wholl', 'confidence', 'fine', 'improve*', 'passion*', 'strain*', 'weep*', 'favour*', 'merit*', 'wealth*', 'egotis*', 'lous*', 'sinister', 'worse*', 'closure', 'forgot*', 'may', 'retain*', 'we', 'sometime', 'noise', 'weighted', 'crotch', 'hug', 'prudish*', 'weary', 'closes', 'full*', 'nights', 'south*', 'year', 'puts', 'latest', 'youth*']\n",
      "\n",
      "['few*', 'part', 'wholl', 'guesses', \"she's\", \"you'd\", 'whats', 'used', 'explain', 'mum', \"who'll\", 'confident', 'fired', 'improving', 'pathetic*', 'strange', 'weird*', 'fearless*', 'merr*', 'welcom*', 'embarrass*', 'low*', 'sins', 'worst', 'cohere*', 'found', 'maybe', 'rethink*', 'whether', 'sometimes', 'noises', 'weighting', 'cuddl*', 'hugg*', 'pubic', 'weigh', 'closest', 'further*', 'noon*', 'space', 'yearly', 'putting']\n",
      "\n",
      "['fift*', 'partly', \"who'll\", 'had', 'should', 'youll', \"what's\", 'viewed', 'explained', 'mummy*', 'whom', 'confidently', 'flatter*', 'inadequa*', 'peace*', 'strength*', 'welcom*', 'festiv*', 'neat*', 'well*', 'emotional', 'luckless*', 'skeptic*', 'worthless*', 'come', 'foundation*', 'mean', 'reveal*', 'wholly', 'somewhat', 'noisy', 'weightless*', 'cyst*', 'hugs', 'puk*', 'weighed', 'closing', 'futur*', 'north*', 'spaced', 'years', 'ran']\n",
      "\n",
      "['first', 'perhaps', 'whom', 'hadnt', 'shouldnt', \"you'll\", 'wheres', 'waited', 'explaining', 'mums', 'whos', 'confront*', 'flawless*', 'incentive*', 'peculiar*', 'stress*', 'well*', 'fiesta*', 'nice*', 'win', 'empt*', 'ludicrous*', 'slut*', 'wrong*', 'commit', 'founded', 'meaning*', 'revelat*', 'why', 'sort', 'nose*', 'weightlift*', 'deaf*', 'hump*', 'pulse', 'weighing*', 'come', 'generation*', 'november', 'spaces', 'yesterday*', 'receiv*']\n",
      "\n",
      "['firstly', 'piec*', 'whose', \"hadn't\", \"should'nt\", 'youre', \"where's\", 'walked', 'explains', \"mum's\", \"who's\", 'confus*', 'flexib*', 'indecis*', 'perfect*', 'strong*', 'wept', 'fine', 'nurtur*', 'winn*', 'enemie*', 'lying', 'smother*', 'yearn*', 'commitment*', 'founder*', 'means', 'rigid*', 'wish', 'sorta', 'nostril*', 'weights', 'decongest*', 'hunger*', 'puss', 'weighs', 'comes', 'giant*', 'now', 'spaci*', 'yet', 'remov*']\n",
      "\n",
      "['firsts', 'plenty', 'will', 'happen', \"shouldn't\", \"you're\", 'whod', 'wanted', 'express*', 'name', 'whose', 'considerate', 'flirt*', 'ineffect*', 'personal', 'struggl*', 'whine*', 'flatter*', 'ok', 'wins', 'enemy*', 'mad', 'smug*', 'commits', 'frankly', 'meant', 'root*', 'wished', 'sortof', 'odor*', 'wet', 'dentist*', 'hungover', 'pussies', 'weight', 'coming', 'gigantic', 'nowhere', 'span', 'young*', 'replace*']\n",
      "\n",
      "['five', 'plus', 'with', 'happened', 'shouldve', 'youve', \"who'd\", 'was', 'exwife*', 'negotiat*', 'wife*', 'contempt*', 'flunk*', 'inferior*', 'perver*', 'stubborn*', 'whining', 'flawless*', 'okay', 'wisdom', 'committ*', 'fundamental', 'memor*', 'safe*', 'wishes', 'sorts', 'odour*', 'wetly', 'derma*', 'hungr*', 'pussy*', 'wheez*', 'common', 'ginormous', 'occasional*', 'spann*', 'youth*', 'replacing']\n",
      "\n",
      "['for', 'primarily', 'within', 'happens', \"should've\", \"you've\", 'wholl', 'wasnt', 'exwive*', 'neighbor*', 'willing', 'contented*', 'foe*', 'inhib*', 'pessimis*', 'stunk', 'whore*', 'flexib*', 'okays', 'wise*', 'compel*', 'fundamentalism', 'might', 'same', 'wishing', 'sortsa', 'oil*', 'whiff*', 'dessert*', 'hyperten*', 'queas*', 'whiskey*', 'connection*', 'global*', 'oclock*', 'sped', 'ridden']\n",
      "\n",
      "['form', 'probably', 'without', 'has', 'showed', \"who'll\", \"wasn't\", 'families*', 'neighbour*', 'wive*', 'contentment', 'fond', 'innocen*', 'petrif*', 'stunned', 'wicked*', 'flirt*', 'oks', 'won', 'complete', 'fundamentally', 'mightve', 'save', 'with', 'spose', 'orange*', 'whisper*', 'detox*', 'hypotherm*', 'queer*', 'whisky*', 'constant', 'go', \"o'clock*\", 'speed*', 'ride']\n",
      "\n",
      "['four*', 'quarter*', 'wont', 'will', 'went', 'family', 'nephew*', 'woman', 'contradic*', 'fondly', 'insecur*', 'pettie*', 'stuns', 'willing', 'fond', 'openminded*', 'wonderf*', 'completed', 'fundamentals', \"might've\", 'secret', 'withheld', 'suppose', 'palatabl*', 'white*', 'diabet*', 'ibuprofen', 'rape*', 'whore*', 'rides']\n",
      "\n",
      "['frequently', 'quick*', \"won't\", 'wont', 'were', 'father*', 'newborn*', 'womanhood', 'convinc*', 'fondness', 'insincer*', 'petty*', 'stupid*', 'wimp*', 'fondly', 'openness', 'worship*', 'completely', 'fuzz*', 'mind', 'secrets', 'withhold*', 'supposed', 'perfum*', 'whitish*', 'diagnos*', 'ICU', 'raping', 'wine', 'riding']\n",
      "\n",
      "['from', 'rarely', 'worst', \"won't\", \"weren't\", 'fellow*', 'niece*', 'womanly', 'cool', 'fool*', 'inspir*', 'phobi*', 'stutter*', 'win', 'fondness', 'opportun*', 'worthwhile', 'completes', 'general', 'misle*', 'seem', 'without', 'supposes', 'picture', 'yell', 'diarr*', 'ill', 'rapist*', 'wines', 'rise*']\n",
      "\n",
      "['full*', 'rather', 'would', 'would', 'weve', 'female*', 'offer*', \"woman's\", 'courag*', 'forbid*', 'insult*', 'piss*', 'submissive*', 'winn*', 'forgave', 'optimal*', 'wow*', 'complex*', 'generally', 'mistak*', 'seemed', 'wonder', 'supposing', 'pink*', 'yelled', 'dick', 'illness*', 'rash*', 'withdrawal', 'rising']\n",
      "\n",
      "['generally', 'really', 'wouldnt', 'wouldnt', \"we've\", 'feud*', 'organiz*', 'women*', 'crap', 'forgave', 'intell*', 'piti*', 'succeed*', 'wins', 'forgiv*', 'optimi*', 'yay', 'compliance', 'generate*', 'misunder*', 'seeming*', 'wondered', 'supposition*', 'press', 'yelling', 'dicks', 'immun*', 'rehab*', 'womb*', 'rode']\n",
      "\n",
      "['greater', 'remaining', \"wouldn't\", \"wouldn't\", 'wished', 'fiance*', 'our', 'write', 'crappy', 'forgiv*', 'interest*', 'pity*', 'success*', 'wisdom', 'free', 'original', 'yays', 'complica*', 'generating', 'most', 'seems', 'wondering', 'tempora*', 'pressed', 'yellow*', 'diet*', 'incest*', 'restau*', 'wound*', 'run']\n",
      "\n",
      "['greatest', 'rest', 'wouldve', 'wouldve', 'woke', 'fight*', 'ours', 'writing', 'craz*', 'fought', 'interrup*', 'play', 'suck', 'wise*', 'free*', 'outgoing', 'complie*', 'generator*', 'mostly', 'sense', 'wonders', 'tentativ*', 'presser*', 'yells', 'digest*', 'indigestion', 'retina*', 'wrist*', 'runner*']\n",
      "\n",
      "['had', 'same', \"would've\", \"would've\", 'woken', 'flatter*', 'ourselves', 'wrote', 'create*', 'frantic*', 'intimidat*', 'played', 'sucked', 'witch', 'freeb*', 'painl*', 'comply*', 'grasp*', 'motiv*', 'sensed', 'word', 'theor*', 'presses', 'yum*', 'dine', 'infect*', 'rib', 'xanax', 'running']\n",
      "\n",
      "['hadnt', 'second', 'ya', 'youd', 'won', 'folks', 'outsider*', 'ya', 'creati*', 'freak*', 'invigor*', 'playful*', 'sucker*', 'woe*', 'palatabl*', 'compreh*', 'guarant*', 'must', 'senses', 'would', 'typically', 'pungen*', 'dined', 'inflam*', 'ribs', 'xray*', 'runs']\n",
      "\n",
      "[\"hadn't\", 'section', 'yall', \"you'd\", 'wondered', 'forgave', 'overhear*', 'yall', 'credit*', 'free', 'irrational*', 'playing', 'sucks', 'won', 'paradise', 'compulsiv*', 'guard*', 'mustnt', 'sensing', 'wouldnt', 'uncertain*', 'diner', 'ingest*', 'ritalin', 'yawn*', 'rush*']\n",
      "\n",
      "['half', 'seriously', \"y'all\", 'youll', 'wore', 'forgiv*', 'owner*', \"y'all\", 'cried', 'freeb*', 'irrita*', 'plays', 'sucky', 'wonderf*', 'concentrat*', 'guess', \"must'nt\", 'shaki*', \"wouldn't\", 'unclear*', 'diners', 'injur*', 'rx', 'zit', 'send*']\n",
      "\n",
      "['has', 'seven*', 'ye', \"you'll\", 'worked', 'fought', 'pa', 'ye', 'cries', 'freed*', 'isolat*', 'pleasant*', 'suffer', 'worr*', 'conclud*', 'guessed', \"mustn't\", 'shaky', 'wouldve', 'undecided*', 'dines', 'insomnia*', 'salad*', 'zits', 'sent']\n",
      "\n",
      "['hasnt', 'several', 'yet', 'youre', 'worn', 'friend*', 'pal', 'you', 'critical', 'freeing', 'jaded', 'please*', 'suffered', 'worse*', 'conclus*', 'guesses', 'mustve', 'should', \"would've\", 'undetermin*', 'dining', 'insulin', 'saliv*', 'zoloft', 'shake*']\n",
      "\n",
      "[\"hasn't\", 'shall', 'you', \"you're\", 'wouldve', 'game*', 'pals', 'youd', 'critici*', 'freely', 'jealous*', 'pleasing', 'sufferer*', 'worship*', 'confess*', 'guessing', \"must've\", 'shouldnt', 'write', 'unknow*', 'dinner*', 'intestin*', 'sandwich*', 'shook']\n",
      "\n",
      "['have', 'shant', 'youd', 'youve', \"would've\", 'gather*', 'pappy', \"you'd\", 'crude*', 'freeness', 'jerk', 'pleasur*', 'suffering', 'worst', 'confidence', 'halfass*', 'myster*', \"should'nt\", 'writing', 'unlikel*', 'slid']\n",
      "\n",
      "['havent', \"shan't\", \"you'd\", \"you've\", 'written', 'gave', 'parent*', 'youll', 'cruel*', 'freer', 'jerked', 'poison*', 'suffers', 'worthless*', 'confident', 'halt*', 'name', \"shouldn't\", 'wrote', 'unluck*', 'slide']\n",
      "\n",
      "[\"haven't\", 'she', 'youll', 'wrote', 'gentlem*', 'participant*', \"you'll\", 'crushed', 'frees*', 'jerks', 'popular*', 'sunnier', 'worthwhile', 'confidently', 'hangup*', 'nearly', 'shoulds', 'yearn*', 'unresolv*', 'slidesy']\n",
      "\n",
      "['having', \"she'd\", \"you'll\", 'gf*', 'participat*', 'your', 'cry', 'friend*', 'joke*', 'positiv*', 'sunniest', 'wow*', 'confin*', 'hardly', 'necessar*', 'shouldve', 'yield*', 'unsettl*', 'sliding']\n",
      "\n",
      "['hed', \"she'll\", 'your', 'girl', 'partie*', 'youre', 'crying', 'fright*', 'joking', 'prais*', 'sunny', 'wrong*', 'need', 'unsure*', 'step']\n",
      "\n",
      "[\"he'd\", 'shes', 'youre', 'girlfriend*', 'partner*', \"you're\", 'cunt*', 'frustrat*', 'joll*', 'precious*', 'sunshin*', 'yay', 'usually', 'stepp*']\n",
      "\n",
      "['her', \"she's\", \"you're\", \"girl's\", 'party*', 'yours', 'cut', 'fuck', 'joy*', 'prejudic*', 'super', 'yays', 'vague*', 'steps']\n",
      "\n",
      "['here', 'should', 'yours', 'girls*', \"pa's\", 'youve', 'cute*', 'fucked*', 'keen*', 'pressur*', 'superior*', 'yearn*', 'variab*', 'stopper*']\n",
      "\n",
      "['heres', 'shouldnt', 'youve', 'give', 'people*', \"you've\", 'cutie*', 'fucker*', 'kidding', 'prettie*', 'support', 'varies', 'swam']\n",
      "\n",
      "[\"here's\", \"should'nt\", \"you've\", 'giver*', 'person', 'cynic', 'fuckin*', 'kill*', 'pretty', 'supported', 'vary', 'swim*']\n",
      "\n",
      "['hers', \"shouldn't\", 'zero', 'personal', 'damag*', 'fucks', 'kind', 'prick*', 'supporter*', 'wonder', 'threw']\n",
      "\n",
      "['herself', 'shouldve', 'zillion*', 'kindly', 'pride', 'wondered', 'throw*']\n",
      "\n",
      "['hes', \"should've\", 'wondering', 'took']\n",
      "\n",
      "['wonders', 'transact*']\n",
      "\n",
      "['transport*']\n",
      "\n",
      "['travel*']\n",
      "\n",
      "['trip']\n",
      "\n",
      "['tripped']\n",
      "\n",
      "['tripping']\n",
      "\n",
      "['trips']\n",
      "\n",
      "['visit*']\n",
      "\n",
      "['walk']\n",
      "\n",
      "['walked']\n",
      "\n",
      "['walking']\n",
      "\n",
      "['walks']\n",
      "\n",
      "['went']\n",
      "\n"
     ]
    }
   ],
   "source": [
    "\n",
    "textrows_clean2x[-1] = 'went'\n",
    "\n",
    "textrows_clean2x[-4] = 'walked'\n",
    "\n",
    "textrows_clean2x[-7] = 'trips'\n",
    "\n",
    "textrows_clean2x[-10] = 'trip'\n",
    "\n",
    "textrows_clean2x[-12] = \"transport*\"\n",
    "\n",
    "for i in range(len(textrows_clean2x)):\n",
    "    print(textrows_clean2x[i].split(\" \"))\n",
    "    print(\"\")"
   ]
  },
  {
   "cell_type": "code",
   "execution_count": 88,
   "metadata": {},
   "outputs": [],
   "source": [
    "\n",
    "for j in range(textrows_clean_len):\n",
    "    \n",
    "    size = len(textrows_clean2x[j].split(\" \"))\n",
    "    if size > basesize:\n",
    "        print(\"len longer than max at j = \" + str(j) + \" with size \" + str(size))\n",
    "        print(\"\")\n",
    "\n"
   ]
  },
  {
   "cell_type": "code",
   "execution_count": 89,
   "metadata": {},
   "outputs": [],
   "source": [
    "flag_matrix = np.zeros((len(textrows_clean2x), len(textrows_clean2x[0].split(\" \"))))*np.nan\n",
    "\n",
    "#cat1\n",
    "for i in range(153+1):\n",
    "    flag_matrix[i,0]=1\n",
    "    flag_matrix[i,1]=1\n",
    "    flag_matrix[i,2]=1\n",
    "    \n",
    "flag_matrix[153+1,0]=1\n",
    "flag_matrix[153+1,1]=1\n",
    "\n",
    "#cat2\n",
    "for i in range(115+1):\n",
    "    flag_matrix[i,3]=1\n",
    "    \n",
    "    \n",
    "#cat3\n",
    "for i in range(69+1):\n",
    "    flag_matrix[i,4]=1\n",
    "    \n",
    "    \n",
    "#cat4\n",
    "for i in range(11+1):\n",
    "    flag_matrix[i,5]=1 \n",
    "    \n",
    "    \n",
    "#cat5\n",
    "for i in range(11+1):\n",
    "    flag_matrix[i,6]=1  \n",
    "    \n",
    "    \n",
    "#cat6\n",
    "for i in range(19+1):\n",
    "    flag_matrix[i,7]=1 \n",
    "    \n",
    "    \n",
    "#cat7\n",
    "for i in range(16+1):\n",
    "    flag_matrix[i,8]=1  \n",
    "    \n",
    "    \n",
    "#cat8\n",
    "for i in range(9+1):\n",
    "    flag_matrix[i,9]=1 \n",
    "    \n",
    "    \n",
    "#cat9\n",
    "for i in range(45+1):\n",
    "    flag_matrix[i,10]=1 \n",
    "\n",
    "    \n",
    "#cat10\n",
    "for i in range(3+1):\n",
    "    flag_matrix[i,11]=1\n",
    "    \n",
    "#cat11\n",
    "for i in range(126+1):\n",
    "    flag_matrix[i,12]=1 \n",
    "    flag_matrix[i,13]=1 \n",
    "    flag_matrix[i,14]=1 \n",
    "\n",
    "flag_matrix[126+1,12]=1\n",
    "flag_matrix[126+1,13]=1\n",
    "\n",
    "\n",
    "#cat12\n",
    "for i in range(143+1):\n",
    "    flag_matrix[i,15]=1 \n",
    "\n",
    "    \n",
    "#cat13\n",
    "for i in range(144+1):\n",
    "    flag_matrix[i,16]=1 \n",
    "    \n",
    "    \n",
    "#cat14\n",
    "for i in range(84+1):\n",
    "    flag_matrix[i,17]=1 \n",
    "    flag_matrix[i,18]=1 \n",
    "\n",
    "flag_matrix[84+1,17]=1   \n",
    "\n",
    "\n",
    "#cat 15\n",
    "for i in range(47+1):\n",
    "    flag_matrix[i,19]=1 \n",
    "    \n",
    "    \n",
    "# cat 16\n",
    "for i in range(68+1):\n",
    "    flag_matrix[i,20]=1 \n",
    "    \n",
    "\n",
    "# cat 17\n",
    "for i in range(59+1):\n",
    "    flag_matrix[i,21]=1\n",
    "    \n",
    "    \n",
    "# cat 18\n",
    "for i in range(27+1):\n",
    "    flag_matrix[i,22]=1\n",
    "    \n",
    "\n",
    "# cat 19\n",
    "for i in range(56+1):\n",
    "    flag_matrix[i,23]=1\n",
    "    \n",
    "    \n",
    "# cat 20\n",
    "for i in range(88+1):\n",
    "    flag_matrix[i,24]=1\n",
    "    \n",
    "    \n",
    "# cat 21\n",
    "for i in range(33+1):\n",
    "    flag_matrix[i,25]=1\n",
    "    \n",
    "    \n",
    "# cat 22\n",
    "for i in range(52+1):\n",
    "    flag_matrix[i,26]=1\n",
    "    \n",
    "    \n",
    "    \n",
    "# cat 121\n",
    "for i in range(150+1):\n",
    "    flag_matrix[i,27]=1\n",
    "    flag_matrix[i,28]=1\n",
    "    flag_matrix[i,29]=1\n",
    "\n",
    "flag_matrix[150+1,27]=1\n",
    "flag_matrix[150+1,28]=1   \n",
    "flag_matrix[150+1+1,28]=1  \n",
    "\n",
    "\n",
    "\n",
    "# cat 122\n",
    "for i in range(64+1):\n",
    "    flag_matrix[i,30]=1\n",
    "    \n",
    "    \n",
    "# cat 123\n",
    "for i in range(36+1):\n",
    "    flag_matrix[i,31]=1\n",
    "    \n",
    "    \n",
    "# cat 124\n",
    "for i in range(60+1):\n",
    "    flag_matrix[i,32]=1\n",
    "    \n",
    "\n",
    "# cat 125\n",
    "for i in range(149+1):\n",
    "    flag_matrix[i,33]=1\n",
    "    flag_matrix[i,34]=1\n",
    "    flag_matrix[i,35]=1\n",
    "    flag_matrix[i,36]=1\n",
    "    flag_matrix[i,37]=1\n",
    "    flag_matrix[i,38]=1\n",
    "    \n",
    "for i in range(152+1):\n",
    "    flag_matrix[i,33]=1\n",
    "    flag_matrix[i,34]=1\n",
    "    flag_matrix[i,35]=1\n",
    "    flag_matrix[i,36]=1\n",
    "    flag_matrix[i,37]=1\n",
    "\n",
    "flag_matrix[152+1,35]=1\n",
    "flag_matrix[152+1,36]=1\n",
    "\n",
    "\n",
    "\n",
    "# cat 126\n",
    "for i in range(133+1):\n",
    "    flag_matrix[i,39]=1\n",
    "    flag_matrix[i,40]=1\n",
    "    flag_matrix[i,41]=1\n",
    "    \n",
    "flag_matrix[133+1,39]=1\n",
    "flag_matrix[133+1,40]=1\n",
    "flag_matrix[133+2,39]=1\n",
    "flag_matrix[133+2,40]=1\n",
    "flag_matrix[133+3,40]=1\n",
    "flag_matrix[133+4,40]=1\n",
    "\n",
    "\n",
    "\n",
    "\n",
    "# cat 127\n",
    "for i in range(123+1):\n",
    "    flag_matrix[i,42]=1\n",
    "    flag_matrix[i,43]=1\n",
    "    flag_matrix[i,44]=1\n",
    "    flag_matrix[i,45]=1\n",
    "\n",
    "flag_matrix[123+1,42]=1\n",
    "flag_matrix[123+1,43]=1\n",
    "flag_matrix[123+1,44]=1\n",
    "\n",
    "\n",
    "# cat 128\n",
    "for i in range(90+1):\n",
    "    flag_matrix[i,46]=1\n",
    "    \n",
    "    \n",
    "# cat 129\n",
    "for i in range(91+1):\n",
    "    flag_matrix[i,47]=1\n",
    "    flag_matrix[i,48]=1\n",
    "    \n",
    "    \n",
    "# cat 130\n",
    "for i in range(100+1):\n",
    "    flag_matrix[i,49]=1\n",
    "    \n",
    "    \n",
    "# cat 131\n",
    "for i in range(145+1):\n",
    "    flag_matrix[i,50]=1\n",
    "    flag_matrix[i,51]=1\n",
    "    flag_matrix[i,52]=1\n",
    "    flag_matrix[i,53]=1\n",
    "    flag_matrix[i,54]=1\n",
    "\n",
    "flag_matrix[145+1,52]=1\n",
    "\n",
    "\n",
    "# cat 132\n",
    "for i in range(96+1):\n",
    "    flag_matrix[i,55]=1\n",
    "    flag_matrix[i,56]=1\n",
    "    \n",
    "flag_matrix[96+1,55]=1\n",
    "\n",
    "\n",
    "# cat 133\n",
    "for i in range(107+1):\n",
    "    flag_matrix[i,57]=1\n",
    "    \n",
    "    \n",
    "# cat 134\n",
    "for i in range(75+1):\n",
    "    flag_matrix[i,58]=1\n",
    "    \n",
    "    \n",
    "# cat 135\n",
    "for i in range(155+1):\n",
    "    flag_matrix[i,59]=1\n",
    "    \n",
    "    \n",
    "    \n",
    "# cat 136\n",
    "for i in range(82+1):\n",
    "    flag_matrix[i,60]=1\n",
    "    \n",
    "    \n",
    "# cat 137\n",
    "for i in range(110+1):\n",
    "    flag_matrix[i,61]=1\n",
    "    \n",
    "    \n",
    "# cat 138\n",
    "for i in range(17+1):\n",
    "    flag_matrix[i,62]=1\n",
    "    \n",
    "    \n",
    "# cat 139\n",
    "for i in range(16+1):\n",
    "    flag_matrix[i,63]=1\n",
    "    \n",
    "    \n",
    " # cat 140\n",
    "for i in range(135+1):\n",
    "    flag_matrix[i,64]=1\n",
    "    flag_matrix[i,65]=1\n",
    "    \n",
    "flag_matrix[135+1,64]=1\n",
    "\n",
    "\n",
    "# cat 141\n",
    "for i in range(71+1):\n",
    "    flag_matrix[i,66]=1 \n",
    "    \n",
    "    \n",
    "# cat 142\n",
    "for i in range(50+1):\n",
    "    flag_matrix[i,67]=1    \n",
    "    \n",
    "    \n",
    "# cat 143\n",
    "for i in range(74+1):\n",
    "    flag_matrix[i,68]=1  \n",
    "    \n",
    "    \n",
    "# cat 146\n",
    "for i in range(140+1):\n",
    "    flag_matrix[i,69]=1\n",
    "    flag_matrix[i,70]=1\n",
    "    flag_matrix[i,71]=1\n",
    "    flag_matrix[i,72]=1\n",
    "    \n",
    "flag_matrix[140+1,69]=1\n",
    "flag_matrix[140+1,70]=1\n",
    "flag_matrix[140+1,71]=1\n",
    "\n",
    "\n",
    "\n",
    "# cat 147\n",
    "for i in range(89+1):\n",
    "    flag_matrix[i,73]=1  \n",
    "    flag_matrix[i,74]=1 \n",
    "  \n",
    "\n",
    "# cat 148\n",
    "for i in range(117+1):\n",
    "    flag_matrix[i,75]=1  \n",
    "    flag_matrix[i,76]=1 \n",
    "    \n",
    "    \n",
    "# cat 149\n",
    "for i in range(94+1):\n",
    "    flag_matrix[i,77]=1  \n",
    "\n",
    "    \n",
    "# cat 150\n",
    "for i in range(110+1):\n",
    "    flag_matrix[i,78]=1  \n",
    "\n",
    "    \n",
    "# cat 250\n",
    "for i in range(125+1):\n",
    "    flag_matrix[i,79]=1  \n",
    "    flag_matrix[i,80]=1  \n",
    "    flag_matrix[i,81]=1  \n",
    "    flag_matrix[i,82]=1  \n",
    "    flag_matrix[i,83]=1  \n",
    "\n",
    "for i in range(125+1+2):\n",
    "    flag_matrix[i,79]=1  \n",
    "    flag_matrix[i,80]=1  \n",
    "    flag_matrix[i,81]=1  \n",
    "    flag_matrix[i,82]=1  \n",
    "\n",
    "    \n",
    "# cat 251\n",
    "for i in range(167+1):\n",
    "    flag_matrix[i,84]=1 \n",
    "    \n",
    "    \n",
    "# cat 252\n",
    "for i in range(109+1):\n",
    "    flag_matrix[i,85]=1 \n",
    "    flag_matrix[i,86]=1\n",
    "    \n",
    "    \n",
    "# cat 253\n",
    "for i in range(119+1):\n",
    "    flag_matrix[i,87]=1 \n",
    "    flag_matrix[i,88]=1\n",
    "    \n",
    "    \n",
    "    \n",
    "# cat 354\n",
    "for i in range(108+1):\n",
    "    flag_matrix[i,89]=1 \n",
    "    flag_matrix[i,90]=1\n",
    "    flag_matrix[i,91]=1\n",
    "    \n",
    "    \n",
    "# cat 355\n",
    "for i in range(92+1):\n",
    "    flag_matrix[i,92]=1 \n",
    "    flag_matrix[i,93]=1\n",
    "    \n",
    "    \n",
    "# cat 356\n",
    "for i in range(113+1):\n",
    "    flag_matrix[i,94]=1 \n",
    "    flag_matrix[i,95]=1\n",
    "    \n",
    "flag_matrix[113+1,94]=1\n",
    "\n",
    "\n",
    "# cat 357\n",
    "for i in range(92+1):\n",
    "    flag_matrix[i,96]=1 \n",
    "\n",
    "    \n",
    "# cat 358\n",
    "for i in range(85+1):\n",
    "    flag_matrix[i,97]=1 \n",
    "    flag_matrix[i,98]=1 \n",
    "    \n",
    "flag_matrix[85+1,97]=1 \n",
    "\n",
    "\n",
    "\n",
    "# cat 359\n",
    "for i in range(78+1):\n",
    "    flag_matrix[i,99]=1 \n",
    "    flag_matrix[i,100]=1 \n",
    "    \n",
    "flag_matrix[78+1,99]=1 \n",
    "\n",
    "\n",
    "# cat 360\n",
    "for i in range(61+1):\n",
    "    flag_matrix[i,101]=1 \n",
    "    \n",
    "    \n",
    "\n",
    "# cat 462\n",
    "for i in range(29+1):\n",
    "    flag_matrix[i,102]=1 \n",
    "    \n",
    "    \n",
    "\n",
    "# cat 463\n",
    "for i in range(7+1):\n",
    "    flag_matrix[i,103]=1 \n",
    "    \n",
    "    \n",
    "# cat 464\n",
    "for i in range(8+1):\n",
    "    flag_matrix[i,104]=1 "
   ]
  },
  {
   "cell_type": "code",
   "execution_count": 90,
   "metadata": {},
   "outputs": [
    {
     "ename": "NameError",
     "evalue": "name 'curr_rowidx' is not defined",
     "output_type": "error",
     "traceback": [
      "\u001b[0;31m---------------------------------------------------------------------------\u001b[0m",
      "\u001b[0;31mNameError\u001b[0m                                 Traceback (most recent call last)",
      "\u001b[0;32m<ipython-input-90-082c86c2dcea>\u001b[0m in \u001b[0;36m<module>\u001b[0;34m\u001b[0m\n\u001b[1;32m      2\u001b[0m \u001b[0;34m\u001b[0m\u001b[0m\n\u001b[1;32m      3\u001b[0m \u001b[0;34m\u001b[0m\u001b[0m\n\u001b[0;32m----> 4\u001b[0;31m \u001b[0mtextrows_clean2x\u001b[0m\u001b[0;34m[\u001b[0m\u001b[0mcurr_rowidx\u001b[0m\u001b[0;34m]\u001b[0m\u001b[0;34m.\u001b[0m\u001b[0msplit\u001b[0m\u001b[0;34m(\u001b[0m\u001b[0;34m\" \"\u001b[0m\u001b[0;34m)\u001b[0m\u001b[0;34m\u001b[0m\u001b[0m\n\u001b[0m",
      "\u001b[0;31mNameError\u001b[0m: name 'curr_rowidx' is not defined"
     ]
    }
   ],
   "source": [
    "len(flag_matrix[:][-1])\n",
    "\n",
    "\n",
    "textrows_clean2x[curr_rowidx].split(\" \")"
   ]
  },
  {
   "cell_type": "code",
   "execution_count": null,
   "metadata": {},
   "outputs": [],
   "source": []
  },
  {
   "cell_type": "code",
   "execution_count": 91,
   "metadata": {},
   "outputs": [
    {
     "name": "stdout",
     "output_type": "stream",
     "text": [
      "73\n",
      "72\n"
     ]
    },
    {
     "data": {
      "text/plain": [
       "['do',\n",
       " 'none',\n",
       " 'us',\n",
       " \"we're\",\n",
       " 'ended',\n",
       " \"must've\",\n",
       " \"weren't\",\n",
       " \"she'd\",\n",
       " 'saw',\n",
       " 'various',\n",
       " 'coworker*',\n",
       " 'male',\n",
       " 'they',\n",
       " 'bother*',\n",
       " 'enrag*',\n",
       " 'hesita*',\n",
       " 'neurotic*',\n",
       " 'sighed',\n",
       " 'unwelcom*',\n",
       " 'definitely',\n",
       " 'joking',\n",
       " 'talent*',\n",
       " 'destroy*',\n",
       " 'inadequa*',\n",
       " 'revenge*',\n",
       " 'unsuccessful',\n",
       " 'uneas*',\n",
       " 'hellish',\n",
       " 'war',\n",
       " 'suffering',\n",
       " 'binding',\n",
       " 'everybod*',\n",
       " 'known',\n",
       " 'rearrang*',\n",
       " 'unknow*',\n",
       " 'ideas',\n",
       " 'unaccept*',\n",
       " 'purpose*',\n",
       " 'most',\n",
       " 'safe*',\n",
       " 'harmon*',\n",
       " 'stink*',\n",
       " 'checkup*',\n",
       " 'hair*',\n",
       " 'pap',\n",
       " 'toe',\n",
       " 'itch*',\n",
       " 'waist*',\n",
       " 'gyno*',\n",
       " 'testosterone*',\n",
       " 'stud',\n",
       " 'skinny*',\n",
       " 'brink',\n",
       " 'fastest',\n",
       " 'metre*',\n",
       " 'section',\n",
       " 'usually',\n",
       " 'going',\n",
       " 'inside',\n",
       " 'town',\n",
       " 'followup*',\n",
       " 'tempora*',\n",
       " 'dorm*',\n",
       " 'paper*',\n",
       " 'type*',\n",
       " 'lesson*',\n",
       " 'wins',\n",
       " 'hangin*',\n",
       " 'team*',\n",
       " 'studio',\n",
       " 'invest*',\n",
       " 'yuan']"
      ]
     },
     "execution_count": 91,
     "metadata": {},
     "output_type": "execute_result"
    }
   ],
   "source": [
    "words_matrix = np.empty(flag_matrix.shape, dtype=object)\n",
    "\n",
    "curr_rowidx = 85\n",
    "curr_row_flags = flag_matrix[curr_rowidx]\n",
    "curr_not_nulls_idx = [i for i,x in enumerate(curr_row_flags) if x==x]\n",
    "curr_text_row = textrows_clean2x[curr_rowidx].split(\" \")\n",
    "\n",
    "print(len(curr_not_nulls_idx))\n",
    "print(len(curr_text_row))\n",
    "\n",
    "textrows_clean2x[curr_rowidx].split(\" \")"
   ]
  },
  {
   "cell_type": "code",
   "execution_count": 92,
   "metadata": {},
   "outputs": [
    {
     "name": "stdout",
     "output_type": "stream",
     "text": [
      "error at idx 84\n",
      "error at idx 85\n",
      "error at idx 95\n"
     ]
    }
   ],
   "source": [
    "words_matrix = np.empty(flag_matrix.shape, dtype=object)\n",
    "\n",
    "\n",
    "for curr_rowidx in range(len(flag_matrix)):\n",
    "\n",
    "    curr_row_flags = flag_matrix[curr_rowidx]\n",
    "\n",
    "    curr_not_nulls_idx = [i for i,x in enumerate(curr_row_flags) if x==x]\n",
    "\n",
    "    curr_text_row = textrows_clean2x[curr_rowidx].split(\" \")\n",
    "\n",
    "\n",
    "    if len(curr_not_nulls_idx)!=len(curr_text_row):\n",
    "        print(\"error at idx \" + str(curr_rowidx))\n",
    "    else:\n",
    "\n",
    "        for k in range(len(curr_not_nulls_idx)):\n",
    "            idx = curr_not_nulls_idx[k]\n",
    "            words_matrix[curr_rowidx, idx] = curr_text_row[k]"
   ]
  },
  {
   "cell_type": "code",
   "execution_count": 93,
   "metadata": {},
   "outputs": [
    {
     "data": {
      "text/plain": [
       "['difference*',\n",
       " 'nobod*',\n",
       " 'upon',\n",
       " \"we'll\",\n",
       " 'emailed',\n",
       " 'mustve',\n",
       " \"we're\",\n",
       " \"shan't\",\n",
       " 'sat',\n",
       " 'isnt',\n",
       " 'unique',\n",
       " 'cousin*',\n",
       " 'mails',\n",
       " 'themselves',\n",
       " 'boring',\n",
       " 'enjoy*',\n",
       " 'hero*',\n",
       " 'nervous*',\n",
       " 'sigh',\n",
       " 'unsure*',\n",
       " 'definite',\n",
       " 'joke*',\n",
       " 'sweets',\n",
       " 'despis*',\n",
       " 'impolite*',\n",
       " 'restless*',\n",
       " 'unsavo*',\n",
       " 'uncontrol*',\n",
       " 'hell',\n",
       " 'violent*',\n",
       " 'sufferer*',\n",
       " 'betting',\n",
       " 'every',\n",
       " 'knowledg*',\n",
       " 'really',\n",
       " 'undoubt*',\n",
       " 'idea',\n",
       " 'thoughts',\n",
       " 'provok*',\n",
       " \"might've\",\n",
       " 'rigid*',\n",
       " 'harde*',\n",
       " 'stench*',\n",
       " 'cardio*',\n",
       " 'gyno*',\n",
       " 'palms',\n",
       " 'titty',\n",
       " 'intestin*',\n",
       " 'vein*',\n",
       " 'gynecolog**',\n",
       " 'tendoni*',\n",
       " 'std*',\n",
       " 'skinni*',\n",
       " 'brings',\n",
       " 'faster',\n",
       " 'meter*',\n",
       " 'seconds',\n",
       " 'usual',\n",
       " 'goes',\n",
       " 'inner*',\n",
       " 'toward*',\n",
       " 'firsts',\n",
       " 'synch*',\n",
       " 'doctor*',\n",
       " 'overworked',\n",
       " 'tutor*',\n",
       " 'lead*',\n",
       " 'winn*',\n",
       " 'gym*',\n",
       " 'tanning',\n",
       " 'stove*',\n",
       " 'insurance',\n",
       " 'yen']"
      ]
     },
     "execution_count": 93,
     "metadata": {},
     "output_type": "execute_result"
    }
   ],
   "source": [
    "textrows_clean2x[84].split(\" \")"
   ]
  },
  {
   "cell_type": "code",
   "execution_count": 94,
   "metadata": {},
   "outputs": [
    {
     "data": {
      "text/plain": [
       "['Funct',\n",
       " 'Pronoun',\n",
       " 'Ppron',\n",
       " 'I',\n",
       " 'We',\n",
       " 'You',\n",
       " 'SheHe',\n",
       " 'They',\n",
       " 'Ipron',\n",
       " 'Article',\n",
       " 'Verbs',\n",
       " 'AuxVb',\n",
       " 'Past',\n",
       " 'Present',\n",
       " 'Future',\n",
       " 'Adverbs',\n",
       " 'Prep',\n",
       " 'Conj',\n",
       " 'Negate',\n",
       " 'Quant',\n",
       " 'Numbers',\n",
       " 'Swear',\n",
       " 'Social',\n",
       " 'Family',\n",
       " 'Friends',\n",
       " 'Humans',\n",
       " 'Affect',\n",
       " 'Posemo',\n",
       " 'Negemo',\n",
       " 'Anx',\n",
       " 'Anger',\n",
       " 'Sad',\n",
       " 'Insight',\n",
       " 'Cause',\n",
       " 'Discrep',\n",
       " 'Tentat',\n",
       " 'Certain',\n",
       " 'Inhib',\n",
       " 'Incl',\n",
       " 'Excl',\n",
       " 'Percept',\n",
       " 'See',\n",
       " 'Hear',\n",
       " 'Feel',\n",
       " 'Bio',\n",
       " 'Body',\n",
       " 'Health',\n",
       " 'Sexual',\n",
       " 'Ingest',\n",
       " 'Relativ',\n",
       " 'Motion',\n",
       " 'Space',\n",
       " 'Time',\n",
       " 'Work',\n",
       " 'Achiev',\n",
       " 'Leisure',\n",
       " 'Home',\n",
       " 'Money',\n",
       " 'Relig',\n",
       " 'Death',\n",
       " 'Assent',\n",
       " 'Nonflu',\n",
       " 'Filler']"
      ]
     },
     "execution_count": 94,
     "metadata": {},
     "output_type": "execute_result"
    }
   ],
   "source": [
    "liwc_categories"
   ]
  },
  {
   "cell_type": "code",
   "execution_count": 95,
   "metadata": {},
   "outputs": [
    {
     "data": {
      "text/plain": [
       "'Funct'"
      ]
     },
     "execution_count": 95,
     "metadata": {},
     "output_type": "execute_result"
    }
   ],
   "source": [
    "liwc_categories[0]"
   ]
  },
  {
   "cell_type": "code",
   "execution_count": 96,
   "metadata": {},
   "outputs": [],
   "source": [
    "liwc_idx_dict = {\n",
    "    'Funct': [0,1,2],\n",
    " 'Pronoun':[3],\n",
    " 'Ppron':[4],\n",
    " 'I':[5],\n",
    " 'We':[6],\n",
    " 'You':[7],\n",
    " 'SheHe':[8],\n",
    " 'They':[9],\n",
    " 'Ipron':[10],\n",
    " 'Article':[11],\n",
    " 'Verbs':[12,13,14],\n",
    " 'AuxVb':[15],\n",
    " 'Past':[16],\n",
    " 'Present':[17,18],\n",
    " 'Future':[19],\n",
    " 'Adverbs':[20],\n",
    " 'Prep':[21],\n",
    " 'Conj':[22],\n",
    " 'Negate':[23],\n",
    " 'Quant':[24],\n",
    " 'Numbers':[25],\n",
    " 'Swear':[26],\n",
    " 'Social':[27,28,29],\n",
    " 'Family':[30],\n",
    " 'Friends':[31],\n",
    " 'Humans':[32],\n",
    " 'Affect':[33,34,35,36,37,38],\n",
    " 'Posemo':[39,40,41],\n",
    " 'Negemo':[42,43,44,45],\n",
    " 'Anx':[46],\n",
    " 'Anger':[47,48],\n",
    " 'Sad':[49],\n",
    " 'CogMech':[50,51,52,53,54],\n",
    " 'Insight':[55,56],\n",
    " 'Cause':[57],\n",
    " 'Discrep':[58],\n",
    " 'Tentat':[59],\n",
    " 'Certain':[60],\n",
    " 'Inhib':[61],\n",
    " 'Incl':[62],\n",
    " 'Excl':[63],\n",
    " 'Percept':[64,65],\n",
    " 'See':[66],\n",
    " 'Hear':[67],\n",
    " 'Feel':[68],\n",
    " 'Bio':[69,70,71,72],\n",
    " 'Body':[73,74],\n",
    " 'Health':[75,76],\n",
    " 'Sexual':[77],\n",
    " 'Ingest':[78],\n",
    " 'Relativ':[79,80,81,82,83],\n",
    " 'Motion':[84],\n",
    " 'Space':[85,86],\n",
    " 'Time':[87,88],\n",
    " 'Work':[89,90,91],\n",
    " 'Achiev':[92,93],\n",
    " 'Leisure':[94,95],\n",
    " 'Home':[96],\n",
    " 'Money':[97,98],\n",
    " 'Relig':[99,100],\n",
    " 'Death':[101],\n",
    " 'Assent':[102],\n",
    " 'Nonflu':[103],\n",
    " 'Filler':[104]\n",
    "}"
   ]
  },
  {
   "cell_type": "code",
   "execution_count": 97,
   "metadata": {},
   "outputs": [],
   "source": [
    "liwc_dict = {}\n",
    "\n",
    "df_words = pd.DataFrame(words_matrix)\n",
    "\n",
    "for cat in liwc_idx_dict:\n",
    "    idx_list = liwc_idx_dict[cat]\n",
    "    \n",
    "    wordslist = []\n",
    "    for idx in idx_list:\n",
    "        wordslist.extend(df_words.iloc[:,idx].dropna().tolist())\n",
    "        \n",
    "    liwc_dict[cat] = wordslist"
   ]
  },
  {
   "cell_type": "code",
   "execution_count": 98,
   "metadata": {
    "scrolled": false
   },
   "outputs": [
    {
     "data": {
      "text/plain": [
       "['autops*',\n",
       " 'alive',\n",
       " 'bereave*',\n",
       " 'burial*',\n",
       " 'buried',\n",
       " 'bury',\n",
       " 'casket*',\n",
       " 'casualt*',\n",
       " 'cemet*',\n",
       " 'coffin*',\n",
       " 'coroner*',\n",
       " 'corpse*',\n",
       " 'cremat*',\n",
       " 'crypt*',\n",
       " 'dead',\n",
       " 'death*',\n",
       " 'decease*',\n",
       " 'demise',\n",
       " 'die',\n",
       " 'died',\n",
       " 'dies',\n",
       " 'DOA',\n",
       " 'drown*',\n",
       " 'dying',\n",
       " 'embalm*',\n",
       " 'epidemic*',\n",
       " 'execution*',\n",
       " 'exterminat*',\n",
       " 'fatal*',\n",
       " 'funer*',\n",
       " 'genocid*',\n",
       " 'ghost*',\n",
       " 'grave*',\n",
       " 'grief',\n",
       " 'griev*',\n",
       " 'hearse*',\n",
       " 'holocaust*',\n",
       " 'homocid*',\n",
       " 'immortal*',\n",
       " 'kill*',\n",
       " 'lethal*',\n",
       " 'lynch*',\n",
       " 'manslaughter*',\n",
       " 'massacre*',\n",
       " 'mausoleum',\n",
       " 'morgue*',\n",
       " 'mortal*',\n",
       " 'mortician',\n",
       " 'mourn*',\n",
       " 'murder*',\n",
       " 'obit*',\n",
       " 'od',\n",
       " 'oded',\n",
       " 'overdosed',\n",
       " 'pallbearer*',\n",
       " 'plague*',\n",
       " 'reaper*',\n",
       " 'slaughter*',\n",
       " 'suicid',\n",
       " 'tomb*',\n",
       " 'urn*',\n",
       " 'war']"
      ]
     },
     "execution_count": 98,
     "metadata": {},
     "output_type": "execute_result"
    }
   ],
   "source": [
    "liwc_dict[\"Death\"]"
   ]
  },
  {
   "cell_type": "code",
   "execution_count": 99,
   "metadata": {},
   "outputs": [],
   "source": [
    "train_filename = \"train2.tsv\"\n",
    "\n",
    "\n",
    "train_file = open(train_filename, 'rb')\n",
    "lines = train_file.read()\n",
    "lines = lines.decode(\"utf-8\")\n",
    "\n",
    "table = []\n",
    "for line in lines.strip().split('\\n'):\n",
    "    tmp = line.strip().split('\\t')\n",
    "    \n",
    "    while len(tmp) < 16:\n",
    "        tmp.append('')\n",
    "    table.append([tmp[i].strip() for i in range(16)])"
   ]
  },
  {
   "cell_type": "code",
   "execution_count": 100,
   "metadata": {},
   "outputs": [
    {
     "data": {
      "text/plain": [
       "\"Column 1: the ID of the statement ([ID].json).\\nColumn 2: the label.\\nColumn 3: the statement.\\nColumn 4: the subject(s).\\nColumn 5: the speaker.\\nColumn 6: the speaker's job title.\\nColumn 7: the state info.\\nColumn 8: the party affiliation.\\nColumn 9-13: the total credit history count, including the current statement.\\n9: barely true counts.\\n10: false counts.\\n11: half true counts.\\n12: mostly true counts.\\n13: pants on fire counts.\\nColumn 14: the context (venue / location of the speech or statement).\\n\\nColumn 15 extra: justification  \""
      ]
     },
     "execution_count": 100,
     "metadata": {},
     "output_type": "execute_result"
    }
   ],
   "source": [
    "'''Column 1: the ID of the statement ([ID].json).\n",
    "Column 2: the label.\n",
    "Column 3: the statement.\n",
    "Column 4: the subject(s).\n",
    "Column 5: the speaker.\n",
    "Column 6: the speaker's job title.\n",
    "Column 7: the state info.\n",
    "Column 8: the party affiliation.\n",
    "Column 9-13: the total credit history count, including the current statement.\n",
    "9: barely true counts.\n",
    "10: false counts.\n",
    "11: half true counts.\n",
    "12: mostly true counts.\n",
    "13: pants on fire counts.\n",
    "Column 14: the context (venue / location of the speech or statement).\n",
    "\n",
    "Column 15 extra: justification  '''"
   ]
  },
  {
   "cell_type": "code",
   "execution_count": 101,
   "metadata": {},
   "outputs": [
    {
     "data": {
      "text/html": [
       "<div>\n",
       "<style scoped>\n",
       "    .dataframe tbody tr th:only-of-type {\n",
       "        vertical-align: middle;\n",
       "    }\n",
       "\n",
       "    .dataframe tbody tr th {\n",
       "        vertical-align: top;\n",
       "    }\n",
       "\n",
       "    .dataframe thead th {\n",
       "        text-align: right;\n",
       "    }\n",
       "</style>\n",
       "<table border=\"1\" class=\"dataframe\">\n",
       "  <thead>\n",
       "    <tr style=\"text-align: right;\">\n",
       "      <th></th>\n",
       "      <th>id</th>\n",
       "      <th>json_ID</th>\n",
       "      <th>label</th>\n",
       "      <th>statement</th>\n",
       "      <th>subjects</th>\n",
       "      <th>speaker</th>\n",
       "      <th>speaker_title</th>\n",
       "      <th>state</th>\n",
       "      <th>party</th>\n",
       "      <th>barely_true_counts</th>\n",
       "      <th>false_counts</th>\n",
       "      <th>half_true_counts</th>\n",
       "      <th>mostly_true_counts</th>\n",
       "      <th>pants_on_fire_counts</th>\n",
       "      <th>context</th>\n",
       "      <th>justification</th>\n",
       "    </tr>\n",
       "  </thead>\n",
       "  <tbody>\n",
       "    <tr>\n",
       "      <th>0</th>\n",
       "      <td>0</td>\n",
       "      <td>2635.json</td>\n",
       "      <td>false</td>\n",
       "      <td>Says the Annies List political group supports ...</td>\n",
       "      <td>abortion</td>\n",
       "      <td>dwayne-bohac</td>\n",
       "      <td>State representative</td>\n",
       "      <td>Texas</td>\n",
       "      <td>republican</td>\n",
       "      <td>0.0</td>\n",
       "      <td>1.0</td>\n",
       "      <td>0.0</td>\n",
       "      <td>0.0</td>\n",
       "      <td>0.0</td>\n",
       "      <td>a mailer</td>\n",
       "      <td>That's a premise that he fails to back up. Ann...</td>\n",
       "    </tr>\n",
       "    <tr>\n",
       "      <th>1</th>\n",
       "      <td>1</td>\n",
       "      <td>10540.json</td>\n",
       "      <td>half-true</td>\n",
       "      <td>When did the decline of coal start? It started...</td>\n",
       "      <td>energy,history,job-accomplishments</td>\n",
       "      <td>scott-surovell</td>\n",
       "      <td>State delegate</td>\n",
       "      <td>Virginia</td>\n",
       "      <td>democrat</td>\n",
       "      <td>0.0</td>\n",
       "      <td>0.0</td>\n",
       "      <td>1.0</td>\n",
       "      <td>1.0</td>\n",
       "      <td>0.0</td>\n",
       "      <td>a floor speech.</td>\n",
       "      <td>\"Surovell said the decline of coal \"\"started w...</td>\n",
       "    </tr>\n",
       "    <tr>\n",
       "      <th>2</th>\n",
       "      <td>2</td>\n",
       "      <td>324.json</td>\n",
       "      <td>mostly-true</td>\n",
       "      <td>\"Hillary Clinton agrees with John McCain \"\"by ...</td>\n",
       "      <td>foreign-policy</td>\n",
       "      <td>barack-obama</td>\n",
       "      <td>President</td>\n",
       "      <td>Illinois</td>\n",
       "      <td>democrat</td>\n",
       "      <td>70.0</td>\n",
       "      <td>71.0</td>\n",
       "      <td>160.0</td>\n",
       "      <td>163.0</td>\n",
       "      <td>9.0</td>\n",
       "      <td>Denver</td>\n",
       "      <td>\"Obama said he would have voted against the am...</td>\n",
       "    </tr>\n",
       "    <tr>\n",
       "      <th>3</th>\n",
       "      <td>3</td>\n",
       "      <td>1123.json</td>\n",
       "      <td>false</td>\n",
       "      <td>Health care reform legislation is likely to ma...</td>\n",
       "      <td>health-care</td>\n",
       "      <td>blog-posting</td>\n",
       "      <td></td>\n",
       "      <td></td>\n",
       "      <td>none</td>\n",
       "      <td>7.0</td>\n",
       "      <td>19.0</td>\n",
       "      <td>3.0</td>\n",
       "      <td>5.0</td>\n",
       "      <td>44.0</td>\n",
       "      <td>a news release</td>\n",
       "      <td>\"The release may have a point that Mikulskis c...</td>\n",
       "    </tr>\n",
       "    <tr>\n",
       "      <th>4</th>\n",
       "      <td>4</td>\n",
       "      <td>9028.json</td>\n",
       "      <td>half-true</td>\n",
       "      <td>The economic turnaround started at the end of ...</td>\n",
       "      <td>economy,jobs</td>\n",
       "      <td>charlie-crist</td>\n",
       "      <td></td>\n",
       "      <td>Florida</td>\n",
       "      <td>democrat</td>\n",
       "      <td>15.0</td>\n",
       "      <td>9.0</td>\n",
       "      <td>20.0</td>\n",
       "      <td>19.0</td>\n",
       "      <td>2.0</td>\n",
       "      <td>an interview on CNN</td>\n",
       "      <td>\"Crist said that the economic \"\"turnaround sta...</td>\n",
       "    </tr>\n",
       "  </tbody>\n",
       "</table>\n",
       "</div>"
      ],
      "text/plain": [
       "  id     json_ID        label  \\\n",
       "0  0   2635.json        false   \n",
       "1  1  10540.json    half-true   \n",
       "2  2    324.json  mostly-true   \n",
       "3  3   1123.json        false   \n",
       "4  4   9028.json    half-true   \n",
       "\n",
       "                                           statement  \\\n",
       "0  Says the Annies List political group supports ...   \n",
       "1  When did the decline of coal start? It started...   \n",
       "2  \"Hillary Clinton agrees with John McCain \"\"by ...   \n",
       "3  Health care reform legislation is likely to ma...   \n",
       "4  The economic turnaround started at the end of ...   \n",
       "\n",
       "                             subjects         speaker         speaker_title  \\\n",
       "0                            abortion    dwayne-bohac  State representative   \n",
       "1  energy,history,job-accomplishments  scott-surovell        State delegate   \n",
       "2                      foreign-policy    barack-obama             President   \n",
       "3                         health-care    blog-posting                         \n",
       "4                        economy,jobs   charlie-crist                         \n",
       "\n",
       "      state       party barely_true_counts false_counts half_true_counts  \\\n",
       "0     Texas  republican                0.0          1.0              0.0   \n",
       "1  Virginia    democrat                0.0          0.0              1.0   \n",
       "2  Illinois    democrat               70.0         71.0            160.0   \n",
       "3                  none                7.0         19.0              3.0   \n",
       "4   Florida    democrat               15.0          9.0             20.0   \n",
       "\n",
       "  mostly_true_counts pants_on_fire_counts              context  \\\n",
       "0                0.0                  0.0             a mailer   \n",
       "1                1.0                  0.0      a floor speech.   \n",
       "2              163.0                  9.0               Denver   \n",
       "3                5.0                 44.0       a news release   \n",
       "4               19.0                  2.0  an interview on CNN   \n",
       "\n",
       "                                       justification  \n",
       "0  That's a premise that he fails to back up. Ann...  \n",
       "1  \"Surovell said the decline of coal \"\"started w...  \n",
       "2  \"Obama said he would have voted against the am...  \n",
       "3  \"The release may have a point that Mikulskis c...  \n",
       "4  \"Crist said that the economic \"\"turnaround sta...  "
      ]
     },
     "execution_count": 101,
     "metadata": {},
     "output_type": "execute_result"
    }
   ],
   "source": [
    "df_table = pd.DataFrame(table)\n",
    "df_table.columns = [\"id\",\"json_ID\",\"label\",\"statement\",\"subjects\",\"speaker\",\"speaker_title\",\"state\",\"party\",\n",
    "                   \"barely_true_counts\",\"false_counts\",\"half_true_counts\",\"mostly_true_counts\",\"pants_on_fire_counts\",\n",
    "                   \"context\",\"justification\"]\n",
    "\n",
    "df_table.head()"
   ]
  },
  {
   "cell_type": "code",
   "execution_count": null,
   "metadata": {},
   "outputs": [],
   "source": []
  },
  {
   "cell_type": "code",
   "execution_count": 103,
   "metadata": {},
   "outputs": [
    {
     "name": "stdout",
     "output_type": "stream",
     "text": [
      "Anna was about twentyfour when she hits the third trimester of pregnancy\n"
     ]
    },
    {
     "data": {
      "text/plain": [
       "['Anna',\n",
       " 'was',\n",
       " 'about',\n",
       " 'twentyfour',\n",
       " 'when',\n",
       " 'she',\n",
       " 'hits',\n",
       " 'the',\n",
       " 'third',\n",
       " 'trimester',\n",
       " 'of',\n",
       " 'pregnancy']"
      ]
     },
     "execution_count": 103,
     "metadata": {},
     "output_type": "execute_result"
    }
   ],
   "source": [
    "onestatement = df_table.statement[0]\n",
    "\n",
    "onestatement = \"Anna was about twentyfour when she hits the third trimester of pregnancy\"\n",
    "\n",
    "print(onestatement)\n",
    "\n",
    "\n",
    "onestatement.split()"
   ]
  },
  {
   "cell_type": "code",
   "execution_count": 104,
   "metadata": {},
   "outputs": [
    {
     "data": {
      "text/plain": [
       "'Anna was about twentyfour when she hits the third trimester of pregnancy'"
      ]
     },
     "execution_count": 104,
     "metadata": {},
     "output_type": "execute_result"
    }
   ],
   "source": [
    "onestatement"
   ]
  },
  {
   "cell_type": "code",
   "execution_count": 105,
   "metadata": {},
   "outputs": [
    {
     "data": {
      "text/plain": [
       "['anna',\n",
       " 'was',\n",
       " 'about',\n",
       " 'twentyfour',\n",
       " 'when',\n",
       " 'she',\n",
       " 'hits',\n",
       " 'the',\n",
       " 'third',\n",
       " 'trimester',\n",
       " 'of',\n",
       " 'pregnancy']"
      ]
     },
     "execution_count": 105,
     "metadata": {},
     "output_type": "execute_result"
    }
   ],
   "source": [
    "import re\n",
    "from nltk.tokenize import word_tokenize\n",
    "from nltk.tokenize import RegexpTokenizer\n",
    "\n",
    "\n",
    "\n",
    "#tokens = re.findall(\"all\", onestatement)\n",
    "\n",
    "tokenizer = RegexpTokenizer(r'\\w+')\n",
    "tokens = tokenizer.tokenize(onestatement)\n",
    "tokens = [token.lower() for token in tokens]\n",
    "tokens"
   ]
  },
  {
   "cell_type": "code",
   "execution_count": 227,
   "metadata": {},
   "outputs": [],
   "source": [
    "liwc_dict_inv = {}\n",
    "for key in liwc_dict:\n",
    "    for word in liwc_dict[key]:\n",
    "        if word in liwc_dict_inv:\n",
    "            liwc_dict_inv[word].extend([key])\n",
    "        else:\n",
    "            liwc_dict_inv[word]=[key]"
   ]
  },
  {
   "cell_type": "code",
   "execution_count": 228,
   "metadata": {},
   "outputs": [
    {
     "data": {
      "text/plain": [
       "['Funct', 'Adverbs', 'Conj', 'Relativ', 'Time']"
      ]
     },
     "execution_count": 228,
     "metadata": {},
     "output_type": "execute_result"
    }
   ],
   "source": [
    "liwc_dict_inv[\"when\"]"
   ]
  },
  {
   "cell_type": "code",
   "execution_count": 248,
   "metadata": {
    "scrolled": false
   },
   "outputs": [],
   "source": [
    "import fnmatch\n",
    "\n",
    "\n",
    "def makeMatchList(sentence):\n",
    "    \n",
    "    idx = sentence[0]\n",
    "    sentence = sentence[1]\n",
    "    tokenizer = RegexpTokenizer(r'\\w+')\n",
    "    tokens = tokenizer.tokenize(sentence)\n",
    "    tokens = [token.lower() for token in tokens]\n",
    "    \n",
    "    matchdict_words = {}\n",
    "    matchdict_counts = {}\n",
    "    for token in tokens:\n",
    "        for key in liwc_dict:\n",
    "            for wordindict in liwc_dict[key]:\n",
    "                if fnmatch.fnmatch(token, wordindict):\n",
    "                    if key in matchdict_words:\n",
    "                        matchdict_words[key] = matchdict_words[key]+[token]\n",
    "                        matchdict_counts[key]+=1\n",
    "                    else:\n",
    "                        matchdict_words[key] = [token]\n",
    "                        matchdict_counts[key]=1\n",
    "                        \n",
    "    matchdict_counts[\"totcount\"] = len(tokens)  \n",
    "    matchdict_counts[\"sentence_idx\"] = idx\n",
    "    return matchdict_counts\n",
    "\n",
    "\n",
    "\n",
    "def makeMatchList_inv(sentence):\n",
    "\n",
    "    idx = sentence[0]\n",
    "    sentence = sentence[1]\n",
    "    tokenizer = RegexpTokenizer(r'\\w+')\n",
    "    tokens = tokenizer.tokenize(sentence)\n",
    "    tokens = [token.lower() for token in tokens]\n",
    "\n",
    "    matchdict_words = {}\n",
    "\n",
    "    for token in tokens:\n",
    "        for wordindict in liwc_dict_inv:\n",
    "            if fnmatch.fnmatch(token, wordindict): \n",
    "                if token in matchdict_words:\n",
    "                    matchdict_words[token] = matchdict_words[token].append(liwc_dict_inv[wordindict])\n",
    "                else:\n",
    "                    matchdict_words[token] = liwc_dict_inv[wordindict]\n",
    "                    \n",
    "            continue\n",
    "                \n",
    "    #matchdict_counts[\"totcount\"] = len(tokens)  \n",
    "    #matchdict_counts[\"sentence_idx\"] = idx\n",
    "    return matchdict_words \n",
    "\n",
    "\n",
    "\n",
    "def makeMatchList_inv2(sentence):\n",
    "\n",
    "    liwc_dict_inv_tmp = liwc_dict_inv.copy()\n",
    "    idx = sentence[0]\n",
    "    sentence = sentence[1]\n",
    "    tokenizer = RegexpTokenizer(r'\\w+')\n",
    "    tokens = tokenizer.tokenize(sentence)\n",
    "    tokens = [token.lower() for token in tokens]\n",
    "    len_sentence = len(tokens)\n",
    "\n",
    "    matchdict_words = {}\n",
    "\n",
    "    for token in tokens:\n",
    "        for wordindict in liwc_dict_inv:\n",
    "            \n",
    "            if \"*\" in wordindict:\n",
    "                if token.startswith(wordindict.split(\"*\")[0]):\n",
    "                    \n",
    "                    if token in matchdict_words:\n",
    "                        matchdict_words[token] = matchdict_words[token]+liwc_dict_inv_tmp[wordindict]\n",
    "                    else:\n",
    "                        matchdict_words[token] = liwc_dict_inv_tmp[wordindict]\n",
    "                    \n",
    "                else:\n",
    "                    continue\n",
    "                    \n",
    "            elif len(token)!=len(wordindict):\n",
    "                continue\n",
    "            \n",
    "            elif token==wordindict:\n",
    "                if token in matchdict_words:\n",
    "                    matchdict_words[token] = matchdict_words[token]+liwc_dict_inv_tmp[wordindict]\n",
    "                else:\n",
    "                    matchdict_words[token] = liwc_dict_inv_tmp[wordindict]\n",
    "                \n",
    "\n",
    "    liwc_counts = {}\n",
    "    for key in matchdict_words:\n",
    "        for word in matchdict_words[key]:\n",
    "            if word in liwc_counts:\n",
    "                liwc_counts[word]+=1/len(tokens)\n",
    "            else:\n",
    "                liwc_counts[word]=1/len(tokens) \n",
    "    \n",
    "    return (idx, liwc_counts) \n",
    "\n"
   ]
  },
  {
   "cell_type": "code",
   "execution_count": 241,
   "metadata": {},
   "outputs": [
    {
     "ename": "NameError",
     "evalue": "name 'matchdict_words' is not defined",
     "output_type": "error",
     "traceback": [
      "\u001b[0;31m---------------------------------------------------------------------------\u001b[0m",
      "\u001b[0;31mNameError\u001b[0m                                 Traceback (most recent call last)",
      "\u001b[0;32m<ipython-input-241-053b098c2a1f>\u001b[0m in \u001b[0;36m<module>\u001b[0;34m\u001b[0m\n\u001b[1;32m      1\u001b[0m \u001b[0mliwc_counts\u001b[0m \u001b[0;34m=\u001b[0m \u001b[0;34m{\u001b[0m\u001b[0;34m}\u001b[0m\u001b[0;34m\u001b[0m\u001b[0m\n\u001b[0;32m----> 2\u001b[0;31m \u001b[0;32mfor\u001b[0m \u001b[0mkey\u001b[0m \u001b[0;32min\u001b[0m \u001b[0mmatchdict_words\u001b[0m\u001b[0;34m:\u001b[0m\u001b[0;34m\u001b[0m\u001b[0m\n\u001b[0m\u001b[1;32m      3\u001b[0m     \u001b[0;32mfor\u001b[0m \u001b[0mword\u001b[0m \u001b[0;32min\u001b[0m \u001b[0mmatchdict_words\u001b[0m\u001b[0;34m[\u001b[0m\u001b[0mkey\u001b[0m\u001b[0;34m]\u001b[0m\u001b[0;34m:\u001b[0m\u001b[0;34m\u001b[0m\u001b[0m\n\u001b[1;32m      4\u001b[0m         \u001b[0;32mif\u001b[0m \u001b[0mword\u001b[0m \u001b[0;32min\u001b[0m \u001b[0mliwc_counts\u001b[0m\u001b[0;34m:\u001b[0m\u001b[0;34m\u001b[0m\u001b[0m\n\u001b[1;32m      5\u001b[0m             \u001b[0mliwc_counts\u001b[0m\u001b[0;34m[\u001b[0m\u001b[0mword\u001b[0m\u001b[0;34m]\u001b[0m\u001b[0;34m+=\u001b[0m\u001b[0;36m1\u001b[0m\u001b[0;34m/\u001b[0m\u001b[0mlen\u001b[0m\u001b[0;34m(\u001b[0m\u001b[0mtokens\u001b[0m\u001b[0;34m)\u001b[0m\u001b[0;34m\u001b[0m\u001b[0m\n",
      "\u001b[0;31mNameError\u001b[0m: name 'matchdict_words' is not defined"
     ]
    }
   ],
   "source": [
    "liwc_counts = {}\n",
    "for key in matchdict_words:\n",
    "    for word in matchdict_words[key]:\n",
    "        if word in liwc_counts:\n",
    "            liwc_counts[word]+=1/len(tokens)\n",
    "        else:\n",
    "            liwc_counts[word]=1/len(tokens) "
   ]
  },
  {
   "cell_type": "code",
   "execution_count": 242,
   "metadata": {},
   "outputs": [
    {
     "data": {
      "text/plain": [
       "['Funct', 'Adverbs', 'Conj', 'Relativ', 'Time']"
      ]
     },
     "execution_count": 242,
     "metadata": {},
     "output_type": "execute_result"
    }
   ],
   "source": [
    "liwc_dict_inv[\"when\"]"
   ]
  },
  {
   "cell_type": "code",
   "execution_count": 243,
   "metadata": {},
   "outputs": [],
   "source": [
    "onestatement\n",
    "\n",
    "anotherstatement = 'When did the decline of coal start? It started when natural gas took off that started to begin in (President George W.) Bushs administration.'"
   ]
  },
  {
   "cell_type": "code",
   "execution_count": 244,
   "metadata": {},
   "outputs": [
    {
     "name": "stdout",
     "output_type": "stream",
     "text": [
      "Time elapsed on working...\n",
      "when\n",
      "when\n",
      "did\n",
      "did\n",
      "the\n",
      "the\n",
      "decline\n",
      "of\n",
      "of\n",
      "coal\n",
      "start\n",
      "start\n",
      "it\n",
      "it\n",
      "started\n",
      "started\n",
      "when\n",
      "when\n",
      "natural\n",
      "gas\n",
      "took\n",
      "took\n",
      "off\n",
      "off\n",
      "that\n",
      "that\n",
      "started\n",
      "started\n",
      "to\n",
      "to\n",
      "begin\n",
      "begin\n",
      "in\n",
      "in\n",
      "president\n",
      "george\n",
      "w\n",
      "bushs\n",
      "administration\n",
      "{'when': ['Funct', 'Adverbs', 'Conj', 'Relativ', 'Time', 'Funct', 'Adverbs', 'Conj', 'Relativ', 'Time'], 'did': ['Funct', 'Verbs', 'AuxVb', 'Past'], 'the': ['Funct', 'Article'], 'of': ['Funct', 'Prep'], 'start': ['Verbs', 'Present', 'Relativ', 'Time'], 'it': ['Funct', 'Pronoun', 'Ipron'], 'started': ['Verbs', 'Past', 'Relativ', 'Time', 'Verbs', 'Past', 'Relativ', 'Time'], 'took': ['Verbs', 'Past', 'Relativ', 'Motion'], 'off': ['Funct', 'Prep', 'Relativ', 'Space'], 'that': ['Funct', 'Pronoun', 'Ipron'], 'to': ['Funct', 'Prep'], 'begin': ['Verbs', 'Present', 'Relativ', 'Time'], 'in': ['Funct', 'Prep', 'Relativ', 'Space'], 'president': ['Work', 'Achiev'], 'administration': ['Work']}\n",
      "Time consumed in working:  0.06966400146484375\n"
     ]
    },
    {
     "data": {
      "text/plain": [
       "(0,\n",
       " {'Funct': 0.4166666666666667,\n",
       "  'Adverbs': 0.08333333333333333,\n",
       "  'Conj': 0.08333333333333333,\n",
       "  'Relativ': 0.375,\n",
       "  'Time': 0.24999999999999997,\n",
       "  'Verbs': 0.24999999999999997,\n",
       "  'AuxVb': 0.041666666666666664,\n",
       "  'Past': 0.16666666666666666,\n",
       "  'Article': 0.041666666666666664,\n",
       "  'Prep': 0.16666666666666666,\n",
       "  'Present': 0.08333333333333333,\n",
       "  'Pronoun': 0.08333333333333333,\n",
       "  'Ipron': 0.08333333333333333,\n",
       "  'Motion': 0.041666666666666664,\n",
       "  'Space': 0.08333333333333333,\n",
       "  'Work': 0.08333333333333333,\n",
       "  'Achiev': 0.041666666666666664})"
      ]
     },
     "execution_count": 244,
     "metadata": {},
     "output_type": "execute_result"
    }
   ],
   "source": [
    "import time\n",
    "start = time.time()\n",
    "print(\"Time elapsed on working...\")\n",
    "matchdict_counts = makeMatchList_inv2([0,anotherstatement])\n",
    "end = time.time()\n",
    "print(\"Time consumed in working: \",end - start)\n",
    "\n",
    "\n",
    "matchdict_counts"
   ]
  },
  {
   "cell_type": "code",
   "execution_count": 245,
   "metadata": {},
   "outputs": [],
   "source": [
    "df_dictcounts = df_table.statement.iloc[:2].apply(lambda x: makeMatchList(x))"
   ]
  },
  {
   "cell_type": "code",
   "execution_count": 155,
   "metadata": {},
   "outputs": [
    {
     "data": {
      "text/plain": [
       "0    {'Funct': 1, 'Article': 1, 'totcount': 1, 'sen...\n",
       "1                 {'totcount': 1, 'sentence_idx': 'W'}\n",
       "Name: statement, dtype: object"
      ]
     },
     "execution_count": 155,
     "metadata": {},
     "output_type": "execute_result"
    }
   ],
   "source": [
    "df_dictcounts"
   ]
  },
  {
   "cell_type": "code",
   "execution_count": 156,
   "metadata": {},
   "outputs": [
    {
     "data": {
      "text/plain": [
       "0    Says the Annies List political group supports ...\n",
       "1    When did the decline of coal start? It started...\n",
       "Name: statement, dtype: object"
      ]
     },
     "execution_count": 156,
     "metadata": {},
     "output_type": "execute_result"
    }
   ],
   "source": [
    "df_split = np.array_split(df_table.statement.iloc[:5],4)\n",
    "\n",
    "df_split[0]"
   ]
  },
  {
   "cell_type": "code",
   "execution_count": 157,
   "metadata": {},
   "outputs": [
    {
     "data": {
      "text/plain": [
       "'\"Hillary Clinton agrees with John McCain \"\"by voting to give George Bush the benefit of the doubt on Iran.\"\"\"'"
      ]
     },
     "execution_count": 157,
     "metadata": {},
     "output_type": "execute_result"
    }
   ],
   "source": [
    "df_table.statement.iloc[2]"
   ]
  },
  {
   "cell_type": "code",
   "execution_count": 256,
   "metadata": {},
   "outputs": [],
   "source": [
    "statements = []\n",
    "\n",
    "for j in range(len(df_table)):\n",
    "    statements.append([(j,df_table.statement.iloc[j])])\n",
    "    \n"
   ]
  },
  {
   "cell_type": "code",
   "execution_count": 257,
   "metadata": {
    "scrolled": true
   },
   "outputs": [],
   "source": [
    "allres = []\n",
    "from multiprocessing import Pool\n",
    "\n",
    "with Pool(processes = 4) as p:\n",
    "    allres = p.starmap(makeMatchList_inv2, statements)"
   ]
  },
  {
   "cell_type": "code",
   "execution_count": 267,
   "metadata": {},
   "outputs": [
    {
     "data": {
      "text/plain": [
       "{'Funct': 0.5384615384615385,\n",
       " 'Pronoun': 0.15384615384615385,\n",
       " 'Ppron': 0.07692307692307693,\n",
       " 'You': 0.07692307692307693,\n",
       " 'Social': 0.15384615384615385,\n",
       " 'Verbs': 0.23076923076923078,\n",
       " 'Past': 0.15384615384615385,\n",
       " 'Percept': 0.07692307692307693,\n",
       " 'Hear': 0.07692307692307693,\n",
       " 'Ipron': 0.07692307692307693,\n",
       " 'AuxVb': 0.15384615384615385,\n",
       " 'Negate': 0.07692307692307693,\n",
       " 'CogMech': 0.07692307692307693,\n",
       " 'Excl': 0.07692307692307693,\n",
       " 'Affect': 0.07692307692307693,\n",
       " 'Posemo': 0.07692307692307693,\n",
       " 'Prep': 0.15384615384615385,\n",
       " 'Relativ': 0.07692307692307693,\n",
       " 'Space': 0.07692307692307693}"
      ]
     },
     "execution_count": 267,
     "metadata": {},
     "output_type": "execute_result"
    }
   ],
   "source": [
    "allres[212][1]"
   ]
  },
  {
   "cell_type": "code",
   "execution_count": 266,
   "metadata": {},
   "outputs": [
    {
     "data": {
      "text/plain": [
       "dict_values([0.5384615384615385, 0.15384615384615385, 0.07692307692307693, 0.07692307692307693, 0.15384615384615385, 0.23076923076923078, 0.15384615384615385, 0.07692307692307693, 0.07692307692307693, 0.07692307692307693, 0.15384615384615385, 0.07692307692307693, 0.07692307692307693, 0.07692307692307693, 0.07692307692307693, 0.07692307692307693, 0.15384615384615385, 0.07692307692307693, 0.07692307692307693])"
      ]
     },
     "execution_count": 266,
     "metadata": {},
     "output_type": "execute_result"
    }
   ],
   "source": [
    "\n",
    "\n",
    "values = allres[212][1].values()\n",
    "\n",
    "values"
   ]
  },
  {
   "cell_type": "code",
   "execution_count": 2940,
   "metadata": {},
   "outputs": [
    {
     "data": {
      "text/plain": [
       "0        {'Social': 2, 'Percept': 1, 'Hear': 1, 'Funct'...\n",
       "1        {'Funct': 10, 'Adverbs': 2, 'Conj': 2, 'Relati...\n",
       "2                                                      NaN\n",
       "3                                                      NaN\n",
       "4                                                      NaN\n",
       "                               ...                        \n",
       "10264                                                  NaN\n",
       "10265                                                  NaN\n",
       "10266                                                  NaN\n",
       "10267                                                  NaN\n",
       "10268                                                  NaN\n",
       "Length: 10269, dtype: object"
      ]
     },
     "execution_count": 2940,
     "metadata": {},
     "output_type": "execute_result"
    }
   ],
   "source": [
    "df_table.index.to_series().map(df_dictcounts)\n"
   ]
  },
  {
   "cell_type": "code",
   "execution_count": 2652,
   "metadata": {},
   "outputs": [
    {
     "data": {
      "text/html": [
       "<div>\n",
       "<style scoped>\n",
       "    .dataframe tbody tr th:only-of-type {\n",
       "        vertical-align: middle;\n",
       "    }\n",
       "\n",
       "    .dataframe tbody tr th {\n",
       "        vertical-align: top;\n",
       "    }\n",
       "\n",
       "    .dataframe thead th {\n",
       "        text-align: right;\n",
       "    }\n",
       "</style>\n",
       "<table border=\"1\" class=\"dataframe\">\n",
       "  <thead>\n",
       "    <tr style=\"text-align: right;\">\n",
       "      <th></th>\n",
       "      <th>id</th>\n",
       "      <th>json_ID</th>\n",
       "      <th>label</th>\n",
       "      <th>statement</th>\n",
       "      <th>subjects</th>\n",
       "      <th>speaker</th>\n",
       "      <th>speaker_title</th>\n",
       "      <th>state</th>\n",
       "      <th>party</th>\n",
       "      <th>barely_true_counts</th>\n",
       "      <th>false_counts</th>\n",
       "      <th>half_true_counts</th>\n",
       "      <th>mostly_true_counts</th>\n",
       "      <th>pants_on_fire_counts</th>\n",
       "      <th>context</th>\n",
       "      <th>justification</th>\n",
       "    </tr>\n",
       "  </thead>\n",
       "  <tbody>\n",
       "    <tr>\n",
       "      <th>2</th>\n",
       "      <td>2</td>\n",
       "      <td>324.json</td>\n",
       "      <td>mostly-true</td>\n",
       "      <td>\"Hillary Clinton agrees with John McCain \"\"by ...</td>\n",
       "      <td>foreign-policy</td>\n",
       "      <td>barack-obama</td>\n",
       "      <td>President</td>\n",
       "      <td>Illinois</td>\n",
       "      <td>democrat</td>\n",
       "      <td>70.0</td>\n",
       "      <td>71.0</td>\n",
       "      <td>160.0</td>\n",
       "      <td>163.0</td>\n",
       "      <td>9.0</td>\n",
       "      <td>Denver</td>\n",
       "      <td>\"Obama said he would have voted against the am...</td>\n",
       "    </tr>\n",
       "    <tr>\n",
       "      <th>7</th>\n",
       "      <td>7</td>\n",
       "      <td>153.json</td>\n",
       "      <td>half-true</td>\n",
       "      <td>I'm the only person on this stage who has work...</td>\n",
       "      <td>ethics</td>\n",
       "      <td>barack-obama</td>\n",
       "      <td>President</td>\n",
       "      <td>Illinois</td>\n",
       "      <td>democrat</td>\n",
       "      <td>70.0</td>\n",
       "      <td>71.0</td>\n",
       "      <td>160.0</td>\n",
       "      <td>163.0</td>\n",
       "      <td>9.0</td>\n",
       "      <td>a Democratic debate in Philadelphia, Pa.</td>\n",
       "      <td>However, it was not that bill, but another one...</td>\n",
       "    </tr>\n",
       "    <tr>\n",
       "      <th>16</th>\n",
       "      <td>16</td>\n",
       "      <td>620.json</td>\n",
       "      <td>true</td>\n",
       "      <td>McCain opposed a requirement that the governme...</td>\n",
       "      <td>federal-budget</td>\n",
       "      <td>barack-obama</td>\n",
       "      <td>President</td>\n",
       "      <td>Illinois</td>\n",
       "      <td>democrat</td>\n",
       "      <td>70.0</td>\n",
       "      <td>71.0</td>\n",
       "      <td>160.0</td>\n",
       "      <td>163.0</td>\n",
       "      <td>9.0</td>\n",
       "      <td>a radio ad</td>\n",
       "      <td>\"I firmly object to all 'buy America' restrict...</td>\n",
       "    </tr>\n",
       "    <tr>\n",
       "      <th>74</th>\n",
       "      <td>74</td>\n",
       "      <td>10039.json</td>\n",
       "      <td>mostly-true</td>\n",
       "      <td>The cost of health care is now the single-bigg...</td>\n",
       "      <td>deficit,federal-budget,health-care</td>\n",
       "      <td>barack-obama</td>\n",
       "      <td>President</td>\n",
       "      <td>Illinois</td>\n",
       "      <td>democrat</td>\n",
       "      <td>70.0</td>\n",
       "      <td>71.0</td>\n",
       "      <td>160.0</td>\n",
       "      <td>163.0</td>\n",
       "      <td>9.0</td>\n",
       "      <td>a speech at Northwestern University</td>\n",
       "      <td>\"Obama saidthe cost of \"\"health care is now th...</td>\n",
       "    </tr>\n",
       "    <tr>\n",
       "      <th>105</th>\n",
       "      <td>105</td>\n",
       "      <td>338.json</td>\n",
       "      <td>true</td>\n",
       "      <td>Sen. Obama has always had a 100 percent procho...</td>\n",
       "      <td>abortion</td>\n",
       "      <td>barack-obama</td>\n",
       "      <td>President</td>\n",
       "      <td>Illinois</td>\n",
       "      <td>democrat</td>\n",
       "      <td>70.0</td>\n",
       "      <td>71.0</td>\n",
       "      <td>160.0</td>\n",
       "      <td>163.0</td>\n",
       "      <td>9.0</td>\n",
       "      <td>an e-mail message sent to voters before Super ...</td>\n",
       "      <td>\"The Planned Parenthood Action Fund similarly ...</td>\n",
       "    </tr>\n",
       "  </tbody>\n",
       "</table>\n",
       "</div>"
      ],
      "text/plain": [
       "      id     json_ID        label  \\\n",
       "2      2    324.json  mostly-true   \n",
       "7      7    153.json    half-true   \n",
       "16    16    620.json         true   \n",
       "74    74  10039.json  mostly-true   \n",
       "105  105    338.json         true   \n",
       "\n",
       "                                             statement  \\\n",
       "2    \"Hillary Clinton agrees with John McCain \"\"by ...   \n",
       "7    I'm the only person on this stage who has work...   \n",
       "16   McCain opposed a requirement that the governme...   \n",
       "74   The cost of health care is now the single-bigg...   \n",
       "105  Sen. Obama has always had a 100 percent procho...   \n",
       "\n",
       "                               subjects       speaker speaker_title     state  \\\n",
       "2                        foreign-policy  barack-obama     President  Illinois   \n",
       "7                                ethics  barack-obama     President  Illinois   \n",
       "16                       federal-budget  barack-obama     President  Illinois   \n",
       "74   deficit,federal-budget,health-care  barack-obama     President  Illinois   \n",
       "105                            abortion  barack-obama     President  Illinois   \n",
       "\n",
       "        party barely_true_counts false_counts half_true_counts  \\\n",
       "2    democrat               70.0         71.0            160.0   \n",
       "7    democrat               70.0         71.0            160.0   \n",
       "16   democrat               70.0         71.0            160.0   \n",
       "74   democrat               70.0         71.0            160.0   \n",
       "105  democrat               70.0         71.0            160.0   \n",
       "\n",
       "    mostly_true_counts pants_on_fire_counts  \\\n",
       "2                163.0                  9.0   \n",
       "7                163.0                  9.0   \n",
       "16               163.0                  9.0   \n",
       "74               163.0                  9.0   \n",
       "105              163.0                  9.0   \n",
       "\n",
       "                                               context  \\\n",
       "2                                               Denver   \n",
       "7             a Democratic debate in Philadelphia, Pa.   \n",
       "16                                          a radio ad   \n",
       "74                 a speech at Northwestern University   \n",
       "105  an e-mail message sent to voters before Super ...   \n",
       "\n",
       "                                         justification  \n",
       "2    \"Obama said he would have voted against the am...  \n",
       "7    However, it was not that bill, but another one...  \n",
       "16   \"I firmly object to all 'buy America' restrict...  \n",
       "74   \"Obama saidthe cost of \"\"health care is now th...  \n",
       "105  \"The Planned Parenthood Action Fund similarly ...  "
      ]
     },
     "execution_count": 2652,
     "metadata": {},
     "output_type": "execute_result"
    }
   ],
   "source": [
    "df_table.query(\"speaker == 'barack-obama'  \").head()"
   ]
  },
  {
   "cell_type": "markdown",
   "metadata": {},
   "source": [
    "### Speakers?"
   ]
  },
  {
   "cell_type": "code",
   "execution_count": 8,
   "metadata": {},
   "outputs": [
    {
     "data": {
      "text/plain": [
       "(2930,)"
      ]
     },
     "execution_count": 8,
     "metadata": {},
     "output_type": "execute_result"
    }
   ],
   "source": [
    "df_table.speaker.unique().shape"
   ]
  },
  {
   "cell_type": "code",
   "execution_count": 3201,
   "metadata": {},
   "outputs": [
    {
     "data": {
      "text/plain": [
       "6341"
      ]
     },
     "execution_count": 3201,
     "metadata": {},
     "output_type": "execute_result"
    }
   ],
   "source": [
    "df_table.groupby(\"speaker\").id.count().sort_values(ascending = False).iloc[:300].sum()"
   ]
  },
  {
   "cell_type": "code",
   "execution_count": 687,
   "metadata": {},
   "outputs": [
    {
     "data": {
      "text/html": [
       "<div>\n",
       "<style scoped>\n",
       "    .dataframe tbody tr th:only-of-type {\n",
       "        vertical-align: middle;\n",
       "    }\n",
       "\n",
       "    .dataframe tbody tr th {\n",
       "        vertical-align: top;\n",
       "    }\n",
       "\n",
       "    .dataframe thead th {\n",
       "        text-align: right;\n",
       "    }\n",
       "</style>\n",
       "<table border=\"1\" class=\"dataframe\">\n",
       "  <thead>\n",
       "    <tr style=\"text-align: right;\">\n",
       "      <th></th>\n",
       "      <th>id</th>\n",
       "      <th>json_ID</th>\n",
       "      <th>label</th>\n",
       "      <th>statement</th>\n",
       "      <th>subjects</th>\n",
       "      <th>speaker</th>\n",
       "      <th>speaker_title</th>\n",
       "      <th>state</th>\n",
       "      <th>party</th>\n",
       "      <th>barely_true_counts</th>\n",
       "      <th>false_counts</th>\n",
       "      <th>half_true_counts</th>\n",
       "      <th>mostly_true_counts</th>\n",
       "      <th>pants_on_fire_counts</th>\n",
       "      <th>context</th>\n",
       "      <th>justification</th>\n",
       "    </tr>\n",
       "  </thead>\n",
       "  <tbody>\n",
       "    <tr>\n",
       "      <th>1253</th>\n",
       "      <td>1253</td>\n",
       "      <td>9421.json</td>\n",
       "      <td>pants-fire</td>\n",
       "      <td>Ken Block supports Obamacare.</td>\n",
       "      <td>economy,health-care,message-machine-2014</td>\n",
       "      <td>allan-fung</td>\n",
       "      <td>mayor, city of Cranston, R.I.</td>\n",
       "      <td>Rhode Island</td>\n",
       "      <td>republican</td>\n",
       "      <td>2.0</td>\n",
       "      <td>2.0</td>\n",
       "      <td>0.0</td>\n",
       "      <td>2.0</td>\n",
       "      <td>1.0</td>\n",
       "      <td>a TV commercial</td>\n",
       "      <td>\"The very \"\"Newsmakers\"\" appearance the Fung c...</td>\n",
       "    </tr>\n",
       "    <tr>\n",
       "      <th>1959</th>\n",
       "      <td>1947</td>\n",
       "      <td>10051.json</td>\n",
       "      <td>false</td>\n",
       "      <td>In the 38 Studios deal, Wall Street investors ...</td>\n",
       "      <td>bankruptcy,debt,economy,history,job-accomplish...</td>\n",
       "      <td>allan-fung</td>\n",
       "      <td>mayor, city of Cranston, R.I.</td>\n",
       "      <td>Rhode Island</td>\n",
       "      <td>republican</td>\n",
       "      <td>2.0</td>\n",
       "      <td>2.0</td>\n",
       "      <td>0.0</td>\n",
       "      <td>2.0</td>\n",
       "      <td>1.0</td>\n",
       "      <td>a TV commercial</td>\n",
       "      <td>\"Nelson said, \"\"My state of Florida is now the...</td>\n",
       "    </tr>\n",
       "    <tr>\n",
       "      <th>3971</th>\n",
       "      <td>3958</td>\n",
       "      <td>10172.json</td>\n",
       "      <td>barely-true</td>\n",
       "      <td>Gina Raimondo paid 70 million in taxpayer doll...</td>\n",
       "      <td>candidates-biography,corporations,message-mach...</td>\n",
       "      <td>allan-fung</td>\n",
       "      <td>mayor, city of Cranston, R.I.</td>\n",
       "      <td>Rhode Island</td>\n",
       "      <td>republican</td>\n",
       "      <td>2.0</td>\n",
       "      <td>2.0</td>\n",
       "      <td>0.0</td>\n",
       "      <td>2.0</td>\n",
       "      <td>1.0</td>\n",
       "      <td>a TV commercial</td>\n",
       "      <td>Whats more, the average person does not view t...</td>\n",
       "    </tr>\n",
       "    <tr>\n",
       "      <th>5220</th>\n",
       "      <td>5207</td>\n",
       "      <td>9562.json</td>\n",
       "      <td>mostly-true</td>\n",
       "      <td>Cranstons 2014-2015 budget funds 100 percent o...</td>\n",
       "      <td>economy,income,job-accomplishments,labor,pensi...</td>\n",
       "      <td>allan-fung</td>\n",
       "      <td>mayor, city of Cranston, R.I.</td>\n",
       "      <td>Rhode Island</td>\n",
       "      <td>republican</td>\n",
       "      <td>2.0</td>\n",
       "      <td>2.0</td>\n",
       "      <td>0.0</td>\n",
       "      <td>2.0</td>\n",
       "      <td>1.0</td>\n",
       "      <td>a letter to taxpayers</td>\n",
       "      <td>\"We believe in the middle. The independent res...</td>\n",
       "    </tr>\n",
       "    <tr>\n",
       "      <th>5827</th>\n",
       "      <td>5814</td>\n",
       "      <td>9082.json</td>\n",
       "      <td>barely-true</td>\n",
       "      <td>After hiring a campaign manager in 2006, I got...</td>\n",
       "      <td>economy,government-efficiency,jobs</td>\n",
       "      <td>allan-fung</td>\n",
       "      <td>mayor, city of Cranston, R.I.</td>\n",
       "      <td>Rhode Island</td>\n",
       "      <td>republican</td>\n",
       "      <td>2.0</td>\n",
       "      <td>2.0</td>\n",
       "      <td>0.0</td>\n",
       "      <td>2.0</td>\n",
       "      <td>1.0</td>\n",
       "      <td>a radio interview</td>\n",
       "      <td>Oliver said the Keene Police Department cited ...</td>\n",
       "    </tr>\n",
       "    <tr>\n",
       "      <th>6953</th>\n",
       "      <td>6932</td>\n",
       "      <td>8527.json</td>\n",
       "      <td>mostly-true</td>\n",
       "      <td>We have created new jobs here in Cranston -- m...</td>\n",
       "      <td>city-government,corporations,economy,governmen...</td>\n",
       "      <td>allan-fung</td>\n",
       "      <td>mayor, city of Cranston, R.I.</td>\n",
       "      <td>Rhode Island</td>\n",
       "      <td>republican</td>\n",
       "      <td>2.0</td>\n",
       "      <td>2.0</td>\n",
       "      <td>0.0</td>\n",
       "      <td>2.0</td>\n",
       "      <td>1.0</td>\n",
       "      <td>a campaign speech</td>\n",
       "      <td>Still, even if Todd Palin paid more for his sn...</td>\n",
       "    </tr>\n",
       "    <tr>\n",
       "      <th>8294</th>\n",
       "      <td>8265</td>\n",
       "      <td>9810.json</td>\n",
       "      <td>false</td>\n",
       "      <td>Nazi imagery [was used] by the Block for Gover...</td>\n",
       "      <td>elections,history,human-rights,campaign-advert...</td>\n",
       "      <td>allan-fung</td>\n",
       "      <td>mayor, city of Cranston, R.I.</td>\n",
       "      <td>Rhode Island</td>\n",
       "      <td>republican</td>\n",
       "      <td>2.0</td>\n",
       "      <td>2.0</td>\n",
       "      <td>0.0</td>\n",
       "      <td>2.0</td>\n",
       "      <td>1.0</td>\n",
       "      <td>a news release</td>\n",
       "      <td>\"During the debate Ryan said that Obama was in...</td>\n",
       "    </tr>\n",
       "    <tr>\n",
       "      <th>9829</th>\n",
       "      <td>9800</td>\n",
       "      <td>10129.json</td>\n",
       "      <td>true</td>\n",
       "      <td>Governor Carcieri has not been campaigning wit...</td>\n",
       "      <td>candidates-biography,debates,campaign-advertising</td>\n",
       "      <td>allan-fung</td>\n",
       "      <td>mayor, city of Cranston, R.I.</td>\n",
       "      <td>Rhode Island</td>\n",
       "      <td>republican</td>\n",
       "      <td>2.0</td>\n",
       "      <td>2.0</td>\n",
       "      <td>0.0</td>\n",
       "      <td>2.0</td>\n",
       "      <td>1.0</td>\n",
       "      <td>a Providence Journal-WPRI-12 debate</td>\n",
       "      <td>The number of flights has dropped from 240 to ...</td>\n",
       "    </tr>\n",
       "  </tbody>\n",
       "</table>\n",
       "</div>"
      ],
      "text/plain": [
       "        id     json_ID        label  \\\n",
       "1253  1253   9421.json   pants-fire   \n",
       "1959  1947  10051.json        false   \n",
       "3971  3958  10172.json  barely-true   \n",
       "5220  5207   9562.json  mostly-true   \n",
       "5827  5814   9082.json  barely-true   \n",
       "6953  6932   8527.json  mostly-true   \n",
       "8294  8265   9810.json        false   \n",
       "9829  9800  10129.json         true   \n",
       "\n",
       "                                              statement  \\\n",
       "1253                      Ken Block supports Obamacare.   \n",
       "1959  In the 38 Studios deal, Wall Street investors ...   \n",
       "3971  Gina Raimondo paid 70 million in taxpayer doll...   \n",
       "5220  Cranstons 2014-2015 budget funds 100 percent o...   \n",
       "5827  After hiring a campaign manager in 2006, I got...   \n",
       "6953  We have created new jobs here in Cranston -- m...   \n",
       "8294  Nazi imagery [was used] by the Block for Gover...   \n",
       "9829  Governor Carcieri has not been campaigning wit...   \n",
       "\n",
       "                                               subjects     speaker  \\\n",
       "1253           economy,health-care,message-machine-2014  allan-fung   \n",
       "1959  bankruptcy,debt,economy,history,job-accomplish...  allan-fung   \n",
       "3971  candidates-biography,corporations,message-mach...  allan-fung   \n",
       "5220  economy,income,job-accomplishments,labor,pensi...  allan-fung   \n",
       "5827                 economy,government-efficiency,jobs  allan-fung   \n",
       "6953  city-government,corporations,economy,governmen...  allan-fung   \n",
       "8294  elections,history,human-rights,campaign-advert...  allan-fung   \n",
       "9829  candidates-biography,debates,campaign-advertising  allan-fung   \n",
       "\n",
       "                      speaker_title         state       party  \\\n",
       "1253  mayor, city of Cranston, R.I.  Rhode Island  republican   \n",
       "1959  mayor, city of Cranston, R.I.  Rhode Island  republican   \n",
       "3971  mayor, city of Cranston, R.I.  Rhode Island  republican   \n",
       "5220  mayor, city of Cranston, R.I.  Rhode Island  republican   \n",
       "5827  mayor, city of Cranston, R.I.  Rhode Island  republican   \n",
       "6953  mayor, city of Cranston, R.I.  Rhode Island  republican   \n",
       "8294  mayor, city of Cranston, R.I.  Rhode Island  republican   \n",
       "9829  mayor, city of Cranston, R.I.  Rhode Island  republican   \n",
       "\n",
       "     barely_true_counts false_counts half_true_counts mostly_true_counts  \\\n",
       "1253                2.0          2.0              0.0                2.0   \n",
       "1959                2.0          2.0              0.0                2.0   \n",
       "3971                2.0          2.0              0.0                2.0   \n",
       "5220                2.0          2.0              0.0                2.0   \n",
       "5827                2.0          2.0              0.0                2.0   \n",
       "6953                2.0          2.0              0.0                2.0   \n",
       "8294                2.0          2.0              0.0                2.0   \n",
       "9829                2.0          2.0              0.0                2.0   \n",
       "\n",
       "     pants_on_fire_counts                              context  \\\n",
       "1253                  1.0                      a TV commercial   \n",
       "1959                  1.0                      a TV commercial   \n",
       "3971                  1.0                      a TV commercial   \n",
       "5220                  1.0                a letter to taxpayers   \n",
       "5827                  1.0                    a radio interview   \n",
       "6953                  1.0                    a campaign speech   \n",
       "8294                  1.0                       a news release   \n",
       "9829                  1.0  a Providence Journal-WPRI-12 debate   \n",
       "\n",
       "                                          justification  \n",
       "1253  \"The very \"\"Newsmakers\"\" appearance the Fung c...  \n",
       "1959  \"Nelson said, \"\"My state of Florida is now the...  \n",
       "3971  Whats more, the average person does not view t...  \n",
       "5220  \"We believe in the middle. The independent res...  \n",
       "5827  Oliver said the Keene Police Department cited ...  \n",
       "6953  Still, even if Todd Palin paid more for his sn...  \n",
       "8294  \"During the debate Ryan said that Obama was in...  \n",
       "9829  The number of flights has dropped from 240 to ...  "
      ]
     },
     "execution_count": 687,
     "metadata": {},
     "output_type": "execute_result"
    }
   ],
   "source": [
    "df_table.query(\"speaker == 'allan-fung'  \")"
   ]
  },
  {
   "cell_type": "code",
   "execution_count": 696,
   "metadata": {},
   "outputs": [
    {
     "name": "stdout",
     "output_type": "stream",
     "text": [
      "['Nancy Pelosi', 'Alexandra Pelosi', 'Christine Pelosi', 'Paul Pelosi', 'Speaker of the United States House of Representatives', 'Susan Page', 'Jim Cramer', 'Ron Pelosi', 'Nancy Mace', 'Steny Hoyer']\n"
     ]
    }
   ],
   "source": [
    "import wikipedia\n",
    "\n",
    "print(wikipedia.search(\"nancy-pelosi \"))"
   ]
  },
  {
   "cell_type": "code",
   "execution_count": 694,
   "metadata": {},
   "outputs": [
    {
     "name": "stdout",
     "output_type": "stream",
     "text": [
      "None\n"
     ]
    }
   ],
   "source": [
    "print(wikipedia.suggest(\"nancy pelosi\"))"
   ]
  },
  {
   "cell_type": "code",
   "execution_count": 692,
   "metadata": {},
   "outputs": [
    {
     "name": "stdout",
     "output_type": "stream",
     "text": [
      "['100-Hour Plan', '100th United States Congress', '101st United States Congress', '102nd United States Congress', '103rd United States Congress', '104th United States Congress', '105th United States Congress', '106th United States Congress', '107th United States Congress', '108th United States Congress', '109th United States Congress', '110th United States Congress', '111th United States Congress', '112th Congress', '112th United States Congress', '113th United States Congress', '114th United States Congress', '115th United States Congress', '116th United States Congress', '117th United States Congress', '14th Dalai Lama', '1828 United States presidential election', '1832 Democratic National Convention', '1835 Democratic National Convention', '1840 Democratic National Convention', '1844 Democratic National Convention', '1848 Democratic National Convention', '1852 Democratic National Convention', '1856 Democratic National Convention', '1860 Democratic National Conventions', '1864 Democratic National Convention', '1868 Democratic National Convention', '1872 Democratic National Convention', '1876 Democratic National Convention', '1880 Democratic National Convention', '1884 Democratic National Convention', '1888 Democratic National Convention', '1892 Democratic National Convention', '1896 Democratic National Convention', '1900 Democratic National Convention', '1904 Democratic National Convention', '1908 Democratic National Convention', '1912 Democratic National Convention', '1916 Democratic National Convention', '1920 Democratic National Convention', '1924 Democratic National Convention', '1928 Democratic National Convention', '1932 Democratic National Convention', '1936 Democratic National Convention', '1940 Democratic National Convention', '1944 Democratic National Convention', '1948 Democratic National Convention', '1952 Democratic National Convention', '1956 Democratic National Convention', '1960 Democratic National Convention', '1964 Democratic National Convention', '1968 Democratic National Convention', '1972 Democratic National Convention', '1976 Democratic National Convention', '1980 Democratic National Convention', '1984 Democratic National Convention', \"1987 California's 5th congressional district special election\", '1987 United States House of Representatives elections', '1988 Democratic National Convention', '1990 United States Census', '1991 Gulf War', '1992 Democratic National Convention', '1996 Democratic National Convention', '2000 California Proposition 22', '2000 Democratic National Convention', '2003 invasion of Iraq', '2004 Democratic National Convention', '2004 State of the Union Address', '2004 United States House of Representatives elections', '2005 Democratic National Committee chairmanship election', '2005 State of the Union Address', '2006 Lebanon War', '2006 United States House of Representatives Democratic Caucus leadership election', '2006 United States House of Representatives elections', '2007 State of the Union Address', '2008 California Proposition 8', '2008 Democratic National Convention', '2008 United States House of Representatives elections', '2008 unrest in Tibet', '2010 Tax Relief Act', '2010 United States House of Representatives elections', '2010 United States elections', '2011 military intervention in Libya', '2012 Benghazi attack', '2012 Democratic National Convention', '2012 United States House of Representatives elections', '2014 Israel–Gaza conflict', '2014 United States House of Representatives elections', '2016 Democratic National Convention', '2016 United States House of Representatives elections', '2016 United States presidential election', '2017 Democratic National Committee chairmanship election', '2017 Speaker of the United States House of Representatives election', '2017 imprisonment of Hong Kong democracy activists', '2018 China–United States trade war', '2018 State of the Union Address', '2018 United States House of Representatives Democratic Caucus leadership election', '2018 United States House of Representatives elections', '2018–19 United States federal government shutdown', '2019 Speaker of the United States House of Representatives election', '2019 State of the Union Address', '2019 United Nations Climate Change Conference', '2019–2020 Hong Kong protests', '2020 Democratic National Convention', '2020 State of the Union Address', '2020 United States House of Representatives elections', '2021 Joe Biden speech to a joint session of Congress', '2021 Speaker of the United States House of Representatives election', '2021 storming of the United States Capitol', '25th Amendment', '60 Minutes', 'ABC News', 'AIPAC', 'Abby Kelley', 'Abdullah Abdullah', 'Abdullah II', 'Abigail Adams', 'Abigail Spanberger', 'Abram Hewitt', 'Abruzzo', 'Abuse of power', 'Adam Kinzinger', 'Adam Schiff', 'Adam Smith (politician)', 'Adlai Stevenson I', 'Adlai Stevenson II', 'Administration (government)', 'Adrian Smith (politician)', 'Adriano Espaillat', 'Advocacy group', 'Affordable Care Act', 'Aimee Mullins', 'Al-Hamidiyah Souq', 'Al Gore', 'Al Green (politician)', 'Al Lawson', 'Al McCandless', 'Al Smith', 'Al Udeid Air Base', 'Alabama Democratic Party', 'Alan Cranston', 'Alan Lowenthal', 'Alaska Democratic Party', 'Alben W. Barkley', 'Albio Sires', 'Alex Mooney', 'Alex Padilla', 'Alexander Vindman', 'Alexandra Pelosi', 'Alexandria Ocasio-Cortez', 'Alice Catherine Evans', 'Alice Hamilton', 'Alice Paul', 'Alice Waters', 'Allen G. Thurman', 'Allie B. Latimer', 'Alma Adams', 'Althea Gibson', 'Alton B. Parker', 'Alvin Ailey', 'Amata Coleman Radewagen', 'Ambassadors of the United States', 'Amelia Bloomer', 'Amelia Earhart', 'American-led intervention in the Syrian Civil War', 'American Civil Liberties Union', 'American Israel Public Affairs Committee', 'American Recovery and Reinvestment Act', 'American Rescue Plan Act of 2021', 'American Samoa', 'American Samoa Democratic Party', 'Ami Bera', 'Amy Klobuchar', 'Andrea Seastrand', 'Andrew Clyde', 'Andrew Garbarino', 'Andrew Jackson', 'Andrew Stevenson', 'André Carson', 'Andy Barr (American politician)', 'Andy Biggs', 'Andy Harris (politician)', 'Andy Kim (politician)', 'Andy Levin', 'Angela Davis', 'Angelina Grimké', 'Angie Craig', 'Ann Bancroft', 'Ann Kirkpatrick', 'Ann McLane Kuster', 'Ann Wagner', 'Anna Eshoo', 'Anna Howard Shaw', 'Anna Schwartz', 'Anne Dallas Dudley', 'Anne Hutchinson', 'Anne Morrow Lindbergh', 'Anne Sullivan', 'Annie Dodge Wauneka', 'Annie Jump Cannon', 'Annie Oakley', 'Anthony Beilenson', 'Anthony G. Brown', 'Anthony Gonzalez (politician)', 'Anthony Kennedy', 'Antoinette Brown Blackwell', 'Antonia Novello', 'Antonio Delgado (politician)', 'Antonio Villaraigosa', 'Antony Blinken', 'Apple (Company)', 'Arctic National Wildlife Refuge', 'Arizona Democratic Party', 'Armenian Genocide', 'Arsham Parsi', 'Arthur H. Greenwood', 'Arthur Pue Gorman', 'Arthur Sewall', 'Articles of impeachment', 'Asheville Citizen-Times', 'Ashley Hinson', 'Ashraf Ghani', 'Assault weapon', 'Assault weapons legislation in the United States', 'Associate Justice of the Supreme Court of the United States', 'Associated Press', 'August Belmont', 'August Pfluger', 'Augustus Hawkins', 'Augustus Schell', 'Aung San Suu Kyi', 'Austin Scott (politician)', 'Ava DuVernay', 'Ayanna Pressley', 'BBC News', 'Babe Didrikson Zaharias', 'Bachelor of Arts', 'Balanced Budget Amendment', 'Baltimore', 'Barack Obama', 'Barbara Boxer', 'Barbara Holdridge', 'Barbara Iglewski', 'Barbara Jordan', 'Barbara Lee', 'Barbara McClintock', 'Barbara Mikulski', 'Barbara Walters', \"Barbara Walters' 10 Most Fascinating People\", 'Barry Loudermilk', 'Barry Moore (Alabama politician)', 'Bashar Al-Assad', 'Bayard Rustin', 'Beatrice Hicks', 'Bella Abzug', 'Belva Ann Lockwood', 'Ben Cardin', 'Ben Cline', 'Ben Ray Luján', 'Benjamin F. Hallett', 'Benjamin Gratz Brown', 'Benjamin Netanyahu', 'Bennie Thompson', 'Bernice Sandler', 'Bernie Sanders', 'Bertha Holt', 'Bertrand Snell', 'Bessie Coleman', 'Bessie Smith', 'Beth Van Duyne', 'Betty Bone Schiess', 'Betty Bumpers', 'Betty Ford', 'Betty Friedan', 'Betty McCollum', 'Beverly Sills', 'Bill Clinton', 'Bill Foster (politician)', 'Bill Gertz', 'Bill Huizenga', 'Bill Johnson (Ohio politician)', 'Bill Keating (politician)', 'Bill Lowery (politician)', 'Bill Pascrell', 'Bill Posey', 'Bill Richardson', 'Bill Thomas', 'Billie Holiday', 'Billie Jean King', 'Billy Long', 'Biographical Directory of the United States Congress', 'Bishop (Catholic Church)', 'Blaine Luetkemeyer', 'Blake Moore', 'Blanche Scott', 'Board of Supervisors', 'Bob Dornan', 'Bob Filner', 'Bob Gibbs', 'Bob Good', 'Bob Latta', 'Bob Matsui', 'Bobby Rush', 'Bobby Scott (politician)', 'Boeing 757', 'Bonnie Watson Coleman', 'Boycott, Divestment, and Sanctions', 'Brad Schneider', 'Brad Sherman', 'Brad Wenstrup', 'Brenda Lawrence', 'Brendan Boyle', 'Brett Guthrie', 'Brian Babin', 'Brian Bilbray', 'Brian Fitzpatrick (American politician)', 'Brian Higgins', 'Brian Mast', 'Bruce Westerman', 'Bryan Steil', 'Buck McKeon', 'Buddy Carter', 'Burgess Owens', 'Byron Donalds', 'C-SPAN', 'CBS News', 'CNN', 'COVID-19 pandemic in the United States', 'Cabinet of the United States', 'Cal Dooley', 'California', \"California's 12th congressional district\", \"California's 5th congressional district\", \"California's 8th congressional district\", 'California Democratic Party', 'California ballot proposition', 'California congressional delegation', 'Calvin S. Brice', 'Capitol News Company', 'Carl Albert', 'Carl G. Bachmann', 'Carl Hulse', 'Carlos A. Giménez', 'Carlos Moorhead', 'Carlos P. Romulo', 'Carlotta Walls LaNier', 'Carol Bellamy', 'Carol Miller (politician)', 'Carol Mutter', 'Carolyn Bourdeaux', 'Carolyn Maloney', 'Carrie Chapman Catt', 'Cathedral of Mary Our Queen', 'Catherine Filene Shouse', 'Catherine Shipe East', 'Catholic Church in the United States', 'Catholic doctrine', 'Catholic theology', 'Cathy McMorris Rodgers', 'Cedric Richmond', 'Center for Responsive Politics', 'Central Government Complex (Hong Kong)', 'Central Intelligence Agency', 'Central Tibetan Administration', 'Champ Clark', 'Charles A. Halleck', 'Charles Allen Culberson', 'Charles E. Schumer', 'Charles Frederick Crisp', 'Charles H. Burke', 'Charles Manatt', 'Charles Mann Hamilton', 'Charles Rangel', 'Charles W. Bryan', 'Charlie Crist', 'Charlotte Bunch', 'Charlotte Perkins Gilman', 'Checks and balances', 'Chellie Pingree', 'Cheri Bustos', 'Chief Justice of the United States', 'Chien-Shiung Wu', 'Chip Pashayan', 'Chip Roy', 'Chris Dodd', 'Chris Jacobs (politician)', 'Chris Pappas (politician)', 'Chris Smith (New Jersey politician)', 'Chris Stewart (politician)', 'Chris Van Hollen', 'Chrissy Houlahan', 'Christine Pelosi', 'Christopher Cox', 'Chuck Fleischmann', 'Chuck Schumer', 'Cindy Axne', 'Cindy Sheehan', 'City and County of San Francisco', 'Civic Square (Hong Kong)', 'Civil Rights Act of 1964', 'Civil Rights Restoration Act of 1987', 'Clara Barton', 'Clare Boothe Luce', 'Claude Kitchin', 'Claudia Tenney', 'Clay Higgins', 'Clem L. Shaver', 'Clerk of the United States House of Representatives', 'Cleve Jones', 'Cliff Bentz', 'Climate crisis', 'Colin Allred', 'College Democrats of America', 'Colorado Democratic Party', 'Comcast', 'Commission on Security and Cooperation in Europe', 'Congressional-Executive Commission on China', 'Congressional Black Caucus', 'Congressional Gold Medal', 'Congressional Progressive Caucus', 'Connor Franta', 'Conor Lamb', 'Constance Baker Motley', 'Contract with America', 'Cordell Hull', 'Coretta Scott King', 'Cori Bush', 'Coronavirus Aid, Relief, and Economic Security Act', \"Countering America's Adversaries Through Sanctions Act\", 'Crystal Eastman', 'Cuban Thaw', 'Curlie', 'Currency manipulator', 'Current members of the United States House of Representatives', 'Cyndi Lauper', 'DREAMers', 'Dalia Itzik', 'Dan Bishop', 'Dan Crenshaw', 'Dan Kildee', 'Dan Lungren', 'Dan Meuser', 'Dan Newhouse', 'Dan Quayle', 'Dana Rohrabacher', 'Daniel Akaka', 'Daniel Brewster', 'Daniel Hamburg', 'Daniel Webster (Florida politician)', 'Danny K. Davis', 'Darin LaHood', 'Darrell Issa', 'Darren Soto', 'David Allen Smalley', 'David B. Culberson', 'David B. Henderson', 'David Bonior', 'David Cicilline', 'David Dreier', 'David Joyce (politician)', 'David Kohan', 'David Kustoff', 'David McKinley', 'David Price (American politician)', 'David Rouzer', 'David Schweikert', 'David Scott (Georgia politician)', 'David Souter', 'David Trone', 'David Turpie', 'David Valadao', 'David Wilhelm', 'Dean Phillips', 'Dean of the House of Representatives', 'Dean of the United States House of Representatives', 'Debbie Dingell', 'Debbie Lesko', 'Debbie Wasserman Schultz', 'Deborah K. Ross', 'Debra DeLee', 'Defense of Marriage Act', 'Deferred Action for Childhood Arrivals', 'Del Monte Foods', 'Delaware Democratic Party', 'Democratic Congressional Campaign Committee', 'Democratic Governors Association', 'Democratic Legislative Campaign Committee', 'Democratic National Committee', 'Democratic National Convention', 'Democratic Party (Northern Mariana Islands)', 'Democratic Party (Puerto Rico)', 'Democratic Party (United States)', 'Democratic Party (United States) organizations', 'Democratic Party of Arkansas', 'Democratic Party of Connecticut', 'Democratic Party of Georgia', 'Democratic Party of Guam', 'Democratic Party of Hawaii', 'Democratic Party of Illinois', 'Democratic Party of New Mexico', 'Democratic Party of Oregon', 'Democratic Party of Virginia', 'Democratic Party of Wisconsin', 'Democratic Party of the Virgin Islands', 'Democratic Party presidential debates', 'Democratic Senatorial Campaign Committee', 'Democrats Abroad', 'Dennis Cardoza', 'Dennis Hastert', 'Dennis Shepard', 'Denton Cooley', 'Denver', 'Derek Kilmer', 'Devin Nunes', 'Dharamsala', 'Diana DeGette', 'Diana Harshbarger', 'Diane Watson', 'Dianne Feinstein', 'Dick Cheney', 'Dick Gephardt', 'Dina Titus', 'Directive-type Memorandum-19-004', 'Director of Central Intelligence', 'Director of the Central Intelligence Agency', 'Director of the FBI', 'Discrimination', 'Disney', 'District of Columbia Democratic State Committee', 'Dmitry Medvedev', 'Dodd–Frank Wall Street Reform and Consumer Protection Act', 'Doi (identifier)', 'Dolores Huerta', 'Dolphy', \"Don't Ask, Don't Tell Repeal Act\", 'Don Bacon', 'Don Beyer', 'Don Edwards', 'Don McGahn', 'Don Young', 'Donald Fowler', 'Donald McEachin', 'Donald Norcross', 'Donald Payne Jr.', 'Donald Trump', 'Donald Trump on social media', 'Donald Wuerl', 'Donna Shalala', 'Donna de Varona', 'Doris Matsui', 'Dorothea Dix', 'Dorothea Lange', 'Dorothy Day', 'Dorothy Hansine Andersen', 'Dorothy Harrison Eustis', 'Dorothy Height', 'Doug LaMalfa', 'Doug Lamborn', 'Doug Ose', 'Douglas H. Bosco', 'Drew Ferguson (politician)', 'Duke Cunningham', 'Duncan D. Hunter', 'Duncan L. Hunter', 'Dusty Johnson', 'Dutch Ruppersberger', 'Dwight Evans (politician)', 'Earl Blumenauer', 'Ed Case', 'Ed Perlmutter', 'Ed Rendell', 'Ed Royce', 'Eddie Bernice Johnson', 'Edith Nourse Rogers', 'Edith Wharton', 'Edith Windsor', 'Edmund Muskie', 'Eduardo Ermita', 'Edward J. Flynn', 'Edward R. Roybal', 'Ehud Olmert', 'Eileen Collins', 'Elaine Luria', 'Elaine Roulet', 'Eleanor Holmes Norton', 'Eleanor K. Baum', 'Eleanor Roosevelt', 'Eleanor Smeal', 'Electoral history of Nancy Pelosi', 'Elisabeth Kübler-Ross', 'Elise Stefanik', 'Elissa Slotkin', 'Elizabeth Ann Seton', 'Elizabeth Blackwell', 'Elizabeth Cady Stanton', 'Elizabeth Dole', 'Ella Baker', 'Ella Fitzgerald', 'Ella Grasso', 'Ellen Swallow Richards', 'Ellen Tauscher', 'Elton Gallegly', 'Emanuel Cleaver', 'Emilia Boncodin', 'Emilio Yap', 'Emily Blackwell', 'Emily Dickinson', 'Emily Howell Warner', 'Emma Lazarus', 'Emma Smith DeVoe', 'Emma Willard', 'Enhanced interrogation techniques', 'Equal Pay Day', 'Equality Act (United States)', 'Eric Cantor', 'Eric Swalwell', 'Ernest McFarland', 'Ernestine Rose', 'Ernie Konnyu', 'Estadio Latinoamericano', 'Esteban Edward Torres', 'Estes Kefauver', 'Esther Peterson', 'Ethel Percy Andrus', 'Eudora Welty', 'Eunice Kennedy Shriver', 'European Parliament', 'Executive Order 13769', 'Facebook', 'Factions in the Democratic Party (United States)', 'Fair Minimum Wage Act of 2007', 'Family planning', 'Fannie Lou Hamer', 'Farouk al-Sharaa', 'Faye Glenn Abdellah', 'Faye Wattleton', 'Fe del Mundo', 'Federal Bureau of Investigation', 'Federal Election Commission', 'Federal Marriage Amendment', 'Felice Schwartz', 'Fifth Party System', 'Filemon Vela Jr.', 'Finding Your Roots', 'Finis J. Garrett', 'First impeachment inquiry against Donald Trump', 'First impeachment of Donald Trump', 'First impeachment trial of Donald Trump', 'Flag Desecration Amendment', 'Florence B. Seibert', 'Florence E. Allen', 'Florence R. Sabin', 'Florence Wald', 'Florida Democratic Party', 'Flossie Wong-Staal', 'Fornelli', 'Founders of the United States', 'Fourth Party System', 'Fox News Channel', 'Frances Oldham Kelsey', 'Frances Perkins', 'Frances Willard', 'Frances Wisebart Jacobs', 'Frances Wright', 'Frances Xavier Cabrini', 'Francis Preston Blair Jr.', 'Frank Comerford Walker', 'Frank E. McKinney', 'Frank J. Mrvan', 'Frank Lucas (Oklahoma politician)', 'Frank Pallone', 'Frank Riggs', 'Franklin D. Roosevelt', 'Franklin Pierce', 'Fred Keller (politician)', 'Fred R. Harris', 'Fred Upton', 'Frederica Wilson', 'Frederick H. Gillett', 'Frederick Muhlenberg', 'French Hill (politician)', 'G. K. Butterfield', 'GND (identifier)', 'Gabby Giffords', 'Gabriel Singson', 'Galusha A. Grow', 'Garret Graves', 'Gary Condit', 'Gary Locke', 'Gary Miller', 'Gary Palmer (politician)', 'Gender identity', 'Genoa', 'George B. McClellan', 'George Brown Jr.', 'George H. Pendleton', 'George Hugh Niederauer', 'George J. Mitchell', 'George M. Dallas', 'George McGovern', 'George Miller (California politician)', 'George Radanovich', 'George S. Houston', 'George Stephanopoulos', 'George Tenet', 'George W. Bush', 'George Washington Jones (Tennessee politician)', 'George White (Ohio politician)', 'Georgia (U.S. state)', \"Georgia O'Keeffe\", 'Gerald Ford', 'Geraldine Ferraro', 'Gerry Connolly', 'Gertrude B. Elion', 'Gertrude Ederle', 'Gerty Cori', 'Gil Cisneros', 'Gilbert Hitchcock', 'Glass ceiling', 'Glenn Grothman', 'Glenn M. Anderson', 'Glenn Thompson (politician)', 'Gloria Allred', 'Gloria Negrete McLeod', 'Gloria Steinem', 'Gloria Yerkovich', 'Golden Gate Park', 'Gordon Sondland', 'Governor (United States)', 'Grace Hopper', 'Grace Meng', 'Grace Napolitano', 'Great Depression', 'Greg Murphy (politician)', 'Greg Pence', 'Greg Stanton', 'Greg Steube', 'Gregorio Sablan', 'Gregory Meeks', 'Grover Cleveland', 'Gun Owners of America', 'Gus Bilirakis', 'Guy Reschenthaler', 'Gwen Moore', 'Gwendolyn Brooks', 'HR 2206', 'Hakeem Jeffries', 'Hal Rogers', 'Hale Boggs', 'Haley Stevens', 'Hamas', 'Hank Johnson', 'Hannah G. Solomon', 'Harley Rouda', 'Harriet Beecher Stowe', 'Harriet Tubman', 'Harriet Williams Russell Strong', 'Harry Britt', 'Harry Lane Englebright', 'Harry Reid', 'Harry S. Truman', 'Harvey Fierstein', 'Havana', 'Heath Shuler', 'Helen B. Taussig', 'Helen Hayes', 'Helen Keller', 'Helen LaKelly Hunt', 'Helen Murray Free', 'Helen Stephens', 'Henrietta Szold', 'Henry A. Wallace', 'Henry Clay', 'Henry Cuellar', 'Henry Gassaway Davis', 'Henry M. Jackson', 'Henry Thomas Rainey', 'Henry Waxman', 'Hernando Money', 'Herschel Vespasian Johnson', 'Hezbollah', 'High School Democrats of America', 'Hilda Solis', 'Hillary Clinton', 'History of the Democratic Party (United States)', 'Homer Stille Cummings', 'Hong Kong', 'Horace Greeley', 'Horatio Seymour', 'House Baltic Caucus', 'House Democratic Caucus', 'House Intelligence Committee', 'House Judiciary Committee', 'House Majority Leader', 'House Minority Leader', 'House Minority Whip', 'House Republican Conference', 'Howard Berman', 'Howard Dean', 'Howell Cobb', 'Hu Jia (activist)', 'Hubert Humphrey', 'Human Rights Campaign', 'Human rights in Cuba', 'Human rights in Tibet', 'Hundred Days Congress', 'ISBN (identifier)', 'ISNI (identifier)', 'ISSN (identifier)', 'Ida B. Wells', 'Ida Tarbell', 'Idaho Democratic Party', 'Ilhan Omar', 'Illinois', 'Imelda Marcos', 'Impeachment in the United States', 'Impeachment inquiry against Donald Trump', 'Ina May Gaskin', 'Inaugural address of John F. Kennedy', 'Incumbent', 'Indiana Democratic Party', 'Institute of Notre Dame', 'Intellectual property in China', 'Iowa Democratic Party', 'Iran', 'Iran Freedom and Support Act', 'Iran nuclear deal', 'Iraq Resolution', 'Iraq War', 'Iraq War troop surge of 2007', 'Iraq and weapons of mass destruction', 'Isernia', 'Israel', 'Israeli-occupied territories', 'Israeli settlement', 'Israel–United States relations', 'Italian-American', 'Italy', 'J. Howard McGrath', 'J. Warren Keifer', 'Jack Bergman', 'Jackie Speier', 'Jackie Walorski', 'Jacqueline Cochran', 'Jacques Diouf', 'Jahana Hayes', 'Jaime Harrison', 'Jaime Herrera Beutler', 'Jake Auchincloss', 'Jake LaTurner', 'Jamaal Bowman', 'James B. Beck', 'James Baldwin', 'James Buchanan', 'James Comer (politician)', 'James Comey', 'James D. Richardson', 'James E. Rogan', 'James Farley', 'James G. Blaine', 'James K. Polk', 'James Kimbrough Jones', 'James Langevin', 'James Lawrence Orr', 'James M. Cox', 'James Robert Mann (Illinois)', 'James Tilghman Lloyd', 'Jamie Raskin', 'Jan Schakowsky', 'Jane Addams', 'Jane Cunningham Croly', 'Jane Fonda', 'Jane Harman', 'Janet Reno', 'Janet Rowley', 'Janice Hahn', 'January 2015 Speaker of the United States House of Representatives election', 'Japan', 'Jared Golden', 'Jared Huffman', 'Jason Collins', 'Jason Crow', 'Jason Smith (politician)', 'Jay Kim', 'Jay Obernolte', 'Jean Kilbourne', 'Jean Westwood (politician)', 'Jeanne M. Holm', 'Jeannette Rankin', 'Jeff Denham', 'Jeff Duncan (politician)', 'Jeff Fortenberry', 'Jeff Merkley', 'Jeff Van Drew', 'Jennifer Wexton', 'Jenniffer González', 'Jerry Brown', 'Jerry Carl', 'Jerry Lewis (California politician)', 'Jerry McNerney', 'Jerry Nadler', 'Jerusalem', 'Jerusalem Embassy Act', 'Jesús \"Chuy\" García', 'Jim Baird (politician)', 'Jim Banks', 'Jim Bates (politician)', 'Jim Clyburn', 'Jim Cooper', 'Jim Costa', 'Jim Hagedorn', 'Jim Himes', 'Jim Jordan (American politician)', 'Jim McGovern (American politician)', 'Jim Miklaszewski', 'Jim Wright', 'Jimmy Carter', 'Jimmy Gomez', 'Jimmy Panetta', 'Jo Byrns', 'Joan Ganz Cooney', 'Joaquin Castro', 'Jodey Arrington', 'Jody Hice', 'Joe Andrew', 'Joe Baca', 'Joe Biden', 'Joe Courtney (politician)', 'Joe Lieberman', 'Joe Neguse', 'Joe Pitts', 'Joe Wilson (American politician)', 'John Abdallah Wambere', 'John B. Larson', 'John B. T. Campbell III', 'John Bell (Tennessee politician)', 'John Boehner', 'John Brademas', 'John C. Breckinridge', 'John C. Calhoun', 'John Carter (Texas politician)', 'John Conyers', 'John Coyle White', 'John Curtis (Utah politician)', 'John Dingell', 'John Doolittle', 'John Edwards', 'John F. Kennedy', 'John G. Carlisle', 'John Garamendi', 'John J. McFall', 'John J. Raskob', 'John Jacob Rhodes', 'John Joyce (American politician)', 'John Katko', 'John Kerry', 'John McCain', 'John McDuffie', 'John Moolenaar', 'John Moran Bailey', 'John Murtha', 'John Nance Garner', 'John O. Brennan', 'John Roberts', 'John Rose (Tennessee politician)', 'John Rutherford (Florida politician)', 'John Sarbanes', 'John Seymour (California politician)', 'John Sharp Williams', 'John Sparkman', 'John Spratt', 'John W. Davis', 'John W. Kern', 'John W. McCormack', 'John W. Stevenson', 'John W. Taylor (politician)', 'John Wesley Davis', 'John White (Kentucky politician)', 'John Wilbur Dwight', 'John Winston Jones', 'John Yarmuth', 'Jonathan Dayton', 'Jonathan Trumbull Jr.', 'Jordan', 'Jordan Valley', 'Jose T. Almonte', 'Joseph Bradley Varnum', 'Joseph Clay Stiles Blackburn', 'Joseph Gurney Cannon', 'Joseph Lane', 'Joseph Morelle', 'Joseph Taylor Robinson', 'Joseph W. Byrns Sr.', 'Joseph W. Martin Jr.', 'Joseph Weldon Bailey', 'Joseph William Martin Jr.', 'Josephine St. Pierre Ruffin', 'Josh Gottheimer', 'Josh Harder', 'Joshua Wong', 'Journeys with George', 'Joyce Beatty', 'Juan Flavier', 'Juan Guaidó', 'Juan Vargas', 'Juanita Millender-McDonald', 'Judicial Watch', 'Judith Pipher', 'Judy Chu', 'Judy Shepard', 'Julia Brownley', 'Julia Child', 'Julia Letlow', 'Julia Ward Howe', 'Julian Dixon', 'Julie Krone', 'Juliette Gordon Low', 'KPIX-TV', 'Kai Kahele', 'Kamala Harris', 'Kansas Democratic Party', 'Karen Bass', 'Karen DeCrow', 'Kat Cammack', 'Kate Millett', 'Kate Mullany', 'Kate Stoneman', 'Katharine Drexel', 'Katharine Graham', 'Katharine McCormick', 'Katherine Clark', 'Katherine Siva Saubel', 'Kathleen Rice', 'Kathrine Switzer', 'Kathy Castor', 'Kathy Manning', 'Katie Hill (politician)', 'Katie Porter', 'Kay Granger', 'Keith Ellison', 'Kelly Armstrong', 'Ken Buck', 'Ken Calvert', 'Kenneth M. Curtis', 'Kentucky Democratic Party', 'Kevin Brady', 'Kevin Hern', 'Kevin McCarthy (California politician)', 'Kevin McCarthy (U.S. Representative)', 'Kim Jong-un', 'Kim Schrier', 'Kim dynasty (North Korea)', 'Kirstjen Nielsen', 'Knesset', 'Know Your Power', 'Kurt Schrader', 'Kweisi Mfume', 'LCCN (identifier)', 'LGBT', 'Lance Gooden', 'Langdon Cheves', 'Larry Bucshon', \"Larry O'Brien\", 'Laura Richardson', 'Lauren Boebert', 'Lauren Underwood', 'Laurie Spiegel', 'Leader of the House Democrats', 'Lee Zeldin', 'Legality of cannabis in the United States', 'Leon Panetta', 'Leontine T. Kelly', 'Leslie C. Arends', 'Leslie Cornelius Arends', 'Lewis Cass', 'Library of Congress', 'Lieutenant colonel (United States)', 'Lillian Moller Gilbreth', 'Lillian Wald', 'Lilly Ledbetter', 'Linda G. Alvarado', 'Linda Richards', 'Linda Sánchez', 'Linn Boyd', 'Lisa Blunt Rochester', 'Lisa McClain', 'List of Chinese dissidents', 'List of Democratic National Conventions', 'List of Democratic Party presidential primaries', 'List of United States Democratic Party presidential tickets', 'List of United States governors', 'List of United States representatives from California', 'List of United States senators from California', 'List of acts of the 117th United States Congress', 'List of current United States Senators', 'List of current United States congressional joint committees', 'List of current members of the United States House of Representatives', 'List of female speakers of legislatures in the United States', 'List of mayors of Baltimore', 'List of presidents of the United States', 'List of speakers of the United States House of Representatives', 'List of state parties of the Democratic Party (United States)', 'Liz Cheney', 'Lizzie Fletcher', 'Lloyd Bentsen', 'Lloyd Doggett', 'Lloyd Smucker', 'Lois Capps', 'Lois Frankel', 'Loomis, California', 'Loretta Ford', 'Loretta Sanchez', 'Lori Trahan', 'Lorraine Hansberry', 'Los Angeles Times', 'Lou Correa', 'Louie Gohmert', 'Louisa May Alcott', 'Louise Bourgeois', 'Louise McManus', 'Louise Slaughter', 'Louisiana Democratic Party', 'Lucille Ball', 'Lucille Roybal-Allard', 'Lucretia Mott', 'Lucy McBath', 'Lucy Stone', 'Luke Russert', 'Lydia Maria Child', 'Lydia Moss Bradley', 'Lyndon B. Johnson', 'Lynn Schenk', 'Lynn Woolsey', 'M. S. Swaminathan', 'MSN', 'MSNBC', 'Madam C. J. Walker', 'Madeleine Albright', 'Madeleine Bordallo', 'Madeleine Dean', 'Madison Cawthorn', 'Mae Jemison', 'Maggie Kuhn', 'Magtanggol C. Gunigundo', 'Maine Democratic Party', 'Makers: Women Who Make America', 'Mandate (politics)', 'Manuel L. Quezon', 'Manuel Manahan', 'Manuel Morato', 'Manuel Yan', 'Marc Veasey', 'Marcia Greenberger', 'Marco Rubio', 'Marcy Kaptur', 'Margaret Atwood', 'Margaret Bourke-White', 'Margaret Chase Smith', 'Margaret Fuller', 'Margaret Mead', 'Margaret Sanger', 'Maria Elvira Salazar', 'Maria Goeppert Mayer', 'Maria Mitchell', 'Maria Tallchief', 'Marian Anderson', 'Marian Wright Edelman', 'Marian de Forest', 'Marianne Cope', 'Mariannette Miller-Meeks', 'Marie Newman', 'Marilyn Strickland', 'Mario Díaz-Balart', 'Marjorie Taylor Greene', 'Marjory Stoneman Douglas', 'Mark Amodei', 'Mark DeSaulnier', 'Mark E. Green', 'Mark Mazzetti', 'Mark Pocan', 'Mark Takano', 'Markwayne Mullin', 'Marsha Aizumi', 'Marsha P. Johnson', 'Martha Coffin Wright', 'Martha Graham', 'Martha Griffiths', 'Martha Matilda Harper', 'Martin Heinrich', 'Martin Van Buren', 'Mary Ann Shadd', 'Mary Baker Eddy', 'Mary Bono', 'Mary Burnett Talbert', 'Mary Calderone', 'Mary Carson Breckinridge', 'Mary Cassatt', 'Mary Dyer', 'Mary Edwards Walker', 'Mary Eliza Mahoney', 'Mary Engle Pennington', 'Mary Gay Scanlon', 'Mary Hallaren', 'Mary Harriman Rumsey', 'Mary Harris Jones', 'Mary Joseph Rogers', 'Mary Lyon', 'Mary McLeod Bethune', 'Mary Miller (politician)', 'Mary Putnam Jacobi', 'Maryland', \"Maryland's 3rd congressional district\", 'Maryland Democratic Party', 'Massachusetts', 'Massachusetts Democratic Party', 'Matilda Cuomo', 'Matilda Joslyn Gage', 'Matt Cartwright', 'Matt Gaetz', 'Matt Rosendale', 'Matthew G. Martínez', 'Max Mutchnick', 'Maxine Waters', 'Maya Angelou', 'Maya Lin', 'Mayor of Baltimore', 'Medicaid', 'Medical marijuana', 'Medicare (United States)', 'Meet the Press', 'Mel Levine', 'Mercy Otis Warren', 'Mervyn Dymally', 'Michael C. Burgess', 'Michael C. Kerr', 'Michael Cloud', 'Michael Dukakis', 'Michael Guest (politician)', 'Michael Huffington', 'Michael McCaul', 'Michael San Nicolas', 'Michael Waltz', 'Michelle Fischbach', 'Michelle Steel', 'Michiel Vos', 'Michigan', 'Michigan Democratic Party', 'Mike Bost', 'Mike Crapo', 'Mike Doyle (American politician)', 'Mike Gallagher (American politician)', 'Mike Garcia (politician)', 'Mike Honda', 'Mike Johnson (Louisiana politician)', 'Mike Kelly (Pennsylvania politician)', 'Mike Lee (American politician)', 'Mike Levin', 'Mike Mansfield', 'Mike Pence', 'Mike Quigley (politician)', 'Mike Rogers (Alabama politician)', 'Mike Simpson', 'Mike Thompson (California politician)', 'Mike Turner', 'Mikie Sherrill', 'Mildred Cohn', 'Mildred Robbins Leet', 'Mimi Walters', 'Minimum wage', 'Minnesota Democratic–Farmer–Labor Party', 'Minority leader of the United States House of Representatives', 'Mississippi Democratic Party', 'Missouri', 'Missouri Democratic Party', 'Mitch McConnell', 'Mitt Romney', 'Mo Brooks', 'Molise', 'Molly Ball', 'Mondaire Jones', 'Montana Democratic Party', 'Morgan Griffith', 'Mount Holyoke College', 'Movement to impeach George W. Bush', 'Ms. magazine', 'Muriel Siebert', 'Myra Bradwell', 'NKC (identifier)', 'NLK (identifier)', 'NORML', 'NSA warrantless surveillance controversy', 'NTA (identifier)', 'Nancy Brinker', 'Nancy Mace', 'Nanette Barragán', 'Nannerl O. Keohane', 'Napa Valley', 'Nathaniel Macon', 'Nathaniel P. Banks', 'National Center for Health Research', 'National Conference of Democratic Mayors', 'National Federation of Democratic Women', 'National Organization of Italian American Women', 'National Prayer Breakfast', 'National Rifle Association', 'National Security Council (United States)', 'National Statuary Hall', \"National Women's Hall of Fame\", 'Natividad Relucio-Clavano', 'Neal Dunn', 'Nebraska Democratic Party', 'Nellie Bly', 'Nettie Stevens', 'Nevada Democratic Party', 'New Hampshire Democratic Party', 'New Jersey Democratic State Committee', 'New York Post', 'New York State Democratic Committee', 'Newsweek', 'Newt Gingrich', 'Nicholas Longworth', 'Nicole Malachowski', 'Nicole Malliotakis', 'Nikema Williams', 'Nina Rasul', 'No Child Left Behind Act', 'Non-voting members of the United States House of Representatives', 'Norma Torres', 'Norman D. Shumway', 'Norman E. Mack', 'Norman Mineta', 'North Carolina', 'North Carolina Democratic Party', 'North Dakota Democratic–Nonpartisan League Party', 'North Korea', 'North Korea and weapons of mass destruction', 'Northern California', 'Northern Marianas Islands', 'Nydia Velázquez', 'Née', 'Obstruction of justice', 'October 2015 Speaker of the United States House of Representatives election', 'Office of Legal Council', 'Offshore drilling', 'Ohio', 'Ohio Democratic Party', 'Oklahoma Democratic Party', 'Oprah Winfrey', 'Orange Is the New Black', 'Order of Merit of the Italian Republic', 'Order of the Golden Heart', 'Order of the Rising Sun', 'Orlando S. Mercado', 'Oscar Underwood', 'Oveta Culp Hobby', 'PLWABN (identifier)', 'PRISM (surveillance program)', 'Paciano Aniceto', 'Pacific Heights, San Francisco, California', 'Partial-Birth Abortion Ban Act', 'Party leaders of the United States House of Representatives', 'Party leaders of the United States Senate', 'Party whips of the United States House of Representatives', 'Pat Fallon', 'Pat Schroeder', 'Patient Protection and Affordable Care Act', 'Patricia Locke', 'Patricia Roberts Harris', 'Patrick J. Boland', 'Patrick Leahy', 'Patrick McHenry', 'Patsy Mink', 'Paul Butler (lawyer)', 'Paul Cook (politician)', 'Paul G. Kirk', 'Paul Gosar', 'Paul Pelosi', 'Paul Ryan', 'Paul Tonko', 'Paulina Kellogg Wright Davis', 'Pearl S. Buck', 'Pennsylvania', 'Pennsylvania Democratic Party', 'Percy Priest', 'Pete Aguilar', 'Pete Sessions', 'Pete Stark', 'Pete Stauber', 'Pete Wilson', 'Peter DeFazio', 'Peter Meijer', 'Peter Welch', 'Philip P. Barbour', 'Philippa Marrack', 'Phillip Burton', 'Planned Parenthood', 'Political positions of Nancy Pelosi', 'Political science', 'Politico', 'Pope Benedict XVI', 'Pramila Jayapal', \"Premier of the People's Republic of China\", 'Presidencies of Grover Cleveland', 'Presidency of Andrew Jackson', 'Presidency of Andrew Johnson', 'Presidency of Barack Obama', 'Presidency of Bill Clinton', 'Presidency of Franklin D. Roosevelt, first and second terms', 'Presidency of Franklin D. Roosevelt, third and fourth terms', 'Presidency of Franklin Pierce', 'Presidency of George W. Bush', 'Presidency of Harry S. Truman', 'Presidency of James Buchanan', 'Presidency of James K. Polk', 'Presidency of Jimmy Carter', 'Presidency of Joe Biden', 'Presidency of John F. Kennedy', 'Presidency of Lyndon B. Johnson', 'Presidency of Martin Van Buren', 'Presidency of Woodrow Wilson', 'President of Russia', 'President of the United States', 'President pro tempore of the United States Senate', 'Pro-democracy camp (Hong Kong)', 'Project Vote Smart', 'Proposed Israeli annexation of the West Bank', 'Qatar', 'Queen Letizia of Spain', 'Queen Ratna of Nepal', 'Queen Sofía of Spain', 'Quran', 'Rachel Carson', 'Rahm Emanuel', 'Raja Krishnamoorthi', 'Ralph Norman', 'Ramon Magsaysay', 'Randy Feenstra', 'Randy Weber', 'Ranking member', 'Rashida Tlaib', 'Rasmussen Reports', 'Raul Ruiz (politician)', 'Raúl Grijalva', 'Real Clear Politics', 'Rebecca Talbot Perkins', 'Recep Tayyip Erdoğan', 'Redistricting', 'Removal of Confederate monuments and memorials', 'Renato de Villa', 'Republican Party (United States)', 'Response to the State of the Union address', 'Reuters', 'Rhode Island Democratic Party', 'Richard H. Lehman', 'Richard Hudson (American politician)', 'Richard Mentor Johnson', 'Richard Neal', 'Richard Pombo', 'Rick Crawford (politician)', 'Rick Larsen', 'Rick W. Allen', 'Rita R. Colwell', 'Ritchie Torres', 'Ro Khanna', 'Rob Wittman', 'Robert Aderholt', 'Robert Badham', 'Robert Byrd', 'Robert Charles Winthrop', 'Robert E. Hannegan', 'Robert E. Lee (Valentine)', 'Robert F. Chandler', 'Robert H. Michel', 'Robert J. Lagomarsino', 'Robert M. T. Hunter', 'Robert Milligan McLane', 'Robert Ramspeck', 'Robert S. Strauss', 'Roberta A. Kaplan', 'Robin Kelly', 'Rocky Mountains', 'Rod Rosenstein', 'Rodney Davis (politician)', 'Roger Wicker', 'Roger Williams (American politician)', 'Roman Catholic Archdiocese of San Francisco', 'Roman Catholic Archdiocese of Washington', 'Ron Brown', 'Ron Dellums', 'Ron Estes', 'Ron Kind', 'Ron Packard', 'Ron Pelosi', 'Ron Wyden', 'Ronald Reagan', 'Ronny Jackson', 'Rosa DeLauro', 'Rosa Parks', 'Rosa Parks (National Statuary Hall)', 'Rosa Rosal', 'Rosalyn Sussman Yalow', 'Rosalynn Carter', \"Rose O'Neill\", 'Roy Blunt', 'Roy Romer', 'Rozanne L. Ridgway', 'Ruben Gallego', 'Ruben Torres', 'Russ Fulcher', 'Russia', 'Russian bounty program', 'Russian interference in the 2016 United States elections', 'Ruth Bader Ginsburg', 'Ruth Benedict', 'Ruth Johnson Colvin', 'Ruth Patrick', 'Ryan Murphy (writer)', 'S2CID (identifier)', 'SNAC-ID (identifier)', 'STOCK Act', 'SUDOC (identifier)', 'Sacagawea', 'Saddam Hussein', 'Sakharov Prize for Freedom of Thought', 'Sala Burton', 'Sally Ride', 'Salman of Saudi Arabia', 'Salud Carbajal', 'Sam Farr', 'Sam Graves', 'Sam Rayburn', 'Same-sex marriage', 'Samuel J. Randall', 'Samuel J. Tilden', 'San Francisco', 'San Francisco, California', 'San Francisco Chronicle', 'San Francisco Pride', \"Sandra Day O'Connor\", 'Sanford Bishop', 'Sara Jacobs', 'Sarah Deer', 'Sarah Moore Grimké', 'Sarah Winnemucca', 'Sargent Shriver', 'Schuyler Colfax', 'Scooter Libby', 'Scott Brown (politician)', 'Scott DesJarlais', 'Scott Franklin (politician)', 'Scott L. Fitzgerald', 'Scott Perry (politician)', 'Scott Peters (politician)', 'Scott W. Lucas', 'Sean Casten', 'Sean Patrick Maloney', 'Second Party System', 'Second impeachment of Donald Trump', 'Secure Fence Act of 2006', 'Senate Democratic Caucus', 'Seniority in the United States House of Representatives', 'September 11 attacks', 'Sergeant at Arms', 'Sergey Kislyak', 'Sergey Lavrov', 'Seth Moulton', 'Sexual orientation', 'Sfgate.com', 'Shannon Lucid', 'Sharice Davids', 'Sheila Jackson Lee', 'Sheila Lopez', 'Sheila Widnall', 'Sherry Lansing', 'Shirley Ann Jackson', 'Shirley Chisholm', 'Single-payer healthcare', 'Sixth Party System', 'Slate (magazine)', 'Social Security (United States)', 'Social Security debate in the United States', 'Sojourner Truth', 'Sonia Sotomayor', 'Sonny Bono', 'Sophia Smith (Smith College)', 'South Carolina Democratic Party', 'South Dakota Democratic Party', 'South Italy', 'Southern Democrats', 'Speaker-designate', 'Speaker of the United States House of Representatives', 'Special election', 'St. Helena, California', 'Stacey Plaskett', 'StarKist Tuna', 'State of the Union', 'Steny Hoyer', 'Stephanie Bice', 'Stephanie Kwolek', 'Stephanie Murphy', 'Stephen A. Douglas', 'Stephen A. Mitchell (politician)', 'Stephen F. Lynch', 'Steve Chabot', 'Steve Cohen', 'Steve Horn', 'Steve Knight (politician)', 'Steve Scalise', 'Steve Stivers', 'Steve Womack', 'Steven Grossman (politician)', 'Steven Horsford', 'Steven Palazzo', 'Steven T. Kuykendall', 'Stoneman Douglas High School shooting', 'Stonewall Democrats', 'Stonewall Young Democrats', 'Stormy Daniels–Donald Trump scandal', 'Subhi Nahas', 'Subpoena', 'Suharto', 'Superdelegate', 'Supreme Court of California', 'Susan B. Anthony', 'Susan Davis (politician)', 'Susan Kelly-Dreiss', 'Susan Solomon', 'Susan Wild', 'Susette La Flesche', 'Susie Lee', 'Suzan DelBene', 'Suzanne Bonamici', 'Swanee Hunt', 'Sybrina Fulton', 'Sylvia Earle', 'Sylvia Garcia', 'Sylvia Rivera', 'Syria Accountability Act', 'TJ Cox', 'Talal bin Abdulaziz Al Saud', 'Taliban', 'Tarana Burke', 'Tax Cuts and Jobs Act of 2017', 'Tax March', 'Ted Budd', 'Ted Deutch', 'Ted Kennedy', 'Ted Lieu', 'Temple Grandin', 'Ten Commandments', 'Tenley Albright', 'Tennessee Democratic Party', 'Teresa Leger Fernandez', 'Terri Sewell', 'Terry McAuliffe', 'Texas Democratic Party', 'The Advocate (LGBT magazine)', 'The Baltimore Sun', 'The Daily Beast', 'The Economist', 'The Huffington Post', 'The Mercury News', 'The New York Times', 'The Washington Post', 'The Washington Post Company', 'The White House', 'Theodore M. Pomeroy', 'Theodore Sedgwick', 'Third Party System', 'Thomas A. Hendricks', 'Thomas Brackett Reed', \"Thomas D'Alesandro III\", \"Thomas D'Alesandro Jr.\", 'Thomas Eagleton', 'Thomas Jefferson', 'Thomas Massie', 'Thomas Montgomery Bell', 'Thomas R. Marshall', 'Thomas S. Martin', 'Thomas Suozzi', 'Thomas Taggart', 'Thousand Oaks shooting', 'Tim Burchett', 'Tim Kaine', 'Tim Ryan (Ohio politician)', 'Tim Walberg', 'Tim Walz', 'Timber Sycamore', 'Time Magazine', \"Tip O'Neill\", 'Title 3 of the United States Code', 'Tom Brokaw', 'Tom Campbell (California politician)', 'Tom Cole', 'Tom Daschle', 'Tom Emmer', 'Tom Foley', 'Tom Lantos', 'Tom Malinowski', 'Tom McClintock', \"Tom O'Halleran\", 'Tom Perez', 'Tom Reed (politician)', 'Tom Rice', 'Tom Tiffany', 'Tony Coelho', 'Tony Cárdenas', 'Tony Gonzales', 'Toronto Star', 'Tracey Mann', 'Tracy Martin', 'Trent Kelly', 'Trent Lott', 'Trey Hollingsworth', 'Trinity Washington University', 'Troy Balderson', 'Troy Nehls', 'Trump–Ukraine scandal', 'Tsuneo Tanaka', 'Turkey', 'Tuskegee Airmen', 'Twenty-Fifth Amendment to the United States Constitution', 'Twitter', 'U.S. Congress', 'U.S. House Committee on Appropriations', 'U.S. House Permanent Select Committee on Intelligence', 'U.S. presidential election, 2004', 'USA Patriot Act', 'US Congress (identifier)', 'Umayyad Mosque', 'United Nations Security Council Resolution 2334', 'United States Air Force', 'United States Ambassador to the European Union', 'United States Capitol', 'United States Capitol crypt', 'United States Census, 1990', 'United States Congress', 'United States Congressional Joint Committee on Printing', 'United States Congressional Joint Committee on Taxation', 'United States Congressional Joint Committee on the Library', 'United States Congressional Joint Economic Committee', 'United States Constitution', 'United States Department of Labor', 'United States House of Representatives', 'United States House of Representatives elections, 2006', 'United States House of Representatives elections, 2010', 'United States Republican Party', 'United States Senate', 'United States Senate Democratic Conference Secretary', 'United States Senate Democratic Policy Committee', 'United States Senate Democratic Steering and Outreach Committee', 'United States Senate special election in Massachusetts, 2010', 'United States congressional delegations from California', 'United States elections, 2006', 'United States embargo against Cuba', 'United States order of precedence', 'United States presidential line of succession', 'United States recognition of Jerusalem as capital of Israel', 'United States–Colombia Free Trade Agreement', 'Utah Democratic Party', 'VH1 Trailblazer Honors', 'VIAF (identifier)', 'Val Demings', 'Van Taylor', 'Vance C. McCormick', 'Venezuelan protests (2014–present)', 'Venice', 'Vermont Democratic Party', 'Vern Buchanan', 'Veronica Escobar', 'Vic Fazio', 'Vice President of the United States', 'Vicente Gonzalez (politician)', 'Vicky Hartzler', 'Victoria Jackson (entrepreneur)', 'Victoria Spartz', 'Victoria Woodhull', 'Virginia Apgar', 'Virginia Foxx', 'Vladimir Putin', 'Volodymyr Zelensky', 'Vote Smart', 'WRC-TV', 'Walid Muallem', 'Wally Herger', 'Walter B. Jones', 'Walter Capps', 'Walter Mondale', 'Walter R. Tucker III', 'War in Afghanistan (2001–present)', 'War in Iraq', 'Warren Davidson', 'Washington (state)', 'Washington Post', 'Washington State Democratic Party', 'Waterboarding', 'Wayback Machine', 'Weapons of mass destruction', 'Weekly Democratic Address', 'Welfare reform', 'Wen Jiabao', 'West Bank', 'West Virginia Democratic Party', 'White House', 'White House Counsel', 'Wilhelmina Holladay', 'Willa Cather', 'William A. Wallace', 'William Allan Oldfield', 'William B. Bankhead', 'William E. Dannemeyer', 'William E. Niblack', 'William F. Harrity', 'William F. McCombs', 'William H. Gray III', 'William Hayden English', 'William Henry Barnum', 'William Jennings Bryan', 'William M. Boyle', 'William Orlando Butler', 'William P. Baker', 'William Pennington', 'William R. King', 'William S. Holman', 'William Timmons', 'Wilma Mankiller', 'Wilma Rudolph', 'Wilma Vaught', 'Winfield Scott Hancock', 'Winona LaDuke', 'Women in the United States House of Representatives', 'Woodrow Wilson', 'WorldCat Identities (identifier)', 'Wyoming Democratic Party', 'Xavier Becerra', 'Young Democrats of America', 'Young Kim', 'Yvette Clarke', 'Yvette Herrell', 'Zoe Lofgren', 'Zora Neale Hurston', 'Álvaro Uribe']\n"
     ]
    }
   ],
   "source": [
    "print(wikipedia.page(wikipedia.search(\"nancy-pelosi \")[0]).links)"
   ]
  },
  {
   "cell_type": "code",
   "execution_count": 43,
   "metadata": {},
   "outputs": [
    {
     "name": "stdout",
     "output_type": "stream",
     "text": [
      "['1940 births', '20th-century American politicians', '20th-century American women politicians', '21st-century American politicians', '21st-century American women politicians', 'All BLP articles lacking sources', 'All Wikipedia articles written in American English', 'American people of Italian descent', 'American women activists', 'Articles containing video clips', 'Articles with Curlie links', 'Articles with short description', 'BLP articles lacking sources from January 2021', 'CS1 maint: extra text: authors list', 'California Democratic Party chairs', 'California Democrats', 'Catholics from California', 'Catholics from Maryland', 'Democratic Party members of the United States House of Representatives', 'Female members of the United States House of Representatives', 'Good articles', 'Italian-American culture in Baltimore', 'Italian-American culture in California', 'LGBT rights activists from the United States', 'Living people', 'Members of the United States House of Representatives from California', 'Minority Leaders of the United States House of Representatives', 'Nancy Pelosi', 'Pages using Sister project links with hidden wikidata', 'Pelosi family', 'Politicians from Baltimore', 'Politicians from San Francisco', 'Short description is different from Wikidata', 'Speakers of the United States House of Representatives', 'Trinity Washington University alumni', 'Use American English from February 2019', 'Use mdy dates from June 2020', 'Webarchive template wayback links', 'Wikipedia articles with GND identifiers', 'Wikipedia articles with ISNI identifiers', 'Wikipedia articles with LCCN identifiers', 'Wikipedia articles with NKC identifiers', 'Wikipedia articles with NLK identifiers', 'Wikipedia articles with NTA identifiers', 'Wikipedia articles with PLWABN identifiers', 'Wikipedia articles with SNAC-ID identifiers', 'Wikipedia articles with SUDOC identifiers', 'Wikipedia articles with USCongress identifiers', 'Wikipedia articles with VIAF identifiers', 'Wikipedia articles with WORLDCATID identifiers', 'Wikipedia indefinitely move-protected pages', 'Wikipedia indefinitely semi-protected biographies of living people', 'Women in California politics', 'Women legislative speakers', 'Women opposition leaders']\n"
     ]
    }
   ],
   "source": [
    "print(wikipedia.page('Nancy Pelosi').categories)"
   ]
  },
  {
   "cell_type": "code",
   "execution_count": null,
   "metadata": {},
   "outputs": [],
   "source": []
  },
  {
   "cell_type": "code",
   "execution_count": 40,
   "metadata": {},
   "outputs": [
    {
     "name": "stdout",
     "output_type": "stream",
     "text": [
      "Nancy Patricia Pelosi (; née D'Alesandro; born March 26, 1940) is an American politician serving as Speaker of the United States House of Representatives since 2019, and previously from 2007 to 2011. She has served as a U.S. representative from California since 1987. A member of the Democratic Party, Pelosi is the only woman in U.S. history to serve as speaker. She is second in the presidential line of succession, after vice president Kamala Harris. She is the dean of California's Congressional delegation.\n",
      "Pelosi was first elected to Congress in 1987, following her father, Thomas D'Alesandro Jr., who served as a U.S. representative from Maryland and Mayor of Baltimore, into politics. She is the dean of California's congressional delegation, having begun her 18th term in 2021. Pelosi represents California's 12th congressional district, which comprises four-fifths of the city and county of San Francisco. She initially represented the 5th district (1987–1993), and then, when district boundaries were redrawn after the 1990 Census, the 8th district (1993–2013). Pelosi has led the House Democrats since 2003—the first woman to lead a party in Congress—serving twice each as House Minority Leader (2003–2007 and 2011–2019) and as Speaker (2007–2011 and since 2019).\n",
      "Pelosi was a major opponent of the Iraq War as well as the Bush administration's 2005 attempt to partially privatize Social Security. During her first speakership, she was instrumental in the passage of many of the Obama administration's landmark bills, including the Affordable Care Act, the Dodd–Frank Wall Street Reform and Consumer Protection Act, the Don't Ask, Don't Tell Repeal Act, the American Recovery and Reinvestment Act, and the 2010 Tax Relief Act.\n",
      "Pelosi lost the speakership in 2011 after the Republican Party won a majority in the House of Representatives in the 2010 elections. But she retained her role as leader of the House Democratic Caucus and returned to the role of House minority leader. In the 2018 midterm elections, the Democrats regained control of the House. When the 116th Congress convened on January 3, 2019, Pelosi was again elected Speaker, becoming the first former Speaker to return to the post since Sam Rayburn in 1955. Under Pelosi's leadership, the House of Representatives impeached President Donald Trump, first on December 18, 2019, and again on January 13, 2021; Trump was acquitted both times by the Senate.On January 3, 2021, Pelosi was reelected to a fourth term as Speaker of the House, which is expected to be her last, after a deal with progressives.\n",
      "\n",
      "\n",
      "== Early life and education ==\n",
      "Pelosi was born in Baltimore to an Italian-American family. She was the only girl and the youngest of seven children of Annunciata M. \"Nancy\" D'Alesandro (née Lombardi) and Thomas D'Alesandro Jr. Her mother was born in Fornelli, Isernia, Molise, in South Italy, and came to the U.S. in 1912; her father could trace his Italian ancestry to Genoa, Venice and Abruzzo. When Nancy was born, her father was a Democratic congressman from Maryland (and he became Mayor of Baltimore seven years later). Pelosi's mother was also active in politics, organizing Democratic women and teaching her daughter the value of social networking. Pelosi's brother, Thomas D'Alesandro III, also a Democrat, was Mayor of Baltimore from 1967 to 1971.Pelosi was involved with politics from an early age. She helped her father at his campaign events. She attended John F. Kennedy's inaugural address when he was sworn in as U.S. president in January 1961.In 1958, Pelosi graduated from the Institute of Notre Dame, an all-girls Catholic high school in Baltimore. In 1962, she graduated from Trinity College in Washington, D.C., with a Bachelor of Arts in political science. Pelosi interned for Senator Daniel Brewster (D-Maryland) in the 1960s alongside future House majority leader Steny Hoyer.\n",
      "\n",
      "\n",
      "== Early career ==\n",
      "\n",
      "After moving to San Francisco, Pelosi became friends with 5th district congressman Phillip Burton, and began working her way up in Democratic politics. In 1976, she was elected as a Democratic National Committee member from California, a position she would hold until 1996. She was elected as party chair for Northern California in January 1977, and four years later was selected to head the California Democratic Party, which she led until 1983. Subsequently, Pelosi served as the San Francisco Democratic National Convention Host Committee chairwoman in 1984, and then as Democratic Senatorial Campaign Committee finance chair from 1985 to 1986.\n",
      "\n",
      "\n",
      "== U.S. House of Representatives ==\n",
      "\n",
      "\n",
      "=== Elections ===\n",
      "\n",
      "Phillip Burton died in 1983 and was succeeded by his wife, Sala. In late 1986, Sala became ill with cancer and decided not to run for reelection in 1988. She picked Pelosi as her designated successor, guaranteeing her the support of the Burtons' contacts. Sala died on February 1, 1987, just a month after being sworn in for a second full term. Pelosi won the special election to succeed her, narrowly defeating San Francisco supervisor Harry Britt on April 7, 1987, then easily defeating Republican candidate Harriet Ross on June 2, 1987; Pelosi took office a week later.Pelosi represents one of the safest Democratic districts in the country. Democrats have held the seat since 1949 and Republicans, who currently make up only 13 percent of registered voters in the district, have not made a serious bid for the seat since the early 1960s. She won reelection in the regular election in 1988 and has been reelected another 16 times with no substantive opposition, winning with an average of 80 percent of the vote. She has not participated in candidates' debates since her 1987 race against Harriet Ross. The strongest challenge Pelosi has faced was in 2020 when fellow Democrat Shahid Buttar won 22.4% of the vote, and Pelosi won 77.6%.\n",
      "For the 2000 and 2002 election cycles, she held the distinction of contributing the most money among members of Congress to other congressional campaigns.\n",
      "\n",
      "\n",
      "=== Committee assignments ===\n",
      "In the House, she served on the Appropriations and Intelligence Committees and was the ranking Democrat on the Intelligence Committee until her election as minority leader.Pelosi is a member of the House Baltic Caucus.\n",
      "\n",
      "\n",
      "=== Pre-speakership career ===\n",
      "In March 1988, Pelosi voted in favor of the Civil Rights Restoration Act of 1987 (as well as to override President Reagan's veto).In 2001, Pelosi was elected the House Minority Whip, second-in-command to Minority Leader Dick Gephardt of Missouri. She was the first woman in U.S. history to hold that post.In 2002, after Gephardt resigned as Minority Leader to seek the Democratic nomination in the 2004 presidential election, Pelosi was elected to replace him, becoming the first woman to lead a major party in the House.\n",
      "\n",
      "\n",
      "=== First speakership (2007–2011) ===\n",
      "\n",
      "\n",
      "==== Nomination ====\n",
      "\n",
      "In the 2006 midterm elections, the Democrats took control of the House, picking up 30 seats. The change in control meant as House minority leader, Pelosi was widely expected to become Speaker of the House in the next Congress. On November 16, 2006, the Democratic caucus unanimously chose Pelosi as the Democratic candidate for Speaker.Pelosi supported her longtime friend, John Murtha of Pennsylvania, for the position of House Majority leader, the second-ranking post in the House Democratic caucus. His competitor was House Minority Whip Steny Hoyer of Maryland, who had been Pelosi's second-in-command since 2003. Hoyer was elected as House majority leader over Murtha by a margin of 149–86 within the caucus.On January 3, Pelosi defeated Republican John Boehner of Ohio, 233 votes to 202, in the election for Speaker of the House. Rahm Emanuel of Illinois, the incoming chairman of the House Democratic Caucus, nominated Pelosi, and her longtime friend John Dingell of Michigan swore her in, as the dean of the House of Representatives traditionally does.\n",
      "\n",
      "With her election, Pelosi became the first woman, the first Californian, and the first Italian-American to hold the speakership. She was also the second Speaker from a state west of the Rocky Mountains. The first was Washington's Tom Foley, the last Democrat to hold the post before Pelosi.\n",
      "During her speech, she discussed the historical importance of being the first female to hold the position of Speaker:\n",
      "\n",
      "This is a historic moment—for the Congress, and for the women of this country. It is a moment for which we have waited more than 200 years. Never losing faith, we waited through the many years of struggle to achieve our rights. But women weren't just waiting; women were working. Never losing faith, we worked to redeem the promise of America, that all men and women are created equal. For our daughters and granddaughters, today, we have broken the marble ceiling. For our daughters and our granddaughters, the sky is the limit, anything is possible for them.\n",
      "She also said Iraq was the major issue facing the 110th Congress, while incorporating some Democratic Party beliefs:\n",
      "\n",
      "The election of 2006 was a call to change—not merely to change the control of Congress, but for a new direction for our country. Nowhere were the American people more clear about the need for a new direction than in Iraq. The American people rejected an open-ended obligation to a war without end.\n",
      "\n",
      "\n",
      "==== Tenure ====\n",
      "As Speaker, Pelosi was still the leader of the House Democrats; the Speaker is considered to be the leader of his or her House caucus. However, by tradition, she did not normally participate in debate and almost never voted on the floor, though she had every right to do so as a full House member. She was also not a member of any House committees.\n",
      "Pelosi was reelected Speaker in 2009. A March 2010 CBS News poll found that 37% of registered voters had an unfavorable opinion of her, with 11% approving. According to a March 2010 Rasmussen national poll, 64% of voters viewed Pelosi unfavorably and 29% favorably.During and after her tenure as Speaker, Pelosi was perceived as a contentious political figure, with Republican candidates frequently trying to tie their Democratic opponents to her and moderate Democrats seeking to show their moderate bona fides by expressing opposition to her.\n",
      "\n",
      "\n",
      "===== Social Security =====\n",
      "Shortly after being reelected in 2004, President George W. Bush claimed a mandate for an ambitious second-term agenda and proposed reforming Social Security by allowing workers to redirect a portion of their Social Security withholding into stock and bond investments. Pelosi strongly opposed the plan, saying there was no crisis, and as minority leader she imposed intense party discipline on her caucus, leading them to near-unanimous opposition to the proposal, which was defeated.\n",
      "\n",
      "\n",
      "===== Blocking of impeachment proceedings against President Bush =====\n",
      "In the wake of Bush's reelection, several leading House Democrats believed they should pursue impeachment proceedings against him, asserting that he had misled Congress about weapons of mass destruction in Iraq and violated Americans' civil liberties by authorizing warrantless wiretaps.\n",
      "In May 2006, with an eye on the upcoming congressional elections—which offered the possibility of Democrats taking back control of the House for the first time since 1994—Pelosi told colleagues that, while the Democrats would conduct vigorous oversight of Bush administration policy, an impeachment investigation was \"off the table\". (A week earlier, she had told the Washington Post that, although Democrats would not set out to impeach Bush, \"you never know where\" investigations might lead.)After becoming Speaker in January 2007, Pelosi held firm against impeachment, notwithstanding strong support for it among her constituents. In the November 2008 election, she withstood a challenge for her seat by antiwar activist Cindy Sheehan, who ran as an independent primarily because of Pelosi's refusal to pursue impeachment.\n",
      "\n",
      "\n",
      "===== The \"Hundred Hours\" =====\n",
      "\n",
      "Before the 2006 midterm elections, Pelosi announced that if Democrats gained a House majority, they would push through most of their agenda during the first 100 hours of the 110th Congress.The \"first hundred hours\" is a play on President Franklin D. Roosevelt's promise for quick action to combat the Great Depression during his \"first hundred days\" in office. Newt Gingrich, who became Speaker of the House in 1995, had a similar 100-day agenda to implement the Contract with America.\n",
      "\n",
      "\n",
      "===== Opposition to Iraq War troop surge of 2007 =====\n",
      "\n",
      "On January 5, 2007, reacting to suggestions from Bush's confidants that he would increase troop levels in Iraq (which he announced in a speech a few days later), Pelosi and Senate Majority Leader Harry Reid condemned the plan. They sent Bush a letter reading:\n",
      "\n",
      "[T]here is no purely military solution in Iraq. There is only a political solution. Adding more combat troops will only endanger more Americans and stretch our military to the breaking point for no strategic gain. ... Rather than deploy additional forces to Iraq, we believe the way forward is to begin the phased redeployment of our forces in the next four to six months while shifting the principal mission of our forces there from combat to training, logistics, force protection, and counter-terror.\n",
      "\n",
      "\n",
      "===== 2008 Democratic National Convention =====\n",
      "\n",
      "Pelosi was named Permanent Chair of the 2008 Democratic National Convention in Denver, Colorado.\n",
      "\n",
      "\n",
      "===== Healthcare reform =====\n",
      "Pelosi has been credited for spearheading Obama's health-care law when it seemed doomed to defeat. After Republican Scott Brown won Democrat Ted Kennedy's former Senate seat in the January 2010 Massachusetts special election, costing Democrats their filibuster-proof majority, Obama agreed with then Chief of Staff Rahm Emanuel's idea to do smaller initiatives that could pass easily. But Pelosi dismissed Obama's compunction, mocking his scaled-back ideas as \"kiddie care.\" After convincing him that this would be their only shot at health-care reform because of the large Democratic majorities in Congress, she rallied her caucus as she began an \"unbelievable marathon\" of a two-month session to craft the bill, which passed the House 219–212. In Obama's remarks before signing the bill into law, he credited Pelosi as \"one of the best Speakers the House of Representatives has ever had.\"\n",
      "\n",
      "\n",
      "=== House minority leader (2011–2019) ===\n",
      "\n",
      "\n",
      "==== 112th and 113th Congress ====\n",
      "Though Pelosi was reelected by a comfortable margin in the 2010 midterm elections, the Democrats lost 63 seats and control of the House of Representatives to the Republicans. After this setback, Pelosi sought to continue leading the House Democratic Caucus as minority leader, the office she held before becoming Speaker. Disparate intraparty opposition failed to pass a motion to delay the leadership vote, although she faced a challenge from conservative Democratic representative Heath Shuler from North Carolina. Shuler lost to Pelosi 150–43 in the caucus vote on November 17, 2010. On the opening day of the 112th Congress, Pelosi was elected minority leader.In November 2011, 60 Minutes alleged that Pelosi and several other members of Congress had used information they gleaned from closed sessions to make money on the stock market. The program cited her purchases of Visa stock while a bill that would limit credit card fees was in the House. Pelosi denied the allegations and called the report \"a right-wing smear\". When the Stop Trading on Congressional Knowledge Act (or STOCK Act) was introduced the next year, she voted for it and lauded its passing. Of representatives Louise Slaughter and Tim Walz, who drafted the bill, Pelosi said they \"shined a light on a gaping hole in our ethics laws and helped close it once and for all\".On November 14, 2012, she announced she would remain Democratic leader.\n",
      "\n",
      "\n",
      "==== 114th and 115th Congress ====\n",
      "In August 2016, Pelosi said that her personal contact information had been posted online following a cyberattack against top Democratic campaign committees and she had received \"obscene and sick calls, voice mails and text messages\". She warned members of Congress to avoid letting children or family members answer phone calls or read text messages.\n",
      "\n",
      "Prompted by colleagues after the 2016 presidential election, Tim Ryan initiated a bid to replace Pelosi as House minority leader on November 17, 2016. After Pelosi agreed to give more leadership opportunities to junior members, she defeated Ryan by a vote of 134–63 on November 30.In 2017, after Democrats lost four consecutive special elections in the House of Representatives, Pelosi's leadership was again called into question. In June 2017, Representative Kathleen Rice of New York and a small group of other House Democrats, including Congressional Black Caucus chairman Cedric Richmond, held a closed-door meeting to discuss potential new Democratic leadership. Other House Democrats, including Ryan, Seth Moulton, and Filemon Vela, publicly called for new House leadership. In an interview, Rice said, \"If you were talking about a company that was posting losing numbers, if you were talking about any sports team that was losing time and time again, changes would be made, right? The CEO out. The coach would be out and there would be a new strategy put in place.\" In a press conference, Pelosi defended her leadership, saying, \"I respect any opinion that my members have but my decision about how long I stay is not up to them.\" When asked specifically why she should stay on as House minority leader after numerous Democratic seats were lost, she responded, \"Well, I'm a master legislator. I am a strategic, politically astute leader. My leadership is recognized by many around the country, and that is why I'm able to attract the support that I do.\"In November 2017, after Pelosi called for John Conyers's resignation over allegations of harassment, she convened the first in a series of planned meetings on strategies to address reforming workplace policies in the wake of national attention to sexual harassment. She said Congress had \"a moral duty to the brave women and men coming forward to seize this moment and demonstrate real, effective leadership to foster a climate of respect and dignity in the workplace\".In February 2018, Pelosi sent a letter to Speaker Paul Ryan about the proposed public release of a memo prepared by Republican staff at the direction of House Intelligence Committee Chairman Devin Nunes. The memo attacked the Federal Bureau of Investigation for its investigation of Russian interference in the 2016 United States elections. Pelosi said the FBI and the Department of Justice had warned Nunes and Ryan that the memo was inaccurate and that its release could threaten national security by disclosing federal surveillance methods. She added that Republicans were engaged in a \"cover-up campaign\" to protect Trump: \"House Republicans' pattern of obstruction and cover-up to hide the truth about the Trump-Russia scandal represents a threat to our intelligence and our national security. The GOP has led a partisan effort to distort intelligence and discredit the U.S. law enforcement and intelligence communities.\" She charged Nunes with \"deliberately dishonest actions\" and called for his immediate removal from his position.In February 2018, Pelosi broke the record for longest speech in the House of Representatives when she spent more than eight hours recounting stories from DREAMers—people brought to the United States as minors by undocumented immigrants—to object to a budget deal that would raise spending caps without addressing the future of DACA recipients, who were at risk of deportation by the Trump administration.In May 2018, after the White House invited two Republicans and no Democrats to a Department of Justice briefing on an FBI informant who had made contact with the Trump campaign, Pelosi and Schumer sent a letter to Deputy Attorney General Rod Rosenstein and FBI director Wray calling for \"a bipartisan Gang of Eight briefing that involves congressional leadership from both chambers\".In August 2018, Pelosi called for Duncan D. Hunter's resignation after his indictment on charges of misusing at least $250,000 in campaign funds, saying the charges were \"evidence of the rampant culture of corruption among Republicans in Washington today\".\n",
      "\n",
      "\n",
      "=== Second speakership (2019–present) ===\n",
      "In the 2018 midterm elections, the Democrats regained a majority in the House. On November 28, House Democrats nominated Pelosi to once again serve as Speaker. She was reelected to the speakership at the start of the 116th Congress on January 3, 2019. Pelosi \"clinched the speakership after weeks of whittling down opposition from some fellow Democrats seeking a new generation of leadership. The deal to win over holdouts put an expiration date on her tenure: she promised not to stay more than four years in the job\". 220 House Democrats voted for Pelosi as Speaker, and 15 for someone else or no one.On February 4, 2020, at the conclusion of Trump's State of the Union address, Pelosi tore up her official copy of it. Her stated reason for doing so was \"because it was a courteous thing to do considering the alternatives. It was a such a dirty speech.\" Trump and other Republicans criticized her for this.\n",
      "\n",
      "\n",
      "==== 2018–2019 shutdown ====\n",
      "\n",
      "At the start of the 116th Congress, Pelosi opposed Trump's attempts to use the 2018–2019 federal government shutdown (which she called a \"hostage-taking\" of civil servants) as leverage to build a substantial wall on the American border. She declined to allow Trump to give the State of the Union Address in the House of Representatives chamber while the shutdown was ongoing. After several polls showed Trump's popularity sharply falling due to the shutdown, on January 25, 2019, Trump signed a stopgap bill to reopen the government without any concessions regarding a border wall for three weeks to allow negotiations on an appropriations bill. But he reiterated his demand for the border wall funding and said he would shut the government down again or declare a national emergency and use military funding to build the wall if Congress did not appropriate the funds by February 15.On February 15, Trump declared a national emergency in order to bypass Congress, after being unsatisfied with a bipartisan bill that had passed the House and Senate the day before.\n",
      "\n",
      "\n",
      "==== Impeachments of President Trump ====\n",
      "\n",
      "On September 29, 2019, Pelosi announced the launch of an impeachment inquiry against Trump. On December 5, 2019, after the inquiry had taken place, Pelosi authorized the Judiciary Committee to begin drafting articles of impeachment. After hearings were held, two articles of impeachment were announced on December 10. The House of Representatives approved both articles on December 18, thereby formally impeaching Trump. On the eve of Trump's trial before the U.S. Senate, The Washington Post political writer Paul Kane called Pelosi the most powerful House Speaker in at least 25 years, noting that some historians were comparing her influence to that of former Speaker Sam Rayburn.\n",
      "\n",
      "The day after the January 6, 2021, storming of the United States Capitol, Pelosi demanded that Trump either resign or be removed from office through the clauses of section four the Twenty-Fifth Amendment to the United States Constitution, threatening impeachment if this did not happen. On January 10, she issued a 24-hour ultimatum to Vice President Mike Pence, that if he did not invoke the 25th amendment, she would proceed with legislation to impeach Trump. On January 13, the House of Representatives voted to impeach Trump a second time.\n",
      "\n",
      "\n",
      "==== COVID-19 pandemic and response ====\n",
      "\n",
      "Pelosi aided with the passage of the CARES Act. She attracted controversy when footage emerged in early September 2020 of her visiting a hair salon in San Francisco. This was contrary to regulations enforced at that time preventing service indoors. Criticized for hypocrisy by Trump and the owners of the salon, Pelosi described the situation as \"clearly a setup\". Her stylist and other Democrats defended her.\n",
      "\n",
      "\n",
      "== Political positions ==\n",
      "\n",
      "Pelosi was a founding member of the Congressional Progressive Caucus, but left in 2003 after being elected House minority leader.\n",
      "\n",
      "\n",
      "=== Civil liberties and human rights ===\n",
      "\n",
      "The American Civil Liberties Union's Congressional Scorecard has given Pelosi a lifetime rating of 92% for her voting record on civil liberties. In 2001, she voted in favor of the USA Patriot Act, but voted against reauthorization of certain provisions in 2005. She voted against a Constitutional amendment banning flag-burning.\n",
      "\n",
      "\n",
      "==== Immigration ====\n",
      "\n",
      "Pelosi voted against the Secure Fence Act of 2006.In June 2018, Pelosi visited a federal facility used to detain migrant children separated from their parents and subsequently called for the resignation of Department of Homeland Security Secretary Kirstjen Nielsen. In July, Pelosi characterized the compromise immigration bill by the Republicans as a \"deal with the devil\" and said she had not had conversations with House Speaker Ryan about a legislative solution to the separation of families at the southern border.\n",
      "\n",
      "\n",
      "==== LGBT rights ====\n",
      "\n",
      "Pelosi has long supported LGBT rights. In 1996, she voted against the Defense of Marriage Act, and in 2004 and 2006, she voted against the proposed Federal Marriage Amendment, which would amend the United States Constitution to define marriage federally as being between one man and one woman, thereby overriding states' individual rights to legalize same-sex marriage. When the Supreme Court of California overturned the state's ban on marriage between same-sex couples in 2008, Pelosi released a statement welcoming the \"historic decision\". She also indirectly voiced her opposition to California Proposition 8, a successful 2008 state ballot initiative which defined marriage in California as a union between one man and one woman.The LGBT advocacy group Human Rights Campaign gave Pelosi a 100% rating in 2006 for her voting record in the 107th through 109th congresses (2001–2006), indicating that she voted favorably on legislation supported by the organization on every occasion. In 2012, Pelosi said her position on LGBT rights such as same-sex marriage grows from and reflects her Catholic faith; it also places her at odds with Catholic doctrine, which defines marriage as a union between one man and one woman. She said: \"My religion compels me—and I love it for it—to be against discrimination of any kind in our country, and I consider [the ban on gay marriage] a form of discrimination. I think it's unconstitutional on top of that.\"Pelosi supports the Equality Act, a bill that would expand the federal Civil Rights Act of 1964 to ban discrimination based on sexual orientation and gender identity. In 2019, she spoke in Congress in favor of the bill and called for ending discrimination against LGBT people. Pelosi also opposes Trump's transgender military ban.\n",
      "\n",
      "\n",
      "==== Marijuana ====\n",
      "Pelosi supports reform in marijuana laws, although NORML's deputy director Paul Armentano said she and other members of Congress had not done anything to change the laws. She also supports use of medical marijuana.\n",
      "\n",
      "\n",
      "==== PRISM ====\n",
      "Pelosi supports the Bush/Obama NSA surveillance program PRISM.\n",
      "\n",
      "\n",
      "==== Removal of Confederate monuments ====\n",
      "\n",
      "As Speaker of the House, Pelosi quietly moved the statue of Robert E. Lee from the National Statuary Hall of the U.S. Capitol to the Capitol crypt. In Lee's place, she had a statue of Rosa Parks erected. In August 2017, Pelosi said she supported the removal of Confederate monuments and memorials from the Capitol Building.\n",
      "\n",
      "\n",
      "==== Waterboarding ====\n",
      "In 2002, while Pelosi was the ranking member of the House Intelligence Committee, she was briefed on the ongoing use of \"enhanced interrogation techniques\", including waterboarding, authorized for a captured terrorist, Abu Zubaydah. After the briefing, Pelosi said she \"was assured by lawyers with the CIA and the Department of Justice that the methods were legal\". Two unnamed former Bush administration officials say the briefing was detailed and graphic, and at the time she did not raise substantial objections. One unnamed U.S. official present during the early briefings said, \"In fairness, the environment was different then because we were closer to September 11 and people were still in a panic. But there was no objecting, no hand-wringing. The attitude was, 'We don't care what you do to those guys as long as you get the information you need to protect the American people.'\"These techniques later became controversial, and in 2007 Pelosi's office said she had protested their use at the time, and she concurred with objections raised by Democratic colleague Jane Harman in a letter to the CIA in early 2003. Subsequently, several leading Democratic lawmakers in the House signed a letter on June 26, 2009, alleging CIA Director Leon Panetta had asserted that the CIA misled Congress for a \"number of years\" spanning back to 2001, casting clouds on the controversy. The letter, lawmakers and the CIA all providing no details, and the circumstances surrounding the allegations, make it hard to assess the claims and counterclaims of both sides.Officials in Congress say her ability to challenge the practices may have been hampered by strict rules of secrecy that prohibited her from taking notes or consulting legal experts or members of her own staffs. In an April 2009 press conference, Pelosi said: \"In that or any other briefing ... we were not, and I repeat, were not told that waterboarding or any of these other enhanced interrogation techniques were used. What they did tell us is that they had some legislative counsel—the Office of Legislative Counsel opinions that they could be used, but not that they would. And they further [...] the point was that if and when they would be used, they would brief Congress at that time.\"\n",
      "\n",
      "\n",
      "=== Economy ===\n",
      "\n",
      "\n",
      "==== Fiscal policy ====\n",
      "\n",
      "Pelosi voted against the 1995 Balanced Budget Proposed Constitutional Amendment, which passed the House by a 300–132 vote, but fell two votes short of the 2/3 supermajority required in the Senate (with 65 senators voting in favor).As Speaker of the House, she spearheaded the Fair Minimum Wage Act of 2007 as part of the 100-Hour Plan. The act raises the minimum wage in the United States and the territories of the Northern Marianas Islands and American Samoa. American Samoa was initially absent from the act, but as part of HR 2206 it was included. One Republican congressman who voted against the initial bill accused Pelosi of unethically benefiting Del Monte Foods (headquartered in her district) by excluding the territory, where Del Monte's StarKist Tuna brand is a major employer. Pelosi co-sponsored legislation that omitted American Samoa from a raise in the minimum wage as early as 1999, before Del Monte's acquisition of StarKist Tuna in 2002.Pelosi opposed the welfare reform President Bush proposed as well as reforms proposed and passed under President Clinton. She also opposed the tax reform signed by Trump in December 2017, calling it \"probably one of the worst bills in the history of the United States of America ... It robs from the future [and] it rewards the rich ... and corporations at the expense of tens of millions of working middle-class families in our country.\" She said \"this is Armageddon\" and argued that the tax bill increased the debt in a way that would adversely impact social insurance spending. In January 2018, shortly after the tax bill passed, a reporter asked Pelosi to respond to statements by companies crediting the tax cuts with allowing them to raise wages and give bonuses. She said that, given the benefits corporations received from the tax bill, the benefits workers got were \"crumbs\". Most companies that awarded bonuses gave out payments of hundreds of dollars, while some gave bonuses significantly over $1,000.\n",
      "\n",
      "\n",
      "==== Infrastructure ====\n",
      "In November 2018, Pelosi said she had spoken with Trump about infrastructure development. Though he \"really didn't come through with it in his first two years in office\" while it was a topic during his campaign, the subject had not been a partisan matter in Congress. She mentioned potential bipartisan legislative initiatives that would \"create good paying jobs and will also generate other economic growth in their regions\". On May 1, 2019, Pelosi and Schumer met with Trump about infrastructure funding. In late May, a meeting to discuss an impending $2 trillion infrastructure plan was cut short when Trump abruptly left after only a few minutes.\n",
      "\n",
      "\n",
      "==== Disaster relief ====\n",
      "In August 2018, after Trump signed an emergency declaration for federal aid in combating the Carr Fire in Northern California, Pelosi called the move \"an important first step\" but requested that Trump accede to California Governor Jerry Brown's request for further aid to other hard-hit areas in California. She called on the Trump administration to take \"real, urgent action to combat the threat of the climate crisis, which is making the wildfire season longer, more expensive and more destructive\".\n",
      "\n",
      "\n",
      "=== Education ===\n",
      "In 1999, Pelosi voted against displaying the Ten Commandments in public buildings, including schools. She voted for the No Child Left Behind Act, which instituted testing to track students' progress and authorized an increase in overall education spending.\n",
      "\n",
      "\n",
      "=== Environment ===\n",
      "\n",
      "In 2019, Pelosi said climate change was \"the existential threat of our time\" and called for action to curb it. She has supported the development of new technologies to reduce U.S. dependence on foreign oil and remediate the adverse environmental effects of burning fossil fuels. Pelosi has widely supported conservation programs and energy research appropriations. She has also voted to remove an amendment that would allow for oil and gas exploration in the Arctic National Wildlife Refuge.Pelosi has blocked efforts to revive offshore oil drilling in protected areas, reasoning that offshore drilling could lead to an increase in dependence on fossil fuels.\n",
      "\n",
      "\n",
      "=== Health care ===\n",
      "\n",
      "\n",
      "==== Affordable Care Act ====\n",
      "Pelosi was instrumental in passing the Patient Protection and Affordable Care Act of 2010. She was a key figure in convincing Obama to continue pushing for health-care reform after the election of Massachusetts Senator Scott Brown in a January special election—a defeat seen as potentially fatal to Democratic reform efforts. After delivering 219 votes in the House for Obama's health-care package, Pelosi was both praised and heckled as she made her way to Capitol Hill.Pelosi has voted to increase Medicare and Medicaid benefits. She does not endorse Senator Bernie Sanders's bill for single-payer healthcare.On March 10, 2017, Pelosi said Democrats would continue battling Republican efforts to repeal the Affordable Care Act, but would also be willing to form a compromise measure if Republicans reached out for support. She indicated her support for the Republican plan to expand Health Savings Accounts and said the question of Republicans' accepting an expansion of Medicaid was important. In September, Pelosi sent a letter to Democrats praising Senator John McCain for announcing his opposition to the latest Republican effort to repeal and replace the Affordable Care Act and called on lawmakers and advocacy groups alike to pressure Republicans in the health-care discussion. She said Democrats would be unified in putting \"a stake in the heart of this monstrous bill\".In July 2018, during a speech at Independence First, Pelosi said Democrats' goal \"has always been to expand coverage and to do so in a way that improves benefits ... and we have to address the affordability issue that is so undermined by the Republicans.\" In November 2018, after Democrats gained a majority in the House in the midterm elections, she said, \"I'm staying as Speaker to protect the Affordable Care Act. That's my main issue, because I think that's, again, about the health and financial health of the America's families, and if Hillary had won, I could go home.\" She added that Republicans had misrepresented their earlier position of opposition to covering people with preexisting conditions during the election cycle and called on them to join Democrats in \"removing all doubt that the preexisting medical condition is the law—the benefit—is the law of the land\".\n",
      "\n",
      "\n",
      "==== Abortion ====\n",
      "Pelosi voted against the Partial-Birth Abortion Ban Act of 2003 and earlier attempts at similar bans, and voted against the criminalization of certain situations where a minor is transported across state lines for an abortion (HR 748, passed).She has voted in favor of lifting the ban on privately funded abortions at overseas U.S. military facilities (HA 209, rejected); in favor of an amendment that would repeal a provision forbidding servicewomen and dependents from getting an abortion in overseas military hospitals (HA 722, rejected); and in favor of stripping the prohibition of funding for organizations working overseas that use their own funds to provide abortion services, or engage in advocacy related to abortion services (HA 997, rejected). She also voted in favor of the 1998 Abortion Funding Amendment, which would have allowed the use of district funds to promote abortion-related activities, but would have prohibited the use of federal funds.In 2008, she was rebuked by Archbishop Donald Wuerl of Washington, D.C., for being \"incorrect\" in comments she made to Tom Brokaw on Meet the Press concerning Church teaching on the subjects of abortion of when a human life begins. The archbishop's statement quoted Pelosi as saying the church has not been able to come with a definition of when life begins. During the interview she said, \"over the history of the church, this [what constitutes the moment of conception] is an issue of controversy.\" In February 2009, Pelosi met with her bishop, Archbishop George Hugh Niederauer of San Francisco, and with Pope Benedict XVI regarding the controversy.\n",
      "\n",
      "\n",
      "==== Contraception ====\n",
      "In a January 25, 2009, interview with George Stephanopoulos for ABC News, Pelosi said that one of the reasons she supported family planning services was that they would \"reduce costs to states and to the federal government.\"\n",
      "\n",
      "\n",
      "=== Security ===\n",
      "\n",
      "\n",
      "==== Gun laws ====\n",
      "\n",
      "Pelosi stands in favor of increased background checks for potential gun owners, as well as the banning of assault weapons. In February 2013, she called for the \"Boldest possible move\" on gun control, similar to a stance made just weeks earlier by former Representative, mass shooting victim, and fellow gun control advocate Gabby Giffords. In 2012, she was given a 0% rating by Gun Owners of America and a 7% rating from the National Rifle Association for her stances on gun control.In February 2018, following the Stoneman Douglas High School shooting, Pelosi said Republicans' \"cowering\" to the gun lobby was \"an assault on our whole country\" and that the victims were \"paying the price for our inaction\". She requested House Speaker Ryan and Republicans take action via consideration of legislation expanding background checks or authorizing researchers to use federal dollars to examine public health as it relates to gun violence. Pelosi also advocated for the creation of a special committee on gun violence and said Republicans had previously created committees to investigate Planned Parenthood and the 2012 Benghazi attack.In November 2018, after the Thousand Oaks shooting, Pelosi released a statement saying Americans \"deserve real action to end the daily epidemic of gun violence that is stealing the lives of our children on campuses, in places of worship and on our streets\" and pledged that gun control would be a priority for House Democrats in the 116th United States Congress.\n",
      "\n",
      "\n",
      "==== Military draft ====\n",
      "\n",
      "With regard to Representative Charles Rangel's (D-NY) plan to introduce legislation that would reinstate the draft, Pelosi said she did not support it.\n",
      "\n",
      "\n",
      "==== Use of government aircraft ====\n",
      "In March 2009, the New York Post wrote that the conservative watchdog group Judicial Watch had obtained emails sent by Pelosi's staff requesting the United States Air Force (USAF) to provide specific aircraft—a Boeing 757—for Pelosi to use for taxpayer-funded travel. Pelosi responded that the policy was initiated by President Bush due to post-9/11 security concerns (Pelosi was third in line for presidential succession), and was initially provided for the previous Speaker Dennis Hastert. The Sergeant at Arms requested—for security reasons—that the plane provided be capable of non-stop flight, requiring a larger aircraft. The Pentagon said \"no one has rendered judgment\" that Pelosi's use of aircraft \"is excessive\".\n",
      "\n",
      "\n",
      "=== Trump presidency ===\n",
      "\n",
      "During a news conference on June 9, 2017, after a reporter asked her about tweets by President Donald Trump lambasting former FBI director James Comey following Comey's testimony to the Senate Intelligence Committee, Pelosi said no one at the White House seemed courageous enough to tell Trump his tweets were beneath the dignity of the presidency and that she was worried about his fitness for office. In November, when asked about Democrats beginning the impeachment process against Trump in the event they won a majority of seats in the 2018 elections, Pelosi said it would not be one of their legislative priorities but that the option could be considered if credible evidence appeared during the ongoing investigations into Russian interference in the 2016 election.In January 2018, Pelosi referred to Trump's 2018 State of the Union Address as a performance without serious policy ideas the parties could collaborate on. She questioned Trump's refusal to implement Russian sanctions after more than 500 members of Congress voted to approve them. In February, after Trump blocked the release of a Democratic memo by the Intelligence Committee, Pelosi said the act was \"a stunningly brazen attempt to cover up the truth about the Trump-Russia scandal from the American people\" and \"part of a dangerous and desperate pattern of cover-up on the part of the president\" who had shown he had something to hide. In March, Pelosi said she was \"more concerned about the president's policies which undermine the financial security of America's working families\" than the Stormy Daniels–Donald Trump scandal. Pelosi did note the scandal as having highlighted a double standard of Republicans on issues of family values and expectations of presidential behavior, saying the party would be very involved if the event was happening to a Democrat. In April, following Scooter Libby being pardoned by Trump, Pelosi released a statement saying the pardon \"sends a troubling signal to the president's allies that obstructing justice will be rewarded and that the idea of those who lie under oath being granted a pardon \"poses a threat to the integrity of the special counsel investigation, and to our democracy\". On August 15, after Trump revoked the security clearance of former CIA director John Brennan, Pelosi said the move was \"a stunning abuse of power [and] a pathetic attempt to silence critics\", and an attempt by Trump to distract attention from other issues of his administration. Pelosi and Charles E. Schumer met with Trump and Pence in December 2018 to discuss changes to be made when the new Democratic representatives takes office in 2019. In January 2019 she supported President Trump in his decision to back the leader of the opposition Juan Guaidó during Venezuelan protests and constitutional crisis.\n",
      "\n",
      "\n",
      "==== Trump–Ukraine scandal and impeachment ====\n",
      "The Democrats gained control of the House of Representatives in the November 2018 elections, and Pelosi took office as Speaker. Multiple House committees launched investigations into various actions by Trump and some of his cabinet members and requested or subpoenaed documents and information from the White House and the administration. In April 2019, Trump vowed to defy \"all\" subpoenas from the House and to refuse to allow current or former administration officials to testify before House committees.Pelosi initially resisted efforts by some fellow House Democrats to pursue Trump's impeachment, but in September 2019, following revelations of the Trump–Ukraine scandal, announced the beginning of a formal House impeachment inquiry, saying \"The actions taken to date by the president have seriously violated the Constitution\" and that Trump \"must be held accountable—no one is above the law.\"In May 2019, the White House intervened to halt former White House Counsel Don McGahn from complying with a subpoena issued by the House Judiciary Committee, instructing the committee to redirect its records requests to the White House. Pelosi, who had previously urged \"Democrats to focus on fact-finding rather than the prospect of any impeachment\", described Trump's interference regarding McGahn's records as an obstruction of justice, saying that \"Trump is goading us to impeach him.\" Later that month, as the Trump administration continued to ignore subpoenas, refuse to release documents, and encourage or order current and former officials not to testify in Congress, Pelosi declared: \"we believe that the president of the United States is engaged in a cover-up.\" Later that day, after learning of Pelosi's comments, Trump walked away from a scheduled White House meeting with Pelosi and Schumer, in which a $2 trillion infrastructure plan was supposed to be discussed. Trump told Pelosi and Schumer he could not work with them until they stopped investigating him. Later in the day, Pelosi accused Trump of \"obstructing justice\" and again said he \"is engaged in a cover-up\". On June 5, 2019, during a meeting with senior Democrats about whether the House should launch impeachment proceeding against Trump, Pelosi said, \"I don't want to see him impeached, I want to see him in prison.\" According to multiple sources, rather than impeachment, she wants to see Trump lose to a Democrat in the 2020 election, following which he could be prosecuted.The House impeachment inquiry focused on efforts by Trump and Trump administration officials to pressure the government of Ukraine to smear former Vice President Joe Biden, a political rival of Trump's, while withholding $400 million in U.S. military aid, and a White House visit, from Ukraine; the inquiry also examined Trump's request in a July 2019 phone call to Ukrainian President Volodymyr Zelensky to \"do us a favor\" and investigate Biden. On December 18, 2019, the House voted nearly along party lines to impeach Trump for abuse of power (230–197) and obstruction of Congress (229–198), making him the third president in U.S. history to be impeached. Pelosi said, when opening debate on the articles of impeachment, \"If we do not act now, we would be derelict in our duty. It is tragic that the president's reckless actions make impeachment necessary. He gave us no choice.\" Pelosi initially did not transmit the articles of impeachment to the Republican-controlled Senate for trial, seeking to negotiate an agreement with Senate Majority Mitch McConnell for the Senate to hear witness testimony and other additional evidence as part of a bid for a \"full and fair\" trial. McConnell rejected these efforts, and the House transmitted the articles to the Senate on January 15, 2020, with Pelosi naming seven Democratic Representatives, led by Representative Adam Schiff, as the House managers to argue the impeachment case against Trump in the Senate. As expected, the Senate ultimately acquitted Trump in a nearly-party line vote in which every Democrat voted for conviction and all but one Republican, Senator Mitt Romney, voting for acquittal. Ahead of the Senate vote Pelosi said that, irrespective of the outcome, the president \"has been impeached forever\", that the impeachment process had successfully \"pulled back a veil of behavior totally unacceptable to our founders, and that the public will see this with a clearer eye, an unblurred eye.\" Following the Senate vote, Pelosi criticized Trump and Senate Republicans, saying their actions had \"normalized lawlessness and rejected the system of checks and balances\".Following the Senate vote, Trump claimed vindication and criticized Democrats, the FBI, and Pelosi. In a speech at the National Prayer Breakfast, Trump referred to Pelosi as \"a horrible person\", and questioned her religious faith; Pelosi said these remarks were \"particularly without class\". Before Trump's February 4, 2020 State of the Union Address, the day before the Senate impeachment vote, Trump and Pelosi exchanged mutual snubs. Trump refused to shake Pelosi's outstretched hand, and Pelosi tore up her copy of Trump's speech. Her stated reason for doing so was \"because it was a courteous thing to do considering the alternatives. It was a such a dirty speech.\" Pelosi also said Trump's speech \"had no contact with reality whatsoever\" and suggested the president appeared \"a little sedated\" during the address. Pelosi's action was criticized by Trump and others.Days after the Senate impeachment vote, Trump fired two officials who had testified against him during the impeachment inquiry: U.S. Ambassador to the European Union Gordon Sondland and Lieutenant Colonel Alexander Vindman, a National Security Council official. Pelosi called the firing of Vindman a \"shameful\" and \"clear and brazen act of retaliation that showcases the President's fear of the truth\", saying that \"History will remember Lieutenant Colonel Vindman as an American hero.\"\n",
      "\n",
      "\n",
      "==== Commission to consider use of 25th Amendment ====\n",
      "On October 8, 2020, Pelosi announced that legislation was being introduced in the House of Representatives to advance the creation of a commission to allow the use of the 25th Amendment to the Constitution to intervene and remove Trump from executive duties.\n",
      "\n",
      "\n",
      "=== Foreign affairs ===\n",
      "\n",
      "\n",
      "==== China ====\n",
      "\n",
      "In 2008, after a meeting with the Dalai Lama and officials in the Tibetan government-in-exile, Pelosi criticized the People's Republic of China for its handling of the unrest in Tibet; addressing a crowd of thousands of Tibetans in Dharamsala, India, Pelosi called on \"freedom-loving people\" worldwide to denounce China for its human rights abuses in Tibet. The same year, Pelosi commended the European Parliament for its \"bold decision\" to award the Sakharov Prize for Freedom of Thought to Chinese dissident and human rights activist Hu Jia, and called upon the Chinese government \"to immediately and unconditionally release Hu Jia from prison and to respect the fundamental freedoms of all the people in China.\"Pelosi criticized the imprisonment of Hong Kong democracy activists in August 2017 for their roles in a protest at the Civic Square in front of the Central Government Complex in Hong Kong. She called the ruling an injustice that should \"shock the conscience of the world\".Before the Trump administration took concrete measures against China in late March 2018, Pelosi and other Democratic leaders pressed Trump to focus more on China and impose real punishments, such as fulfill his own campaign commitments to label China a currency manipulator and stop China from pressuring U.S. tech companies into giving up intellectual property rights. Pelosi urged Trump to take a strong stand against unfair market barriers in China.In September 2019, Pelosi met with Hong Kong pro-democracy activist Joshua Wong on Capitol Hill; Chinese media responded by accusing Pelosi of \"backing and encouraging radical activists\".\n",
      "\n",
      "\n",
      "==== Colombia ====\n",
      "Pelosi publicly scolded Colombian president Álvaro Uribe during Uribe's May 2007 state visit to America. Pelosi met with Uribe and later released a statement that she and other members of Congress had \"expressed growing concerns about the serious allegations\" of links between paramilitary groups and Colombian government officials. Pelosi also came out against the Colombian free-trade agreement.\n",
      "\n",
      "\n",
      "==== Cuba ====\n",
      "\n",
      "In 2008, Pelosi said: \"For years, I have opposed the embargo on Cuba. I don't think it's been successful, and I think we have to remove the travel bans and have more exchanges—people to people exchanges with Cuba.\" In 2015, Pelosi supported President Obama's Cuban Thaw, a rapprochement between the U.S. and Castro's regime in Cuba, and visited Havana for meetings with high-level officials.\n",
      "\n",
      "\n",
      "==== First Gulf War ====\n",
      "Pelosi opposed U.S. intervention in the 1991 Gulf War.\n",
      "\n",
      "\n",
      "==== Iran ====\n",
      "\n",
      "In a February 15, 2007, interview Pelosi said that Bush consistently said he supports a diplomatic resolution to differences with Iran \"and I take him at his word\". At the same time, she said, \"I do believe that Congress should assert itself, though, and make it very clear that there is no previous authority for the president, any president, to go into Iran\". On January 12, 2007, Congressman Walter B. Jones of North Carolina introduced a resolution requiring that—absent a national emergency created by an attack, or a demonstrably imminent attack, by Iran upon the United States or its armed forces—the president must consult with Congress and receive specific authorization prior to initiating any use of military force against Iran. This resolution was removed from a military spending bill for the war in Iraq by Pelosi on March 13, 2007.\n",
      "In July 2015, Pelosi said she was convinced Obama would have enough votes to secure the Iran nuclear deal, crediting the president with having made a \"very strong and forceful presentation of his case supporting the nuclear agreement with Iran\" and called the deal \"a diplomatic masterpiece\".In 2016, Pelosi argued against two bills that if enacted would block Iran's access to the dollar and impose sanctions for its ballistic missile program: \"Regardless of whether you supported the Joint Comprehensive Plan of Action (JCPOA), we all agree that Iran must not possess a nuclear weapon. At this time, the JCPOA is the best way to achieve this critical goal.\"In May 2018, after Trump announced his intention to withdraw from the Iran nuclear deal, Pelosi said the decision was an abdication of American leadership and \"particularly senseless, disturbing & dangerous\".\n",
      "\n",
      "\n",
      "==== Iraq War ====\n",
      "\n",
      "In 2002, Pelosi opposed the Iraq Resolution authorizing President George W. Bush to use military force against Iraq, which passed the House on a 296–133 vote. Pelosi said that \"unilateral use of force without first exhausting every diplomatic remedy and other remedies and making a case to the American people will be harmful to our war on terrorism.\" In explaining her opposition to the resolution, Pelosi said CIA Director George Tenet had told Congress the likelihood of Saddam Hussein's launching an attack on the U.S. using weapons of mass destruction was low, saying: \"This is about the Constitution It is about this Congress asserting its right to declare war when we are fully aware what the challenges are to us. It is about respecting the United Nations and a multilateral approach, which is safer for our troops.\"Although Pelosi voted against the Iraq War, anti-war activists in San Francisco protested against her voting to continue funding the war. UC Berkeley political scientist Bruce Cain said Pelosi had to balance the demands of her anti-war constituency against the moderate views of Democrats in tight races around the country in her role as minority leader. Pelosi has never faced a serious challenger to her left in her district.\n",
      "\n",
      "\n",
      "==== Israel ====\n",
      "\n",
      "Pelosi has reaffirmed that \"America and Israel share an unbreakable bond: in peace and war; and in prosperity and in hardship\". She has emphasized that \"a strong relationship between the United States and Israel has long been supported by both Democrats and Republicans. America's commitment to the safety and security of the State of Israel is unwavering ... [h]owever, the war in Iraq has made both America and Israel less safe.\" Pelosi's voting record shows consistent support for Israel. Pelosi voted in favor of the Jerusalem Embassy Act of 1995, which urged the federal government to relocate the American embassy in Israel to Jerusalem. Before the 2006 elections in the Palestinian Authority, she voted for a Congressional initiative that disapproved of participation in the elections by Hamas and other organizations the legislation defined as terrorist. She agrees with the current U.S. stance in support of land-for-peace. She has applauded Israeli \"hopeful signs\" of offering land while criticizing Palestinian \"threats\" of not demonstrating peace in turn. Pelosi has said, \"If the Palestinians agree to coordinate with Israel on the evacuation, establish the rule of law, and demonstrate a capacity to govern, the world may be convinced that finally there is a real partner for peace\".During the 2006 Lebanon War, Pelosi voted in favor of Resolution 921: \"... seizure of Israeli soldiers by Hezbollah terrorists was an unprovoked attack and Israel has the right, and indeed the obligation, to respond.\" She argues that organizations and political bodies in the Mideast like Hamas and Hezbollah \"have a greater interest in maintaining a state of hostility with Israel than in improving the lives of the people they claim to represent\". Pelosi asserts that civilians on both sides of the border \"have been put at risk by the aggression of Hamas and Hezbollah\" in part for their use of \"civilians as shields by concealing weapons in civilian areas\".In September 2008, Pelosi hosted a reception in Washington with Israeli Knesset speaker Dalia Itzik, along with 20 members of Congress, where they toasted the \"strong friendship\" between Israel and the United States. During the ceremony, Pelosi held up replica dog tags of the three Israeli soldiers captured by Hezbollah and Hamas in 2006 and said she keeps them as a \"symbol of the sacrifices made, sacrifices far too great by the people of the state of Israel\".\n",
      "\n",
      "Pelosi supported Israel in the 2014 Israel–Gaza conflict. In March 2018 Pelosi said, \"There is no greater political accomplishment in the 20th Century than the establishment of the State of Israel.\" Pelosi condemned Rep. Ilhan Omar of Minnesota for posting controversial tweets related to Jews and Israel. In March 2019, she said, \"Israel and America are connected now and forever. We will never allow anyone to make Israel a wedge issue.\"In January 2017, Pelosi voted against a House resolution that would condemn the UN Security Council Resolution 2334. This UN Security Council Resolution called Israeli settlement building in the occupied Palestinian territories in the West Bank a \"flagrant violation\" of international law and a major obstacle to peace. She condemned the Boycott, Divestment, and Sanctions (BDS) movement targeting Israel.Pelosi has voiced heavy criticism over Israel's plan to annex parts of the West Bank and the Jordan Valley. She said Israeli annexation would undermine U.S. national security interests. Pelosi said that Democrats are taking \"a great pride\" in Barack Obama’s Memorandum of Understanding (MOU) that Israel signed with the Obama administration in 2016, for a guarantee of $38 billion in defense assistance over a decade.\n",
      "\n",
      "\n",
      "==== North Korea ====\n",
      "Nancy Pelosi is one of the few members of Congress to have traveled to North Korea. She has expressed concern about the danger of nuclear proliferation from the North Korean regime, and the ongoing problems of hunger and oppression imposed by that country's leadership.In August 2017, following Trump's warning that North Korea \"will be met with fire and fury like the world has never seen\" in the event of further threats to the United States, Pelosi said the comments were \"recklessly belligerent and demonstrate a grave lack of appreciation for the severity of the North Korean nuclear situation. His saber-rattling and provocative, impulsive rhetoric erode our credibility.\"In November 2017, after the Pentagon sent a letter to lawmakers stating a ground invasion was the only way to destroy all North Korea's nuclear weapons without concern for having missed any, Pelosi said she was concerned about Pyongyang's selling nuclear technology to third parties and called for the United States to \"exhaust every other remedy\".In June 2018, after Trump praised North Korean leader Kim Jong-un, Pelosi said in a statement, \"In his haste to reach an agreement, President Trump elevated North Korea to the level of the United States while preserving the regime's status quo.\"\n",
      "\n",
      "\n",
      "==== Russia ====\n",
      "\n",
      "In December 2017, Pelosi wrote a letter to Speaker Paul Ryan advocating for the continued House investigation into Russian interference in the 2016 election on the grounds that Americans deserved \"a comprehensive and fair investigation into Russia's attack\" and \"America's democracy and national security\" being at stake. Pelosi cited the need for Congress to \"fully investigate Russia's assault on our election systems to prevent future foreign attacks\".In February 2018, after the release of a Republican report alleging surveillance abuses by the Justice Department, Pelosi accused Trump of siding with President of Russia Vladimir Putin at the expense of preserving intelligence sources and methods. In July, Pelosi asserted that Trump was afraid to mention the 12 indictments against people connected to the intelligence community in Russia during his meeting with Putin and questioned what intelligence the Russians had on Trump to cause his behavior. She said Putin would not be welcomed by Congress even if he visited Washington as a result of his actions: \"Putin's ongoing attacks on our elections and on Western democracies and his illegal actions in Crimea and the rest of Ukraine deserve the fierce, unanimous condemnation of the international community, not a VIP ticket to our nation's capital.\" She called for House Speaker Ryan to \"make clear that there is not—and never will be—an invitation for a thug like Putin to address the United States Congress.\"On multiple occasions, Pelosi said of Trump, \"With him, all roads lead to Putin,\" including with regard to the Trump-Ukraine scandal, a lack of action against the alleged Russian bounty program, and Trump's incitement of the storming of the Capitol.\n",
      "\n",
      "\n",
      "==== Syria, Libya, and Afghanistan ====\n",
      "Pelosi supports the Syria Accountability Act and Iran Freedom and Support Act. In a speech at the AIPAC 2005 annual conference, Pelosi said that \"for too long, leaders from both parties haven't done enough\" to put pressure on Russia and China who are providing Iran with technological information on nuclear issues and missiles. \"If evidence of participation by other nations in Iran's nuclear program is discovered, I will insist that the Administration use, rather than ignore, the evidence in determining how the U.S. deals with that nation or nations on other issues.\" In April 2007, Pelosi visited Syria, where she met Foreign Minister Walid Muallem, Vice President Farouk al-Sharaa and President Bashar Al-Assad, despite President Bush efforts to isolate Syria, because of militants crossing from Syria into Iraq, and supporting Hezbollah and Hamas. During her visit, she conveyed Israeli Prime Minister Ehud Olmert message for peace, and toured in Al-Hamidiyah Souq, and the Umayyad Mosque.Pelosi supported the NATO-led military intervention in Libya in 2011. She also favored arming Syria's rebel fighters.In January 2019, Pelosi criticized President Trump's planned withdrawal of U.S. troops from Syria and Afghanistan. She called Trump's announcement a \"Christmas gift to Vladimir Putin\". In an October 2019 letter to Democratic caucus members, Pelosi wrote that both parties were condemning President Trump's deserting the US's \"Kurdish allies in a foolish attempt to appease an authoritarian strongman\" Recep Tayyip Erdoğan of Turkey and opined that the decision \"poses a dire threat to regional security and stability, and sends a dangerous message to Iran and Russia, as well as our allies, that the United States is no longer a trusted partner\". Later that month, she visited Jordan to discuss the Syrian situation with King Abdullah II. Afterwards, she went to Afghanistan, where she met President Ashraf Ghani and Chief Executive Officer Abdullah Abdullah, and she was also briefed by U.S. diplomats on reconciliation efforts with the Taliban.\n",
      "\n",
      "\n",
      "==== Turkey ====\n",
      "In mid-October 2007, after the House Foreign Affairs Committee passed a resolution to label the 1915 killing of Armenians by Ottoman Turks as genocide, Pelosi pledged to bring the measure to a vote. The draft resolution prompted warnings from President Bush and fierce criticism from Turkey, with Turkey's Prime Minister saying that approval of the resolution would endanger U.S.–Turkey relations. After House support eroded, the measure's sponsors dropped their call for a vote, and in late October Pelosi agreed to set the matter aside.The resolution was passed during Pelosi's second term as Speaker. The House voted 405 to 11 in October 2019 to confirm the resolution.\n",
      "\n",
      "\n",
      "== Electoral history ==\n",
      "\n",
      "Pelosi's only close race so far has been in the special election to succeed U.S. Representative Sala Burton after her death in February 1987. Pelosi defeated San Francisco Supervisor Harry Britt in the Democratic primary with 36 percent of the vote to his 32 percent, then Republican Harriet Ross by more than 2-to-1. Since then, Pelosi has enjoyed overwhelming support in her political career, collecting 76 and 77 percent of the vote in California's 5th congressional district 1988 and 1990. In 1992, after the redistricting from the 1990 Census, Pelosi ran in California's 8th congressional district, which now covered the San Francisco area. She has continued to post landslide victories since, dropping beneath 80 percent of the vote only twice.\n",
      "\n",
      "\n",
      "== Personal life ==\n",
      "Nancy D'Alesandro met Paul Francis Pelosi while she was attending college. They married in Baltimore at the Cathedral of Mary Our Queen on September 7, 1963. They moved to New York after they wed, then moved to San Francisco in 1969, where Paul's brother Ronald Pelosi was a member of the City and County of San Francisco's Board of Supervisors.Nancy and Paul Pelosi have five children: Nancy Corinne, Christine, Jacqueline, Paul, and Alexandra; and nine grandchildren. Alexandra, a journalist, covered the Republican presidential campaigns in 2000 and made a film about the experience, Journeys with George. In 2007, Christine published a book, Campaign Boot Camp: Basic Training for Future Leaders.Pelosi resides in the Pacific Heights neighborhood of San Francisco. Her 2016 financial disclosure report lists among her assets a combined home and vineyard in St. Helena, California, two commercial buildings in San Francisco, and a townhouse in Loomis, California. In January 2021, her San Francisco home was vandalized with graffiti, messages of \"[c]ancel rent\" were left on her garage, along with fake blood and a severed pig's head.\n",
      "\n",
      "\n",
      "=== Financial status ===\n",
      "The nonpartisan Center for Responsive Politics (CRP) estimated in 2009 that Pelosi's average net worth was US$58,436,537, ranking her 13th among 25 wealthiest members of Congress. In 2014, CRP reported Pelosi's average net worth was US$101,273,023 having ranked 8th out of 25 wealthiest members of Congress. Business Insider reported that Pelosi's worth was $26.4 million in 2012 and made her the 13th richest member of Congress. In 2014, Roll Call estimated that Pelosi's net worth was $29.35 million, ranking her the 15th wealthiest member of Congress.Roll Call said Pelosi's earnings are connected to her husband's heavy investments in stocks that include Apple, Disney, Comcast and Facebook. Roll Call reported that the couple have $13.46 million in liabilities including mortgages on seven properties. According to Roll Call, Pelosi and her husband hold properties \"worth at least $14.65 million, including a St. Helena vineyard in Napa Valley worth at least $5 million and commercial real estate in San Francisco\".\n",
      "\n",
      "\n",
      "=== Involvement in Italian-American community ===\n",
      "Pelosi is a board member of the National Organization of Italian American Women. She served for 13 years as a board member of the National Italian American Foundation (NIAF). In 2007, she received the NIAF Special Achievement Award for Public Advocacy and remains involved in the foundation.\n",
      "\n",
      "\n",
      "== Honors and decorations ==\n",
      " Italy  Knight Grand Cross of the Order of Merit of the Italian Republic on June 2, 2007\n",
      " Japan  Grand Cordon of the Order of the Rising Sun on April 29, 2015.\n",
      "In 2006, she was named Barbara Walters' Most Fascinating Person of the year.\n",
      "In 2013, Pelosi was inducted into the National Women's Hall of Fame.\n",
      "She has been listed numerous times on Forbes list of the world's 100 most powerful women, including being ranked 11th in 2010, 26th in 2014 and 3rd in 2019.\n",
      "She received the Foremother Award from National Center for Health Research in 2016\n",
      "She was granted an honorary Doctorate of Law degree by Mount Holyoke College on May 20, 2018.\n",
      "She was an honoree at the 2019 VH1 Trailblazer Honors.\n",
      "\n",
      "\n",
      "== See also ==\n",
      "Electoral history of Nancy Pelosi\n",
      "Know Your Power\n",
      "List of female speakers of legislatures in the United States\n",
      "Women in the United States House of Representatives\n",
      "\n",
      "\n",
      "== References ==\n",
      "\n",
      "\n",
      "== Further reading ==\n",
      "\n",
      "\n",
      "== External links ==\n",
      "\n",
      "Office of the Speaker official website\n",
      "Congresswoman Nancy Pelosi official U.S. House website\n",
      "Nancy Pelosi for Congress website\n",
      "Nancy Pelosi at CurlieBiography at the Biographical Directory of the United States Congress\n",
      "Profile at Vote Smart\n",
      "Financial information (federal office) at the Federal Election Commission\n",
      "Legislation sponsored at the Library of Congress\n",
      "The American Ireland Fund Peace Award recipient\n",
      "Video Biography NIAF Lifetime Achievement Award\n",
      "Nancy Pelosi Archived June 26, 2017, at the Wayback Machine Video produced by Makers: Women Who Make America\n",
      "Appearances on C-SPAN\n",
      "\n",
      "\n",
      "=== Articles ===\n",
      "Trinity Graduates Win Re-election: House Democratic Leader Nancy Pelosi '62 Poised to Become Speaker, Kansas Governor Kathleen Sebelius '70 Wins Second Term from Trinity Washington University, November 8, 2006\n",
      "Rolling With Pelosi, from Newsweek, October 23, 2006\n",
      "Pelosi mines 'California gold' for Dems nationwide: Personal skills, wide network of wealthy donors help party's House leader gather millions, from sfgate.com, April 3, 2006\n",
      "Pelosi rides high, from The Economist, February 22, 2007\n",
      "This Is What a Speaker Looks Like, the Winter 2007 cover story to Ms.\n",
      "Opinion | How Nancy Pelosi's unlikely rise turned her into the most powerful woman in U.S. history A troublemaker with a gavel\", by Karen Tumulty], Washington Post, March 25, 2020. Retrieved March 30, 2020.\n"
     ]
    }
   ],
   "source": [
    "print(wikipedia.page('Nancy Pelosi').content)"
   ]
  },
  {
   "cell_type": "code",
   "execution_count": null,
   "metadata": {},
   "outputs": [],
   "source": []
  }
 ],
 "metadata": {
  "kernelspec": {
   "display_name": "Python 3",
   "language": "python",
   "name": "python3"
  },
  "language_info": {
   "codemirror_mode": {
    "name": "ipython",
    "version": 3
   },
   "file_extension": ".py",
   "mimetype": "text/x-python",
   "name": "python",
   "nbconvert_exporter": "python",
   "pygments_lexer": "ipython3",
   "version": "3.6.0"
  }
 },
 "nbformat": 4,
 "nbformat_minor": 2
}
