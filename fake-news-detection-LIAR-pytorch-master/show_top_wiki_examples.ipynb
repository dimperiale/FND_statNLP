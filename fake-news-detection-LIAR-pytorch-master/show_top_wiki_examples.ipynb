{
 "cells": [
  {
   "cell_type": "code",
   "execution_count": 1,
   "metadata": {},
   "outputs": [],
   "source": [
    "import pickle\n",
    "from pprint import pprint\n",
    "import pandas as pd"
   ]
  },
  {
   "cell_type": "code",
   "execution_count": 2,
   "metadata": {},
   "outputs": [],
   "source": [
    "with open(\"test2.tsv.top_wiki_top_sents\",'rb') as f :\n",
    "    ws = pickle.load(f)"
   ]
  },
  {
   "cell_type": "code",
   "execution_count": 3,
   "metadata": {},
   "outputs": [],
   "source": [
    "dataset_name = 'LIAR-PLUS'\n",
    "# train_filename = 'train2.tsv'\n",
    "train_filename = 'test2.tsv'\n",
    "train_file = open(train_filename, 'rb')\n",
    "lines = train_file.read()\n",
    "lines = lines.decode(\"utf-8\")\n",
    "\n",
    "table = []\n",
    "for line in lines.strip().split('\\n'):\n",
    "    tmp = line.strip().split('\\t')\n",
    "    \n",
    "    while len(tmp) < 16:\n",
    "        tmp.append('')\n",
    "    table.append([tmp[i].strip() for i in range(16)])\n",
    "df_table = pd.DataFrame(table)\n",
    "df_table.columns = [\"id\",\"json_ID\",\"label\",\"statement\",\"subjects\",\"speaker\",\"speaker_title\",\"state\",\"party\",\n",
    "                   \"barely_true_counts\",\"false_counts\",\"half_true_counts\",\"mostly_true_counts\",\"pants_on_fire_counts\",\n",
    "                   \"context\",\"justification\"]\n",
    "\n",
    "jsonid2label={}\n",
    "for index, row in df_table.iterrows():\n",
    "    jsonid2label[row['json_ID']] = row[\"label\"]"
   ]
  },
  {
   "cell_type": "code",
   "execution_count": 8,
   "metadata": {},
   "outputs": [
    {
     "data": {
      "text/plain": "'true'"
     },
     "execution_count": 8,
     "metadata": {},
     "output_type": "execute_result"
    }
   ],
   "source": [
    "jsonid2label[\"11972.json\"]"
   ]
  },
  {
   "cell_type": "code",
   "execution_count": 16,
   "metadata": {},
   "outputs": [
    {
     "name": "stdout",
     "output_type": "stream",
     "text": [
      "label: barely-true\n",
      "{'speaker': 'bill-flores', 'statement': 'PolitiFact Texas says Congressman Edwards attacks on Bill Flores are false.', 'top_wiki_sents': ['He spent $3.3 million overall.On November 2, 2010, Flores defeated Edwards with 62 percent of the vote.', \"==== National security ====\\nFlores supported President Donald Trump's 2017 executive order to temporarily curtail Muslim immigration until better screening methods are devised.\", \"=== Committee assignments ===\\nCommittee on Energy and Commerce\\nSubcommittee on Energy and Power\\nSubcommittee on Environment and the Economy\\nSubcommittee on Oversight and Investigation\\nCommittee on Veterans' Affairs\\nSubcommittee on Economic Opportunity\\nSubcommittee on Health\\n\\n\\n=== Caucus memberships ===\\nHouse Baltic Caucus\\nCongressional Western Caucus\\nVeterinary Medicine Caucus\\nCongressional Hispanic Conference\\n\\n\\n=== Legislation sponsored ===\\nOn July 18, 2013, Flores introduced the Protecting States’ Rights to Promote American Energy Security Act (H.R.\"]}\n",
      "label: pants-fire\n",
      "{'speaker': 'viral-image', 'statement': 'Denali is the Kenyan word for black power.', 'top_wiki_sents': ['If a company sees that the word-of-mouth from \"the average person\" is crucial for the greater opportunity for influencing others, many questions remain.', 'Urban legends also began as word-of-mouth memes.', 'YouTube is considered as \"multiple existing forms of participatory culture\" and that trend is useful for the sake of business.']}\n",
      "label: false\n",
      "{'speaker': 'facebook-posts', 'statement': 'Says 57 percent of federal spending goes to the military and just 1 percent goes to food and agriculture, including food stamps.', 'top_wiki_sents': ['As of 2016, it is estimated that 44 percent of the US population gets news through Facebook.', \"And it's not just another social network.\", 'In 2021 Facebook announced that their global operations are supported by 100 percent renewable energy and they have reached net zero emissions, a goal set in 2018.Facebook provides a development platform for many social gaming, communication, feedback, review, and other applications related to online activities.']}\n",
      "label: half-true\n",
      "{'speaker': 'chris-abele', 'statement': 'On residency requirements for public workers', 'top_wiki_sents': ['On June 9, 2011, citing concerns about budget cuts at the state level, Abele indicated his opposition to a planned $775,000 investment in public art at the Milwaukee County Courthouse.', 'A year later, in June 2012, Abele signed a resolution placing the public art program on \"hiatus\" and authorizing use of the program\\'s $500,000 in accumulated funds toward deferred maintenance instead of artwork.On June 10, 2011 he announced his intention to provide health care coverage to domestic partners of Milwaukee County employees.', '== 2011 Milwaukee County Executive race ==\\nOn January 4, 2011, Abele formally announced that he entered the race for Milwaukee County Executive.']}\n",
      "label: true\n",
      "{'speaker': 'rick-santorum', 'statement': 'Says the unemployment rate for college graduates is 4.4 percent and over 10 percent for noncollege-educated.', 'top_wiki_sents': ['In an interview with Glenn Beck, Santorum said Obama\\'s desire for greater higher education rates nationwide was a veiled attempt at \"indoctrination\", saying that \"62 percent of kids who go into college with a faith commitment leave without it.\"', 'He says the GOP should be less quick to dismiss concerns over decreasing social and economic mobility, saying that large businesses and stocks are strong, while life has become \"a trickle\" for workers.', 'He says he regrets many of his votes for such programs and opposes earmarks.']}\n",
      "label: pants-fire\n",
      "{'speaker': 'tom-niehaus', 'statement': 'Unfortunately we have documented instances where people defecated in the (Statehouse) building.', 'top_wiki_sents': ['Niehaus works in the firm’s Cincinnati office and also maintains an office in Columbus.', 'On opening day of that assembly, Niehaus set a tone for bipartisanship, stating \"I want to assure the Senate that this will be a deliberative body where all voices will be heard.\"', 'Niehaus went on to defeat Democrat Paul Schwietering by 53,000 votes.In his first term in the Senate, Niehaus served as Chairman of the Senate Environment & Natural Resources Committee.']}\n",
      "label: half-true\n",
      "{'speaker': 'marsha-blackburn', 'statement': 'A recent Gallup poll found that 72 percent of Americans and 56 percent of Democrats say the biggest threat to our nations security is big government.', 'top_wiki_sents': ['During the campaign, Blackburn pledged to support Trump\\'s agenda and suggested that Bredesen would not, asking, \"Do you think Phil Bredesen would vote with crying Chuck Schumer or would he vote with our president when it comes to support our troops and supporting our veterans?', \"Blackburn won the election with 54.7% of the vote to Bredesen's 43.9%, an unexpectedly big margin.\", 'Subsequent investigations into Planned Parenthood found no evidence of fetal tissue sales or of wrongdoing.']}\n",
      "label: true\n",
      "{'speaker': 'hillary-clinton', 'statement': \"Each year, 18,000 people die in America because they don't have health care.\", 'top_wiki_sents': [\"Was it because of a protest or was it because of guys out for a walk one night who decided that they'd they go kill some Americans?\", 'An American Bar Association chair later said, \"Her articles were important, not because they were radically new but because they helped formulate something that had been inchoate.\"', '=== Health care and other policy initiatives ===\\n\\nIn January 1993, President Clinton named Hillary to chair a task force on National Health Care Reform, hoping to replicate the success she had in leading the effort for Arkansas education reform.']}\n",
      "label: false\n",
      "{'speaker': 'sarah-palin', 'statement': 'Ronald Reagan faced an even worse recession than the current one.', 'top_wiki_sents': ['The subtitle, \"An American Life,\" mirrors the title of President Ronald Reagan\\'s 1990 autobiography.', 'She told the crowd, \"The Tea Party movement is bigger than any one person and is not about any one candidate.\"', 'Palin and her husband Todd had personally incurred more than $500,000 in legal fees defending against ethics charges brought against her as governor even though all the complaints were dismissed.']}\n",
      "label: mostly-true\n",
      "{'speaker': 'chris-sgro', 'statement': 'There have not been any public safety issues in cities that allow transgender people to use the bathroom of the gender they identify as.', 'top_wiki_sents': [\"He became the first out  LGBT person in North Carolina history to be appointed to fill a vacancy in that state's legislature and the first person to serve in North Carolina's legislature who is legally married to a person of same gender.\", 'Prior to that, he was one of the first staffers hired by Hagan to work on her successful 2008 U.S. Senate campaign.Prior to his work with Hagan, Sgro worked in the Washington, D.C. headquarters for America Votes, a 501 (c)4 organization that aims to coordinate and promote progressive issues, and CARE, a national anti-poverty organization.', '== House Bill 2 ==\\nSgro has been one of the most vocal opponents of North Carolina\\'s HB2, a controversial North Carolina law which he has called \"the worst anti-LGBT legislation in the nation.\"']}\n"
     ]
    }
   ],
   "source": [
    "# ws.keys()\n",
    "counts=10\n",
    "for i,(k,v) in enumerate(ws.items()):\n",
    "    if i>10 and i <=20:\n",
    "        print(\"label:\",jsonid2label[k])\n",
    "        print(v)\n",
    "        counts-=1\n",
    "        if(counts<=0):\n",
    "            break"
   ]
  },
  {
   "cell_type": "code",
   "execution_count": null,
   "metadata": {},
   "outputs": [],
   "source": [
    "label: mostly-true\n",
    "{'speaker': 'chris-sgro', 'statement': 'There have not been any public safety issues in cities that allow transgender people to use the bathroom of the gender they identify as.', 'top_wiki_sents': [\"He became the first out  LGBT person in North Carolina history to be appointed to fill a vacancy in that state's legislature and the first person to serve in North Carolina's legislature who is legally married to a person of same gender.\", 'Prior to that, he was one of the first staffers hired by Hagan to work on her successful 2008 U.S. Senate campaign.Prior to his work with Hagan, Sgro worked in the Washington, D.C. headquarters for America Votes, a 501 (c)4 organization that aims to coordinate and promote progressive issues, and CARE, a national anti-poverty organization.', '== House Bill 2 ==\\nSgro has been one of the most vocal opponents of North Carolina\\'s HB2, a controversial North Carolina law which he has called \"the worst anti-LGBT legislation in the nation.\"']}"
   ]
  }
 ],
 "metadata": {
  "language_info": {},
  "orig_nbformat": 3
 },
 "nbformat": 4,
 "nbformat_minor": 2
}