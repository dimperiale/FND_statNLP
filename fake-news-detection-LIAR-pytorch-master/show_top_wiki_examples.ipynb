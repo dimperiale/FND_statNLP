{
 "cells": [
  {
   "cell_type": "code",
   "execution_count": 7,
   "metadata": {},
   "outputs": [],
   "source": [
    "import pickle\n",
    "from pprint import pprint"
   ]
  },
  {
   "cell_type": "code",
   "execution_count": 2,
   "metadata": {},
   "outputs": [],
   "source": [
    "with open(\"test2.tsv.top_wiki_top_sents\",'rb') as f :\n",
    "    ws = pickle.load(f)"
   ]
  },
  {
   "cell_type": "code",
   "execution_count": 8,
   "metadata": {},
   "outputs": [
    {
     "name": "stdout",
     "output_type": "stream",
     "text": [
      "{'speaker': 'rick-perry',\n",
      " 'statement': 'Building a wall on the U.S.-Mexico border will take literally '\n",
      "              'years.',\n",
      " 'top_wiki_sents': ['After Trump won the Republican presidential nomination in '\n",
      "                    \"2016, Perry fully embraced Trump's proposed border wall.\",\n",
      "                    'Although illegal immigration levels declined over 70% '\n",
      "                    'after Perry deployed the National Guard, PolitiFact.com '\n",
      "                    'rated his claim that the decline resulted from the surge '\n",
      "                    'as \"mostly false\".In 2016, The Texas Tribune wrote that '\n",
      "                    '\"Perry has long been a critic of building a wall or fence '\n",
      "                    'along the border.\"',\n",
      "                    'On July 21, 2014, Perry announced he would send in 1,000 '\n",
      "                    'National Guard troops to secure the border.']}\n"
     ]
    }
   ],
   "source": [
    "# ws.keys()\n",
    "for k,v in ws.items():\n",
    "    pprint(v)\n",
    "    break"
   ]
  },
  {
   "cell_type": "code",
   "execution_count": null,
   "metadata": {},
   "outputs": [],
   "source": []
  }
 ],
 "metadata": {
  "kernelspec": {
   "display_name": "Python 3.8.3 64-bit ('base': conda)",
   "name": "python383jvsc74a57bd0d27cc3c6dac6646be8724fa77248be437abdf8ade5fcb64bbf4d61581f4e0674"
  },
  "language_info": {
   "codemirror_mode": {
    "name": "ipython",
    "version": 3
   },
   "file_extension": ".py",
   "mimetype": "text/x-python",
   "name": "python",
   "nbconvert_exporter": "python",
   "pygments_lexer": "ipython3",
   "version": "3.8.3"
  },
  "orig_nbformat": 2
 },
 "nbformat": 4,
 "nbformat_minor": 2
}