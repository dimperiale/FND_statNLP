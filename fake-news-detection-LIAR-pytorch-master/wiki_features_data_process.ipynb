{
 "cells": [
  {
   "cell_type": "code",
   "execution_count": 1,
   "metadata": {},
   "outputs": [],
   "source": [
    "import pandas as pd\n",
    "import wikipedia\n",
    "import numpy as np"
   ]
  },
  {
   "cell_type": "code",
   "execution_count": 7,
   "metadata": {},
   "outputs": [],
   "source": [
    "dataset_name = 'LIAR-PLUS'\n",
    "# train_filename = 'train2.tsv'\n",
    "train_filename = 'test2.tsv'\n",
    "train_file = open(train_filename, 'rb')\n",
    "lines = train_file.read()\n",
    "lines = lines.decode(\"utf-8\")\n",
    "\n",
    "table = []\n",
    "for line in lines.strip().split('\\n'):\n",
    "    tmp = line.strip().split('\\t')\n",
    "    \n",
    "    while len(tmp) < 16:\n",
    "        tmp.append('')\n",
    "    table.append([tmp[i].strip() for i in range(16)])\n",
    "df_table = pd.DataFrame(table)\n",
    "df_table.columns = [\"id\",\"json_ID\",\"label\",\"statement\",\"subjects\",\"speaker\",\"speaker_title\",\"state\",\"party\",\n",
    "                   \"barely_true_counts\",\"false_counts\",\"half_true_counts\",\"mostly_true_counts\",\"pants_on_fire_counts\",\n",
    "                   \"context\",\"justification\"]"
   ]
  },
  {
   "cell_type": "code",
   "execution_count": 8,
   "metadata": {},
   "outputs": [
    {
     "name": "stdout",
     "output_type": "stream",
     "text": [
      "11972.json rick-perry\n",
      "11685.json katrina-shankland\n",
      "11096.json donald-trump\n",
      "5209.json rob-cornilles\n",
      "9524.json state-democratic-party-wisconsin\n",
      "5962.json brendan-doherty\n",
      "7070.json stand-children-tennessee\n",
      "1046.json john-boehner\n",
      "12849.json sean-patrick-maloney\n",
      "13270.json mike-pence\n"
     ]
    }
   ],
   "source": [
    "id_to_name = {}\n",
    "id_to_statement = {}\n",
    "count=0\n",
    "for index, row in df_table.iterrows():\n",
    "    print(row['json_ID'], row['speaker'])\n",
    "    id_to_name[row['json_ID']] = row['speaker']\n",
    "    id_to_statement[row['json_ID']] = row['statement']\n",
    "    count+=1;\n",
    "    if(count>=10):\n",
    "        break\n",
    "\n",
    "count=0\n",
    "with open(f\"{train_filename}_row_idx_tab_json_id.txt\",'w') as f :\n",
    "    for index, row in df_table.iterrows():\n",
    "        # print(index, row['json_ID'], row['speaker'])\n",
    "        id_to_name[row['json_ID']] = row['speaker']\n",
    "        id_to_statement[row['json_ID']] = row['statement']\n",
    "        count+=1;\n",
    "        f.write(f\"{index}\\t{row['json_ID']}\\n\");\n",
    "        # if(count>=10):\n",
    "        #     break"
   ]
  },
  {
   "cell_type": "code",
   "execution_count": 6,
   "metadata": {},
   "outputs": [
    {
     "name": "stdout",
     "output_type": "stream",
     "text": [
      "12134.json vicky-hartzler We have less Americans working now than in the 70s.\n"
     ]
    }
   ],
   "source": [
    "for index, row in df_table.iterrows():\n",
    "    print(row['json_ID'], row['speaker'], row['statement'])\n",
    "    break"
   ]
  },
  {
   "cell_type": "code",
   "execution_count": 6,
   "metadata": {},
   "outputs": [],
   "source": [
    "spk=\"scott-surovell\"\n",
    "# print(wikipedia.search(spk))\n",
    "spk_wiki_name = wikipedia.search(spk)[0]\n",
    "wiki_page = wikipedia.page(spk_wiki_name)"
   ]
  },
  {
   "cell_type": "code",
   "execution_count": 7,
   "metadata": {},
   "outputs": [
    {
     "name": "stdout",
     "output_type": "stream",
     "text": [
      "Scott Anthony Surovell (born August 21, 1971 in Washington D.C.) is a member of the Virginia Senate, representing the 36th district, which encompasses portions of Fairfax, Prince William and Stafford counties, roughly following U.S. Route 1. He previously represented the 44th district in the Virginia House of Delegates.\n",
      "\n",
      "\n",
      "== Early life ==\n",
      "Surovell grew up in the Tauxemont, Virginia area, and attended preschool, elementary school and intermediate school there. In 1989, he graduated from West Potomac High School, and went to college at James Madison University, where he was student body vice-president. He graduated in 1993, with a major in Political Science.\n",
      "\n",
      "\n",
      "=== Professional career ===\n",
      "In 1993, he served as a Governor's Fellow in the Administration of Governor L. Douglas Wilder.  Surovell worked for DMV Deputy Commissioner Bill Leighty who later served as Chief of Staff under Governors Mark Warner and Tim Kaine.  He also interned in Washington, D.C. for Representative Jim Moran of Virginia and then-congressman Ron Wyden of Oregon.Surovell earned a J.D. degree from the University of Virginia School of Law in 1996, where he served as executive editor of the Virginia Journal of Environmental Law.Surovell is a trial lawyer specializing in criminal and traffic defense, domestic relations, personal\n",
      "injury, consumer class action and commercial litigation.  In 2002, Surovell founded Surovell Markle Isaacs and Levy PLC, a firm which specialized in representing individuals and small businesses throughout Northern Virginia with four other attorneys.  Former state delegate and now Senator Chap Petersen was a member of the firm from 2005 through 2017.  The firm is now known as Surovell Isaacs & Levy PLC.Surovell argued his first case before the Supreme Court of Virginia at age 48 involving a fraud claim involving the sale of a used car.  In 2007, Surovell successfully blocked an insurance company from paying a man convicted of killing his wife $300,000 of life insurance proceeds from his wife's policy. The case ultimately\n",
      "resulted in modifications to the Virginia Slayer Statute in the 2008 General Assembly Session.  In 2010, Surovell also won a $4.80 million jury verdict in favor of a Vienna family who was permanently injured in a fireworks accident in the Town of Vienna.\n",
      "\n",
      "\n",
      "=== Political career ===\n",
      "In 2003, Surovell was elected Chairman of the Mount Vernon District Democratic Committee\n",
      "of the Fairfax County Democratic Committee. In 2008, he was elected Chairman of the Fairfax\n",
      "County Democratic Committee where he organized and led local grassroots campaign activities for the Obama-Biden,\n",
      "Warner, Moran, Connolly and Feder campaigns.\n",
      "In 2009, Surovell resigned as Chairman of the Fairfax County Democratic Committee in order to run for the House of Delegates.\n",
      "Surovell has served on the Counties, Cities and Towns Committee (2010-2015), the Science & Technology Committee (2010-2015), and the Militia, Police & Public Safety Committee (2012-2015). In 2014, the Speaker appointed Delegate Surovell to the Virginia Broadband Commission. In 2014, Surovell was elected Caucus Chairman by the Virginia House Democratic Caucus.For several years Surovell has written a blog, entitled The Dixie Pig, named after a now-defunct restaurant on U.S. Route 1 in his district that was his grandmother’s favorite.In January 2015 Surovell announced a run for the Virginia Senate, District 36, hoping to fill the seat of retiring Senator Toddy Puller.  He won election to the State Senate by a margin of 60.52% to 39.28%.\n",
      "Surovell was appointed to the General Laws and Technology Committee, Rehabilitation and Social Services Committee and Local Government Committee.  In 2016, Surovell was also appointed to the Virginia High Speed Rail Commission.  In 2018, Surovell was elected Senate Democratic Caucus Whip.  In 2019, Surovell was elected Vice Chairman of the Senate Democratic Caucus.Surovell has been a leader in the Virginia General Assembly on government transparency, criminal justice reform, consumer protection and environmental protection.  In 2016, Surovell passed legislation requiring government officials to redact public documents instead of withholding entire records and passed similar legislation applying to homeowner, condo and cooperative associations the following year.   He also passed legislation creating civil penalties for destroying public records to avoid Freedom of Information Act requests.Starting in 2016, Surovell has pushed and passed various legislative initiatives to clean up coal ash ponds in Virginia one of which is in Dumfries, Virginia.  In 2019, he was the Chief Sponsor of legislation that prohibited coal ash in the Chesapeake Bay watershed from being stored in existing partially-lined ponds, required at least 25% to be recycled into products, and the remainder stored in modern lined landfills in excess of Environmental Protection Agency minimum requirements.  The ultimate cost will exceed $3.2 billion or approximately $1.5 billion more than Dominion Power's original proposal.In 2018, Surovell carried legislation that authorized $3.4 million of payments from the Commonwealth of Virginia to pay for the wrongful incarceration of The Norfolk Four if the monies were matched by the City of Norfolk.  That same year he also carried legislation he had introduced nine times which raised Virginia's threshold between misdemeanors and felonies to $500.In 2020, Surovell carried legislation that allowed undocumented immigrants to obtain driving privileges making Virginia the 17th state to allow such privileges. He also was Chief Sponsor of successful legislation to make Virginia the first Southern state to ban conversion therapy, passed legislation banning driving with a handheld mobile phone, and fracking for natural gas anywhere east of Interstate 95 in the Commonwealth of Virginia.  He also led efforts to reform Virginia's criminal justice system in the 2021 Special Session the led to the end of Virginia's 200 year-old jury sentencing law and passage of legislation attacking racial profiling, policing reforms, restoring sentencing alternatives for rehabilitation, and expanding Virginia's credits for early release from prison.  \n",
      "In the 2021 Session, Surovell was chief sponsor of legislation to repeal Virginia's death penalty after four centuries.    He also led the efforts to reform Virginia's restrictive law prohibiting expungement or sealing of misdemeanor and felony convictions.  \n",
      "\n",
      "\n",
      "== Electoral history ==\n",
      "Surovell first ran for the Virginia House of Delegates during the 2009 elections to replace retiring Democratic incumbent Kristen J. Amundson. He defeated his Republican challenger 53% to 44%, and was sworn into office the following January in Richmond, Virginia.\n",
      "\n",
      "\n",
      "== References ==\n",
      "\n",
      "\n",
      "== External links ==\n",
      "Scott Surovell Official Bio\n",
      "Official Website\n"
     ]
    }
   ],
   "source": [
    "print(wiki_page.content)"
   ]
  },
  {
   "cell_type": "code",
   "execution_count": 8,
   "metadata": {},
   "outputs": [
    {
     "name": "stdout",
     "output_type": "stream",
     "text": [
      "(38, 478)\n"
     ]
    }
   ],
   "source": [
    "from sklearn.feature_extraction.text import TfidfVectorizer\n",
    "from nltk import tokenize\n",
    "# corpus = [\n",
    "#     'This is the first document.',\n",
    "#     'This document is the second document.',\n",
    "#     'And this is the third one.',\n",
    "#     'Is this the first document?',\n",
    "# ]\n",
    "corpus = tokenize.sent_tokenize(wiki_page.content) \n",
    "vectorizer = TfidfVectorizer()\n",
    "X = vectorizer.fit_transform(corpus)\n",
    "# print(vectorizer.get_feature_names())\n",
    "print(X.shape)"
   ]
  },
  {
   "cell_type": "code",
   "execution_count": 13,
   "metadata": {},
   "outputs": [
    {
     "name": "stdout",
     "output_type": "stream",
     "text": [
      "[0.29722573 0.21267917 0.04285453]\n",
      "['Scott Anthony Surovell (born August 21, 1971 in Washington D.C.) is a member of the Virginia Senate, representing the 36th district, which encompasses portions of Fairfax, Prince William and Stafford counties, roughly following U.S. Route 1.', '== References ==\\n\\n\\n== External links ==\\nScott Surovell Official Bio\\nOfficial Website', 'In 2018, Surovell was elected Senate Democratic Caucus Whip.']\n"
     ]
    }
   ],
   "source": [
    "test_X = vectorizer.transform([\"Scott Anthony Surovell\"])\n",
    "sim_scores = np.dot(test_X.toarray(),X.toarray().T)[0] # the higher the closer\n",
    "idxs = np.argsort(sim_scores)[::-1]\n",
    "# print(idxs)\n",
    "print(sim_scores[idxs[:3]]) # sorted scores\n",
    "print(np.array(corpus)[idxs[:3]].tolist())"
   ]
  },
  {
   "cell_type": "code",
   "execution_count": null,
   "metadata": {},
   "outputs": [],
   "source": []
  }
 ],
 "metadata": {
  "kernelspec": {
   "display_name": "Python 3.8.3 64-bit ('base': conda)",
   "name": "python383jvsc74a57bd0d27cc3c6dac6646be8724fa77248be437abdf8ade5fcb64bbf4d61581f4e0674"
  },
  "language_info": {
   "codemirror_mode": {
    "name": "ipython",
    "version": 3
   },
   "file_extension": ".py",
   "mimetype": "text/x-python",
   "name": "python",
   "nbconvert_exporter": "python",
   "pygments_lexer": "ipython3",
   "version": "3.8.3"
  },
  "orig_nbformat": 3
 },
 "nbformat": 4,
 "nbformat_minor": 2
}